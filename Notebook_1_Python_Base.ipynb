{
  "nbformat": 4,
  "nbformat_minor": 0,
  "metadata": {
    "colab": {
      "name": "Notebook_1_Python_Base.ipynb",
      "provenance": [],
      "collapsed_sections": [
        "QN1OZN-_kemL",
        "XXzKcPfLl0qA",
        "XgGtPkeQpucC",
        "fV6a4APBw0qI",
        "vy_DAJcoIXJw",
        "NDdQm7yCLA1W",
        "O4E3k0eXMqVX",
        "H5SCqq76UKKK",
        "DHrISNSoxkNR",
        "dYR-fXcrzNZv",
        "3QVwgwuIxnQl",
        "ZkXQU4x4Y5iM",
        "Tur0xyT2KZMM"
      ],
      "toc_visible": true
    },
    "kernelspec": {
      "name": "python3",
      "display_name": "Python 3"
    }
  },
  "cells": [
    {
      "cell_type": "markdown",
      "metadata": {
        "id": "9faiCG3sdsfd"
      },
      "source": [
        "# ÍNDICE\n",
        "# **Repsol D4D/D4B**\n",
        "# **Introducción a Python para Análisis de Datos 🐍 📊**\n",
        "# *Notebook 1: Básicos en Python*\n",
        "\n",
        "---\n",
        "\n",
        "### ÍNDICE DE CONTENIDO\n",
        "1. INTRODUCCIÓN\n",
        "2. ESTRUCTURAS DE DATOS BÁSICAS\n",
        "3. OPERADORES\n",
        "4. IMPORTAR LIBRERÍAS\n",
        "\n",
        "### Juan Martin Bellido\n",
        "* [linkedin.com/in/jmartinbellido](https://www.linkedin.com/in/jmartinbellido/) \n",
        "\n",
        "* jmbellido@isdi.education\n"
      ]
    },
    {
      "cell_type": "markdown",
      "metadata": {
        "id": "p8ZkrjeNgzhP"
      },
      "source": [
        "# INTRODUCCIÓN\n",
        "---\n",
        "\n"
      ]
    },
    {
      "cell_type": "markdown",
      "metadata": {
        "id": "3nY0a9VYmAqm"
      },
      "source": [
        "### Entornos\n",
        "---\n",
        "Existen distintas interfaces que nos permiten ejecutar código Python. Podemos destacar particularmente dos tipos:\n",
        "* *IDEs (integrated development environments)*. Especilamente utilizadas para desarrollo de software, destacan por contar con funcionalidades que facilitan el *debugging* (detección y solución de errores). Ejemplo: PyCharm.\n",
        "* *Notebooks*. Populares para el análisis de datos y Data Science. No están optimizados para operar con grandes volúmenes de código, pero resultan de utilidad para generar documentos que permitan visualizar fácilmente el resultado del código utilizado. Ejemplo: Jupyter Notebook.\n",
        "\n",
        "\n",
        "En un notebook, el contenido está estructurado en celdas.\n",
        "* Las celdas pueden ser de dos tipos: *texto* o *código*.\n",
        "* Podemos crear tantas celdas como queramos y ejecutarlas de forma independiente.  \n",
        "* En caso de celdas de código, primará el órden de ejecución de las mismas y no la posición en la que figuren en el documento.\n",
        "\n",
        "\n",
        "\n",
        "> ✅ Este documento es de tipo *notebook*.\n",
        "\n"
      ]
    },
    {
      "cell_type": "markdown",
      "metadata": {
        "id": "oYwCjnaPkDLF"
      },
      "source": [
        "### Objetos\n",
        "---\n",
        "Python es un *lenguaje orientado a objetos*, al igual que la mayoría de lenguajes de programación modernos. Esto significa que podemos definir objetos (o *variables*) que se almacenarán en nuestro entorno de forma temporal y podremos invocar según lo necesitemos. \n",
        "\n",
        "* ⚠️ *Los objetos declarados se perderán al reiniciar nuestro entorno o al explícitamente eliminarlos.*\n",
        "\n",
        "Para definir un objeto utilizamos la siguiente sintaxis:\n",
        "\n",
        "```\n",
        "new_object = X\n",
        "```"
      ]
    },
    {
      "cell_type": "code",
      "metadata": {
        "id": "hSHLCPP2hPpv"
      },
      "source": [
        "# A continuación, un ejemplo sencillo de cómo podemos definir un objeto y luego invocarlo\n",
        "my_name = \"Martin\" # definimos un objeto y almacenamos texto\n",
        "# Esta celda no tendrá output, ya que estamos ALMACENANDO información, no INVOCÁNDOLA"
      ],
      "execution_count": null,
      "outputs": []
    },
    {
      "cell_type": "code",
      "metadata": {
        "colab": {
          "base_uri": "https://localhost:8080/",
          "height": 35
        },
        "id": "0wDKTed8rC1u",
        "outputId": "14244644-146f-4551-c459-0ab38406d4a0"
      },
      "source": [
        "my_name  # invocamos objeto"
      ],
      "execution_count": null,
      "outputs": [
        {
          "output_type": "execute_result",
          "data": {
            "application/vnd.google.colaboratory.intrinsic+json": {
              "type": "string"
            },
            "text/plain": [
              "'Martin'"
            ]
          },
          "metadata": {},
          "execution_count": 2
        }
      ]
    },
    {
      "cell_type": "markdown",
      "metadata": {
        "id": "CL_gFfN2Se4F"
      },
      "source": [
        "* ⚠️ *Los nombres de los objetos no pueden tener espacios*\n",
        "* ⚠️ *Los nombres de los objetos no pueden empezar con números (ej. 1_nombre)*"
      ]
    },
    {
      "cell_type": "markdown",
      "metadata": {
        "id": "feOc-TlCiotM"
      },
      "source": [
        "### Tipos de objeto\n",
        "---\n",
        "Python base reconoce varios tipos de objetos (variables):\n",
        "*  *Numéricos (números)*\n",
        "*  *Alfanuméricos (texto)*\n",
        "*  *Lógicos (verdadero/ falso)*\n"
      ]
    },
    {
      "cell_type": "code",
      "metadata": {
        "colab": {
          "base_uri": "https://localhost:8080/"
        },
        "id": "YIE3RoXujasd",
        "outputId": "15bbb4ff-a386-407a-cf5e-4c8038462c9e"
      },
      "source": [
        "# Los objetos de tipo numéricos pueden ser (i) \"int\" (enteros) o (ii) \"float\" (con decimales)\n",
        "numeric_obj = 2\n",
        "type(numeric_obj)"
      ],
      "execution_count": null,
      "outputs": [
        {
          "output_type": "execute_result",
          "data": {
            "text/plain": [
              "int"
            ]
          },
          "metadata": {},
          "execution_count": 3
        }
      ]
    },
    {
      "cell_type": "code",
      "metadata": {
        "colab": {
          "base_uri": "https://localhost:8080/"
        },
        "id": "zN5qjkXhjSGS",
        "outputId": "8e05eb3a-8c5a-4681-ea90-be9ee68110ff"
      },
      "source": [
        "numeric_obj = 1.2\n",
        "type(numeric_obj)"
      ],
      "execution_count": null,
      "outputs": [
        {
          "output_type": "execute_result",
          "data": {
            "text/plain": [
              "float"
            ]
          },
          "metadata": {},
          "execution_count": 4
        }
      ]
    },
    {
      "cell_type": "code",
      "metadata": {
        "colab": {
          "base_uri": "https://localhost:8080/"
        },
        "id": "l9vvIj1QjSI8",
        "outputId": "3bfd8930-be94-4f07-f204-0f9818625b8f"
      },
      "source": [
        "# Los objetos alfanuméricos son definidos como \"str\"\n",
        "string_obj = \"Python\"\n",
        "type(string_obj)"
      ],
      "execution_count": null,
      "outputs": [
        {
          "output_type": "execute_result",
          "data": {
            "text/plain": [
              "str"
            ]
          },
          "metadata": {},
          "execution_count": 5
        }
      ]
    },
    {
      "cell_type": "code",
      "metadata": {
        "colab": {
          "base_uri": "https://localhost:8080/"
        },
        "id": "aTuLJvMuio9V",
        "outputId": "29f3ba35-464f-4993-aa97-b003e74aacec"
      },
      "source": [
        "# Por último, Python reconoce también el tipo de variable booleana (\"bool\")\n",
        "bool_obj = True\n",
        "type(bool_obj)"
      ],
      "execution_count": null,
      "outputs": [
        {
          "output_type": "execute_result",
          "data": {
            "text/plain": [
              "bool"
            ]
          },
          "metadata": {},
          "execution_count": 6
        }
      ]
    },
    {
      "cell_type": "markdown",
      "metadata": {
        "id": "_lcgG8ziTJKJ"
      },
      "source": [
        "#### Consideraciones al definir objetos de tipo string"
      ]
    },
    {
      "cell_type": "code",
      "metadata": {
        "id": "qu9YBNdJTL45"
      },
      "source": [
        "# Al definir objetos de tipo string, debemos siempre utilizar comillas\n",
        "# Las comillas pueden ser dobles (\"\") o simples ('')\n",
        "string_obj = \"Python\"\n",
        "stirng_obj = 'Python'"
      ],
      "execution_count": null,
      "outputs": []
    },
    {
      "cell_type": "code",
      "metadata": {
        "id": "wYlK1yc5ToUW"
      },
      "source": [
        "# Podemos combinar comillas, en caso de necesitarlo\n",
        "string_obj = \"El libro se titula 'Ficciones', de Jorge Luis Borges\"\n",
        "string_obj = 'El libro se titula \"Ficciones\", de Jorge Luis Borges'"
      ],
      "execution_count": null,
      "outputs": []
    },
    {
      "cell_type": "markdown",
      "metadata": {
        "id": "7M3iNzlpiVwN"
      },
      "source": [
        "# ESTRUCTURAS DE DATOS BÁSICAS\n",
        "---\n",
        "Python base contempla distintos formatos de almacenamiento de datos, cada uno de ellos con características y tratamiento propio. \n",
        "\n",
        "Las estructuras de datos básicas son cuatro (en orden de prioridad según su uso en análisis de datos),\n",
        "*   *Lists* (listas)\n",
        "*   *Dictionaries* (diccionarios)\n",
        "*   *Tuples*\n",
        "*   *Sets*\n",
        "\n",
        "Por fuera de estas cuatro estructuras de datos básicas, existen estructuras adicionales que han sido incorporadas por medio de librerías, es decir, funcionalidades que no son parte del código fuente de Python. En concreto, en análisis de datos utilizamos principalmente DataFrames (tablas de datos) que han sido incorporadas por la libraría *Pandas*.\n",
        "\n",
        "\n",
        "\n",
        "\n",
        "\n",
        "\n",
        "\n"
      ]
    },
    {
      "cell_type": "markdown",
      "metadata": {
        "id": "QN1OZN-_kemL"
      },
      "source": [
        "### Lists\n",
        "---\n",
        "Los *lists* son estructuras unidimensionales que permiten almacenar varios tipos de variables (objetos). Cada elemento almacenado en un list se encuentra indexado.\n",
        "\n",
        "Para definir un vector utilizamos la siguiente sintaxis,\n",
        "\n",
        "```\n",
        "my_list = [1,2,3]\n",
        "```\n",
        "\n"
      ]
    },
    {
      "cell_type": "code",
      "metadata": {
        "colab": {
          "base_uri": "https://localhost:8080/"
        },
        "id": "o_DcdJVwkxd3",
        "outputId": "51b18a42-e110-4e3a-eef1-be2f4ef5a21b"
      },
      "source": [
        "# Definimos una lista\n",
        "my_list = [1,\"a\",3,False,5]\n",
        "my_list"
      ],
      "execution_count": null,
      "outputs": [
        {
          "output_type": "execute_result",
          "data": {
            "text/plain": [
              "[1, 'a', 3, False, 5]"
            ]
          },
          "metadata": {},
          "execution_count": 9
        }
      ]
    },
    {
      "cell_type": "code",
      "metadata": {
        "colab": {
          "base_uri": "https://localhost:8080/"
        },
        "id": "QGg6qFAnkxkL",
        "outputId": "992cd70f-afae-4e49-c042-f876992941d6"
      },
      "source": [
        "# Las listas pueden contener a su vez otras listas como elementos\n",
        "my_list_v2 = [100,\"cien\",my_list]\n",
        "my_list_v2"
      ],
      "execution_count": null,
      "outputs": [
        {
          "output_type": "execute_result",
          "data": {
            "text/plain": [
              "[100, 'cien', [1, 'a', 3, False, 5]]"
            ]
          },
          "metadata": {},
          "execution_count": 10
        }
      ]
    },
    {
      "cell_type": "code",
      "metadata": {
        "colab": {
          "base_uri": "https://localhost:8080/"
        },
        "id": "esmP4G3Rl_tP",
        "outputId": "67c1e161-6919-43eb-e835-a4f02924c3ea"
      },
      "source": [
        "# La característica principal de un list es que los elementos almacenados se encuentran indexados\n",
        "## esto significa que cada elemento en un list contiene un número único que nos permite invocarlo\n",
        "## nota importante: Python indexa al 0 (el 0 es el primer valor)\n",
        "my_list_v2[0]"
      ],
      "execution_count": null,
      "outputs": [
        {
          "output_type": "execute_result",
          "data": {
            "text/plain": [
              "100"
            ]
          },
          "metadata": {},
          "execution_count": 11
        }
      ]
    },
    {
      "cell_type": "code",
      "metadata": {
        "colab": {
          "base_uri": "https://localhost:8080/"
        },
        "id": "LmarGLiwwbyl",
        "outputId": "5efac5c0-fa88-462c-9d4e-b8efe179f0c6"
      },
      "source": [
        "# Modificamos un elemento dentro del list\n",
        "my_list_v2[0] = 101\n",
        "my_list_v2"
      ],
      "execution_count": null,
      "outputs": [
        {
          "output_type": "execute_result",
          "data": {
            "text/plain": [
              "[101, 'cien', [1, 'a', 3, False, 5]]"
            ]
          },
          "metadata": {},
          "execution_count": 12
        }
      ]
    },
    {
      "cell_type": "markdown",
      "metadata": {
        "id": "XXzKcPfLl0qA"
      },
      "source": [
        "### Dictionaries\n",
        "---\n",
        "Los *dictionaries* (diccionarios) son estructuras unidimensionales que permiten almacenar objetos bajo una lógica *key-pair*. Los *dictionaries* no admiten valores *key* duplicados y los elementos almacenados no mantienen un orden ni se encuentran indexados; los valores (*pair*) se invocan utilizando el *key*.\n",
        "\n",
        "Para definir un vector utilizamos la siguiente sintaxis,\n",
        "\n",
        "```\n",
        "my_dic = {\n",
        "  key_1:value_1,\n",
        "  key_2:value_2,\n",
        "  key_3:value_3\n",
        "  }\n",
        "```\n"
      ]
    },
    {
      "cell_type": "code",
      "metadata": {
        "colab": {
          "base_uri": "https://localhost:8080/"
        },
        "id": "fpK0x8LEnKlQ",
        "outputId": "d81012f9-5126-40e1-8aa7-1e479457ad97"
      },
      "source": [
        "# Definimos un diccionario\n",
        "my_dic = {\n",
        "  \"ciudad\": \"Madrid\",\n",
        "  \"nombre del curso\": \"Intro a Python\",\n",
        "  \"año\": 2021,\n",
        "  \"es curso de práctico\": True,\n",
        "  \"asistentes\":[\"Maria\",\"Juan\",\"Jose\"],\n",
        "  \"cantidad de asistentes\":3\n",
        "}\n",
        "\n",
        "# Invocamos el diccionario y verificamos que no mantiene el orden establecido al ser definido\n",
        "my_dic"
      ],
      "execution_count": null,
      "outputs": [
        {
          "output_type": "execute_result",
          "data": {
            "text/plain": [
              "{'asistentes': ['Maria', 'Juan', 'Jose'],\n",
              " 'año': 2021,\n",
              " 'cantidad de asistentes': 3,\n",
              " 'ciudad': 'Madrid',\n",
              " 'es curso de práctico': True,\n",
              " 'nombre del curso': 'Intro a Python'}"
            ]
          },
          "metadata": {},
          "execution_count": 1
        }
      ]
    },
    {
      "cell_type": "code",
      "metadata": {
        "colab": {
          "base_uri": "https://localhost:8080/",
          "height": 35
        },
        "id": "2n5VmyxCnX-k",
        "outputId": "448a4425-7074-4327-c688-a4707371386f"
      },
      "source": [
        "# Consultamos el valor para un elemento del diccionario, invocándolo con su valor \"key\"\n",
        "my_dic['nombre del curso']"
      ],
      "execution_count": null,
      "outputs": [
        {
          "output_type": "execute_result",
          "data": {
            "application/vnd.google.colaboratory.intrinsic+json": {
              "type": "string"
            },
            "text/plain": [
              "'Intro a Python'"
            ]
          },
          "metadata": {},
          "execution_count": 2
        }
      ]
    },
    {
      "cell_type": "code",
      "metadata": {
        "colab": {
          "base_uri": "https://localhost:8080/"
        },
        "id": "iS3Eet22wB2K",
        "outputId": "09972fc8-83a0-43ad-c79d-38fe0d06fa5c"
      },
      "source": [
        "# Reemplazamos el valor para un elemento del diccionario\n",
        "my_dic['asistentes'] = [\"Maria\",\"Juan\",\"Jose\",\"Pepe\"]\n",
        "my_dic"
      ],
      "execution_count": null,
      "outputs": [
        {
          "output_type": "execute_result",
          "data": {
            "text/plain": [
              "{'asistentes': ['Maria', 'Juan', 'Jose', 'Pepe'],\n",
              " 'año': 2021,\n",
              " 'es curso de Python': True,\n",
              " 'escuela': 'ISDI',\n",
              " 'programa': 'MDA'}"
            ]
          },
          "metadata": {},
          "execution_count": 15
        }
      ]
    },
    {
      "cell_type": "markdown",
      "metadata": {
        "id": "XgGtPkeQpucC"
      },
      "source": [
        "### Tuples\n",
        "---\n",
        "Los *tuples* son estructuras unidimensionales similares a las *list*, con la diferencia de que son inmutables; esto significa que no pueden ser modificadas tras haberse definido.\n",
        "\n",
        "```\n",
        "my_tupple = (1,2,\"c\")\n",
        "```\n"
      ]
    },
    {
      "cell_type": "code",
      "metadata": {
        "colab": {
          "base_uri": "https://localhost:8080/"
        },
        "id": "ytD0T5_Apv4t",
        "outputId": "f492a5a9-15d6-4017-b360-52a5c2959d3f"
      },
      "source": [
        "# Definimos un tupple y lo invocamos\n",
        "my_tupple = (2,1,\"c\",\"a\")\n",
        "my_tupple"
      ],
      "execution_count": null,
      "outputs": [
        {
          "output_type": "execute_result",
          "data": {
            "text/plain": [
              "(2, 1, 'c', 'a')"
            ]
          },
          "metadata": {},
          "execution_count": 16
        }
      ]
    },
    {
      "cell_type": "code",
      "metadata": {
        "colab": {
          "base_uri": "https://localhost:8080/"
        },
        "id": "72Vah0kxvvt6",
        "outputId": "2a9db1e2-a7ad-432d-f9a0-156412a62629"
      },
      "source": [
        "# Seleccionamos un elemento en nuestra tupple\n",
        "my_tupple[1]"
      ],
      "execution_count": null,
      "outputs": [
        {
          "output_type": "execute_result",
          "data": {
            "text/plain": [
              "1"
            ]
          },
          "metadata": {},
          "execution_count": 17
        }
      ]
    },
    {
      "cell_type": "markdown",
      "metadata": {
        "id": "uLwlmokWarOu"
      },
      "source": [
        "* ⚠️ *La celda a continuación dará intencionalmente como resultado error*"
      ]
    },
    {
      "cell_type": "code",
      "metadata": {
        "colab": {
          "base_uri": "https://localhost:8080/",
          "height": 198
        },
        "id": "MFuY8Dp7wlFG",
        "outputId": "5a487998-e0d7-43fb-9d27-77ec48e42ef6"
      },
      "source": [
        "# Intentamos modificar un elemento en el tupple, pero esto nos dará error\n",
        "## como hemos anticipado, los tupples son inmutables\n",
        "my_tupple[1] = 3 # esto generará error"
      ],
      "execution_count": null,
      "outputs": [
        {
          "output_type": "error",
          "ename": "TypeError",
          "evalue": "ignored",
          "traceback": [
            "\u001b[0;31m---------------------------------------------------------------------------\u001b[0m",
            "\u001b[0;31mTypeError\u001b[0m                                 Traceback (most recent call last)",
            "\u001b[0;32m<ipython-input-18-586f0b408e24>\u001b[0m in \u001b[0;36m<module>\u001b[0;34m()\u001b[0m\n\u001b[1;32m      1\u001b[0m \u001b[0;31m# Intentamos modificar un elemento en el tupple, pero esto nos dará error\u001b[0m\u001b[0;34m\u001b[0m\u001b[0;34m\u001b[0m\u001b[0;34m\u001b[0m\u001b[0m\n\u001b[1;32m      2\u001b[0m \u001b[0;31m## como hemos anticipado, los tupples son inmutables\u001b[0m\u001b[0;34m\u001b[0m\u001b[0;34m\u001b[0m\u001b[0;34m\u001b[0m\u001b[0m\n\u001b[0;32m----> 3\u001b[0;31m \u001b[0mmy_tupple\u001b[0m\u001b[0;34m[\u001b[0m\u001b[0;36m1\u001b[0m\u001b[0;34m]\u001b[0m \u001b[0;34m=\u001b[0m \u001b[0;36m3\u001b[0m \u001b[0;31m# esto generará error\u001b[0m\u001b[0;34m\u001b[0m\u001b[0;34m\u001b[0m\u001b[0m\n\u001b[0m",
            "\u001b[0;31mTypeError\u001b[0m: 'tuple' object does not support item assignment"
          ]
        }
      ]
    },
    {
      "cell_type": "markdown",
      "metadata": {
        "id": "fV6a4APBw0qI"
      },
      "source": [
        "### Sets\n",
        "---\n",
        "Los *sets* son estructuras unidimensionales similares a las *list* y *tuples*, pero con las siguientes diferencias,\n",
        "*   no permiten almacenar elementos duplicados;\n",
        "*   los elementos no están indexados; y\n",
        "*   no se puede manipular el orden de los elementos.\n",
        "\n",
        "Para definir un set utilizamos la siguiente sintaxis,\n",
        "\n",
        "```\n",
        "my_set = {1,2,\"c\"}\n",
        "```"
      ]
    },
    {
      "cell_type": "code",
      "metadata": {
        "colab": {
          "base_uri": "https://localhost:8080/"
        },
        "id": "n0WpYMDlw1ZU",
        "outputId": "053f011f-8989-4779-e6d1-be4e386c8510"
      },
      "source": [
        "my_set = {1,10,0,5,'b','c','a'} # definimos un set\n",
        "my_set  # lo invocamos, verificamos que el orden de los elementos es distinto al que hemos establecido"
      ],
      "execution_count": null,
      "outputs": [
        {
          "output_type": "execute_result",
          "data": {
            "text/plain": [
              "{0, 1, 10, 5, 'a', 'b', 'c'}"
            ]
          },
          "metadata": {},
          "execution_count": 19
        }
      ]
    },
    {
      "cell_type": "markdown",
      "metadata": {
        "id": "JLSaLEvfa4_R"
      },
      "source": [
        "\n",
        "\n",
        "> ⚠️ *La celda a continuación dará intencionalmente como resultado error*\n",
        "\n"
      ]
    },
    {
      "cell_type": "code",
      "metadata": {
        "colab": {
          "base_uri": "https://localhost:8080/",
          "height": 181
        },
        "id": "J7LpqXEHxhHU",
        "outputId": "fdf5c47b-bf5c-43ae-a7f7-d52ff8ee7c0c"
      },
      "source": [
        "# A continuación, verificamos que efectivamente un set no permite la indexación\n",
        "my_set[2] # esto dará error"
      ],
      "execution_count": null,
      "outputs": [
        {
          "output_type": "error",
          "ename": "TypeError",
          "evalue": "ignored",
          "traceback": [
            "\u001b[0;31m---------------------------------------------------------------------------\u001b[0m",
            "\u001b[0;31mTypeError\u001b[0m                                 Traceback (most recent call last)",
            "\u001b[0;32m<ipython-input-20-c2c7aac752ab>\u001b[0m in \u001b[0;36m<module>\u001b[0;34m()\u001b[0m\n\u001b[1;32m      1\u001b[0m \u001b[0;31m# A continuación, verificamos que efectivamente un set no permite la indexación\u001b[0m\u001b[0;34m\u001b[0m\u001b[0;34m\u001b[0m\u001b[0;34m\u001b[0m\u001b[0m\n\u001b[0;32m----> 2\u001b[0;31m \u001b[0mmy_set\u001b[0m\u001b[0;34m[\u001b[0m\u001b[0;36m2\u001b[0m\u001b[0;34m]\u001b[0m \u001b[0;31m# esto dará error\u001b[0m\u001b[0;34m\u001b[0m\u001b[0;34m\u001b[0m\u001b[0m\n\u001b[0m",
            "\u001b[0;31mTypeError\u001b[0m: 'set' object is not subscriptable"
          ]
        }
      ]
    },
    {
      "cell_type": "markdown",
      "metadata": {
        "id": "vy_DAJcoIXJw"
      },
      "source": [
        "### Operaciones avanzadas con Lists\n",
        "---\n",
        "De las estructuras de datos básicas disponibles en Python, las *lists* son las más utilizadas en Análisis de Datos. A continuación, introducimos algunas operaciones útiles al operar con este tipo de estructuras. "
      ]
    },
    {
      "cell_type": "markdown",
      "metadata": {
        "id": "NDdQm7yCLA1W"
      },
      "source": [
        "#### Añadir objetos en una lista"
      ]
    },
    {
      "cell_type": "code",
      "metadata": {
        "id": "DbCqrNWtIhlG"
      },
      "source": [
        "# Definimos una list\n",
        "city_list = ['Madrid','Barcelona','Paris','Buenos Aires']"
      ],
      "execution_count": null,
      "outputs": []
    },
    {
      "cell_type": "code",
      "metadata": {
        "id": "ortIOdq_LaYr"
      },
      "source": [
        "# Utilizamos el método \n",
        "city_list.append('Milan')"
      ],
      "execution_count": null,
      "outputs": []
    },
    {
      "cell_type": "code",
      "metadata": {
        "colab": {
          "base_uri": "https://localhost:8080/"
        },
        "id": "2thKDhzFL--o",
        "outputId": "fa32a465-54eb-47f6-e2df-82a0e0e7f41c"
      },
      "source": [
        "# Invocamos list\n",
        "city_list"
      ],
      "execution_count": null,
      "outputs": [
        {
          "output_type": "execute_result",
          "data": {
            "text/plain": [
              "['Madrid', 'Barcelona', 'Paris', 'Buenos Aires', 'Milan']"
            ]
          },
          "metadata": {},
          "execution_count": 23
        }
      ]
    },
    {
      "cell_type": "code",
      "metadata": {
        "id": "V2uvPdomMDmi"
      },
      "source": [
        "# El método append() añade un objeto en la última posición de la list\n",
        "# A continuación, utilizaremos el método insert() para añadir un nuevo objeto en la lista, especificando su posición dentro de la estructura\n",
        "city_list.insert(0,'Berlin') # lo introducimos en la primer posición"
      ],
      "execution_count": null,
      "outputs": []
    },
    {
      "cell_type": "code",
      "metadata": {
        "colab": {
          "base_uri": "https://localhost:8080/"
        },
        "id": "3aW6gyYMMiuQ",
        "outputId": "67df5492-7d02-4f5d-d878-25cfc42e7ac2"
      },
      "source": [
        "# Invocamos la lista\n",
        "city_list"
      ],
      "execution_count": null,
      "outputs": [
        {
          "output_type": "execute_result",
          "data": {
            "text/plain": [
              "['Berlin', 'Madrid', 'Barcelona', 'Paris', 'Buenos Aires', 'Milan']"
            ]
          },
          "metadata": {},
          "execution_count": 25
        }
      ]
    },
    {
      "cell_type": "markdown",
      "metadata": {
        "id": "O4E3k0eXMqVX"
      },
      "source": [
        "#### Eliminar objetos en lista"
      ]
    },
    {
      "cell_type": "code",
      "metadata": {
        "id": "Zl62BZ7ZM6NP"
      },
      "source": [
        "# Podemos remover objetos en una list, en función de su posición\n",
        "del city_list[1] # removemos el segundo objeto"
      ],
      "execution_count": null,
      "outputs": []
    },
    {
      "cell_type": "code",
      "metadata": {
        "colab": {
          "base_uri": "https://localhost:8080/"
        },
        "id": "wnzPOgtQM6Pp",
        "outputId": "c6c45a20-462e-47af-b4f2-71c367361ae9"
      },
      "source": [
        "# Invocamos list para observar cambios\n",
        "city_list"
      ],
      "execution_count": null,
      "outputs": [
        {
          "output_type": "execute_result",
          "data": {
            "text/plain": [
              "['Berlin', 'Barcelona', 'Paris', 'Buenos Aires', 'Milan']"
            ]
          },
          "metadata": {},
          "execution_count": 27
        }
      ]
    },
    {
      "cell_type": "code",
      "metadata": {
        "id": "mOqzmCNGM6Rs"
      },
      "source": [
        "# En ocasiones, nos resulta más cómodo remover objetos en función de su valor\n",
        "city_list.remove('Milan')"
      ],
      "execution_count": null,
      "outputs": []
    },
    {
      "cell_type": "code",
      "metadata": {
        "colab": {
          "base_uri": "https://localhost:8080/"
        },
        "id": "if6BDlSjNnuN",
        "outputId": "08ea835d-56b3-42b9-f882-2ce854ba167e"
      },
      "source": [
        "# Invocamos list para observar cambios\n",
        "city_list"
      ],
      "execution_count": null,
      "outputs": [
        {
          "output_type": "execute_result",
          "data": {
            "text/plain": [
              "['Berlin', 'Barcelona', 'Paris', 'Buenos Aires']"
            ]
          },
          "metadata": {},
          "execution_count": 29
        }
      ]
    },
    {
      "cell_type": "markdown",
      "metadata": {
        "id": "H5SCqq76UKKK"
      },
      "source": [
        "#### Consultar cantidad de elementos en una list"
      ]
    },
    {
      "cell_type": "code",
      "metadata": {
        "colab": {
          "base_uri": "https://localhost:8080/"
        },
        "id": "1CKYKqPyUg4_",
        "outputId": "978b6887-6989-4089-9384-7a865af89958"
      },
      "source": [
        "# Utilizamos la función len() para consultar cantidad de elementos almacenados en una list\n",
        "len(city_list)"
      ],
      "execution_count": null,
      "outputs": [
        {
          "output_type": "execute_result",
          "data": {
            "text/plain": [
              "4"
            ]
          },
          "metadata": {},
          "execution_count": 30
        }
      ]
    },
    {
      "cell_type": "markdown",
      "metadata": {
        "id": "DWN9PifdxeHs"
      },
      "source": [
        "# OPERADORES\n",
        "---\n",
        "En programación, los operadores son símbolos específicos que permiten hacer comparaciones y realizar manipulaciones.\n",
        "\n",
        "*   *Operadores aritméticos*: permiten realizar operaciones matemáticas\n",
        "*   *Operadores de comparación*: contrastan objetos y comparan valores, arrojando un resultado true/false\n",
        "*   *Operadores lógicos*: se utilizan para realizar pruebas lógicas sobre condiciones, arrojando un resultado true/false\n",
        "\n",
        "\n"
      ]
    },
    {
      "cell_type": "markdown",
      "metadata": {
        "id": "DHrISNSoxkNR"
      },
      "source": [
        "### Operadores aritméticos\n",
        "---\n",
        "\n",
        "\n",
        "| Operator \t|   Description  \t|\n",
        "|----------\t|:--------------:\t|\n",
        "| +        \t| addition       \t|\n",
        "| -        \t| subtraction    \t|\n",
        "| *        \t| multiplication \t|\n",
        "| /        \t| division       \t|\n",
        "| **  \t| exponentiation \t|"
      ]
    },
    {
      "cell_type": "code",
      "metadata": {
        "id": "PnBL6777yEzr"
      },
      "source": [
        "# Operadores aritméticos\n",
        "## definimos dos objetos numéricos\n",
        "obj_1 = 10\n",
        "obj_2 = 5"
      ],
      "execution_count": null,
      "outputs": []
    },
    {
      "cell_type": "code",
      "metadata": {
        "colab": {
          "base_uri": "https://localhost:8080/"
        },
        "id": "A-n2tQVryE46",
        "outputId": "2d6fb99f-d979-4421-8efa-2027d2808ca7"
      },
      "source": [
        "# Test 1\n",
        "obj_1/obj_2"
      ],
      "execution_count": null,
      "outputs": [
        {
          "output_type": "execute_result",
          "data": {
            "text/plain": [
              "2.0"
            ]
          },
          "metadata": {},
          "execution_count": 32
        }
      ]
    },
    {
      "cell_type": "code",
      "metadata": {
        "colab": {
          "base_uri": "https://localhost:8080/"
        },
        "id": "4ph8qWcYyKAJ",
        "outputId": "84b95fe7-1ea1-416f-c2dc-7f0c0f21bcba"
      },
      "source": [
        "# Test 2\n",
        "obj_1-obj_2"
      ],
      "execution_count": null,
      "outputs": [
        {
          "output_type": "execute_result",
          "data": {
            "text/plain": [
              "5"
            ]
          },
          "metadata": {},
          "execution_count": 33
        }
      ]
    },
    {
      "cell_type": "markdown",
      "metadata": {
        "id": "dYR-fXcrzNZv"
      },
      "source": [
        "### Operadores de comparación\n",
        "---\n",
        "\n",
        "| Operator  \t|        Description       \t|\n",
        "|-----------\t|:------------------------:\t|\n",
        "| <         \t| less than                \t|\n",
        "| <=        \t| less than or equal to    \t|\n",
        "| >         \t| greater than             \t|\n",
        "| >=        \t| greater than or equal to \t|\n",
        "| ==        \t| exactly equal to         \t|\n",
        "| !=        \t| not equal to             \t|\n"
      ]
    },
    {
      "cell_type": "code",
      "metadata": {
        "id": "8xkpEPI8yQJe"
      },
      "source": [
        "# Operadores aritméticos\n",
        "## definimos dos objetos numéricos\n",
        "obj_1 = 10\n",
        "obj_2 = 5"
      ],
      "execution_count": null,
      "outputs": []
    },
    {
      "cell_type": "code",
      "metadata": {
        "colab": {
          "base_uri": "https://localhost:8080/"
        },
        "id": "XAYMAGrbyRKA",
        "outputId": "c21a3df2-09dc-42e0-810f-c6e0eb5b756b"
      },
      "source": [
        "# Test 1\n",
        "## comprobar si objeto 1 es mayor a 8\n",
        "obj_1 > 8"
      ],
      "execution_count": null,
      "outputs": [
        {
          "output_type": "execute_result",
          "data": {
            "text/plain": [
              "True"
            ]
          },
          "metadata": {},
          "execution_count": 35
        }
      ]
    },
    {
      "cell_type": "code",
      "metadata": {
        "colab": {
          "base_uri": "https://localhost:8080/"
        },
        "id": "RPuSGW7syVoV",
        "outputId": "842d23da-bb2b-455a-cf12-8068ea5e2750"
      },
      "source": [
        "# Test 2\n",
        "## comprobar si objeto 1 es igual a objeto 2\n",
        "obj_1 == obj_2"
      ],
      "execution_count": null,
      "outputs": [
        {
          "output_type": "execute_result",
          "data": {
            "text/plain": [
              "False"
            ]
          },
          "metadata": {},
          "execution_count": 36
        }
      ]
    },
    {
      "cell_type": "markdown",
      "metadata": {
        "id": "3QVwgwuIxnQl"
      },
      "source": [
        "### Operadores Lógicos\n",
        "---\n",
        "\n",
        "| Operator  \t|        Description       \t|\n",
        "|-----------\t|:------------------------:\t|\n",
        "| x and y    \t| se cumplen condiciones X e Y                    \t|\n",
        "| x or y    \t| se cumple  condiciones X o Y                   \t|\n",
        "| not x     \t| negamos la condición X   \t|\n"
      ]
    },
    {
      "cell_type": "code",
      "metadata": {
        "id": "7Ec848t62Cpl"
      },
      "source": [
        "# Operadores aritméticos\n",
        "## definimos dos objetos numéricos\n",
        "obj_1 = 10\n",
        "obj_2 = 5"
      ],
      "execution_count": null,
      "outputs": []
    },
    {
      "cell_type": "code",
      "metadata": {
        "colab": {
          "base_uri": "https://localhost:8080/"
        },
        "id": "aKXxM74fyVq6",
        "outputId": "0e5c5480-535e-4915-ae45-60a63c13f635"
      },
      "source": [
        "# Test 1\n",
        "## comprobar si se cumple alguna de las dos condiciones\n",
        "obj_1 > 8 or obj_2 > 8 # \"objeto 1 es mayor a 8 u objeto 2 es mayor a 8\""
      ],
      "execution_count": null,
      "outputs": [
        {
          "output_type": "execute_result",
          "data": {
            "text/plain": [
              "True"
            ]
          },
          "metadata": {},
          "execution_count": 38
        }
      ]
    },
    {
      "cell_type": "code",
      "metadata": {
        "colab": {
          "base_uri": "https://localhost:8080/"
        },
        "id": "taDNi_c6yZGC",
        "outputId": "81cbf5ee-82a4-4923-f919-0033234cc399"
      },
      "source": [
        "# Test 2\n",
        "## comprobar si se cumplen ambas condiciones\n",
        "obj_1 > 8 and obj_2 > 8 # \"objeto 1 es mayor a 8 y objeto 2 es mayor a 8\""
      ],
      "execution_count": null,
      "outputs": [
        {
          "output_type": "execute_result",
          "data": {
            "text/plain": [
              "False"
            ]
          },
          "metadata": {},
          "execution_count": 39
        }
      ]
    },
    {
      "cell_type": "code",
      "metadata": {
        "colab": {
          "base_uri": "https://localhost:8080/"
        },
        "id": "dk_jLz7A2D5A",
        "outputId": "9ee506a3-bb5e-484a-ff4d-2f8c31169c81"
      },
      "source": [
        "# Test 3\n",
        "## negando una condición\n",
        "not obj_1 > 8"
      ],
      "execution_count": null,
      "outputs": [
        {
          "output_type": "execute_result",
          "data": {
            "text/plain": [
              "False"
            ]
          },
          "metadata": {},
          "execution_count": 40
        }
      ]
    },
    {
      "cell_type": "markdown",
      "metadata": {
        "id": "ZkXQU4x4Y5iM"
      },
      "source": [
        "### Operador IN\n",
        "---\n",
        "El operador *in* permite comprobar si un valor se encuentra contenido en una list."
      ]
    },
    {
      "cell_type": "code",
      "metadata": {
        "id": "dAEaKtodZCfG"
      },
      "source": [
        "# Definimos una list\n",
        "city_list = ['Madrid','Barcelona','Paris','Buenos Aires']"
      ],
      "execution_count": null,
      "outputs": []
    },
    {
      "cell_type": "code",
      "metadata": {
        "colab": {
          "base_uri": "https://localhost:8080/"
        },
        "id": "yrCQ_89GZIvX",
        "outputId": "01719991-ae1a-4249-8867-435f47d9ba48"
      },
      "source": [
        "# ¿La list incluye el valor 'Madrid'? \n",
        "'Madrid' in city_list"
      ],
      "execution_count": null,
      "outputs": [
        {
          "output_type": "execute_result",
          "data": {
            "text/plain": [
              "True"
            ]
          },
          "metadata": {},
          "execution_count": 42
        }
      ]
    },
    {
      "cell_type": "code",
      "metadata": {
        "colab": {
          "base_uri": "https://localhost:8080/"
        },
        "id": "NgW8ixa7ZLJ1",
        "outputId": "adb5668c-5ab9-48d0-c095-ae4d08b0749c"
      },
      "source": [
        "# ¿La list incluye el valor 'New York'?\n",
        "'New York' in city_list"
      ],
      "execution_count": null,
      "outputs": [
        {
          "output_type": "execute_result",
          "data": {
            "text/plain": [
              "False"
            ]
          },
          "metadata": {},
          "execution_count": 43
        }
      ]
    },
    {
      "cell_type": "markdown",
      "metadata": {
        "id": "e4e3hsAeeqhu"
      },
      "source": [
        "# IMPORTAR LIBRERÍAS\n",
        "---\n",
        "Python es un lenguaje de programación *open-source* y *colaborativo*. Por tanto, está abierto a que cualquier persona cree y comparta nuevas funcionalidades. Las funcionalidades están agrupadas en *paquetes* o *librerías* que debemos instalar (una única vez) e importar cada vez que querramos utilizarlas.\n",
        "\n",
        "Muchas librerías populares suelen estar pre-instaladas en nuestros entornos, por tanto únicamente necesitamos importarlas. Para importar una librería, utilizamos la siguiente sintaxis,\n",
        "\n",
        "```\n",
        "import (library) as (tag)\n",
        "```"
      ]
    },
    {
      "cell_type": "code",
      "metadata": {
        "id": "dVrJ7J1tezCR"
      },
      "source": [
        "import pandas as pd"
      ],
      "execution_count": null,
      "outputs": []
    },
    {
      "cell_type": "markdown",
      "metadata": {
        "id": "UZJjUkXGf9B7"
      },
      "source": [
        "Únicamente podremos importar una librería si se encuentra instalada en nuestro entorno. Existen varias formas de instalar una librería en Python, la más popular es mediante *pip*, un sistema de gestión de librerías para Python desarrollado por el MIT.\n",
        "\n",
        "A continuación, se presenta la sintaxis que se utilizaría para instalar la librería *pandas*. Nota: necesitamos tener instalado pip en nuestro entorno, algo que suele suceder por defecto.\n",
        "\n",
        "```\n",
        "pip install pandas\n",
        "```\n",
        "\n"
      ]
    },
    {
      "cell_type": "markdown",
      "metadata": {
        "id": "Tur0xyT2KZMM"
      },
      "source": [
        "### Ejemplo de uso de librería\n",
        "---\n",
        "En la sección *Estructuras de Datos Básicas* comentamos brevemente acerca de los dataframes (tablas de datos), una estructura que no está presente en Python base, sino que ha sido desarrollada como funcionalidad adicional por la comunidad.\n",
        "\n",
        "Tras haber importado la librería *pandas*, utilizaremos dos de sus funciones para importar datos de nuestro entorno en formato dataframe.\n",
        "\n",
        "Importamos dataframe utilizando la función *pd.read_csv()*:\n",
        "\n",
        "```\n",
        "pd.read_csv('path')\n",
        "```\n",
        "\n",
        "* ⚠️ *Debemos utilizar el prefijo pd. para explicitar que la función forma parte de la librería pandas*\n",
        "\n"
      ]
    },
    {
      "cell_type": "code",
      "metadata": {
        "id": "Xmrp4pKXN_8t",
        "colab": {
          "base_uri": "https://localhost:8080/",
          "height": 855
        },
        "outputId": "715ad5f8-7984-45a7-e9c9-da5945ff02de"
      },
      "source": [
        "# Importamos un dataframe desde una URL\n",
        "pd.read_csv(\"https://data-wizards.s3.amazonaws.com/datasets/jamesbond.csv\")"
      ],
      "execution_count": null,
      "outputs": [
        {
          "output_type": "execute_result",
          "data": {
            "text/html": [
              "<div>\n",
              "<style scoped>\n",
              "    .dataframe tbody tr th:only-of-type {\n",
              "        vertical-align: middle;\n",
              "    }\n",
              "\n",
              "    .dataframe tbody tr th {\n",
              "        vertical-align: top;\n",
              "    }\n",
              "\n",
              "    .dataframe thead th {\n",
              "        text-align: right;\n",
              "    }\n",
              "</style>\n",
              "<table border=\"1\" class=\"dataframe\">\n",
              "  <thead>\n",
              "    <tr style=\"text-align: right;\">\n",
              "      <th></th>\n",
              "      <th>Film</th>\n",
              "      <th>Year</th>\n",
              "      <th>Actor</th>\n",
              "      <th>Director</th>\n",
              "      <th>Box Office</th>\n",
              "      <th>Budget</th>\n",
              "      <th>Bond Actor Salary</th>\n",
              "    </tr>\n",
              "  </thead>\n",
              "  <tbody>\n",
              "    <tr>\n",
              "      <th>0</th>\n",
              "      <td>Dr. No</td>\n",
              "      <td>1962</td>\n",
              "      <td>Sean Connery</td>\n",
              "      <td>Terence Young</td>\n",
              "      <td>448.8</td>\n",
              "      <td>7.0</td>\n",
              "      <td>0.6</td>\n",
              "    </tr>\n",
              "    <tr>\n",
              "      <th>1</th>\n",
              "      <td>From Russia with Love</td>\n",
              "      <td>1963</td>\n",
              "      <td>Sean Connery</td>\n",
              "      <td>Terence Young</td>\n",
              "      <td>543.8</td>\n",
              "      <td>12.6</td>\n",
              "      <td>1.6</td>\n",
              "    </tr>\n",
              "    <tr>\n",
              "      <th>2</th>\n",
              "      <td>Goldfinger</td>\n",
              "      <td>1964</td>\n",
              "      <td>Sean Connery</td>\n",
              "      <td>Guy Hamilton</td>\n",
              "      <td>820.4</td>\n",
              "      <td>18.6</td>\n",
              "      <td>3.2</td>\n",
              "    </tr>\n",
              "    <tr>\n",
              "      <th>3</th>\n",
              "      <td>Thunderball</td>\n",
              "      <td>1965</td>\n",
              "      <td>Sean Connery</td>\n",
              "      <td>Terence Young</td>\n",
              "      <td>848.1</td>\n",
              "      <td>41.9</td>\n",
              "      <td>4.7</td>\n",
              "    </tr>\n",
              "    <tr>\n",
              "      <th>4</th>\n",
              "      <td>Casino Royale</td>\n",
              "      <td>1967</td>\n",
              "      <td>David Niven</td>\n",
              "      <td>Ken Hughes</td>\n",
              "      <td>315.0</td>\n",
              "      <td>85.0</td>\n",
              "      <td>NaN</td>\n",
              "    </tr>\n",
              "    <tr>\n",
              "      <th>5</th>\n",
              "      <td>You Only Live Twice</td>\n",
              "      <td>1967</td>\n",
              "      <td>Sean Connery</td>\n",
              "      <td>Lewis Gilbert</td>\n",
              "      <td>514.2</td>\n",
              "      <td>59.9</td>\n",
              "      <td>4.4</td>\n",
              "    </tr>\n",
              "    <tr>\n",
              "      <th>6</th>\n",
              "      <td>On Her Majesty's Secret Service</td>\n",
              "      <td>1969</td>\n",
              "      <td>George Lazenby</td>\n",
              "      <td>Peter R. Hunt</td>\n",
              "      <td>291.5</td>\n",
              "      <td>37.3</td>\n",
              "      <td>0.6</td>\n",
              "    </tr>\n",
              "    <tr>\n",
              "      <th>7</th>\n",
              "      <td>Diamonds Are Forever</td>\n",
              "      <td>1971</td>\n",
              "      <td>Sean Connery</td>\n",
              "      <td>Guy Hamilton</td>\n",
              "      <td>442.5</td>\n",
              "      <td>34.7</td>\n",
              "      <td>5.8</td>\n",
              "    </tr>\n",
              "    <tr>\n",
              "      <th>8</th>\n",
              "      <td>Live and Let Die</td>\n",
              "      <td>1973</td>\n",
              "      <td>Roger Moore</td>\n",
              "      <td>Guy Hamilton</td>\n",
              "      <td>460.3</td>\n",
              "      <td>30.8</td>\n",
              "      <td>NaN</td>\n",
              "    </tr>\n",
              "    <tr>\n",
              "      <th>9</th>\n",
              "      <td>The Man with the Golden Gun</td>\n",
              "      <td>1974</td>\n",
              "      <td>Roger Moore</td>\n",
              "      <td>Guy Hamilton</td>\n",
              "      <td>334.0</td>\n",
              "      <td>27.7</td>\n",
              "      <td>NaN</td>\n",
              "    </tr>\n",
              "    <tr>\n",
              "      <th>10</th>\n",
              "      <td>The Spy Who Loved Me</td>\n",
              "      <td>1977</td>\n",
              "      <td>Roger Moore</td>\n",
              "      <td>Lewis Gilbert</td>\n",
              "      <td>533.0</td>\n",
              "      <td>45.1</td>\n",
              "      <td>NaN</td>\n",
              "    </tr>\n",
              "    <tr>\n",
              "      <th>11</th>\n",
              "      <td>Moonraker</td>\n",
              "      <td>1979</td>\n",
              "      <td>Roger Moore</td>\n",
              "      <td>Lewis Gilbert</td>\n",
              "      <td>535.0</td>\n",
              "      <td>91.5</td>\n",
              "      <td>NaN</td>\n",
              "    </tr>\n",
              "    <tr>\n",
              "      <th>12</th>\n",
              "      <td>For Your Eyes Only</td>\n",
              "      <td>1981</td>\n",
              "      <td>Roger Moore</td>\n",
              "      <td>John Glen</td>\n",
              "      <td>449.4</td>\n",
              "      <td>60.2</td>\n",
              "      <td>NaN</td>\n",
              "    </tr>\n",
              "    <tr>\n",
              "      <th>13</th>\n",
              "      <td>Never Say Never Again</td>\n",
              "      <td>1983</td>\n",
              "      <td>Sean Connery</td>\n",
              "      <td>Irvin Kershner</td>\n",
              "      <td>380.0</td>\n",
              "      <td>86.0</td>\n",
              "      <td>NaN</td>\n",
              "    </tr>\n",
              "    <tr>\n",
              "      <th>14</th>\n",
              "      <td>Octopussy</td>\n",
              "      <td>1983</td>\n",
              "      <td>Roger Moore</td>\n",
              "      <td>John Glen</td>\n",
              "      <td>373.8</td>\n",
              "      <td>53.9</td>\n",
              "      <td>7.8</td>\n",
              "    </tr>\n",
              "    <tr>\n",
              "      <th>15</th>\n",
              "      <td>A View to a Kill</td>\n",
              "      <td>1985</td>\n",
              "      <td>Roger Moore</td>\n",
              "      <td>John Glen</td>\n",
              "      <td>275.2</td>\n",
              "      <td>54.5</td>\n",
              "      <td>9.1</td>\n",
              "    </tr>\n",
              "    <tr>\n",
              "      <th>16</th>\n",
              "      <td>The Living Daylights</td>\n",
              "      <td>1987</td>\n",
              "      <td>Timothy Dalton</td>\n",
              "      <td>John Glen</td>\n",
              "      <td>313.5</td>\n",
              "      <td>68.8</td>\n",
              "      <td>5.2</td>\n",
              "    </tr>\n",
              "    <tr>\n",
              "      <th>17</th>\n",
              "      <td>Licence to Kill</td>\n",
              "      <td>1989</td>\n",
              "      <td>Timothy Dalton</td>\n",
              "      <td>John Glen</td>\n",
              "      <td>250.9</td>\n",
              "      <td>56.7</td>\n",
              "      <td>7.9</td>\n",
              "    </tr>\n",
              "    <tr>\n",
              "      <th>18</th>\n",
              "      <td>GoldenEye</td>\n",
              "      <td>1995</td>\n",
              "      <td>Pierce Brosnan</td>\n",
              "      <td>Martin Campbell</td>\n",
              "      <td>518.5</td>\n",
              "      <td>76.9</td>\n",
              "      <td>5.1</td>\n",
              "    </tr>\n",
              "    <tr>\n",
              "      <th>19</th>\n",
              "      <td>Tomorrow Never Dies</td>\n",
              "      <td>1997</td>\n",
              "      <td>Pierce Brosnan</td>\n",
              "      <td>Roger Spottiswoode</td>\n",
              "      <td>463.2</td>\n",
              "      <td>133.9</td>\n",
              "      <td>10.0</td>\n",
              "    </tr>\n",
              "    <tr>\n",
              "      <th>20</th>\n",
              "      <td>The World Is Not Enough</td>\n",
              "      <td>1999</td>\n",
              "      <td>Pierce Brosnan</td>\n",
              "      <td>Michael Apted</td>\n",
              "      <td>439.5</td>\n",
              "      <td>158.3</td>\n",
              "      <td>13.5</td>\n",
              "    </tr>\n",
              "    <tr>\n",
              "      <th>21</th>\n",
              "      <td>Die Another Day</td>\n",
              "      <td>2002</td>\n",
              "      <td>Pierce Brosnan</td>\n",
              "      <td>Lee Tamahori</td>\n",
              "      <td>465.4</td>\n",
              "      <td>154.2</td>\n",
              "      <td>17.9</td>\n",
              "    </tr>\n",
              "    <tr>\n",
              "      <th>22</th>\n",
              "      <td>Casino Royale</td>\n",
              "      <td>2006</td>\n",
              "      <td>Daniel Craig</td>\n",
              "      <td>Martin Campbell</td>\n",
              "      <td>581.5</td>\n",
              "      <td>145.3</td>\n",
              "      <td>3.3</td>\n",
              "    </tr>\n",
              "    <tr>\n",
              "      <th>23</th>\n",
              "      <td>Quantum of Solace</td>\n",
              "      <td>2008</td>\n",
              "      <td>Daniel Craig</td>\n",
              "      <td>Marc Forster</td>\n",
              "      <td>514.2</td>\n",
              "      <td>181.4</td>\n",
              "      <td>8.1</td>\n",
              "    </tr>\n",
              "    <tr>\n",
              "      <th>24</th>\n",
              "      <td>Skyfall</td>\n",
              "      <td>2012</td>\n",
              "      <td>Daniel Craig</td>\n",
              "      <td>Sam Mendes</td>\n",
              "      <td>943.5</td>\n",
              "      <td>170.2</td>\n",
              "      <td>14.5</td>\n",
              "    </tr>\n",
              "    <tr>\n",
              "      <th>25</th>\n",
              "      <td>Spectre</td>\n",
              "      <td>2015</td>\n",
              "      <td>Daniel Craig</td>\n",
              "      <td>Sam Mendes</td>\n",
              "      <td>726.7</td>\n",
              "      <td>206.3</td>\n",
              "      <td>NaN</td>\n",
              "    </tr>\n",
              "  </tbody>\n",
              "</table>\n",
              "</div>"
            ],
            "text/plain": [
              "                               Film  Year  ... Budget Bond Actor Salary\n",
              "0                            Dr. No  1962  ...    7.0               0.6\n",
              "1             From Russia with Love  1963  ...   12.6               1.6\n",
              "2                        Goldfinger  1964  ...   18.6               3.2\n",
              "3                       Thunderball  1965  ...   41.9               4.7\n",
              "4                     Casino Royale  1967  ...   85.0               NaN\n",
              "5               You Only Live Twice  1967  ...   59.9               4.4\n",
              "6   On Her Majesty's Secret Service  1969  ...   37.3               0.6\n",
              "7              Diamonds Are Forever  1971  ...   34.7               5.8\n",
              "8                  Live and Let Die  1973  ...   30.8               NaN\n",
              "9       The Man with the Golden Gun  1974  ...   27.7               NaN\n",
              "10             The Spy Who Loved Me  1977  ...   45.1               NaN\n",
              "11                        Moonraker  1979  ...   91.5               NaN\n",
              "12               For Your Eyes Only  1981  ...   60.2               NaN\n",
              "13            Never Say Never Again  1983  ...   86.0               NaN\n",
              "14                        Octopussy  1983  ...   53.9               7.8\n",
              "15                 A View to a Kill  1985  ...   54.5               9.1\n",
              "16             The Living Daylights  1987  ...   68.8               5.2\n",
              "17                  Licence to Kill  1989  ...   56.7               7.9\n",
              "18                        GoldenEye  1995  ...   76.9               5.1\n",
              "19              Tomorrow Never Dies  1997  ...  133.9              10.0\n",
              "20          The World Is Not Enough  1999  ...  158.3              13.5\n",
              "21                  Die Another Day  2002  ...  154.2              17.9\n",
              "22                    Casino Royale  2006  ...  145.3               3.3\n",
              "23                Quantum of Solace  2008  ...  181.4               8.1\n",
              "24                          Skyfall  2012  ...  170.2              14.5\n",
              "25                          Spectre  2015  ...  206.3               NaN\n",
              "\n",
              "[26 rows x 7 columns]"
            ]
          },
          "metadata": {},
          "execution_count": 61
        }
      ]
    }
  ]
}