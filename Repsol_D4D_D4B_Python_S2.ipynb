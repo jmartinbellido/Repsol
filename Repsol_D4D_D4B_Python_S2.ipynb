{
  "nbformat": 4,
  "nbformat_minor": 0,
  "metadata": {
    "colab": {
      "name": "Repsol_D4D/D4B_Python_S2.ipynb",
      "provenance": [],
      "collapsed_sections": [],
      "toc_visible": true
    },
    "kernelspec": {
      "name": "python3",
      "display_name": "Python 3"
    }
  },
  "cells": [
    {
      "cell_type": "markdown",
      "metadata": {
        "id": "Iq0dLzFr2tux"
      },
      "source": [
        "# ÍNDICE\n",
        "# **ISDI Repsol D4D/D4B**\n",
        "# Introducción a Python para Análisis de Datos - Sesión 2\n",
        "\n",
        "### ÍNDICE\n",
        "1. CREAR CAMPOS NUEVOS EN UN DATAFRAME\n",
        "3. AGREGAR DATA\n",
        "4. EJERCICIOS\n",
        "\n",
        "### Profesor: Juan Martin Bellido (jmbelldo@isdi.education)\n",
        "\n",
        "---\n",
        "\n"
      ]
    },
    {
      "cell_type": "code",
      "metadata": {
        "id": "5eqClCOoPuPC"
      },
      "source": [
        "# antes de empezar, cargamos librerías (instalamos en caso de ser necesario)\n",
        "import pandas as pd\n",
        "import numpy as np"
      ],
      "execution_count": null,
      "outputs": []
    },
    {
      "cell_type": "markdown",
      "metadata": {
        "id": "6EMZLXKAxgOu"
      },
      "source": [
        "# CREAR CAMPOS NUEVOS EN UN DATAFRAME\n"
      ]
    },
    {
      "cell_type": "code",
      "metadata": {
        "id": "0e525vxDmN4E",
        "colab": {
          "base_uri": "https://localhost:8080/"
        },
        "outputId": "df980d2b-d767-4ddc-ef00-57b9211f9812"
      },
      "source": [
        "# Importamos df\n",
        "df_jamesbond = pd.read_csv(\"https://data-wizards.s3.amazonaws.com/datasets/jamesbond.csv\",index_col=\"Film\")\n",
        "df_jamesbond.dtypes # la función dtypes permite visualizar las variables incluídas en un dataframe"
      ],
      "execution_count": null,
      "outputs": [
        {
          "output_type": "execute_result",
          "data": {
            "text/plain": [
              "Year                   int64\n",
              "Actor                 object\n",
              "Director              object\n",
              "Box Office           float64\n",
              "Budget               float64\n",
              "Bond Actor Salary    float64\n",
              "dtype: object"
            ]
          },
          "metadata": {
            "tags": []
          },
          "execution_count": 2
        }
      ]
    },
    {
      "cell_type": "markdown",
      "metadata": {
        "id": "eTrXD6gfoPMJ"
      },
      "source": [
        "### A partir de operaciones entre campos\n",
        "---"
      ]
    },
    {
      "cell_type": "code",
      "metadata": {
        "colab": {
          "base_uri": "https://localhost:8080/",
          "height": 320
        },
        "id": "C1v-Y-BXzGGA",
        "outputId": "26ccfc7d-edfd-49f2-a372-5374b9abf434"
      },
      "source": [
        "# Creamos una nueva columna como resultado de una operación entre dos columnas numéricas en el dataframe\n",
        "## utilizaremos la función round() para redondear el resultado\n",
        "df_jamesbond[\"profitability\"]=(df_jamesbond[\"Box Office\"]/df_jamesbond[\"Budget\"]).round()\n",
        "df_jamesbond.head()"
      ],
      "execution_count": null,
      "outputs": [
        {
          "output_type": "execute_result",
          "data": {
            "text/html": [
              "<div>\n",
              "<style scoped>\n",
              "    .dataframe tbody tr th:only-of-type {\n",
              "        vertical-align: middle;\n",
              "    }\n",
              "\n",
              "    .dataframe tbody tr th {\n",
              "        vertical-align: top;\n",
              "    }\n",
              "\n",
              "    .dataframe thead th {\n",
              "        text-align: right;\n",
              "    }\n",
              "</style>\n",
              "<table border=\"1\" class=\"dataframe\">\n",
              "  <thead>\n",
              "    <tr style=\"text-align: right;\">\n",
              "      <th></th>\n",
              "      <th>Year</th>\n",
              "      <th>Actor</th>\n",
              "      <th>Director</th>\n",
              "      <th>Box Office</th>\n",
              "      <th>Budget</th>\n",
              "      <th>Bond Actor Salary</th>\n",
              "      <th>Director/Actor</th>\n",
              "      <th>profitability</th>\n",
              "    </tr>\n",
              "    <tr>\n",
              "      <th>Film</th>\n",
              "      <th></th>\n",
              "      <th></th>\n",
              "      <th></th>\n",
              "      <th></th>\n",
              "      <th></th>\n",
              "      <th></th>\n",
              "      <th></th>\n",
              "      <th></th>\n",
              "    </tr>\n",
              "  </thead>\n",
              "  <tbody>\n",
              "    <tr>\n",
              "      <th>Dr. No</th>\n",
              "      <td>1962</td>\n",
              "      <td>Sean Connery</td>\n",
              "      <td>Terence Young</td>\n",
              "      <td>448.8</td>\n",
              "      <td>7.0</td>\n",
              "      <td>0.6</td>\n",
              "      <td>Terence Young / Sean Connery</td>\n",
              "      <td>64.0</td>\n",
              "    </tr>\n",
              "    <tr>\n",
              "      <th>From Russia with Love</th>\n",
              "      <td>1963</td>\n",
              "      <td>Sean Connery</td>\n",
              "      <td>Terence Young</td>\n",
              "      <td>543.8</td>\n",
              "      <td>12.6</td>\n",
              "      <td>1.6</td>\n",
              "      <td>Terence Young / Sean Connery</td>\n",
              "      <td>43.0</td>\n",
              "    </tr>\n",
              "    <tr>\n",
              "      <th>Goldfinger</th>\n",
              "      <td>1964</td>\n",
              "      <td>Sean Connery</td>\n",
              "      <td>Guy Hamilton</td>\n",
              "      <td>820.4</td>\n",
              "      <td>18.6</td>\n",
              "      <td>3.2</td>\n",
              "      <td>Guy Hamilton / Sean Connery</td>\n",
              "      <td>44.0</td>\n",
              "    </tr>\n",
              "    <tr>\n",
              "      <th>Thunderball</th>\n",
              "      <td>1965</td>\n",
              "      <td>Sean Connery</td>\n",
              "      <td>Terence Young</td>\n",
              "      <td>848.1</td>\n",
              "      <td>41.9</td>\n",
              "      <td>4.7</td>\n",
              "      <td>Terence Young / Sean Connery</td>\n",
              "      <td>20.0</td>\n",
              "    </tr>\n",
              "    <tr>\n",
              "      <th>Casino Royale</th>\n",
              "      <td>1967</td>\n",
              "      <td>David Niven</td>\n",
              "      <td>Ken Hughes</td>\n",
              "      <td>315.0</td>\n",
              "      <td>85.0</td>\n",
              "      <td>NaN</td>\n",
              "      <td>Ken Hughes / David Niven</td>\n",
              "      <td>4.0</td>\n",
              "    </tr>\n",
              "  </tbody>\n",
              "</table>\n",
              "</div>"
            ],
            "text/plain": [
              "                       Year  ... profitability\n",
              "Film                         ...              \n",
              "Dr. No                 1962  ...          64.0\n",
              "From Russia with Love  1963  ...          43.0\n",
              "Goldfinger             1964  ...          44.0\n",
              "Thunderball            1965  ...          20.0\n",
              "Casino Royale          1967  ...           4.0\n",
              "\n",
              "[5 rows x 8 columns]"
            ]
          },
          "metadata": {
            "tags": []
          },
          "execution_count": 4
        }
      ]
    },
    {
      "cell_type": "code",
      "metadata": {
        "colab": {
          "base_uri": "https://localhost:8080/",
          "height": 235
        },
        "id": "zzlSVwpdzGIj",
        "outputId": "589bf1d3-1df0-4eeb-f591-3a10d35f5c8c"
      },
      "source": [
        "# Creamos una nueva columna como resultado de una operación entre dos columnas de tipo texto en el dataframe\n",
        "df_jamesbond[\"Director/Actor\"]=df_jamesbond[\"Director\"]+ \" / \" + df_jamesbond[\"Actor\"]\n",
        "df_jamesbond.head()"
      ],
      "execution_count": null,
      "outputs": [
        {
          "output_type": "execute_result",
          "data": {
            "text/html": [
              "<div>\n",
              "<style scoped>\n",
              "    .dataframe tbody tr th:only-of-type {\n",
              "        vertical-align: middle;\n",
              "    }\n",
              "\n",
              "    .dataframe tbody tr th {\n",
              "        vertical-align: top;\n",
              "    }\n",
              "\n",
              "    .dataframe thead th {\n",
              "        text-align: right;\n",
              "    }\n",
              "</style>\n",
              "<table border=\"1\" class=\"dataframe\">\n",
              "  <thead>\n",
              "    <tr style=\"text-align: right;\">\n",
              "      <th></th>\n",
              "      <th>Year</th>\n",
              "      <th>Actor</th>\n",
              "      <th>Director</th>\n",
              "      <th>Box Office</th>\n",
              "      <th>Budget</th>\n",
              "      <th>Bond Actor Salary</th>\n",
              "      <th>Director/Actor</th>\n",
              "    </tr>\n",
              "    <tr>\n",
              "      <th>Film</th>\n",
              "      <th></th>\n",
              "      <th></th>\n",
              "      <th></th>\n",
              "      <th></th>\n",
              "      <th></th>\n",
              "      <th></th>\n",
              "      <th></th>\n",
              "    </tr>\n",
              "  </thead>\n",
              "  <tbody>\n",
              "    <tr>\n",
              "      <th>Dr. No</th>\n",
              "      <td>1962</td>\n",
              "      <td>Sean Connery</td>\n",
              "      <td>Terence Young</td>\n",
              "      <td>448.8</td>\n",
              "      <td>7.0</td>\n",
              "      <td>0.6</td>\n",
              "      <td>Terence Young / Sean Connery</td>\n",
              "    </tr>\n",
              "    <tr>\n",
              "      <th>From Russia with Love</th>\n",
              "      <td>1963</td>\n",
              "      <td>Sean Connery</td>\n",
              "      <td>Terence Young</td>\n",
              "      <td>543.8</td>\n",
              "      <td>12.6</td>\n",
              "      <td>1.6</td>\n",
              "      <td>Terence Young / Sean Connery</td>\n",
              "    </tr>\n",
              "    <tr>\n",
              "      <th>Goldfinger</th>\n",
              "      <td>1964</td>\n",
              "      <td>Sean Connery</td>\n",
              "      <td>Guy Hamilton</td>\n",
              "      <td>820.4</td>\n",
              "      <td>18.6</td>\n",
              "      <td>3.2</td>\n",
              "      <td>Guy Hamilton / Sean Connery</td>\n",
              "    </tr>\n",
              "    <tr>\n",
              "      <th>Thunderball</th>\n",
              "      <td>1965</td>\n",
              "      <td>Sean Connery</td>\n",
              "      <td>Terence Young</td>\n",
              "      <td>848.1</td>\n",
              "      <td>41.9</td>\n",
              "      <td>4.7</td>\n",
              "      <td>Terence Young / Sean Connery</td>\n",
              "    </tr>\n",
              "    <tr>\n",
              "      <th>Casino Royale</th>\n",
              "      <td>1967</td>\n",
              "      <td>David Niven</td>\n",
              "      <td>Ken Hughes</td>\n",
              "      <td>315.0</td>\n",
              "      <td>85.0</td>\n",
              "      <td>NaN</td>\n",
              "      <td>Ken Hughes / David Niven</td>\n",
              "    </tr>\n",
              "  </tbody>\n",
              "</table>\n",
              "</div>"
            ],
            "text/plain": [
              "                       Year  ...                Director/Actor\n",
              "Film                         ...                              \n",
              "Dr. No                 1962  ...  Terence Young / Sean Connery\n",
              "From Russia with Love  1963  ...  Terence Young / Sean Connery\n",
              "Goldfinger             1964  ...   Guy Hamilton / Sean Connery\n",
              "Thunderball            1965  ...  Terence Young / Sean Connery\n",
              "Casino Royale          1967  ...      Ken Hughes / David Niven\n",
              "\n",
              "[5 rows x 7 columns]"
            ]
          },
          "metadata": {
            "tags": []
          },
          "execution_count": 3
        }
      ]
    },
    {
      "cell_type": "markdown",
      "metadata": {
        "id": "45DW4oHV0sQ6"
      },
      "source": [
        "### A partir de una prueba lógica\n",
        "---"
      ]
    },
    {
      "cell_type": "markdown",
      "metadata": {
        "id": "tuwTpuri1XB8"
      },
      "source": [
        "Creamos una nueva columna a partir de una condición *if/else* utilizando la función *np.where()*\n",
        "\n",
        "```\n",
        "np.where(condition, value if true, value if false)\n",
        "```\n"
      ]
    },
    {
      "cell_type": "code",
      "metadata": {
        "colab": {
          "base_uri": "https://localhost:8080/",
          "height": 235
        },
        "id": "mNwDUZc103ex",
        "outputId": "94dfd30d-3208-4c26-c27c-3323757f0721"
      },
      "source": [
        "# Creamos un nuevo campo con valor condicional\n",
        "## asignamos 1 o 0 en función de si el actor es Daniel Craig o no\n",
        "df_jamesbond[\"actor_is_daniel_craig\"] = np.where(df_jamesbond[\"Actor\"]=='Daniel Craig',1,0)\n",
        "df_jamesbond[[\"Actor\",\"actor_is_daniel_craig\"]].head()"
      ],
      "execution_count": null,
      "outputs": [
        {
          "output_type": "execute_result",
          "data": {
            "text/html": [
              "<div>\n",
              "<style scoped>\n",
              "    .dataframe tbody tr th:only-of-type {\n",
              "        vertical-align: middle;\n",
              "    }\n",
              "\n",
              "    .dataframe tbody tr th {\n",
              "        vertical-align: top;\n",
              "    }\n",
              "\n",
              "    .dataframe thead th {\n",
              "        text-align: right;\n",
              "    }\n",
              "</style>\n",
              "<table border=\"1\" class=\"dataframe\">\n",
              "  <thead>\n",
              "    <tr style=\"text-align: right;\">\n",
              "      <th></th>\n",
              "      <th>Actor</th>\n",
              "      <th>actor_is_daniel_craig</th>\n",
              "    </tr>\n",
              "    <tr>\n",
              "      <th>Film</th>\n",
              "      <th></th>\n",
              "      <th></th>\n",
              "    </tr>\n",
              "  </thead>\n",
              "  <tbody>\n",
              "    <tr>\n",
              "      <th>Dr. No</th>\n",
              "      <td>Sean Connery</td>\n",
              "      <td>0</td>\n",
              "    </tr>\n",
              "    <tr>\n",
              "      <th>From Russia with Love</th>\n",
              "      <td>Sean Connery</td>\n",
              "      <td>0</td>\n",
              "    </tr>\n",
              "    <tr>\n",
              "      <th>Goldfinger</th>\n",
              "      <td>Sean Connery</td>\n",
              "      <td>0</td>\n",
              "    </tr>\n",
              "    <tr>\n",
              "      <th>Thunderball</th>\n",
              "      <td>Sean Connery</td>\n",
              "      <td>0</td>\n",
              "    </tr>\n",
              "    <tr>\n",
              "      <th>Casino Royale</th>\n",
              "      <td>David Niven</td>\n",
              "      <td>0</td>\n",
              "    </tr>\n",
              "  </tbody>\n",
              "</table>\n",
              "</div>"
            ],
            "text/plain": [
              "                              Actor  actor_is_daniel_craig\n",
              "Film                                                      \n",
              "Dr. No                 Sean Connery                      0\n",
              "From Russia with Love  Sean Connery                      0\n",
              "Goldfinger             Sean Connery                      0\n",
              "Thunderball            Sean Connery                      0\n",
              "Casino Royale           David Niven                      0"
            ]
          },
          "metadata": {
            "tags": []
          },
          "execution_count": 5
        }
      ]
    },
    {
      "cell_type": "markdown",
      "metadata": {
        "id": "NYSnJnPvSeuk"
      },
      "source": [
        "# AGREGAR DATA"
      ]
    },
    {
      "cell_type": "code",
      "metadata": {
        "colab": {
          "base_uri": "https://localhost:8080/"
        },
        "id": "bretq7DbSrrv",
        "outputId": "c07f285b-f79b-4f7e-fc37-2949b19c9839"
      },
      "source": [
        "# Importamos df\n",
        "df_jamesbond = pd.read_csv(\"https://data-wizards.s3.amazonaws.com/datasets/jamesbond.csv\",index_col=\"Film\")\n",
        "df_jamesbond.dtypes"
      ],
      "execution_count": null,
      "outputs": [
        {
          "output_type": "execute_result",
          "data": {
            "text/plain": [
              "Year                   int64\n",
              "Actor                 object\n",
              "Director              object\n",
              "Box Office           float64\n",
              "Budget               float64\n",
              "Bond Actor Salary    float64\n",
              "dtype: object"
            ]
          },
          "metadata": {
            "tags": []
          },
          "execution_count": 4
        }
      ]
    },
    {
      "cell_type": "markdown",
      "metadata": {
        "id": "Ms9j1LacSlUr"
      },
      "source": [
        "### Introducción a agregaciones\n",
        "---"
      ]
    },
    {
      "cell_type": "markdown",
      "metadata": {
        "id": "2MSa1vN4TdZJ"
      },
      "source": [
        "En el contexto del análisis de datos, agregar data significa realizar cálculos que permitan resumir información, abstrayendo conocimiento de data que se encuentra en estado bruto. *Nota: Se trata del ejercicio que hacemos cada vez que utilizamos una tabla dinámica (pivot table) en Excel*.\n",
        "\n",
        "Comenzaremos realizando agregaciones al total de las variables incluídas en un dataframe. Para ello, utilizaremos la función *agg()*. \n",
        "\n",
        "Siempre que realizamos una operación de agregación, utilizamos al menos una función que establece la operación que buscamos realizar. Estas funciones específicas reciben el nombre de *funciones de agregación*. \n",
        "\n",
        "```\n",
        "objecto.agg([\"aggregate function\",\"aggregate function\"])\n",
        "```\n",
        "\n",
        "*Funciones de agregación*\n",
        "\n",
        "| Function    | Description                     |\n",
        "|-------------|---------------------------------|\n",
        "| count       | Number of non-null observations |\n",
        "| nunique     | Number of unique values         |\n",
        "| sum         | Sum of values                   |\n",
        "| mean        | Mean of values                  |\n",
        "| median      | Arithmetic median of values     |\n",
        "| mode        | Mode                            |\n",
        "| min         | Minimum                         |\n",
        "| max         | Maximum                         |\n",
        "\n",
        "\n"
      ]
    },
    {
      "cell_type": "code",
      "metadata": {
        "colab": {
          "base_uri": "https://localhost:8080/",
          "height": 111
        },
        "id": "CszCBBIOSzAC",
        "outputId": "3bbe624d-2a6d-41f2-8671-ea94ada0ce54"
      },
      "source": [
        "# Agregamos todas las columnas, utilizando las funciones de agregación min y max\n",
        "df_jamesbond.agg([\"max\",\"min\"])"
      ],
      "execution_count": null,
      "outputs": [
        {
          "output_type": "execute_result",
          "data": {
            "text/html": [
              "<div>\n",
              "<style scoped>\n",
              "    .dataframe tbody tr th:only-of-type {\n",
              "        vertical-align: middle;\n",
              "    }\n",
              "\n",
              "    .dataframe tbody tr th {\n",
              "        vertical-align: top;\n",
              "    }\n",
              "\n",
              "    .dataframe thead th {\n",
              "        text-align: right;\n",
              "    }\n",
              "</style>\n",
              "<table border=\"1\" class=\"dataframe\">\n",
              "  <thead>\n",
              "    <tr style=\"text-align: right;\">\n",
              "      <th></th>\n",
              "      <th>Year</th>\n",
              "      <th>Actor</th>\n",
              "      <th>Director</th>\n",
              "      <th>Box Office</th>\n",
              "      <th>Budget</th>\n",
              "      <th>Bond Actor Salary</th>\n",
              "    </tr>\n",
              "  </thead>\n",
              "  <tbody>\n",
              "    <tr>\n",
              "      <th>max</th>\n",
              "      <td>2015</td>\n",
              "      <td>Timothy Dalton</td>\n",
              "      <td>Terence Young</td>\n",
              "      <td>943.5</td>\n",
              "      <td>206.3</td>\n",
              "      <td>17.9</td>\n",
              "    </tr>\n",
              "    <tr>\n",
              "      <th>min</th>\n",
              "      <td>1962</td>\n",
              "      <td>Daniel Craig</td>\n",
              "      <td>Guy Hamilton</td>\n",
              "      <td>250.9</td>\n",
              "      <td>7.0</td>\n",
              "      <td>0.6</td>\n",
              "    </tr>\n",
              "  </tbody>\n",
              "</table>\n",
              "</div>"
            ],
            "text/plain": [
              "     Year           Actor       Director  Box Office  Budget  Bond Actor Salary\n",
              "max  2015  Timothy Dalton  Terence Young       943.5   206.3               17.9\n",
              "min  1962    Daniel Craig   Guy Hamilton       250.9     7.0                0.6"
            ]
          },
          "metadata": {
            "tags": []
          },
          "execution_count": 35
        }
      ]
    },
    {
      "cell_type": "code",
      "metadata": {
        "colab": {
          "base_uri": "https://localhost:8080/",
          "height": 235
        },
        "id": "fmo-R9PwTRde",
        "outputId": "55645350-59e1-4271-e598-606560a47c2b"
      },
      "source": [
        "df_jamesbond.agg([\"max\",\"min\"]).T # el atributo .T nos permite pivotar (\"transpose\") el df"
      ],
      "execution_count": null,
      "outputs": [
        {
          "output_type": "execute_result",
          "data": {
            "text/html": [
              "<div>\n",
              "<style scoped>\n",
              "    .dataframe tbody tr th:only-of-type {\n",
              "        vertical-align: middle;\n",
              "    }\n",
              "\n",
              "    .dataframe tbody tr th {\n",
              "        vertical-align: top;\n",
              "    }\n",
              "\n",
              "    .dataframe thead th {\n",
              "        text-align: right;\n",
              "    }\n",
              "</style>\n",
              "<table border=\"1\" class=\"dataframe\">\n",
              "  <thead>\n",
              "    <tr style=\"text-align: right;\">\n",
              "      <th></th>\n",
              "      <th>max</th>\n",
              "      <th>min</th>\n",
              "    </tr>\n",
              "  </thead>\n",
              "  <tbody>\n",
              "    <tr>\n",
              "      <th>Year</th>\n",
              "      <td>2015</td>\n",
              "      <td>1962</td>\n",
              "    </tr>\n",
              "    <tr>\n",
              "      <th>Actor</th>\n",
              "      <td>Timothy Dalton</td>\n",
              "      <td>Daniel Craig</td>\n",
              "    </tr>\n",
              "    <tr>\n",
              "      <th>Director</th>\n",
              "      <td>Terence Young</td>\n",
              "      <td>Guy Hamilton</td>\n",
              "    </tr>\n",
              "    <tr>\n",
              "      <th>Box Office</th>\n",
              "      <td>943.5</td>\n",
              "      <td>250.9</td>\n",
              "    </tr>\n",
              "    <tr>\n",
              "      <th>Budget</th>\n",
              "      <td>206.3</td>\n",
              "      <td>7</td>\n",
              "    </tr>\n",
              "    <tr>\n",
              "      <th>Bond Actor Salary</th>\n",
              "      <td>17.9</td>\n",
              "      <td>0.6</td>\n",
              "    </tr>\n",
              "  </tbody>\n",
              "</table>\n",
              "</div>"
            ],
            "text/plain": [
              "                              max           min\n",
              "Year                         2015          1962\n",
              "Actor              Timothy Dalton  Daniel Craig\n",
              "Director            Terence Young  Guy Hamilton\n",
              "Box Office                  943.5         250.9\n",
              "Budget                      206.3             7\n",
              "Bond Actor Salary            17.9           0.6"
            ]
          },
          "metadata": {
            "tags": []
          },
          "execution_count": 36
        }
      ]
    },
    {
      "cell_type": "code",
      "metadata": {
        "colab": {
          "base_uri": "https://localhost:8080/",
          "height": 111
        },
        "id": "FnXYTD-NRTvW",
        "outputId": "782ccb3b-08b4-47f9-ef31-d0c7c93c3d41"
      },
      "source": [
        "# A continuación, conteremos número de observaciones no nulas (count) y valores únicos (nunique)\n",
        "df_jamesbond.agg([\"count\",\"nunique\"])"
      ],
      "execution_count": null,
      "outputs": [
        {
          "output_type": "execute_result",
          "data": {
            "text/html": [
              "<div>\n",
              "<style scoped>\n",
              "    .dataframe tbody tr th:only-of-type {\n",
              "        vertical-align: middle;\n",
              "    }\n",
              "\n",
              "    .dataframe tbody tr th {\n",
              "        vertical-align: top;\n",
              "    }\n",
              "\n",
              "    .dataframe thead th {\n",
              "        text-align: right;\n",
              "    }\n",
              "</style>\n",
              "<table border=\"1\" class=\"dataframe\">\n",
              "  <thead>\n",
              "    <tr style=\"text-align: right;\">\n",
              "      <th></th>\n",
              "      <th>Year</th>\n",
              "      <th>Actor</th>\n",
              "      <th>Director</th>\n",
              "      <th>Box Office</th>\n",
              "      <th>Budget</th>\n",
              "      <th>Bond Actor Salary</th>\n",
              "    </tr>\n",
              "  </thead>\n",
              "  <tbody>\n",
              "    <tr>\n",
              "      <th>count</th>\n",
              "      <td>26</td>\n",
              "      <td>26</td>\n",
              "      <td>26</td>\n",
              "      <td>26</td>\n",
              "      <td>26</td>\n",
              "      <td>18</td>\n",
              "    </tr>\n",
              "    <tr>\n",
              "      <th>nunique</th>\n",
              "      <td>24</td>\n",
              "      <td>7</td>\n",
              "      <td>13</td>\n",
              "      <td>25</td>\n",
              "      <td>26</td>\n",
              "      <td>17</td>\n",
              "    </tr>\n",
              "  </tbody>\n",
              "</table>\n",
              "</div>"
            ],
            "text/plain": [
              "         Year  Actor  Director  Box Office  Budget  Bond Actor Salary\n",
              "count      26     26        26          26      26                 18\n",
              "nunique    24      7        13          25      26                 17"
            ]
          },
          "metadata": {
            "tags": []
          },
          "execution_count": 11
        }
      ]
    },
    {
      "cell_type": "markdown",
      "metadata": {
        "id": "kqcsJEsVSdeJ"
      },
      "source": [
        "### Especificando agregaciones para cada campo\n",
        "---\n",
        "Normalmente, no buscamos realizar la misma opereación para todas las columnas en un dataframe, sino que buscamos aplicar funciones de agregación específicas para cada variable.\n",
        "\n",
        "Podemos especificar funciones de agregación específicas para cada campo utilizando un \"dictionary\".\n",
        "\n",
        "```\n",
        "object.agg({\n",
        "  'col1':[\"aggregate function\",\"aggregate function\"]\n",
        "  ,'col2':[\"aggregate function\",\"aggregate function\",\"aggregate function\"]\n",
        "})\n",
        "```"
      ]
    },
    {
      "cell_type": "code",
      "metadata": {
        "colab": {
          "base_uri": "https://localhost:8080/",
          "height": 80
        },
        "id": "oyFGp-dhTWes",
        "outputId": "ee5decf7-9d08-4edc-8ac6-6ad5a7f90147"
      },
      "source": [
        "# Agregamos la columna \"box office\", según funciones min(), max() y mean()\n",
        "df_jamesbond.agg({'Box Office':[\"min\",\"max\",\"mean\"]}).T"
      ],
      "execution_count": null,
      "outputs": [
        {
          "output_type": "execute_result",
          "data": {
            "text/html": [
              "<div>\n",
              "<style scoped>\n",
              "    .dataframe tbody tr th:only-of-type {\n",
              "        vertical-align: middle;\n",
              "    }\n",
              "\n",
              "    .dataframe tbody tr th {\n",
              "        vertical-align: top;\n",
              "    }\n",
              "\n",
              "    .dataframe thead th {\n",
              "        text-align: right;\n",
              "    }\n",
              "</style>\n",
              "<table border=\"1\" class=\"dataframe\">\n",
              "  <thead>\n",
              "    <tr style=\"text-align: right;\">\n",
              "      <th></th>\n",
              "      <th>min</th>\n",
              "      <th>max</th>\n",
              "      <th>mean</th>\n",
              "    </tr>\n",
              "  </thead>\n",
              "  <tbody>\n",
              "    <tr>\n",
              "      <th>Box Office</th>\n",
              "      <td>250.9</td>\n",
              "      <td>943.5</td>\n",
              "      <td>491.611538</td>\n",
              "    </tr>\n",
              "  </tbody>\n",
              "</table>\n",
              "</div>"
            ],
            "text/plain": [
              "              min    max        mean\n",
              "Box Office  250.9  943.5  491.611538"
            ]
          },
          "metadata": {
            "tags": []
          },
          "execution_count": 39
        }
      ]
    },
    {
      "cell_type": "code",
      "metadata": {
        "colab": {
          "base_uri": "https://localhost:8080/",
          "height": 173
        },
        "id": "AC15TBzITr1W",
        "outputId": "5a824674-9885-417f-84a9-c0ebab34aa4f"
      },
      "source": [
        "# Agregamos columnas \"Year\", \"Box Office\", utilizando funciones distintas en cada caso\n",
        "df_jamesbond.agg(\n",
        "    {\n",
        "    'Year':[\"min\",\"max\"]\n",
        "    ,\"Box Office\":[\"min\",\"max\",\"mean\",\"sum\"]\n",
        "    })\n",
        "\n",
        "## observar que el output tendrá valores NaN (vacíos) para la variable Year, ya que no estamos aplicando ciertas funciones sobre esta variable"
      ],
      "execution_count": null,
      "outputs": [
        {
          "output_type": "execute_result",
          "data": {
            "text/html": [
              "<div>\n",
              "<style scoped>\n",
              "    .dataframe tbody tr th:only-of-type {\n",
              "        vertical-align: middle;\n",
              "    }\n",
              "\n",
              "    .dataframe tbody tr th {\n",
              "        vertical-align: top;\n",
              "    }\n",
              "\n",
              "    .dataframe thead th {\n",
              "        text-align: right;\n",
              "    }\n",
              "</style>\n",
              "<table border=\"1\" class=\"dataframe\">\n",
              "  <thead>\n",
              "    <tr style=\"text-align: right;\">\n",
              "      <th></th>\n",
              "      <th>Year</th>\n",
              "      <th>Box Office</th>\n",
              "    </tr>\n",
              "  </thead>\n",
              "  <tbody>\n",
              "    <tr>\n",
              "      <th>max</th>\n",
              "      <td>2015.0</td>\n",
              "      <td>943.500000</td>\n",
              "    </tr>\n",
              "    <tr>\n",
              "      <th>mean</th>\n",
              "      <td>NaN</td>\n",
              "      <td>491.611538</td>\n",
              "    </tr>\n",
              "    <tr>\n",
              "      <th>min</th>\n",
              "      <td>1962.0</td>\n",
              "      <td>250.900000</td>\n",
              "    </tr>\n",
              "    <tr>\n",
              "      <th>sum</th>\n",
              "      <td>NaN</td>\n",
              "      <td>12781.900000</td>\n",
              "    </tr>\n",
              "  </tbody>\n",
              "</table>\n",
              "</div>"
            ],
            "text/plain": [
              "        Year    Box Office\n",
              "max   2015.0    943.500000\n",
              "mean     NaN    491.611538\n",
              "min   1962.0    250.900000\n",
              "sum      NaN  12781.900000"
            ]
          },
          "metadata": {
            "tags": []
          },
          "execution_count": 13
        }
      ]
    },
    {
      "cell_type": "markdown",
      "metadata": {
        "id": "gFNnhuLiSz9-"
      },
      "source": [
        "### Agregaciones agrupadas\n",
        "---"
      ]
    },
    {
      "cell_type": "markdown",
      "metadata": {
        "id": "UI4vrksWT3p_"
      },
      "source": [
        "Al realizar agregaciones, frecuentemente buscamos operar sobre observaciones agrupadas según una o más variables, de forma tal que obtengamos conocimiento específico para cada grupo. \n",
        "\n",
        "El método *groupby()* nos permite agrupar la agregación en una o más dimensiones (variables categóricas).\n",
        "\n",
        "```\n",
        "objecto.groupby([\"categorial variable\",\"categorial variable\"])\n",
        "```\n"
      ]
    },
    {
      "cell_type": "code",
      "metadata": {
        "colab": {
          "base_uri": "https://localhost:8080/",
          "height": 297
        },
        "id": "thhhL8TTS3V6",
        "outputId": "4bdbe573-1a9d-428e-a03d-ca5e13f3274a"
      },
      "source": [
        "# Agregamos salario máximo, según actor y ordenamos\n",
        "df_jamesbond.groupby(\"Actor\").agg(\n",
        "    {\"Bond Actor Salary\":\"max\"}\n",
        ").sort_values(\"Bond Actor Salary\", ascending=False)"
      ],
      "execution_count": null,
      "outputs": [
        {
          "output_type": "execute_result",
          "data": {
            "text/html": [
              "<div>\n",
              "<style scoped>\n",
              "    .dataframe tbody tr th:only-of-type {\n",
              "        vertical-align: middle;\n",
              "    }\n",
              "\n",
              "    .dataframe tbody tr th {\n",
              "        vertical-align: top;\n",
              "    }\n",
              "\n",
              "    .dataframe thead th {\n",
              "        text-align: right;\n",
              "    }\n",
              "</style>\n",
              "<table border=\"1\" class=\"dataframe\">\n",
              "  <thead>\n",
              "    <tr style=\"text-align: right;\">\n",
              "      <th></th>\n",
              "      <th>Bond Actor Salary</th>\n",
              "    </tr>\n",
              "    <tr>\n",
              "      <th>Actor</th>\n",
              "      <th></th>\n",
              "    </tr>\n",
              "  </thead>\n",
              "  <tbody>\n",
              "    <tr>\n",
              "      <th>Pierce Brosnan</th>\n",
              "      <td>17.9</td>\n",
              "    </tr>\n",
              "    <tr>\n",
              "      <th>Daniel Craig</th>\n",
              "      <td>14.5</td>\n",
              "    </tr>\n",
              "    <tr>\n",
              "      <th>Roger Moore</th>\n",
              "      <td>9.1</td>\n",
              "    </tr>\n",
              "    <tr>\n",
              "      <th>Timothy Dalton</th>\n",
              "      <td>7.9</td>\n",
              "    </tr>\n",
              "    <tr>\n",
              "      <th>Sean Connery</th>\n",
              "      <td>5.8</td>\n",
              "    </tr>\n",
              "    <tr>\n",
              "      <th>George Lazenby</th>\n",
              "      <td>0.6</td>\n",
              "    </tr>\n",
              "    <tr>\n",
              "      <th>David Niven</th>\n",
              "      <td>NaN</td>\n",
              "    </tr>\n",
              "  </tbody>\n",
              "</table>\n",
              "</div>"
            ],
            "text/plain": [
              "                Bond Actor Salary\n",
              "Actor                            \n",
              "Pierce Brosnan               17.9\n",
              "Daniel Craig                 14.5\n",
              "Roger Moore                   9.1\n",
              "Timothy Dalton                7.9\n",
              "Sean Connery                  5.8\n",
              "George Lazenby                0.6\n",
              "David Niven                   NaN"
            ]
          },
          "metadata": {
            "tags": []
          },
          "execution_count": 58
        }
      ]
    },
    {
      "cell_type": "code",
      "metadata": {
        "colab": {
          "base_uri": "https://localhost:8080/",
          "height": 297
        },
        "id": "_RtQoiEGWjRG",
        "outputId": "98ea47c0-1a15-4c2f-a81c-0301c3c48584"
      },
      "source": [
        "# Agregamos salario máximo y media de box office, según actor\n",
        "## cambiamos los nombres de las variables agregadas\n",
        "df = df_jamesbond.groupby(\"Actor\").agg(\n",
        "    {\"Bond Actor Salary\":\"max\"\n",
        "    ,\"Box Office\":\"mean\"}\n",
        ").sort_values(\"Bond Actor Salary\", ascending=False)\n",
        "\n",
        "## muchas veces, los nombres que obtenemos por defecto no son representativos de la información que almacenan\n",
        "df = df.rename(columns={'Bond Actor Salary':'total_bond_salary','Box Office':'total_box_office'})\n",
        "\n",
        "df # invocamos el objeto"
      ],
      "execution_count": null,
      "outputs": [
        {
          "output_type": "execute_result",
          "data": {
            "text/html": [
              "<div>\n",
              "<style scoped>\n",
              "    .dataframe tbody tr th:only-of-type {\n",
              "        vertical-align: middle;\n",
              "    }\n",
              "\n",
              "    .dataframe tbody tr th {\n",
              "        vertical-align: top;\n",
              "    }\n",
              "\n",
              "    .dataframe thead th {\n",
              "        text-align: right;\n",
              "    }\n",
              "</style>\n",
              "<table border=\"1\" class=\"dataframe\">\n",
              "  <thead>\n",
              "    <tr style=\"text-align: right;\">\n",
              "      <th></th>\n",
              "      <th>total_bond_salary</th>\n",
              "      <th>total_box_office</th>\n",
              "    </tr>\n",
              "    <tr>\n",
              "      <th>Actor</th>\n",
              "      <th></th>\n",
              "      <th></th>\n",
              "    </tr>\n",
              "  </thead>\n",
              "  <tbody>\n",
              "    <tr>\n",
              "      <th>Pierce Brosnan</th>\n",
              "      <td>17.9</td>\n",
              "      <td>471.650000</td>\n",
              "    </tr>\n",
              "    <tr>\n",
              "      <th>Daniel Craig</th>\n",
              "      <td>14.5</td>\n",
              "      <td>691.475000</td>\n",
              "    </tr>\n",
              "    <tr>\n",
              "      <th>Roger Moore</th>\n",
              "      <td>9.1</td>\n",
              "      <td>422.957143</td>\n",
              "    </tr>\n",
              "    <tr>\n",
              "      <th>Timothy Dalton</th>\n",
              "      <td>7.9</td>\n",
              "      <td>282.200000</td>\n",
              "    </tr>\n",
              "    <tr>\n",
              "      <th>Sean Connery</th>\n",
              "      <td>5.8</td>\n",
              "      <td>571.114286</td>\n",
              "    </tr>\n",
              "    <tr>\n",
              "      <th>George Lazenby</th>\n",
              "      <td>0.6</td>\n",
              "      <td>291.500000</td>\n",
              "    </tr>\n",
              "    <tr>\n",
              "      <th>David Niven</th>\n",
              "      <td>NaN</td>\n",
              "      <td>315.000000</td>\n",
              "    </tr>\n",
              "  </tbody>\n",
              "</table>\n",
              "</div>"
            ],
            "text/plain": [
              "                total_bond_salary  total_box_office\n",
              "Actor                                              \n",
              "Pierce Brosnan               17.9        471.650000\n",
              "Daniel Craig                 14.5        691.475000\n",
              "Roger Moore                   9.1        422.957143\n",
              "Timothy Dalton                7.9        282.200000\n",
              "Sean Connery                  5.8        571.114286\n",
              "George Lazenby                0.6        291.500000\n",
              "David Niven                   NaN        315.000000"
            ]
          },
          "metadata": {
            "tags": []
          },
          "execution_count": 17
        }
      ]
    },
    {
      "cell_type": "code",
      "metadata": {
        "colab": {
          "base_uri": "https://localhost:8080/",
          "height": 328
        },
        "id": "BdEFBtnpUBEx",
        "outputId": "d761fbfd-b866-471a-8c74-cde992c60473"
      },
      "source": [
        "# Agregamos múltiples métricas utilizando distintas funciones\n",
        "## al momento de ordenar, debemos utilizar un tuple para poder especificar (i) variable y (ii) función\n",
        "df_jamesbond.groupby(\"Actor\").agg(\n",
        "    {\n",
        "    \"Bond Actor Salary\":[\"max\",\"sum\",\"mean\",\"size\"]\n",
        "    ,\"Budget\":[\"max\",\"min\"]\n",
        "    }\n",
        ").sort_values((\"Bond Actor Salary\",\"max\"),ascending=False) # al ordenar el df, debemos utilizar un \"tuple\" para definir criterio\n"
      ],
      "execution_count": null,
      "outputs": [
        {
          "output_type": "execute_result",
          "data": {
            "text/html": [
              "<div>\n",
              "<style scoped>\n",
              "    .dataframe tbody tr th:only-of-type {\n",
              "        vertical-align: middle;\n",
              "    }\n",
              "\n",
              "    .dataframe tbody tr th {\n",
              "        vertical-align: top;\n",
              "    }\n",
              "\n",
              "    .dataframe thead tr th {\n",
              "        text-align: left;\n",
              "    }\n",
              "\n",
              "    .dataframe thead tr:last-of-type th {\n",
              "        text-align: right;\n",
              "    }\n",
              "</style>\n",
              "<table border=\"1\" class=\"dataframe\">\n",
              "  <thead>\n",
              "    <tr>\n",
              "      <th></th>\n",
              "      <th colspan=\"4\" halign=\"left\">Bond Actor Salary</th>\n",
              "      <th colspan=\"2\" halign=\"left\">Budget</th>\n",
              "    </tr>\n",
              "    <tr>\n",
              "      <th></th>\n",
              "      <th>max</th>\n",
              "      <th>sum</th>\n",
              "      <th>mean</th>\n",
              "      <th>size</th>\n",
              "      <th>max</th>\n",
              "      <th>min</th>\n",
              "    </tr>\n",
              "    <tr>\n",
              "      <th>Actor</th>\n",
              "      <th></th>\n",
              "      <th></th>\n",
              "      <th></th>\n",
              "      <th></th>\n",
              "      <th></th>\n",
              "      <th></th>\n",
              "    </tr>\n",
              "  </thead>\n",
              "  <tbody>\n",
              "    <tr>\n",
              "      <th>Pierce Brosnan</th>\n",
              "      <td>17.9</td>\n",
              "      <td>46.5</td>\n",
              "      <td>11.625000</td>\n",
              "      <td>4</td>\n",
              "      <td>158.3</td>\n",
              "      <td>76.9</td>\n",
              "    </tr>\n",
              "    <tr>\n",
              "      <th>Daniel Craig</th>\n",
              "      <td>14.5</td>\n",
              "      <td>25.9</td>\n",
              "      <td>8.633333</td>\n",
              "      <td>4</td>\n",
              "      <td>206.3</td>\n",
              "      <td>145.3</td>\n",
              "    </tr>\n",
              "    <tr>\n",
              "      <th>Roger Moore</th>\n",
              "      <td>9.1</td>\n",
              "      <td>16.9</td>\n",
              "      <td>8.450000</td>\n",
              "      <td>7</td>\n",
              "      <td>91.5</td>\n",
              "      <td>27.7</td>\n",
              "    </tr>\n",
              "    <tr>\n",
              "      <th>Timothy Dalton</th>\n",
              "      <td>7.9</td>\n",
              "      <td>13.1</td>\n",
              "      <td>6.550000</td>\n",
              "      <td>2</td>\n",
              "      <td>68.8</td>\n",
              "      <td>56.7</td>\n",
              "    </tr>\n",
              "    <tr>\n",
              "      <th>Sean Connery</th>\n",
              "      <td>5.8</td>\n",
              "      <td>20.3</td>\n",
              "      <td>3.383333</td>\n",
              "      <td>7</td>\n",
              "      <td>86.0</td>\n",
              "      <td>7.0</td>\n",
              "    </tr>\n",
              "    <tr>\n",
              "      <th>George Lazenby</th>\n",
              "      <td>0.6</td>\n",
              "      <td>0.6</td>\n",
              "      <td>0.600000</td>\n",
              "      <td>1</td>\n",
              "      <td>37.3</td>\n",
              "      <td>37.3</td>\n",
              "    </tr>\n",
              "    <tr>\n",
              "      <th>David Niven</th>\n",
              "      <td>NaN</td>\n",
              "      <td>0.0</td>\n",
              "      <td>NaN</td>\n",
              "      <td>1</td>\n",
              "      <td>85.0</td>\n",
              "      <td>85.0</td>\n",
              "    </tr>\n",
              "  </tbody>\n",
              "</table>\n",
              "</div>"
            ],
            "text/plain": [
              "               Bond Actor Salary                       Budget       \n",
              "                             max   sum       mean size    max    min\n",
              "Actor                                                               \n",
              "Pierce Brosnan              17.9  46.5  11.625000    4  158.3   76.9\n",
              "Daniel Craig                14.5  25.9   8.633333    4  206.3  145.3\n",
              "Roger Moore                  9.1  16.9   8.450000    7   91.5   27.7\n",
              "Timothy Dalton               7.9  13.1   6.550000    2   68.8   56.7\n",
              "Sean Connery                 5.8  20.3   3.383333    7   86.0    7.0\n",
              "George Lazenby               0.6   0.6   0.600000    1   37.3   37.3\n",
              "David Niven                  NaN   0.0        NaN    1   85.0   85.0"
            ]
          },
          "metadata": {
            "tags": []
          },
          "execution_count": 18
        }
      ]
    },
    {
      "cell_type": "code",
      "metadata": {
        "colab": {
          "base_uri": "https://localhost:8080/",
          "height": 607
        },
        "id": "b5QBWE0rg_hz",
        "outputId": "307aa68e-2a90-48b6-95e0-dc7f6157e879"
      },
      "source": [
        "# Podemos utilizar más de una variable al agregar\n",
        "## en tal caso, las observaciones se agruparán según estos dos campo combinados\n",
        "df_jamesbond.groupby([\"Director\",\"Actor\"]).agg(\n",
        "    {\"Box Office\":\"median\"}\n",
        ")"
      ],
      "execution_count": null,
      "outputs": [
        {
          "output_type": "execute_result",
          "data": {
            "text/html": [
              "<div>\n",
              "<style scoped>\n",
              "    .dataframe tbody tr th:only-of-type {\n",
              "        vertical-align: middle;\n",
              "    }\n",
              "\n",
              "    .dataframe tbody tr th {\n",
              "        vertical-align: top;\n",
              "    }\n",
              "\n",
              "    .dataframe thead th {\n",
              "        text-align: right;\n",
              "    }\n",
              "</style>\n",
              "<table border=\"1\" class=\"dataframe\">\n",
              "  <thead>\n",
              "    <tr style=\"text-align: right;\">\n",
              "      <th></th>\n",
              "      <th></th>\n",
              "      <th>Box Office</th>\n",
              "    </tr>\n",
              "    <tr>\n",
              "      <th>Director</th>\n",
              "      <th>Actor</th>\n",
              "      <th></th>\n",
              "    </tr>\n",
              "  </thead>\n",
              "  <tbody>\n",
              "    <tr>\n",
              "      <th rowspan=\"2\" valign=\"top\">Guy Hamilton</th>\n",
              "      <th>Roger Moore</th>\n",
              "      <td>397.15</td>\n",
              "    </tr>\n",
              "    <tr>\n",
              "      <th>Sean Connery</th>\n",
              "      <td>631.45</td>\n",
              "    </tr>\n",
              "    <tr>\n",
              "      <th>Irvin Kershner</th>\n",
              "      <th>Sean Connery</th>\n",
              "      <td>380.00</td>\n",
              "    </tr>\n",
              "    <tr>\n",
              "      <th rowspan=\"2\" valign=\"top\">John Glen</th>\n",
              "      <th>Roger Moore</th>\n",
              "      <td>373.80</td>\n",
              "    </tr>\n",
              "    <tr>\n",
              "      <th>Timothy Dalton</th>\n",
              "      <td>282.20</td>\n",
              "    </tr>\n",
              "    <tr>\n",
              "      <th>Ken Hughes</th>\n",
              "      <th>David Niven</th>\n",
              "      <td>315.00</td>\n",
              "    </tr>\n",
              "    <tr>\n",
              "      <th>Lee Tamahori</th>\n",
              "      <th>Pierce Brosnan</th>\n",
              "      <td>465.40</td>\n",
              "    </tr>\n",
              "    <tr>\n",
              "      <th rowspan=\"2\" valign=\"top\">Lewis Gilbert</th>\n",
              "      <th>Roger Moore</th>\n",
              "      <td>534.00</td>\n",
              "    </tr>\n",
              "    <tr>\n",
              "      <th>Sean Connery</th>\n",
              "      <td>514.20</td>\n",
              "    </tr>\n",
              "    <tr>\n",
              "      <th>Marc Forster</th>\n",
              "      <th>Daniel Craig</th>\n",
              "      <td>514.20</td>\n",
              "    </tr>\n",
              "    <tr>\n",
              "      <th rowspan=\"2\" valign=\"top\">Martin Campbell</th>\n",
              "      <th>Daniel Craig</th>\n",
              "      <td>581.50</td>\n",
              "    </tr>\n",
              "    <tr>\n",
              "      <th>Pierce Brosnan</th>\n",
              "      <td>518.50</td>\n",
              "    </tr>\n",
              "    <tr>\n",
              "      <th>Michael Apted</th>\n",
              "      <th>Pierce Brosnan</th>\n",
              "      <td>439.50</td>\n",
              "    </tr>\n",
              "    <tr>\n",
              "      <th>Peter R. Hunt</th>\n",
              "      <th>George Lazenby</th>\n",
              "      <td>291.50</td>\n",
              "    </tr>\n",
              "    <tr>\n",
              "      <th>Roger Spottiswoode</th>\n",
              "      <th>Pierce Brosnan</th>\n",
              "      <td>463.20</td>\n",
              "    </tr>\n",
              "    <tr>\n",
              "      <th>Sam Mendes</th>\n",
              "      <th>Daniel Craig</th>\n",
              "      <td>835.10</td>\n",
              "    </tr>\n",
              "    <tr>\n",
              "      <th>Terence Young</th>\n",
              "      <th>Sean Connery</th>\n",
              "      <td>543.80</td>\n",
              "    </tr>\n",
              "  </tbody>\n",
              "</table>\n",
              "</div>"
            ],
            "text/plain": [
              "                                   Box Office\n",
              "Director           Actor                     \n",
              "Guy Hamilton       Roger Moore         397.15\n",
              "                   Sean Connery        631.45\n",
              "Irvin Kershner     Sean Connery        380.00\n",
              "John Glen          Roger Moore         373.80\n",
              "                   Timothy Dalton      282.20\n",
              "Ken Hughes         David Niven         315.00\n",
              "Lee Tamahori       Pierce Brosnan      465.40\n",
              "Lewis Gilbert      Roger Moore         534.00\n",
              "                   Sean Connery        514.20\n",
              "Marc Forster       Daniel Craig        514.20\n",
              "Martin Campbell    Daniel Craig        581.50\n",
              "                   Pierce Brosnan      518.50\n",
              "Michael Apted      Pierce Brosnan      439.50\n",
              "Peter R. Hunt      George Lazenby      291.50\n",
              "Roger Spottiswoode Pierce Brosnan      463.20\n",
              "Sam Mendes         Daniel Craig        835.10\n",
              "Terence Young      Sean Connery        543.80"
            ]
          },
          "metadata": {
            "tags": []
          },
          "execution_count": 45
        }
      ]
    },
    {
      "cell_type": "markdown",
      "metadata": {
        "id": "UJFehThgLUq1"
      },
      "source": [
        "# EJERCICIOS"
      ]
    },
    {
      "cell_type": "markdown",
      "metadata": {
        "id": "im_V3Ak3hO2q"
      },
      "source": [
        "##### EX 1\n",
        "\n",
        "> Dataset https://data-wizards.s3.amazonaws.com/datasets/dataset_videogames_games.csv\n",
        "\n",
        "##### Crear un campo (*total_sales*) en el dataframe que englobe las ventas totales en todas las regiones. Crear otro campo (*video_game_segment*) que identifique videojuegos que hayan vendido en total más de 30MM (\"top sales\") vs. el resto (\"not top sales\"). Filtrar por videojuegos para la plataforma 'N64' y desplegar columnas; *name*, *platform_code*, *total_sales*, *video_game_segment*.\n",
        "\n",
        "---\n",
        "\n"
      ]
    },
    {
      "cell_type": "code",
      "metadata": {
        "colab": {
          "base_uri": "https://localhost:8080/"
        },
        "id": "86sxYe9Yho0s",
        "outputId": "a14fc164-7313-4f50-ab35-e3ebcbdf8063"
      },
      "source": [
        "import pandas as pd\n",
        "df_videogames = pd.read_csv(\"https://data-wizards.s3.amazonaws.com/datasets/dataset_videogames_games.csv\")\n",
        "df_videogames.dtypes"
      ],
      "execution_count": null,
      "outputs": [
        {
          "output_type": "execute_result",
          "data": {
            "text/plain": [
              "rank               int64\n",
              "name              object\n",
              "platform_code     object\n",
              "year               int64\n",
              "genre             object\n",
              "publisher         object\n",
              "NA_sales         float64\n",
              "EU_sales         float64\n",
              "JP_sales         float64\n",
              "Other_sales      float64\n",
              "dtype: object"
            ]
          },
          "metadata": {
            "tags": []
          },
          "execution_count": 112
        }
      ]
    },
    {
      "cell_type": "code",
      "metadata": {
        "colab": {
          "base_uri": "https://localhost:8080/",
          "height": 419
        },
        "id": "Ybx8mhG8hzAY",
        "outputId": "6c039117-c58d-4fbe-83a0-969fed5f566d"
      },
      "source": [
        "df_videogames[\"total_sales\"] = df_videogames[\"NA_sales\"] + df_videogames[\"EU_sales\"] + df_videogames[\"JP_sales\"] + df_videogames[\"Other_sales\"]\n",
        "df_videogames[\"video_game_segment\"] = np.where(df_videogames[\"total_sales\"]>30,'top_sales','not_top_sales') \n",
        "\n",
        "cond = df_videogames[\"platform_code\"] == 'N64'\n",
        "df_videogames[cond][['name','platform_code','total_sales','video_game_segment']].sort_values('total_sales',ascending=False)"
      ],
      "execution_count": null,
      "outputs": [
        {
          "output_type": "execute_result",
          "data": {
            "text/html": [
              "<div>\n",
              "<style scoped>\n",
              "    .dataframe tbody tr th:only-of-type {\n",
              "        vertical-align: middle;\n",
              "    }\n",
              "\n",
              "    .dataframe tbody tr th {\n",
              "        vertical-align: top;\n",
              "    }\n",
              "\n",
              "    .dataframe thead th {\n",
              "        text-align: right;\n",
              "    }\n",
              "</style>\n",
              "<table border=\"1\" class=\"dataframe\">\n",
              "  <thead>\n",
              "    <tr style=\"text-align: right;\">\n",
              "      <th></th>\n",
              "      <th>name</th>\n",
              "      <th>platform_code</th>\n",
              "      <th>total_sales</th>\n",
              "      <th>video_game_segment</th>\n",
              "    </tr>\n",
              "  </thead>\n",
              "  <tbody>\n",
              "    <tr>\n",
              "      <th>0</th>\n",
              "      <td>Wii Sports</td>\n",
              "      <td>N64</td>\n",
              "      <td>82.74</td>\n",
              "      <td>top_sales</td>\n",
              "    </tr>\n",
              "    <tr>\n",
              "      <th>1</th>\n",
              "      <td>Super Mario Bros.</td>\n",
              "      <td>N64</td>\n",
              "      <td>40.24</td>\n",
              "      <td>top_sales</td>\n",
              "    </tr>\n",
              "    <tr>\n",
              "      <th>2</th>\n",
              "      <td>Mario Kart Wii</td>\n",
              "      <td>N64</td>\n",
              "      <td>35.83</td>\n",
              "      <td>top_sales</td>\n",
              "    </tr>\n",
              "    <tr>\n",
              "      <th>3</th>\n",
              "      <td>Wii Sports Resort</td>\n",
              "      <td>N64</td>\n",
              "      <td>33.00</td>\n",
              "      <td>top_sales</td>\n",
              "    </tr>\n",
              "    <tr>\n",
              "      <th>4</th>\n",
              "      <td>Pokemon Red/Pokemon Blue</td>\n",
              "      <td>N64</td>\n",
              "      <td>31.38</td>\n",
              "      <td>top_sales</td>\n",
              "    </tr>\n",
              "    <tr>\n",
              "      <th>...</th>\n",
              "      <td>...</td>\n",
              "      <td>...</td>\n",
              "      <td>...</td>\n",
              "      <td>...</td>\n",
              "    </tr>\n",
              "    <tr>\n",
              "      <th>15471</th>\n",
              "      <td>World Poker Tour</td>\n",
              "      <td>N64</td>\n",
              "      <td>0.01</td>\n",
              "      <td>not_top_sales</td>\n",
              "    </tr>\n",
              "    <tr>\n",
              "      <th>15472</th>\n",
              "      <td>Sousaku Alice to Oujisama!</td>\n",
              "      <td>N64</td>\n",
              "      <td>0.01</td>\n",
              "      <td>not_top_sales</td>\n",
              "    </tr>\n",
              "    <tr>\n",
              "      <th>15473</th>\n",
              "      <td>Empire Deluxe</td>\n",
              "      <td>N64</td>\n",
              "      <td>0.01</td>\n",
              "      <td>not_top_sales</td>\n",
              "    </tr>\n",
              "    <tr>\n",
              "      <th>15946</th>\n",
              "      <td>Spirits &amp; Spells</td>\n",
              "      <td>N64</td>\n",
              "      <td>0.01</td>\n",
              "      <td>not_top_sales</td>\n",
              "    </tr>\n",
              "    <tr>\n",
              "      <th>15944</th>\n",
              "      <td>SCORE International Baja 1000: The Official Game</td>\n",
              "      <td>N64</td>\n",
              "      <td>0.00</td>\n",
              "      <td>not_top_sales</td>\n",
              "    </tr>\n",
              "  </tbody>\n",
              "</table>\n",
              "<p>15947 rows × 4 columns</p>\n",
              "</div>"
            ],
            "text/plain": [
              "                                                   name  ... video_game_segment\n",
              "0                                            Wii Sports  ...          top_sales\n",
              "1                                     Super Mario Bros.  ...          top_sales\n",
              "2                                        Mario Kart Wii  ...          top_sales\n",
              "3                                     Wii Sports Resort  ...          top_sales\n",
              "4                              Pokemon Red/Pokemon Blue  ...          top_sales\n",
              "...                                                 ...  ...                ...\n",
              "15471                                  World Poker Tour  ...      not_top_sales\n",
              "15472                        Sousaku Alice to Oujisama!  ...      not_top_sales\n",
              "15473                                     Empire Deluxe  ...      not_top_sales\n",
              "15946                                  Spirits & Spells  ...      not_top_sales\n",
              "15944  SCORE International Baja 1000: The Official Game  ...      not_top_sales\n",
              "\n",
              "[15947 rows x 4 columns]"
            ]
          },
          "metadata": {
            "tags": []
          },
          "execution_count": 119
        }
      ]
    },
    {
      "cell_type": "markdown",
      "metadata": {
        "id": "yLuNuKvEYwnI"
      },
      "source": [
        "##### EX 2 \n",
        "> Dataset https://data-wizards.s3.amazonaws.com/datasets/starwarsdb_people.csv\n",
        "\n",
        "##### EX 2.1 Calcular suma total de facturación (revenue), según sector\n",
        "##### EX 2.2 Repetir el ejercicio anterior, pero filtrando únicamente por sectores Technology, Energy y Retailing\n",
        "---"
      ]
    },
    {
      "cell_type": "code",
      "metadata": {
        "colab": {
          "base_uri": "https://localhost:8080/"
        },
        "id": "sGy1d7VfY1yW",
        "outputId": "cf65fabe-1215-4fdd-dfc2-ce9566a69061"
      },
      "source": [
        "import pandas as pd\n",
        "df_fortune = pd.read_csv(\"https://data-wizards.s3.amazonaws.com/datasets/fortune1000.csv\")\n",
        "df_fortune.dtypes"
      ],
      "execution_count": null,
      "outputs": [
        {
          "output_type": "execute_result",
          "data": {
            "text/plain": [
              "Rank          int64\n",
              "Company      object\n",
              "Sector       object\n",
              "Industry     object\n",
              "Location     object\n",
              "Revenue       int64\n",
              "Profits       int64\n",
              "Employees     int64\n",
              "dtype: object"
            ]
          },
          "metadata": {
            "tags": []
          },
          "execution_count": 19
        }
      ]
    },
    {
      "cell_type": "code",
      "metadata": {
        "colab": {
          "base_uri": "https://localhost:8080/",
          "height": 731
        },
        "id": "eIXIcKyOY10x",
        "outputId": "7b4d9a07-1d8b-4638-e4fd-ee8bc592bf52"
      },
      "source": [
        "# EX 2.1\n",
        "df_fortune.groupby(\"Sector\").agg(\n",
        "    {\"Revenue\":\"sum\"}\n",
        ").sort_values(\"Revenue\",ascending=False)"
      ],
      "execution_count": null,
      "outputs": [
        {
          "output_type": "execute_result",
          "data": {
            "text/html": [
              "<div>\n",
              "<style scoped>\n",
              "    .dataframe tbody tr th:only-of-type {\n",
              "        vertical-align: middle;\n",
              "    }\n",
              "\n",
              "    .dataframe tbody tr th {\n",
              "        vertical-align: top;\n",
              "    }\n",
              "\n",
              "    .dataframe thead th {\n",
              "        text-align: right;\n",
              "    }\n",
              "</style>\n",
              "<table border=\"1\" class=\"dataframe\">\n",
              "  <thead>\n",
              "    <tr style=\"text-align: right;\">\n",
              "      <th></th>\n",
              "      <th>Revenue</th>\n",
              "    </tr>\n",
              "    <tr>\n",
              "      <th>Sector</th>\n",
              "      <th></th>\n",
              "    </tr>\n",
              "  </thead>\n",
              "  <tbody>\n",
              "    <tr>\n",
              "      <th>Financials</th>\n",
              "      <td>2217159</td>\n",
              "    </tr>\n",
              "    <tr>\n",
              "      <th>Health Care</th>\n",
              "      <td>1614707</td>\n",
              "    </tr>\n",
              "    <tr>\n",
              "      <th>Energy</th>\n",
              "      <td>1517809</td>\n",
              "    </tr>\n",
              "    <tr>\n",
              "      <th>Retailing</th>\n",
              "      <td>1465076</td>\n",
              "    </tr>\n",
              "    <tr>\n",
              "      <th>Technology</th>\n",
              "      <td>1377600</td>\n",
              "    </tr>\n",
              "    <tr>\n",
              "      <th>Food, Beverages &amp; Tobacco</th>\n",
              "      <td>555967</td>\n",
              "    </tr>\n",
              "    <tr>\n",
              "      <th>Industrials</th>\n",
              "      <td>497581</td>\n",
              "    </tr>\n",
              "    <tr>\n",
              "      <th>Food and Drug Stores</th>\n",
              "      <td>483769</td>\n",
              "    </tr>\n",
              "    <tr>\n",
              "      <th>Motor Vehicles &amp; Parts</th>\n",
              "      <td>482540</td>\n",
              "    </tr>\n",
              "    <tr>\n",
              "      <th>Telecommunications</th>\n",
              "      <td>461834</td>\n",
              "    </tr>\n",
              "    <tr>\n",
              "      <th>Wholesalers</th>\n",
              "      <td>444800</td>\n",
              "    </tr>\n",
              "    <tr>\n",
              "      <th>Transportation</th>\n",
              "      <td>408508</td>\n",
              "    </tr>\n",
              "    <tr>\n",
              "      <th>Aerospace &amp; Defense</th>\n",
              "      <td>357940</td>\n",
              "    </tr>\n",
              "    <tr>\n",
              "      <th>Business Services</th>\n",
              "      <td>272195</td>\n",
              "    </tr>\n",
              "    <tr>\n",
              "      <th>Materials</th>\n",
              "      <td>259145</td>\n",
              "    </tr>\n",
              "    <tr>\n",
              "      <th>Chemicals</th>\n",
              "      <td>243897</td>\n",
              "    </tr>\n",
              "    <tr>\n",
              "      <th>Household Products</th>\n",
              "      <td>234737</td>\n",
              "    </tr>\n",
              "    <tr>\n",
              "      <th>Media</th>\n",
              "      <td>220764</td>\n",
              "    </tr>\n",
              "    <tr>\n",
              "      <th>Hotels, Resturants &amp; Leisure</th>\n",
              "      <td>169546</td>\n",
              "    </tr>\n",
              "    <tr>\n",
              "      <th>Engineering &amp; Construction</th>\n",
              "      <td>153983</td>\n",
              "    </tr>\n",
              "    <tr>\n",
              "      <th>Apparel</th>\n",
              "      <td>95968</td>\n",
              "    </tr>\n",
              "  </tbody>\n",
              "</table>\n",
              "</div>"
            ],
            "text/plain": [
              "                              Revenue\n",
              "Sector                               \n",
              "Financials                    2217159\n",
              "Health Care                   1614707\n",
              "Energy                        1517809\n",
              "Retailing                     1465076\n",
              "Technology                    1377600\n",
              "Food, Beverages & Tobacco      555967\n",
              "Industrials                    497581\n",
              "Food and Drug Stores           483769\n",
              "Motor Vehicles & Parts         482540\n",
              "Telecommunications             461834\n",
              "Wholesalers                    444800\n",
              "Transportation                 408508\n",
              "Aerospace & Defense            357940\n",
              "Business Services              272195\n",
              "Materials                      259145\n",
              "Chemicals                      243897\n",
              "Household Products             234737\n",
              "Media                          220764\n",
              "Hotels, Resturants & Leisure   169546\n",
              "Engineering & Construction     153983\n",
              "Apparel                         95968"
            ]
          },
          "metadata": {
            "tags": []
          },
          "execution_count": 21
        }
      ]
    },
    {
      "cell_type": "code",
      "metadata": {
        "colab": {
          "base_uri": "https://localhost:8080/",
          "height": 173
        },
        "id": "_eFvsVwUa4Yu",
        "outputId": "1556a892-d16b-40db-d2d6-f8effc8c8969"
      },
      "source": [
        "# EX 2.2\n",
        "cond = df_fortune[\"Sector\"].isin([\"Technology\",\"Energy\",\"Retailing\"])\n",
        "\n",
        "df_fortune[cond].groupby(\"Sector\").agg(\n",
        "    {\"Revenue\":\"sum\"}\n",
        ").sort_values(\"Revenue\",ascending=False)"
      ],
      "execution_count": null,
      "outputs": [
        {
          "output_type": "execute_result",
          "data": {
            "text/html": [
              "<div>\n",
              "<style scoped>\n",
              "    .dataframe tbody tr th:only-of-type {\n",
              "        vertical-align: middle;\n",
              "    }\n",
              "\n",
              "    .dataframe tbody tr th {\n",
              "        vertical-align: top;\n",
              "    }\n",
              "\n",
              "    .dataframe thead th {\n",
              "        text-align: right;\n",
              "    }\n",
              "</style>\n",
              "<table border=\"1\" class=\"dataframe\">\n",
              "  <thead>\n",
              "    <tr style=\"text-align: right;\">\n",
              "      <th></th>\n",
              "      <th>Revenue</th>\n",
              "    </tr>\n",
              "    <tr>\n",
              "      <th>Sector</th>\n",
              "      <th></th>\n",
              "    </tr>\n",
              "  </thead>\n",
              "  <tbody>\n",
              "    <tr>\n",
              "      <th>Energy</th>\n",
              "      <td>1517809</td>\n",
              "    </tr>\n",
              "    <tr>\n",
              "      <th>Retailing</th>\n",
              "      <td>1465076</td>\n",
              "    </tr>\n",
              "    <tr>\n",
              "      <th>Technology</th>\n",
              "      <td>1377600</td>\n",
              "    </tr>\n",
              "  </tbody>\n",
              "</table>\n",
              "</div>"
            ],
            "text/plain": [
              "            Revenue\n",
              "Sector             \n",
              "Energy      1517809\n",
              "Retailing   1465076\n",
              "Technology  1377600"
            ]
          },
          "metadata": {
            "tags": []
          },
          "execution_count": 22
        }
      ]
    },
    {
      "cell_type": "markdown",
      "metadata": {
        "id": "Xi12GHEZnavR"
      },
      "source": [
        "##### EX 3 \n",
        "> Dataset https://data-wizards.s3.amazonaws.com/datasets/starwarsdb_people.csv\n",
        "\n",
        "##### Extrear el top 5 planetas (homeworlds) con mayor número de personajes incluídos en el dataset.\n",
        "---"
      ]
    },
    {
      "cell_type": "code",
      "metadata": {
        "colab": {
          "base_uri": "https://localhost:8080/"
        },
        "id": "2JD1itf3ndHV",
        "outputId": "3101019f-f520-4915-f193-0a18083dde9a"
      },
      "source": [
        "import pandas as pd\n",
        "df_starwars_people = pd.read_csv(\"https://data-wizards.s3.amazonaws.com/datasets/starwarsdb_people.csv\")\n",
        "df_starwars_people.dtypes"
      ],
      "execution_count": null,
      "outputs": [
        {
          "output_type": "execute_result",
          "data": {
            "text/plain": [
              "name           object\n",
              "height        float64\n",
              "mass          float64\n",
              "hair_color     object\n",
              "skin_color     object\n",
              "eye_color      object\n",
              "birth_year    float64\n",
              "gender         object\n",
              "homeworld      object\n",
              "species        object\n",
              "sex            object\n",
              "dtype: object"
            ]
          },
          "metadata": {
            "tags": []
          },
          "execution_count": 23
        }
      ]
    },
    {
      "cell_type": "code",
      "metadata": {
        "colab": {
          "base_uri": "https://localhost:8080/",
          "height": 235
        },
        "id": "tunXwXfgndMX",
        "outputId": "1beaaaa8-a997-4c8f-ba0c-b5d9cacc4e3b"
      },
      "source": [
        "df_starwars_people.groupby('homeworld').agg({\n",
        "  \"name\":\"nunique\"   \n",
        "}).rename(\n",
        "    {\"name\":\"count_characteres\"}\n",
        "    ,axis='columns'\n",
        ").sort_values('count_characteres',ascending=False)\\\n",
        ".iloc[:5,]"
      ],
      "execution_count": null,
      "outputs": [
        {
          "output_type": "execute_result",
          "data": {
            "text/html": [
              "<div>\n",
              "<style scoped>\n",
              "    .dataframe tbody tr th:only-of-type {\n",
              "        vertical-align: middle;\n",
              "    }\n",
              "\n",
              "    .dataframe tbody tr th {\n",
              "        vertical-align: top;\n",
              "    }\n",
              "\n",
              "    .dataframe thead th {\n",
              "        text-align: right;\n",
              "    }\n",
              "</style>\n",
              "<table border=\"1\" class=\"dataframe\">\n",
              "  <thead>\n",
              "    <tr style=\"text-align: right;\">\n",
              "      <th></th>\n",
              "      <th>count_characteres</th>\n",
              "    </tr>\n",
              "    <tr>\n",
              "      <th>homeworld</th>\n",
              "      <th></th>\n",
              "    </tr>\n",
              "  </thead>\n",
              "  <tbody>\n",
              "    <tr>\n",
              "      <th>Naboo</th>\n",
              "      <td>11</td>\n",
              "    </tr>\n",
              "    <tr>\n",
              "      <th>Tatooine</th>\n",
              "      <td>10</td>\n",
              "    </tr>\n",
              "    <tr>\n",
              "      <th>Alderaan</th>\n",
              "      <td>3</td>\n",
              "    </tr>\n",
              "    <tr>\n",
              "      <th>Kamino</th>\n",
              "      <td>3</td>\n",
              "    </tr>\n",
              "    <tr>\n",
              "      <th>Coruscant</th>\n",
              "      <td>3</td>\n",
              "    </tr>\n",
              "  </tbody>\n",
              "</table>\n",
              "</div>"
            ],
            "text/plain": [
              "           count_characteres\n",
              "homeworld                   \n",
              "Naboo                     11\n",
              "Tatooine                  10\n",
              "Alderaan                   3\n",
              "Kamino                     3\n",
              "Coruscant                  3"
            ]
          },
          "metadata": {
            "tags": []
          },
          "execution_count": 25
        }
      ]
    },
    {
      "cell_type": "markdown",
      "metadata": {
        "id": "FqieYsTOVYDi"
      },
      "source": [
        "##### EX 4 \n",
        "> Dataset https://data-wizards.s3.amazonaws.com/datasets/dataset_na_who.csv\n",
        "\n",
        "##### Agregar las siguiente métricas según continente,\n",
        "\n",
        "*   *Población total*\n",
        "*   *PIB per cápita medio*\n",
        "*   *media de % población viviendo por debajo de la línea de la pobreza*\n",
        "\n",
        "---"
      ]
    },
    {
      "cell_type": "code",
      "metadata": {
        "colab": {
          "base_uri": "https://localhost:8080/"
        },
        "id": "80UVfouEsf4D",
        "outputId": "3483a8d1-6720-4422-acb7-a7041479019e"
      },
      "source": [
        "import pandas as pd\n",
        "df_who = pd.read_csv('https://data-wizards.s3.amazonaws.com/datasets/dataset_na_who.csv')\n",
        "df_who.dtypes"
      ],
      "execution_count": null,
      "outputs": [
        {
          "output_type": "execute_result",
          "data": {
            "text/plain": [
              "Country                                                    object\n",
              "CountryID                                                   int64\n",
              "ContinentID                                                 int64\n",
              "Adolescent fertility rate (%)                             float64\n",
              "Adult literacy rate (%)                                   float64\n",
              "Gross national income per capita (PPP international $)    float64\n",
              "Net primary school enrolment ratio female (%)             float64\n",
              "Net primary school enrolment ratio male (%)               float64\n",
              "Population (in thousands) total                           float64\n",
              "Population annual growth rate (%)                         float64\n",
              "Population in urban areas (%)                             float64\n",
              "Population living below the poverty line                  float64\n",
              "Continent                                                  object\n",
              "dtype: object"
            ]
          },
          "metadata": {
            "tags": []
          },
          "execution_count": 134
        }
      ]
    },
    {
      "cell_type": "code",
      "metadata": {
        "colab": {
          "base_uri": "https://localhost:8080/",
          "height": 348
        },
        "id": "6up7nEJssjzB",
        "outputId": "5c2ac77a-c4e2-4905-8dff-337b57e6bba4"
      },
      "source": [
        "# EX 4\n",
        "output = df_who.groupby('Continent').agg({\n",
        "    'Population (in thousands) total':'sum'\n",
        "    ,'Gross national income per capita (PPP international $)':'mean'\n",
        "    ,'Population living below the poverty line':'mean'\n",
        "})\n",
        "\n",
        "output['Population (in thousands) total'] = round(output['Population (in thousands) total'])\n",
        "output['Gross national income per capita (PPP international $)'] = round(output['Gross national income per capita (PPP international $)'])\n",
        "output['Population living below the poverty line'] = round(output['Population living below the poverty line'])\n",
        "\n",
        "output.sort_values('Population (in thousands) total',ascending=False)"
      ],
      "execution_count": null,
      "outputs": [
        {
          "output_type": "execute_result",
          "data": {
            "text/html": [
              "<div>\n",
              "<style scoped>\n",
              "    .dataframe tbody tr th:only-of-type {\n",
              "        vertical-align: middle;\n",
              "    }\n",
              "\n",
              "    .dataframe tbody tr th {\n",
              "        vertical-align: top;\n",
              "    }\n",
              "\n",
              "    .dataframe thead th {\n",
              "        text-align: right;\n",
              "    }\n",
              "</style>\n",
              "<table border=\"1\" class=\"dataframe\">\n",
              "  <thead>\n",
              "    <tr style=\"text-align: right;\">\n",
              "      <th></th>\n",
              "      <th>Population (in thousands) total</th>\n",
              "      <th>Gross national income per capita (PPP international $)</th>\n",
              "      <th>Population living below the poverty line</th>\n",
              "    </tr>\n",
              "    <tr>\n",
              "      <th>Continent</th>\n",
              "      <th></th>\n",
              "      <th></th>\n",
              "      <th></th>\n",
              "    </tr>\n",
              "  </thead>\n",
              "  <tbody>\n",
              "    <tr>\n",
              "      <th>Asia</th>\n",
              "      <td>2859153.0</td>\n",
              "      <td>2866.0</td>\n",
              "      <td>28.0</td>\n",
              "    </tr>\n",
              "    <tr>\n",
              "      <th>Europe</th>\n",
              "      <td>880241.0</td>\n",
              "      <td>19777.0</td>\n",
              "      <td>3.0</td>\n",
              "    </tr>\n",
              "    <tr>\n",
              "      <th>Africa</th>\n",
              "      <td>759147.0</td>\n",
              "      <td>3128.0</td>\n",
              "      <td>36.0</td>\n",
              "    </tr>\n",
              "    <tr>\n",
              "      <th>Oceania</th>\n",
              "      <td>714480.0</td>\n",
              "      <td>11716.0</td>\n",
              "      <td>12.0</td>\n",
              "    </tr>\n",
              "    <tr>\n",
              "      <th>South America</th>\n",
              "      <td>453480.0</td>\n",
              "      <td>7397.0</td>\n",
              "      <td>14.0</td>\n",
              "    </tr>\n",
              "    <tr>\n",
              "      <th>North America</th>\n",
              "      <td>441464.0</td>\n",
              "      <td>24524.0</td>\n",
              "      <td>3.0</td>\n",
              "    </tr>\n",
              "    <tr>\n",
              "      <th>Middle East</th>\n",
              "      <td>336867.0</td>\n",
              "      <td>14894.0</td>\n",
              "      <td>2.0</td>\n",
              "    </tr>\n",
              "  </tbody>\n",
              "</table>\n",
              "</div>"
            ],
            "text/plain": [
              "               Population (in thousands) total  ...  Population living below the poverty line\n",
              "Continent                                       ...                                          \n",
              "Asia                                 2859153.0  ...                                      28.0\n",
              "Europe                                880241.0  ...                                       3.0\n",
              "Africa                                759147.0  ...                                      36.0\n",
              "Oceania                               714480.0  ...                                      12.0\n",
              "South America                         453480.0  ...                                      14.0\n",
              "North America                         441464.0  ...                                       3.0\n",
              "Middle East                           336867.0  ...                                       2.0\n",
              "\n",
              "[7 rows x 3 columns]"
            ]
          },
          "metadata": {
            "tags": []
          },
          "execution_count": 140
        }
      ]
    },
    {
      "cell_type": "markdown",
      "metadata": {
        "id": "3P0IpVyELsJm"
      },
      "source": [
        "##### EX 5 \n",
        "> Dataset https://data-wizards.s3.amazonaws.com/datasets/movies.csv\n",
        "\n",
        "##### Extrear el top 10 directores con mayor media de IMDB score. Incluir únicamente directores con más de 5 películas dirigidas.\n",
        "---"
      ]
    },
    {
      "cell_type": "code",
      "metadata": {
        "colab": {
          "base_uri": "https://localhost:8080/"
        },
        "id": "VKtAiVMuMeDj",
        "outputId": "3cb30fe2-caa9-4b35-bada-87c404e80783"
      },
      "source": [
        "import pandas as pd\n",
        "df_movies = pd.read_csv(\"https://data-wizards.s3.amazonaws.com/datasets/movies.csv\",index_col=\"movie_title\")\n",
        "df_movies.dtypes"
      ],
      "execution_count": null,
      "outputs": [
        {
          "output_type": "execute_result",
          "data": {
            "text/plain": [
              "color                         object\n",
              "director_name                 object\n",
              "num_critic_for_reviews       float64\n",
              "duration                     float64\n",
              "director_facebook_likes      float64\n",
              "actor_3_facebook_likes       float64\n",
              "actor_2_name                  object\n",
              "actor_1_facebook_likes       float64\n",
              "gross                        float64\n",
              "genres                        object\n",
              "actor_1_name                  object\n",
              "num_voted_users                int64\n",
              "cast_total_facebook_likes      int64\n",
              "actor_3_name                  object\n",
              "facenumber_in_poster         float64\n",
              "plot_keywords                 object\n",
              "movie_imdb_link               object\n",
              "num_user_for_reviews         float64\n",
              "language                      object\n",
              "country                       object\n",
              "content_rating                object\n",
              "budget                       float64\n",
              "title_year                   float64\n",
              "actor_2_facebook_likes       float64\n",
              "imdb_score                   float64\n",
              "aspect_ratio                 float64\n",
              "movie_facebook_likes           int64\n",
              "dtype: object"
            ]
          },
          "metadata": {
            "tags": []
          },
          "execution_count": 81
        }
      ]
    },
    {
      "cell_type": "code",
      "metadata": {
        "id": "QXKvd385Nd4j",
        "colab": {
          "base_uri": "https://localhost:8080/",
          "height": 390
        },
        "outputId": "6d76bcd6-742f-4e2b-bf6a-4d05b33bbdea"
      },
      "source": [
        "# EX 5\n",
        "output = df_movies.groupby(\"director_name\").agg({\n",
        "    \"imdb_score\":\"mean\"\n",
        "    ,\"movie_title\":\"count\"\n",
        "    }).rename({\n",
        "    \"imdb_score\":\"avg_imdb_score\"\n",
        "    ,\"movie_title\":\"total_movies\"\n",
        "},axis='columns')\n",
        "\n",
        "output[output['total_movies']>5].sort_values('avg_imdb_score',ascending=False).iloc[:10,]"
      ],
      "execution_count": null,
      "outputs": [
        {
          "output_type": "execute_result",
          "data": {
            "text/html": [
              "<div>\n",
              "<style scoped>\n",
              "    .dataframe tbody tr th:only-of-type {\n",
              "        vertical-align: middle;\n",
              "    }\n",
              "\n",
              "    .dataframe tbody tr th {\n",
              "        vertical-align: top;\n",
              "    }\n",
              "\n",
              "    .dataframe thead th {\n",
              "        text-align: right;\n",
              "    }\n",
              "</style>\n",
              "<table border=\"1\" class=\"dataframe\">\n",
              "  <thead>\n",
              "    <tr style=\"text-align: right;\">\n",
              "      <th></th>\n",
              "      <th>avg_imdb_score</th>\n",
              "      <th>total_movies</th>\n",
              "    </tr>\n",
              "    <tr>\n",
              "      <th>director_name</th>\n",
              "      <th></th>\n",
              "      <th></th>\n",
              "    </tr>\n",
              "  </thead>\n",
              "  <tbody>\n",
              "    <tr>\n",
              "      <th>Christopher Nolan</th>\n",
              "      <td>8.425000</td>\n",
              "      <td>8</td>\n",
              "    </tr>\n",
              "    <tr>\n",
              "      <th>Quentin Tarantino</th>\n",
              "      <td>8.200000</td>\n",
              "      <td>8</td>\n",
              "    </tr>\n",
              "    <tr>\n",
              "      <th>Stanley Kubrick</th>\n",
              "      <td>8.050000</td>\n",
              "      <td>6</td>\n",
              "    </tr>\n",
              "    <tr>\n",
              "      <th>James Cameron</th>\n",
              "      <td>7.914286</td>\n",
              "      <td>7</td>\n",
              "    </tr>\n",
              "    <tr>\n",
              "      <th>Peter Jackson</th>\n",
              "      <td>7.888889</td>\n",
              "      <td>9</td>\n",
              "    </tr>\n",
              "    <tr>\n",
              "      <th>Alejandro G. Iñárritu</th>\n",
              "      <td>7.783333</td>\n",
              "      <td>6</td>\n",
              "    </tr>\n",
              "    <tr>\n",
              "      <th>David Fincher</th>\n",
              "      <td>7.750000</td>\n",
              "      <td>10</td>\n",
              "    </tr>\n",
              "    <tr>\n",
              "      <th>Martin Scorsese</th>\n",
              "      <td>7.660000</td>\n",
              "      <td>20</td>\n",
              "    </tr>\n",
              "    <tr>\n",
              "      <th>Wes Anderson</th>\n",
              "      <td>7.628571</td>\n",
              "      <td>7</td>\n",
              "    </tr>\n",
              "    <tr>\n",
              "      <th>Paul Greengrass</th>\n",
              "      <td>7.585714</td>\n",
              "      <td>7</td>\n",
              "    </tr>\n",
              "  </tbody>\n",
              "</table>\n",
              "</div>"
            ],
            "text/plain": [
              "                       avg_imdb_score  total_movies\n",
              "director_name                                      \n",
              "Christopher Nolan            8.425000             8\n",
              "Quentin Tarantino            8.200000             8\n",
              "Stanley Kubrick              8.050000             6\n",
              "James Cameron                7.914286             7\n",
              "Peter Jackson                7.888889             9\n",
              "Alejandro G. Iñárritu        7.783333             6\n",
              "David Fincher                7.750000            10\n",
              "Martin Scorsese              7.660000            20\n",
              "Wes Anderson                 7.628571             7\n",
              "Paul Greengrass              7.585714             7"
            ]
          },
          "metadata": {
            "tags": []
          },
          "execution_count": 80
        }
      ]
    },
    {
      "cell_type": "markdown",
      "metadata": {
        "id": "zRXntWrWc887"
      },
      "source": [
        "##### EX 6\n",
        "> Dataset https://data-wizards.s3.amazonaws.com/datasets/starwarsdb_people.csv\n",
        "\n",
        "##### Crear un nuevo campo (\"company_size\") que segmente a las empresas según cantidad de empleados según el siguiente criterio,\n",
        "\n",
        "*   *small*, cuando la cantidad de empleados sea menor a 10000\n",
        "*   *medium*, cuando la cantidad de empleados sea mayor a 10000 y menor a 100000\n",
        "*   *big*, cuando la cantidad de empleados sea mayor a 100000\n",
        "\n",
        "##### Calcular mediana de ganancias (profits), según (i) sector y (ii) tamaño de empresa (\"company_size\")\n",
        "---"
      ]
    },
    {
      "cell_type": "code",
      "metadata": {
        "colab": {
          "base_uri": "https://localhost:8080/"
        },
        "id": "b-wVRy88ckUk",
        "outputId": "89c080a9-6997-4f33-cd4e-88ed5411a7ce"
      },
      "source": [
        "import pandas as pd\n",
        "import numpy as np\n",
        "df_fortune = pd.read_csv(\"https://data-wizards.s3.amazonaws.com/datasets/fortune1000.csv\")\n",
        "df_fortune.dtypes"
      ],
      "execution_count": null,
      "outputs": [
        {
          "output_type": "execute_result",
          "data": {
            "text/plain": [
              "Rank          int64\n",
              "Company      object\n",
              "Sector       object\n",
              "Industry     object\n",
              "Location     object\n",
              "Revenue       int64\n",
              "Profits       int64\n",
              "Employees     int64\n",
              "dtype: object"
            ]
          },
          "metadata": {
            "tags": []
          },
          "execution_count": 29
        }
      ]
    },
    {
      "cell_type": "code",
      "metadata": {
        "colab": {
          "base_uri": "https://localhost:8080/",
          "height": 1000
        },
        "id": "pfC5ubLNc-LW",
        "outputId": "80d16824-6c6f-4263-cd46-6347eb71d6a7"
      },
      "source": [
        "# step 1: creating a new column based on conditions\n",
        "df = df_fortune\n",
        "df[\"company_size\"] = np.where(\n",
        "    df[\"Employees\"]>100000,\"big\"                      # condition 1\n",
        "    ,np.where(df[\"Employees\"]>10000,\"medium\",\"small\"  # condition 2\n",
        "  )\n",
        ")\n",
        "\n",
        "# step 2: parsing the new variable into the groupby\n",
        "df.groupby([\"Sector\",\"company_size\"]).agg(\n",
        "    {\"Profits\":\"median\"}\n",
        ")"
      ],
      "execution_count": null,
      "outputs": [
        {
          "output_type": "execute_result",
          "data": {
            "text/html": [
              "<div>\n",
              "<style scoped>\n",
              "    .dataframe tbody tr th:only-of-type {\n",
              "        vertical-align: middle;\n",
              "    }\n",
              "\n",
              "    .dataframe tbody tr th {\n",
              "        vertical-align: top;\n",
              "    }\n",
              "\n",
              "    .dataframe thead th {\n",
              "        text-align: right;\n",
              "    }\n",
              "</style>\n",
              "<table border=\"1\" class=\"dataframe\">\n",
              "  <thead>\n",
              "    <tr style=\"text-align: right;\">\n",
              "      <th></th>\n",
              "      <th></th>\n",
              "      <th>Profits</th>\n",
              "    </tr>\n",
              "    <tr>\n",
              "      <th>Sector</th>\n",
              "      <th>company_size</th>\n",
              "      <th></th>\n",
              "    </tr>\n",
              "  </thead>\n",
              "  <tbody>\n",
              "    <tr>\n",
              "      <th rowspan=\"3\" valign=\"top\">Aerospace &amp; Defense</th>\n",
              "      <th>big</th>\n",
              "      <td>5176.0</td>\n",
              "    </tr>\n",
              "    <tr>\n",
              "      <th>medium</th>\n",
              "      <td>545.0</td>\n",
              "    </tr>\n",
              "    <tr>\n",
              "      <th>small</th>\n",
              "      <td>182.0</td>\n",
              "    </tr>\n",
              "    <tr>\n",
              "      <th rowspan=\"2\" valign=\"top\">Apparel</th>\n",
              "      <th>medium</th>\n",
              "      <td>415.5</td>\n",
              "    </tr>\n",
              "    <tr>\n",
              "      <th>small</th>\n",
              "      <td>174.0</td>\n",
              "    </tr>\n",
              "    <tr>\n",
              "      <th rowspan=\"3\" valign=\"top\">Business Services</th>\n",
              "      <th>big</th>\n",
              "      <td>169.0</td>\n",
              "    </tr>\n",
              "    <tr>\n",
              "      <th>medium</th>\n",
              "      <td>419.0</td>\n",
              "    </tr>\n",
              "    <tr>\n",
              "      <th>small</th>\n",
              "      <td>148.0</td>\n",
              "    </tr>\n",
              "    <tr>\n",
              "      <th rowspan=\"2\" valign=\"top\">Chemicals</th>\n",
              "      <th>medium</th>\n",
              "      <td>1166.0</td>\n",
              "    </tr>\n",
              "    <tr>\n",
              "      <th>small</th>\n",
              "      <td>144.5</td>\n",
              "    </tr>\n",
              "    <tr>\n",
              "      <th rowspan=\"2\" valign=\"top\">Energy</th>\n",
              "      <th>medium</th>\n",
              "      <td>874.0</td>\n",
              "    </tr>\n",
              "    <tr>\n",
              "      <th>small</th>\n",
              "      <td>118.0</td>\n",
              "    </tr>\n",
              "    <tr>\n",
              "      <th rowspan=\"2\" valign=\"top\">Engineering &amp; Construction</th>\n",
              "      <th>medium</th>\n",
              "      <td>128.0</td>\n",
              "    </tr>\n",
              "    <tr>\n",
              "      <th>small</th>\n",
              "      <td>167.5</td>\n",
              "    </tr>\n",
              "    <tr>\n",
              "      <th rowspan=\"3\" valign=\"top\">Financials</th>\n",
              "      <th>big</th>\n",
              "      <td>22894.0</td>\n",
              "    </tr>\n",
              "    <tr>\n",
              "      <th>medium</th>\n",
              "      <td>1224.0</td>\n",
              "    </tr>\n",
              "    <tr>\n",
              "      <th>small</th>\n",
              "      <td>473.0</td>\n",
              "    </tr>\n",
              "    <tr>\n",
              "      <th rowspan=\"3\" valign=\"top\">Food and Drug Stores</th>\n",
              "      <th>big</th>\n",
              "      <td>3129.5</td>\n",
              "    </tr>\n",
              "    <tr>\n",
              "      <th>medium</th>\n",
              "      <td>160.5</td>\n",
              "    </tr>\n",
              "    <tr>\n",
              "      <th>small</th>\n",
              "      <td>26.0</td>\n",
              "    </tr>\n",
              "    <tr>\n",
              "      <th rowspan=\"3\" valign=\"top\">Food, Beverages &amp; Tobacco</th>\n",
              "      <th>big</th>\n",
              "      <td>5452.0</td>\n",
              "    </tr>\n",
              "    <tr>\n",
              "      <th>medium</th>\n",
              "      <td>554.5</td>\n",
              "    </tr>\n",
              "    <tr>\n",
              "      <th>small</th>\n",
              "      <td>260.5</td>\n",
              "    </tr>\n",
              "    <tr>\n",
              "      <th rowspan=\"3\" valign=\"top\">Health Care</th>\n",
              "      <th>big</th>\n",
              "      <td>2129.0</td>\n",
              "    </tr>\n",
              "    <tr>\n",
              "      <th>medium</th>\n",
              "      <td>427.0</td>\n",
              "    </tr>\n",
              "    <tr>\n",
              "      <th>small</th>\n",
              "      <td>204.5</td>\n",
              "    </tr>\n",
              "    <tr>\n",
              "      <th rowspan=\"3\" valign=\"top\">Hotels, Resturants &amp; Leisure</th>\n",
              "      <th>big</th>\n",
              "      <td>1293.0</td>\n",
              "    </tr>\n",
              "    <tr>\n",
              "      <th>medium</th>\n",
              "      <td>161.0</td>\n",
              "    </tr>\n",
              "    <tr>\n",
              "      <th>small</th>\n",
              "      <td>-1394.0</td>\n",
              "    </tr>\n",
              "    <tr>\n",
              "      <th rowspan=\"3\" valign=\"top\">Household Products</th>\n",
              "      <th>big</th>\n",
              "      <td>7036.0</td>\n",
              "    </tr>\n",
              "    <tr>\n",
              "      <th>medium</th>\n",
              "      <td>325.0</td>\n",
              "    </tr>\n",
              "    <tr>\n",
              "      <th>small</th>\n",
              "      <td>89.0</td>\n",
              "    </tr>\n",
              "    <tr>\n",
              "      <th rowspan=\"3\" valign=\"top\">Industrials</th>\n",
              "      <th>big</th>\n",
              "      <td>2406.0</td>\n",
              "    </tr>\n",
              "    <tr>\n",
              "      <th>medium</th>\n",
              "      <td>272.5</td>\n",
              "    </tr>\n",
              "    <tr>\n",
              "      <th>small</th>\n",
              "      <td>108.0</td>\n",
              "    </tr>\n",
              "    <tr>\n",
              "      <th rowspan=\"2\" valign=\"top\">Materials</th>\n",
              "      <th>medium</th>\n",
              "      <td>274.0</td>\n",
              "    </tr>\n",
              "    <tr>\n",
              "      <th>small</th>\n",
              "      <td>54.0</td>\n",
              "    </tr>\n",
              "    <tr>\n",
              "      <th rowspan=\"3\" valign=\"top\">Media</th>\n",
              "      <th>big</th>\n",
              "      <td>8382.0</td>\n",
              "    </tr>\n",
              "    <tr>\n",
              "      <th>medium</th>\n",
              "      <td>151.0</td>\n",
              "    </tr>\n",
              "    <tr>\n",
              "      <th>small</th>\n",
              "      <td>64.0</td>\n",
              "    </tr>\n",
              "    <tr>\n",
              "      <th rowspan=\"3\" valign=\"top\">Motor Vehicles &amp; Parts</th>\n",
              "      <th>big</th>\n",
              "      <td>4468.0</td>\n",
              "    </tr>\n",
              "    <tr>\n",
              "      <th>medium</th>\n",
              "      <td>236.0</td>\n",
              "    </tr>\n",
              "    <tr>\n",
              "      <th>small</th>\n",
              "      <td>182.0</td>\n",
              "    </tr>\n",
              "    <tr>\n",
              "      <th rowspan=\"3\" valign=\"top\">Retailing</th>\n",
              "      <th>big</th>\n",
              "      <td>1165.0</td>\n",
              "    </tr>\n",
              "    <tr>\n",
              "      <th>medium</th>\n",
              "      <td>221.5</td>\n",
              "    </tr>\n",
              "    <tr>\n",
              "      <th>small</th>\n",
              "      <td>86.0</td>\n",
              "    </tr>\n",
              "    <tr>\n",
              "      <th rowspan=\"3\" valign=\"top\">Technology</th>\n",
              "      <th>big</th>\n",
              "      <td>7246.0</td>\n",
              "    </tr>\n",
              "    <tr>\n",
              "      <th>medium</th>\n",
              "      <td>401.0</td>\n",
              "    </tr>\n",
              "    <tr>\n",
              "      <th>small</th>\n",
              "      <td>321.0</td>\n",
              "    </tr>\n",
              "    <tr>\n",
              "      <th rowspan=\"3\" valign=\"top\">Telecommunications</th>\n",
              "      <th>big</th>\n",
              "      <td>13345.0</td>\n",
              "    </tr>\n",
              "    <tr>\n",
              "      <th>medium</th>\n",
              "      <td>219.0</td>\n",
              "    </tr>\n",
              "    <tr>\n",
              "      <th>small</th>\n",
              "      <td>685.0</td>\n",
              "    </tr>\n",
              "    <tr>\n",
              "      <th rowspan=\"3\" valign=\"top\">Transportation</th>\n",
              "      <th>big</th>\n",
              "      <td>4844.0</td>\n",
              "    </tr>\n",
              "    <tr>\n",
              "      <th>medium</th>\n",
              "      <td>427.0</td>\n",
              "    </tr>\n",
              "    <tr>\n",
              "      <th>small</th>\n",
              "      <td>226.0</td>\n",
              "    </tr>\n",
              "    <tr>\n",
              "      <th rowspan=\"2\" valign=\"top\">Wholesalers</th>\n",
              "      <th>medium</th>\n",
              "      <td>395.5</td>\n",
              "    </tr>\n",
              "    <tr>\n",
              "      <th>small</th>\n",
              "      <td>70.5</td>\n",
              "    </tr>\n",
              "  </tbody>\n",
              "</table>\n",
              "</div>"
            ],
            "text/plain": [
              "                                           Profits\n",
              "Sector                       company_size         \n",
              "Aerospace & Defense          big            5176.0\n",
              "                             medium          545.0\n",
              "                             small           182.0\n",
              "Apparel                      medium          415.5\n",
              "                             small           174.0\n",
              "Business Services            big             169.0\n",
              "                             medium          419.0\n",
              "                             small           148.0\n",
              "Chemicals                    medium         1166.0\n",
              "                             small           144.5\n",
              "Energy                       medium          874.0\n",
              "                             small           118.0\n",
              "Engineering & Construction   medium          128.0\n",
              "                             small           167.5\n",
              "Financials                   big           22894.0\n",
              "                             medium         1224.0\n",
              "                             small           473.0\n",
              "Food and Drug Stores         big            3129.5\n",
              "                             medium          160.5\n",
              "                             small            26.0\n",
              "Food, Beverages & Tobacco    big            5452.0\n",
              "                             medium          554.5\n",
              "                             small           260.5\n",
              "Health Care                  big            2129.0\n",
              "                             medium          427.0\n",
              "                             small           204.5\n",
              "Hotels, Resturants & Leisure big            1293.0\n",
              "                             medium          161.0\n",
              "                             small         -1394.0\n",
              "Household Products           big            7036.0\n",
              "                             medium          325.0\n",
              "                             small            89.0\n",
              "Industrials                  big            2406.0\n",
              "                             medium          272.5\n",
              "                             small           108.0\n",
              "Materials                    medium          274.0\n",
              "                             small            54.0\n",
              "Media                        big            8382.0\n",
              "                             medium          151.0\n",
              "                             small            64.0\n",
              "Motor Vehicles & Parts       big            4468.0\n",
              "                             medium          236.0\n",
              "                             small           182.0\n",
              "Retailing                    big            1165.0\n",
              "                             medium          221.5\n",
              "                             small            86.0\n",
              "Technology                   big            7246.0\n",
              "                             medium          401.0\n",
              "                             small           321.0\n",
              "Telecommunications           big           13345.0\n",
              "                             medium          219.0\n",
              "                             small           685.0\n",
              "Transportation               big            4844.0\n",
              "                             medium          427.0\n",
              "                             small           226.0\n",
              "Wholesalers                  medium          395.5\n",
              "                             small            70.5"
            ]
          },
          "metadata": {
            "tags": []
          },
          "execution_count": 42
        }
      ]
    }
  ]
}