{
  "nbformat": 4,
  "nbformat_minor": 0,
  "metadata": {
    "colab": {
      "name": "Repsol_Python_N4.ipynb",
      "provenance": [],
      "collapsed_sections": [],
      "toc_visible": true,
      "authorship_tag": "ABX9TyN+M7h4rbRCSX2OIjwfPbAb",
      "include_colab_link": true
    },
    "kernelspec": {
      "name": "python3",
      "display_name": "Python 3"
    }
  },
  "cells": [
    {
      "cell_type": "markdown",
      "metadata": {
        "id": "view-in-github",
        "colab_type": "text"
      },
      "source": [
        "<a href=\"https://colab.research.google.com/github/jmartinbellido/Repsol_Python/blob/main/Repsol_Python_N4.ipynb\" target=\"_parent\"><img src=\"https://colab.research.google.com/assets/colab-badge.svg\" alt=\"Open In Colab\"/></a>"
      ]
    },
    {
      "cell_type": "markdown",
      "metadata": {
        "id": "Iq0dLzFr2tux"
      },
      "source": [
        "# ÍNDICE\n",
        "# **ISDI Repsol D4D/D4B**\n",
        "# Introducción a Python para Análisis de Datos\n",
        "## *Notebook 4: Exploratory Data Analysis (EDA)*\n",
        "\n",
        "### ÍNDICE\n",
        "1. EDA: SERIES TEMPORALES\n",
        "2. EDA: FRECUENCIA\n",
        "3. EDA: CORRELACIÓN\n",
        "4. EDA: DISTRIBUCIÓN\n",
        "5. EJERCICIOS\n",
        "\n",
        "### Profesor: Juan Martin Bellido\n",
        "* [linkedin.com/in/jmartinbellido](https://www.linkedin.com/in/jmartinbellido/)\n",
        "* jmbelldo@isdi.education\n",
        "\n",
        "---\n"
      ]
    },
    {
      "cell_type": "code",
      "metadata": {
        "id": "5eqClCOoPuPC",
        "colab": {
          "base_uri": "https://localhost:8080/"
        },
        "outputId": "6cfb1020-2889-42d1-f24f-2555f04b5ce7"
      },
      "source": [
        "# antes de empezar, cargamos librerías (instalamos en caso de ser necesario)\n",
        "import pandas as pd\n",
        "import matplotlib.pyplot as plt\n",
        "import seaborn as sn\n",
        "import scipy\n",
        "from matplotlib.pyplot import figure\n",
        "from scipy import stats\n",
        "from statsmodels.distributions.empirical_distribution import ECDF\n",
        "from pandas.plotting import scatter_matrix"
      ],
      "execution_count": 3,
      "outputs": [
        {
          "output_type": "stream",
          "text": [
            "/usr/local/lib/python3.7/dist-packages/statsmodels/tools/_testing.py:19: FutureWarning: pandas.util.testing is deprecated. Use the functions in the public API at pandas.testing instead.\n",
            "  import pandas.util.testing as tm\n"
          ],
          "name": "stderr"
        }
      ]
    },
    {
      "cell_type": "code",
      "metadata": {
        "id": "Inm0i2sTXJQ3"
      },
      "source": [
        "# la siguiente opción permite desplegar gráficos en Jupyter Notebook\n",
        "%matplotlib inline"
      ],
      "execution_count": null,
      "outputs": []
    },
    {
      "cell_type": "markdown",
      "metadata": {
        "id": "B85Zw2gnCqsp"
      },
      "source": [
        "# EDA: SERIES TEMPORALES\n",
        "En una serie temporal, buscamos analizar la evolución de una variable numérica a lo largo del tiempo.\n",
        "\n",
        "\n"
      ]
    },
    {
      "cell_type": "code",
      "metadata": {
        "colab": {
          "base_uri": "https://localhost:8080/"
        },
        "id": "pK8M9x037smy",
        "outputId": "1f529f44-b421-4bcc-e3ec-25d8d7cf8e1d"
      },
      "source": [
        "# Importamos df\n",
        "df_jamesbond = pd.read_csv(\"https://data-wizards.s3.amazonaws.com/datasets/jamesbond.csv\",index_col=\"Film\")\n",
        "df_jamesbond.dtypes"
      ],
      "execution_count": 4,
      "outputs": [
        {
          "output_type": "execute_result",
          "data": {
            "text/plain": [
              "Year                   int64\n",
              "Actor                 object\n",
              "Director              object\n",
              "Box Office           float64\n",
              "Budget               float64\n",
              "Bond Actor Salary    float64\n",
              "dtype: object"
            ]
          },
          "metadata": {
            "tags": []
          },
          "execution_count": 4
        }
      ]
    },
    {
      "cell_type": "code",
      "metadata": {
        "id": "B5F4-SRDwaMQ",
        "colab": {
          "base_uri": "https://localhost:8080/",
          "height": 296
        },
        "outputId": "c5b35c5d-d274-4436-860a-f7b35f688fe7"
      },
      "source": [
        "# A continuación, graficamos dos variables numéricas a lo largo del tiempo\n",
        "# Versión 1\n",
        "df_jamesbond.set_index(\"Year\")[[\"Box Office\",\"Budget\"]].plot()"
      ],
      "execution_count": null,
      "outputs": [
        {
          "output_type": "execute_result",
          "data": {
            "text/plain": [
              "<matplotlib.axes._subplots.AxesSubplot at 0x7f80f52cc050>"
            ]
          },
          "metadata": {
            "tags": []
          },
          "execution_count": 4
        },
        {
          "output_type": "display_data",
          "data": {
            "image/png": "[encoded data removed]",
            "text/plain": [
              "<Figure size 432x288 with 1 Axes>"
            ]
          },
          "metadata": {
            "tags": [],
            "needs_background": "light"
          }
        }
      ]
    },
    {
      "cell_type": "code",
      "metadata": {
        "colab": {
          "base_uri": "https://localhost:8080/",
          "height": 279
        },
        "id": "pn-vSHK5ZhON",
        "outputId": "886daaf4-c875-4dc1-a310-bb29d6ea3390"
      },
      "source": [
        "# Exportamos gráfico\n",
        "plot = df_jamesbond.set_index(\"Year\")[[\"Box Office\",\"Budget\"]].plot()\n",
        "plot.get_figure().savefig('my_chart.png')"
      ],
      "execution_count": 7,
      "outputs": [
        {
          "output_type": "display_data",
          "data": {
            "image/png": "[encoded data removed]",
            "text/plain": [
              "<Figure size 432x288 with 1 Axes>"
            ]
          },
          "metadata": {
            "tags": [],
            "needs_background": "light"
          }
        }
      ]
    },
    {
      "cell_type": "code",
      "metadata": {
        "colab": {
          "base_uri": "https://localhost:8080/",
          "height": 296
        },
        "id": "tfxpxbDq8r6M",
        "outputId": "9b92db79-8ed6-456f-88d2-246002b14539"
      },
      "source": [
        "# Versión 2\n",
        "df_jamesbond.plot(\n",
        "    kind='line'                 # especificamos el tipo de gráfico\n",
        "    ,x='Year'                   # eje X\n",
        "    ,y=[\"Box Office\",\"Budget\"]  # eje Y\n",
        ")"
      ],
      "execution_count": null,
      "outputs": [
        {
          "output_type": "execute_result",
          "data": {
            "text/plain": [
              "<matplotlib.axes._subplots.AxesSubplot at 0x7f80efb620d0>"
            ]
          },
          "metadata": {
            "tags": []
          },
          "execution_count": 9
        },
        {
          "output_type": "display_data",
          "data": {
            "image/png": "[encoded data removed]",
            "text/plain": [
              "<Figure size 432x288 with 1 Axes>"
            ]
          },
          "metadata": {
            "tags": [],
            "needs_background": "light"
          }
        }
      ]
    },
    {
      "cell_type": "code",
      "metadata": {
        "colab": {
          "base_uri": "https://localhost:8080/",
          "height": 405
        },
        "id": "jCzY_An37mgX",
        "outputId": "9771ac24-7dde-401e-f017-15f3f990d2c1"
      },
      "source": [
        "# Versión 3\n",
        "df_jamesbond.plot(\n",
        "    kind='line'\n",
        "    ,x='Year'\n",
        "    ,y=[\"Box Office\",\"Budget\"]\n",
        "    ,figsize=(10,5)                           # modificamos tamaño\n",
        "    ,title='Box Office and Budget Evolution'  # agregamos título\n",
        "    ,subplots=True                            # separamos variables en gráficos independientes\n",
        "    ,layout=(2,1)                             # decidimos cómo orientar nuestros subplots\n",
        ")"
      ],
      "execution_count": null,
      "outputs": [
        {
          "output_type": "execute_result",
          "data": {
            "text/plain": [
              "array([[<matplotlib.axes._subplots.AxesSubplot object at 0x7f80ef99fed0>],\n",
              "       [<matplotlib.axes._subplots.AxesSubplot object at 0x7f80ef9cd310>]],\n",
              "      dtype=object)"
            ]
          },
          "metadata": {
            "tags": []
          },
          "execution_count": 12
        },
        {
          "output_type": "display_data",
          "data": {
            "image/png": "[encoded data removed]",
            "text/plain": [
              "<Figure size 720x360 with 2 Axes>"
            ]
          },
          "metadata": {
            "tags": [],
            "needs_background": "light"
          }
        }
      ]
    },
    {
      "cell_type": "markdown",
      "metadata": {
        "id": "oG56cZr6Cl7r"
      },
      "source": [
        "# EDA: FRECUENCIA\n",
        "Al explorar frecuencia, buscamos entender la cantidad de veces que se repite cada valor en una variable categórica.\n",
        "\n",
        "Funciones nuevas que introducimos en esta sección:\n",
        "\n",
        "```\n",
        "describe()\n",
        "```\n",
        "> *Al aplicar describe() a una variable categórica podemos obtener información básica sobre la cantidad de observaciones, valores únicos y frecuencia mayor*\n",
        "\n",
        "```\n",
        "value_counts(normalize=False)\n",
        "```\n",
        "> *Este método permite obtener la frecuencia para cada valor único en una variable categórica. Por defecto, devuelve la frecuencia en valor absoluto; al editar el parámetro \"normalize\" permite obtener la frecuencia relativa*\n",
        "\n",
        "```\n",
        "plot(kind='bar'/'barh')\n",
        "```\n",
        "> *Este método permite realizar gráficos simples de distinto tipo. En esta sección editaremos el parámetro \"kind\" para construir gráficos de barra*\n",
        "\n",
        "\n",
        "\n"
      ]
    },
    {
      "cell_type": "code",
      "metadata": {
        "id": "xDXEQy-PnVYn"
      },
      "source": [
        "# Importamos df\n",
        "df_jamesbond = pd.read_csv(\"https://data-wizards.s3.amazonaws.com/datasets/jamesbond.csv\",index_col=\"Film\")"
      ],
      "execution_count": null,
      "outputs": []
    },
    {
      "cell_type": "code",
      "metadata": {
        "colab": {
          "base_uri": "https://localhost:8080/"
        },
        "id": "cufsPHjmYrtO",
        "outputId": "4cdf3295-827e-48a6-d37b-add0c3827474"
      },
      "source": [
        "# Generamos información básica sobre una variable categórica\n",
        "df_jamesbond[\"Director\"].describe()"
      ],
      "execution_count": null,
      "outputs": [
        {
          "output_type": "execute_result",
          "data": {
            "text/plain": [
              "count            26\n",
              "unique           13\n",
              "top       John Glen\n",
              "freq              5\n",
              "Name: Director, dtype: object"
            ]
          },
          "metadata": {
            "tags": []
          },
          "execution_count": 11
        }
      ]
    },
    {
      "cell_type": "code",
      "metadata": {
        "colab": {
          "base_uri": "https://localhost:8080/"
        },
        "id": "0BfUTwsmD2Oc",
        "outputId": "708b30b0-02ed-4ade-a6f0-bc5934624f63"
      },
      "source": [
        "# Obtenemos la frecuencia en valor absoluto\n",
        "df_jamesbond[\"Director\"].value_counts()"
      ],
      "execution_count": null,
      "outputs": [
        {
          "output_type": "execute_result",
          "data": {
            "text/plain": [
              "John Glen             5\n",
              "Guy Hamilton          4\n",
              "Lewis Gilbert         3\n",
              "Terence Young         3\n",
              "Sam Mendes            2\n",
              "Martin Campbell       2\n",
              "Ken Hughes            1\n",
              "Peter R. Hunt         1\n",
              "Marc Forster          1\n",
              "Irvin Kershner        1\n",
              "Michael Apted         1\n",
              "Lee Tamahori          1\n",
              "Roger Spottiswoode    1\n",
              "Name: Director, dtype: int64"
            ]
          },
          "metadata": {
            "tags": []
          },
          "execution_count": 10
        }
      ]
    },
    {
      "cell_type": "code",
      "metadata": {
        "id": "cJcz1uovoEK0",
        "colab": {
          "base_uri": "https://localhost:8080/"
        },
        "outputId": "284c3d8e-01ef-4895-ae5e-758cc5d271e3"
      },
      "source": [
        "# El parámetro normalize nos permite crear una tabla con la frecuencia relativa\n",
        "df_jamesbond[\"Director\"].value_counts(normalize=True)"
      ],
      "execution_count": null,
      "outputs": [
        {
          "output_type": "execute_result",
          "data": {
            "text/plain": [
              "John Glen             0.192308\n",
              "Guy Hamilton          0.153846\n",
              "Lewis Gilbert         0.115385\n",
              "Terence Young         0.115385\n",
              "Sam Mendes            0.076923\n",
              "Martin Campbell       0.076923\n",
              "Ken Hughes            0.038462\n",
              "Peter R. Hunt         0.038462\n",
              "Marc Forster          0.038462\n",
              "Irvin Kershner        0.038462\n",
              "Michael Apted         0.038462\n",
              "Lee Tamahori          0.038462\n",
              "Roger Spottiswoode    0.038462\n",
              "Name: Director, dtype: float64"
            ]
          },
          "metadata": {
            "tags": []
          },
          "execution_count": 12
        }
      ]
    },
    {
      "cell_type": "code",
      "metadata": {
        "colab": {
          "base_uri": "https://localhost:8080/"
        },
        "id": "1YIH--ZMMBfm",
        "outputId": "ff1ac5b7-c2e5-4e2c-8017-fcf95c6a7d4e"
      },
      "source": [
        "# Podemos obtener la frecuancia para combinaciones de más de una variable categórica\n",
        "df_jamesbond[[\"Director\",\"Actor\"]].value_counts()"
      ],
      "execution_count": null,
      "outputs": [
        {
          "output_type": "execute_result",
          "data": {
            "text/plain": [
              "Director            Actor         \n",
              "Terence Young       Sean Connery      3\n",
              "John Glen           Roger Moore       3\n",
              "Sam Mendes          Daniel Craig      2\n",
              "Guy Hamilton        Sean Connery      2\n",
              "John Glen           Timothy Dalton    2\n",
              "Lewis Gilbert       Roger Moore       2\n",
              "Guy Hamilton        Roger Moore       2\n",
              "Marc Forster        Daniel Craig      1\n",
              "Martin Campbell     Daniel Craig      1\n",
              "                    Pierce Brosnan    1\n",
              "Lee Tamahori        Pierce Brosnan    1\n",
              "Ken Hughes          David Niven       1\n",
              "Michael Apted       Pierce Brosnan    1\n",
              "Peter R. Hunt       George Lazenby    1\n",
              "Irvin Kershner      Sean Connery      1\n",
              "Roger Spottiswoode  Pierce Brosnan    1\n",
              "Lewis Gilbert       Sean Connery      1\n",
              "dtype: int64"
            ]
          },
          "metadata": {
            "tags": []
          },
          "execution_count": 36
        }
      ]
    },
    {
      "cell_type": "code",
      "metadata": {
        "colab": {
          "base_uri": "https://localhost:8080/",
          "height": 424
        },
        "id": "vS3L5cz3-wyB",
        "outputId": "f4b8b707-2a8d-4f9a-e57d-b2d9998c72ec"
      },
      "source": [
        "# A continuación, utilizaremos un gráfico de barra (vertical) para visualizar la frecuencia\n",
        "df_jamesbond[\"Actor\"].value_counts().plot(\n",
        "    kind = 'bar'\n",
        "    ,x='Actor'\n",
        "    ,figsize=(10,5)                           \n",
        "    ,title='Box Office and Budget Evolution'  \n",
        "    ,color='orange'                           # cambiamos color  \n",
        "    )"
      ],
      "execution_count": null,
      "outputs": [
        {
          "output_type": "execute_result",
          "data": {
            "text/plain": [
              "<matplotlib.axes._subplots.AxesSubplot at 0x7f80ef894290>"
            ]
          },
          "metadata": {
            "tags": []
          },
          "execution_count": 19
        },
        {
          "output_type": "display_data",
          "data": {
            "image/png": "[encoded data removed]",
            "text/plain": [
              "<Figure size 720x360 with 1 Axes>"
            ]
          },
          "metadata": {
            "tags": [],
            "needs_background": "light"
          }
        }
      ]
    },
    {
      "cell_type": "code",
      "metadata": {
        "colab": {
          "base_uri": "https://localhost:8080/",
          "height": 353
        },
        "id": "u6_99WF-_ZR8",
        "outputId": "9989b94d-f7e8-4ab0-adb5-03d58a763920"
      },
      "source": [
        "# A continuación, utilizaremos un gráfico de barra (vertical) para visualizar la frecuencia\n",
        "df_jamesbond[\"Actor\"].value_counts().sort_values().plot(\n",
        "    kind = 'barh'\n",
        "    ,x='Actor'\n",
        "    ,figsize=(10,5)                           \n",
        "    ,title='Box Office and Budget Evolution'  \n",
        "    ,color='orange'                            \n",
        "    )"
      ],
      "execution_count": null,
      "outputs": [
        {
          "output_type": "execute_result",
          "data": {
            "text/plain": [
              "<matplotlib.axes._subplots.AxesSubplot at 0x7f80ef512c10>"
            ]
          },
          "metadata": {
            "tags": []
          },
          "execution_count": 23
        },
        {
          "output_type": "display_data",
          "data": {
            "image/png": "[encoded data removed]",
            "text/plain": [
              "<Figure size 720x360 with 1 Axes>"
            ]
          },
          "metadata": {
            "tags": [],
            "needs_background": "light"
          }
        }
      ]
    },
    {
      "cell_type": "markdown",
      "metadata": {
        "id": "mSkeaIDvCqnN"
      },
      "source": [
        "# EDA: CORRELACIÓN\n",
        "Al explorar correlación, buscamos medir el grado de asociación y dirección entre dos variable continuas.\n",
        "\n",
        "*Funciones nuevas que introducimos en esta sección:*\n",
        "\n",
        "```\n",
        "scipy.stats.pearsonr(x,y)\n",
        "```\n",
        "> *Esta función permite obtener la correlación (Pearson) entre dos variables continuas; también proporciona el p-value para la prueba de hipótesis de que no existe correlación entre las variables (H0: r=0%)*\n",
        "\n",
        "```\n",
        "corr()\n",
        "```\n",
        "> *Este método permite construir una matrix de correlación*\n",
        "\n",
        "```\n",
        "plot(x,y,kind=\"scatter\")\n",
        "```\n",
        "> *En esta sección, utilizaremos el método plot para visualizar gráficos de dispersión*\n",
        "\n",
        "```\n",
        "sn.heatmap(object, annot=True)\n",
        "```\n",
        "> *Este método permite visualizar gráficos de tipo \"heatmap\"*; el parámetro \"annot\" permite añadir anotaciones al gráfico\n"
      ]
    },
    {
      "cell_type": "code",
      "metadata": {
        "id": "9KHshy0WqlZc"
      },
      "source": [
        "# Importamos df\n",
        "df_jamesbond = pd.read_csv(\"https://data-wizards.s3.amazonaws.com/datasets/jamesbond.csv\",index_col=\"Film\")"
      ],
      "execution_count": null,
      "outputs": []
    },
    {
      "cell_type": "code",
      "metadata": {
        "colab": {
          "base_uri": "https://localhost:8080/"
        },
        "id": "M7P1xJ2pSHdp",
        "outputId": "e368c1f6-ee5f-4f9f-eae8-6dd04e4eedd6"
      },
      "source": [
        "# Obtenemos la correlación entre dos variables continuas en nuestro DataFrame\n",
        "## el tipo de correlación utilizada es pearson's\n",
        "scipy.stats.pearsonr(df_jamesbond[\"Box Office\"],df_jamesbond[\"Budget\"])\n",
        "# Nota: el grado de correlación entre las variables seleccionadas es positivo y bajo (28%)"
      ],
      "execution_count": null,
      "outputs": [
        {
          "output_type": "execute_result",
          "data": {
            "text/plain": [
              "(0.28318466575203255, 0.1609638785608065)"
            ]
          },
          "metadata": {
            "tags": []
          },
          "execution_count": 17
        }
      ]
    },
    {
      "cell_type": "code",
      "metadata": {
        "colab": {
          "base_uri": "https://localhost:8080/",
          "height": 142
        },
        "id": "W9ZJI-asRbYc",
        "outputId": "2a9e33a3-9bbf-4ed9-ad74-68b72de8d60d"
      },
      "source": [
        "# A continuación, construiremos una matrix de correlación para evaluar la correlación entre todas las variables continuas\n",
        "df_jamesbond[[\"Box Office\",\"Budget\",\"Bond Actor Salary\"]].corr()\n",
        "## las variables con mayor grado de correlación son \"Budget\" y \"Bond Actor Salary\""
      ],
      "execution_count": null,
      "outputs": [
        {
          "output_type": "execute_result",
          "data": {
            "text/html": [
              "<div>\n",
              "<style scoped>\n",
              "    .dataframe tbody tr th:only-of-type {\n",
              "        vertical-align: middle;\n",
              "    }\n",
              "\n",
              "    .dataframe tbody tr th {\n",
              "        vertical-align: top;\n",
              "    }\n",
              "\n",
              "    .dataframe thead th {\n",
              "        text-align: right;\n",
              "    }\n",
              "</style>\n",
              "<table border=\"1\" class=\"dataframe\">\n",
              "  <thead>\n",
              "    <tr style=\"text-align: right;\">\n",
              "      <th></th>\n",
              "      <th>Box Office</th>\n",
              "      <th>Budget</th>\n",
              "      <th>Bond Actor Salary</th>\n",
              "    </tr>\n",
              "  </thead>\n",
              "  <tbody>\n",
              "    <tr>\n",
              "      <th>Box Office</th>\n",
              "      <td>1.000000</td>\n",
              "      <td>0.283185</td>\n",
              "      <td>0.069542</td>\n",
              "    </tr>\n",
              "    <tr>\n",
              "      <th>Budget</th>\n",
              "      <td>0.283185</td>\n",
              "      <td>1.000000</td>\n",
              "      <td>0.728390</td>\n",
              "    </tr>\n",
              "    <tr>\n",
              "      <th>Bond Actor Salary</th>\n",
              "      <td>0.069542</td>\n",
              "      <td>0.728390</td>\n",
              "      <td>1.000000</td>\n",
              "    </tr>\n",
              "  </tbody>\n",
              "</table>\n",
              "</div>"
            ],
            "text/plain": [
              "                   Box Office    Budget  Bond Actor Salary\n",
              "Box Office           1.000000  0.283185           0.069542\n",
              "Budget               0.283185  1.000000           0.728390\n",
              "Bond Actor Salary    0.069542  0.728390           1.000000"
            ]
          },
          "metadata": {
            "tags": []
          },
          "execution_count": 66
        }
      ]
    },
    {
      "cell_type": "code",
      "metadata": {
        "colab": {
          "base_uri": "https://localhost:8080/",
          "height": 367
        },
        "id": "_vKMN33uRCNk",
        "outputId": "10a682b0-4e2e-45d1-e49e-e58a21a62a26"
      },
      "source": [
        "# Utilizamos el método plot(), especificando dos variables numéricas para realizar un gráfico de dispersión\n",
        "df_jamesbond.plot(\n",
        "    kind=\"scatter\"               # especificamos dispersión\n",
        "    ,x=\"Budget\"\n",
        "    ,y=\"Bond Actor Salary\"\n",
        "    ,title='Association Budget vs. Bond Actor Salary'\n",
        "    ,figsize=(10,5) \n",
        ")"
      ],
      "execution_count": null,
      "outputs": [
        {
          "output_type": "execute_result",
          "data": {
            "text/plain": [
              "<matplotlib.axes._subplots.AxesSubplot at 0x7f80ef319810>"
            ]
          },
          "metadata": {
            "tags": []
          },
          "execution_count": 26
        },
        {
          "output_type": "display_data",
          "data": {
            "image/png": "[encoded data removed]",
            "text/plain": [
              "<Figure size 720x360 with 1 Axes>"
            ]
          },
          "metadata": {
            "tags": [],
            "needs_background": "light"
          }
        }
      ]
    },
    {
      "cell_type": "code",
      "metadata": {
        "colab": {
          "base_uri": "https://localhost:8080/",
          "height": 319
        },
        "id": "vEF45-ZBRHy4",
        "outputId": "e3755fd7-b344-4be4-ffa4-fa82d2dac80a"
      },
      "source": [
        "# la siguiente línea de código permite editar el tamaño de los gráficos propios de la librería seaborn (sn)\n",
        "sn.set(rc={'figure.figsize':(12,8)}) # cambiamos tamaño\n",
        "# Para visualizar una matriz de correlación, podemos utilizar un gráfico de tipo \"heatmap\"\n",
        "corrMatrix= df_jamesbond[[\"Box Office\",\"Budget\",\"Bond Actor Salary\"]].corr()\n",
        "sn.heatmap(corrMatrix, annot=True) # utilizamos la librearía seaborn para realizar un heatmap"
      ],
      "execution_count": null,
      "outputs": [
        {
          "output_type": "execute_result",
          "data": {
            "text/plain": [
              "<matplotlib.axes._subplots.AxesSubplot at 0x7fafa45aff10>"
            ]
          },
          "metadata": {
            "tags": []
          },
          "execution_count": 76
        },
        {
          "output_type": "display_data",
          "data": {
            "image/png": "[encoded data removed]",
            "text/plain": [
              "<Figure size 432x288 with 2 Axes>"
            ]
          },
          "metadata": {
            "tags": [],
            "needs_background": "light"
          }
        }
      ]
    },
    {
      "cell_type": "markdown",
      "metadata": {
        "id": "36Mm5XgoCqqA"
      },
      "source": [
        "# EDA: DISTRIBUCIÓN\n",
        "El estudiar distribución, buscamos entender cómo se encuentra dispersa una variable continua en el total de observaciones. \n",
        "\n",
        "*Funciones nuevas que introducimos en esta sección:*\n",
        "\n",
        "```\n",
        "describe(object,percentiles=[...])\n",
        "```\n",
        "> Este método permite obtener la distribución de todas las variables numéricas incluidas en un DataFrame. Por defecto, despliega la distribución en cuartiles, podemos editar esto utilizando el parámetro \"percentiles\"\n",
        "\n",
        "```\n",
        "plot(kind='hist')\n",
        "```\n",
        "> Podemos modificar el atributo *kind* dentro de *plot()* para graficar histogramas\n",
        "\n",
        "```\n",
        ".boxplot(by, column)\n",
        "```\n",
        "> Este método permite graficar boxplots\n",
        "\n"
      ]
    },
    {
      "cell_type": "code",
      "metadata": {
        "id": "mTZNAaopqjGd"
      },
      "source": [
        "# Importamos df\n",
        "df_jamesbond = pd.read_csv(\"https://data-wizards.s3.amazonaws.com/datasets/jamesbond.csv\",index_col=\"Film\")"
      ],
      "execution_count": null,
      "outputs": []
    },
    {
      "cell_type": "code",
      "metadata": {
        "id": "h6DE7b1moUNZ",
        "colab": {
          "base_uri": "https://localhost:8080/",
          "height": 297
        },
        "outputId": "1650a655-9287-4dd8-ee2a-9f02f3af4dc6"
      },
      "source": [
        "# Seleccionamos variables continuas y analizamos su distribución\n",
        "df_jamesbond[[\"Box Office\",\"Budget\",\"Bond Actor Salary\"]].describe()"
      ],
      "execution_count": null,
      "outputs": [
        {
          "output_type": "execute_result",
          "data": {
            "text/html": [
              "<div>\n",
              "<style scoped>\n",
              "    .dataframe tbody tr th:only-of-type {\n",
              "        vertical-align: middle;\n",
              "    }\n",
              "\n",
              "    .dataframe tbody tr th {\n",
              "        vertical-align: top;\n",
              "    }\n",
              "\n",
              "    .dataframe thead th {\n",
              "        text-align: right;\n",
              "    }\n",
              "</style>\n",
              "<table border=\"1\" class=\"dataframe\">\n",
              "  <thead>\n",
              "    <tr style=\"text-align: right;\">\n",
              "      <th></th>\n",
              "      <th>Box Office</th>\n",
              "      <th>Budget</th>\n",
              "      <th>Bond Actor Salary</th>\n",
              "    </tr>\n",
              "  </thead>\n",
              "  <tbody>\n",
              "    <tr>\n",
              "      <th>count</th>\n",
              "      <td>26.000000</td>\n",
              "      <td>26.000000</td>\n",
              "      <td>18.000000</td>\n",
              "    </tr>\n",
              "    <tr>\n",
              "      <th>mean</th>\n",
              "      <td>491.611538</td>\n",
              "      <td>80.719231</td>\n",
              "      <td>6.850000</td>\n",
              "    </tr>\n",
              "    <tr>\n",
              "      <th>std</th>\n",
              "      <td>176.740396</td>\n",
              "      <td>57.097608</td>\n",
              "      <td>4.805175</td>\n",
              "    </tr>\n",
              "    <tr>\n",
              "      <th>min</th>\n",
              "      <td>250.900000</td>\n",
              "      <td>7.000000</td>\n",
              "      <td>0.600000</td>\n",
              "    </tr>\n",
              "    <tr>\n",
              "      <th>25%</th>\n",
              "      <td>375.350000</td>\n",
              "      <td>38.450000</td>\n",
              "      <td>3.575000</td>\n",
              "    </tr>\n",
              "    <tr>\n",
              "      <th>50%</th>\n",
              "      <td>461.750000</td>\n",
              "      <td>60.050000</td>\n",
              "      <td>5.500000</td>\n",
              "    </tr>\n",
              "    <tr>\n",
              "      <th>75%</th>\n",
              "      <td>534.500000</td>\n",
              "      <td>123.300000</td>\n",
              "      <td>8.850000</td>\n",
              "    </tr>\n",
              "    <tr>\n",
              "      <th>max</th>\n",
              "      <td>943.500000</td>\n",
              "      <td>206.300000</td>\n",
              "      <td>17.900000</td>\n",
              "    </tr>\n",
              "  </tbody>\n",
              "</table>\n",
              "</div>"
            ],
            "text/plain": [
              "       Box Office      Budget  Bond Actor Salary\n",
              "count   26.000000   26.000000          18.000000\n",
              "mean   491.611538   80.719231           6.850000\n",
              "std    176.740396   57.097608           4.805175\n",
              "min    250.900000    7.000000           0.600000\n",
              "25%    375.350000   38.450000           3.575000\n",
              "50%    461.750000   60.050000           5.500000\n",
              "75%    534.500000  123.300000           8.850000\n",
              "max    943.500000  206.300000          17.900000"
            ]
          },
          "metadata": {
            "tags": []
          },
          "execution_count": 7
        }
      ]
    },
    {
      "cell_type": "code",
      "metadata": {
        "id": "_Bkyb0R1o8Xi",
        "colab": {
          "base_uri": "https://localhost:8080/",
          "height": 142
        },
        "outputId": "756297a7-c3d7-43a3-d756-082a3ccb1dcc"
      },
      "source": [
        "# A continuación, editamos la distribución para poder verla en deciles\n",
        "df_jamesbond[['Box Office','Budget','Bond Actor Salary']].describe(\n",
        "    percentiles=[0.1,0.2,0.3,0.4,0.5,0.6,0.7,0.8,0.9] # especificamos cómo queremos la distribución\n",
        "    ).T # pivotamos la tabla para pasar de una tabla larga a una ancha"
      ],
      "execution_count": null,
      "outputs": [
        {
          "output_type": "execute_result",
          "data": {
            "text/html": [
              "<div>\n",
              "<style scoped>\n",
              "    .dataframe tbody tr th:only-of-type {\n",
              "        vertical-align: middle;\n",
              "    }\n",
              "\n",
              "    .dataframe tbody tr th {\n",
              "        vertical-align: top;\n",
              "    }\n",
              "\n",
              "    .dataframe thead th {\n",
              "        text-align: right;\n",
              "    }\n",
              "</style>\n",
              "<table border=\"1\" class=\"dataframe\">\n",
              "  <thead>\n",
              "    <tr style=\"text-align: right;\">\n",
              "      <th></th>\n",
              "      <th>count</th>\n",
              "      <th>mean</th>\n",
              "      <th>std</th>\n",
              "      <th>min</th>\n",
              "      <th>10%</th>\n",
              "      <th>20%</th>\n",
              "      <th>30%</th>\n",
              "      <th>40%</th>\n",
              "      <th>50%</th>\n",
              "      <th>60%</th>\n",
              "      <th>70%</th>\n",
              "      <th>80%</th>\n",
              "      <th>90%</th>\n",
              "      <th>max</th>\n",
              "    </tr>\n",
              "  </thead>\n",
              "  <tbody>\n",
              "    <tr>\n",
              "      <th>Box Office</th>\n",
              "      <td>26.0</td>\n",
              "      <td>491.611538</td>\n",
              "      <td>176.740396</td>\n",
              "      <td>250.9</td>\n",
              "      <td>302.50</td>\n",
              "      <td>334.00</td>\n",
              "      <td>409.75</td>\n",
              "      <td>448.80</td>\n",
              "      <td>461.75</td>\n",
              "      <td>514.20</td>\n",
              "      <td>525.75</td>\n",
              "      <td>543.80</td>\n",
              "      <td>773.55</td>\n",
              "      <td>943.5</td>\n",
              "    </tr>\n",
              "    <tr>\n",
              "      <th>Budget</th>\n",
              "      <td>26.0</td>\n",
              "      <td>80.719231</td>\n",
              "      <td>57.097608</td>\n",
              "      <td>7.0</td>\n",
              "      <td>23.15</td>\n",
              "      <td>34.70</td>\n",
              "      <td>43.50</td>\n",
              "      <td>54.50</td>\n",
              "      <td>60.05</td>\n",
              "      <td>76.90</td>\n",
              "      <td>88.75</td>\n",
              "      <td>145.30</td>\n",
              "      <td>164.25</td>\n",
              "      <td>206.3</td>\n",
              "    </tr>\n",
              "    <tr>\n",
              "      <th>Bond Actor Salary</th>\n",
              "      <td>18.0</td>\n",
              "      <td>6.850000</td>\n",
              "      <td>4.805175</td>\n",
              "      <td>0.6</td>\n",
              "      <td>1.30</td>\n",
              "      <td>3.24</td>\n",
              "      <td>4.43</td>\n",
              "      <td>5.02</td>\n",
              "      <td>5.50</td>\n",
              "      <td>7.82</td>\n",
              "      <td>8.08</td>\n",
              "      <td>9.64</td>\n",
              "      <td>13.80</td>\n",
              "      <td>17.9</td>\n",
              "    </tr>\n",
              "  </tbody>\n",
              "</table>\n",
              "</div>"
            ],
            "text/plain": [
              "                   count        mean         std  ...     80%     90%    max\n",
              "Box Office          26.0  491.611538  176.740396  ...  543.80  773.55  943.5\n",
              "Budget              26.0   80.719231   57.097608  ...  145.30  164.25  206.3\n",
              "Bond Actor Salary   18.0    6.850000    4.805175  ...    9.64   13.80   17.9\n",
              "\n",
              "[3 rows x 14 columns]"
            ]
          },
          "metadata": {
            "tags": []
          },
          "execution_count": 8
        }
      ]
    },
    {
      "cell_type": "code",
      "metadata": {
        "colab": {
          "base_uri": "https://localhost:8080/",
          "height": 298
        },
        "id": "bXgXf-U3UAAh",
        "outputId": "8b811bf4-6cf3-461a-b941-24fd46b0b37d"
      },
      "source": [
        "# Seleccionamos una variable continua y graficamos un histograma\n",
        "df_jamesbond.plot(\n",
        "    kind='hist'\n",
        "    ,y='Bond Actor Salary'\n",
        "    ,bins=18\n",
        "    ,title='Histograma Salarios James Bond'\n",
        ")"
      ],
      "execution_count": null,
      "outputs": [
        {
          "output_type": "execute_result",
          "data": {
            "text/plain": [
              "<matplotlib.axes._subplots.AxesSubplot at 0x7fc61c898f90>"
            ]
          },
          "metadata": {
            "tags": []
          },
          "execution_count": 11
        },
        {
          "output_type": "display_data",
          "data": {
            "image/png": "[encoded data removed]",
            "text/plain": [
              "<Figure size 432x288 with 1 Axes>"
            ]
          },
          "metadata": {
            "tags": [],
            "needs_background": "light"
          }
        }
      ]
    },
    {
      "cell_type": "code",
      "metadata": {
        "colab": {
          "base_uri": "https://localhost:8080/",
          "height": 298
        },
        "id": "67U31HnBVPZq",
        "outputId": "30020a9a-f846-4f38-d39d-1f4be202f3da"
      },
      "source": [
        "# Seleccionamos una variable continua y graficamos un gráfico de densidad\n",
        "df_jamesbond.plot(\n",
        "    kind='density'\n",
        "    ,y='Bond Actor Salary'\n",
        "    ,title='Gráfico de Densidad Salarios James Bond'\n",
        ")"
      ],
      "execution_count": null,
      "outputs": [
        {
          "output_type": "execute_result",
          "data": {
            "text/plain": [
              "<matplotlib.axes._subplots.AxesSubplot at 0x7fc61c7be850>"
            ]
          },
          "metadata": {
            "tags": []
          },
          "execution_count": 15
        },
        {
          "output_type": "display_data",
          "data": {
            "image/png": "[encoded data removed]",
            "text/plain": [
              "<Figure size 432x288 with 1 Axes>"
            ]
          },
          "metadata": {
            "tags": [],
            "needs_background": "light"
          }
        }
      ]
    },
    {
      "cell_type": "code",
      "metadata": {
        "colab": {
          "base_uri": "https://localhost:8080/",
          "height": 282
        },
        "id": "B1IJ_Jh5Vzh4",
        "outputId": "230c7d90-676a-49ae-a413-feb9703446da"
      },
      "source": [
        "# Empirical Cumulative Distribution Function\n",
        "ecdf = ECDF(df_jamesbond[\"Budget\"]) \n",
        "plt.plot(ecdf.x,ecdf.y)"
      ],
      "execution_count": null,
      "outputs": [
        {
          "output_type": "execute_result",
          "data": {
            "text/plain": [
              "[<matplotlib.lines.Line2D at 0x7fc619c6c690>]"
            ]
          },
          "metadata": {
            "tags": []
          },
          "execution_count": 35
        },
        {
          "output_type": "display_data",
          "data": {
            "image/png": "[encoded data removed]",
            "text/plain": [
              "<Figure size 432x288 with 1 Axes>"
            ]
          },
          "metadata": {
            "tags": [],
            "needs_background": "light"
          }
        }
      ]
    },
    {
      "cell_type": "code",
      "metadata": {
        "colab": {
          "base_uri": "https://localhost:8080/",
          "height": 431
        },
        "id": "NpLn2UM-Wx9t",
        "outputId": "16475ae9-483c-4dc5-f9c1-412ce79ea822"
      },
      "source": [
        "# A continuación, graficamos un boxplot para visualizar la distribución por grupos de una variable categórica\n",
        "# Creamos una condición para seleccionar ciertos actores\n",
        "cond = df_jamesbond[\"Actor\"].isin(['Sean Connery','Daniel Craig','Roger Moore','Pierce Brosnan','Timothy Dalton'])\n",
        "# Graficamos un boxplot\n",
        "df_jamesbond[cond].boxplot(\n",
        "    by ='Actor'\n",
        "    ,column ='Bond Actor Salary'\n",
        "    ,grid = False\n",
        "    ,color = 'black'\n",
        "    ,figsize=(8,5)\n",
        ")"
      ],
      "execution_count": null,
      "outputs": [
        {
          "output_type": "stream",
          "text": [
            "/usr/local/lib/python3.7/dist-packages/numpy/core/_asarray.py:83: VisibleDeprecationWarning: Creating an ndarray from ragged nested sequences (which is a list-or-tuple of lists-or-tuples-or ndarrays with different lengths or shapes) is deprecated. If you meant to do this, you must specify 'dtype=object' when creating the ndarray\n",
            "  return array(a, dtype, copy=False, order=order)\n"
          ],
          "name": "stderr"
        },
        {
          "output_type": "execute_result",
          "data": {
            "text/plain": [
              "<matplotlib.axes._subplots.AxesSubplot at 0x7fc618eafc10>"
            ]
          },
          "metadata": {
            "tags": []
          },
          "execution_count": 62
        },
        {
          "output_type": "display_data",
          "data": {
            "image/png": "[encoded data removed]",
            "text/plain": [
              "<Figure size 576x360 with 1 Axes>"
            ]
          },
          "metadata": {
            "tags": [],
            "needs_background": "light"
          }
        }
      ]
    },
    {
      "cell_type": "markdown",
      "metadata": {
        "id": "I6oPxVqCBwGs"
      },
      "source": [
        "# EDA: MATRIZ DE DISPERSIÓN\n",
        "Una matriz de dispersión es una colección de gráficos organizada en forma de cuadrícula. Incluye gráficos de dispersión e histogramas y resulta particularmente útil para analizar rápidamente un conjunto de variables numéricas."
      ]
    },
    {
      "cell_type": "code",
      "metadata": {
        "id": "f7qgSrz1B5Jo"
      },
      "source": [
        "# Importamos df\n",
        "df_jamesbond = pd.read_csv(\"https://data-wizards.s3.amazonaws.com/datasets/jamesbond.csv\",index_col=\"Film\")"
      ],
      "execution_count": null,
      "outputs": []
    },
    {
      "cell_type": "code",
      "metadata": {
        "id": "olBZuHrlB5MY",
        "colab": {
          "base_uri": "https://localhost:8080/",
          "height": 670
        },
        "outputId": "be4a1e4d-f8e2-4e25-b8ec-cb4aa8e135cb"
      },
      "source": [
        "# Graficamos una matriz de dispersión para estudiar la distribución y el grado de asosciacón entre las variables numéricas\n",
        "scatter_matrix(df_jamesbond[['Box Office','Budget','Bond Actor Salary']],figsize=(8,8))"
      ],
      "execution_count": null,
      "outputs": [
        {
          "output_type": "execute_result",
          "data": {
            "text/plain": [
              "array([[<matplotlib.axes._subplots.AxesSubplot object at 0x7fa040b8f650>,\n",
              "        <matplotlib.axes._subplots.AxesSubplot object at 0x7fa040b3ce50>,\n",
              "        <matplotlib.axes._subplots.AxesSubplot object at 0x7fa040afb510>],\n",
              "       [<matplotlib.axes._subplots.AxesSubplot object at 0x7fa040ab7310>,\n",
              "        <matplotlib.axes._subplots.AxesSubplot object at 0x7fa040a6b890>,\n",
              "        <matplotlib.axes._subplots.AxesSubplot object at 0x7fa040a1fe10>],\n",
              "       [<matplotlib.axes._subplots.AxesSubplot object at 0x7fa04103af50>,\n",
              "        <matplotlib.axes._subplots.AxesSubplot object at 0x7fa040d64c90>,\n",
              "        <matplotlib.axes._subplots.AxesSubplot object at 0x7fa040d64c10>]],\n",
              "      dtype=object)"
            ]
          },
          "metadata": {
            "tags": []
          },
          "execution_count": 15
        },
        {
          "output_type": "display_data",
          "data": {
            "image/png": "[encoded data removed]",
            "text/plain": [
              "<Figure size 576x576 with 9 Axes>"
            ]
          },
          "metadata": {
            "tags": [],
            "needs_background": "light"
          }
        }
      ]
    },
    {
      "cell_type": "markdown",
      "metadata": {
        "id": "UJFehThgLUq1"
      },
      "source": [
        "# EJERCICIOS"
      ]
    },
    {
      "cell_type": "markdown",
      "metadata": {
        "id": "49gwgZFxFmSs"
      },
      "source": [
        "##### EX 1\n",
        "> Dataset https://data-wizards.s3.amazonaws.com/datasets/movies.csv\n",
        "\n",
        "Graficar un histograma para visualizar la distribución de la variable IMDB score\n",
        "\n",
        "---\n"
      ]
    },
    {
      "cell_type": "code",
      "metadata": {
        "id": "Ur1EP-znGUIF"
      },
      "source": [
        "# importamos librerías\n",
        "import pandas as pd\n",
        "import matplotlib.pyplot as plt\n",
        "import seaborn as sn\n",
        "import scipy\n",
        "from matplotlib.pyplot import figure\n",
        "from scipy import stats\n",
        "from statsmodels.distributions.empirical_distribution import ECDF\n",
        "from pandas.plotting import scatter_matrix"
      ],
      "execution_count": null,
      "outputs": []
    },
    {
      "cell_type": "code",
      "metadata": {
        "id": "paaFooUrHW8I",
        "colab": {
          "base_uri": "https://localhost:8080/"
        },
        "outputId": "61ac67b6-f28c-420a-9736-185bf4f92b50"
      },
      "source": [
        "# importamos df\n",
        "df_movies = pd.read_csv(\"https://data-wizards.s3.amazonaws.com/datasets/movies.csv\")\n",
        "df_movies.dtypes"
      ],
      "execution_count": null,
      "outputs": [
        {
          "output_type": "execute_result",
          "data": {
            "text/plain": [
              "color                         object\n",
              "director_name                 object\n",
              "num_critic_for_reviews       float64\n",
              "duration                     float64\n",
              "director_facebook_likes      float64\n",
              "actor_3_facebook_likes       float64\n",
              "actor_2_name                  object\n",
              "actor_1_facebook_likes       float64\n",
              "gross                        float64\n",
              "genres                        object\n",
              "actor_1_name                  object\n",
              "movie_title                   object\n",
              "num_voted_users                int64\n",
              "cast_total_facebook_likes      int64\n",
              "actor_3_name                  object\n",
              "facenumber_in_poster         float64\n",
              "plot_keywords                 object\n",
              "movie_imdb_link               object\n",
              "num_user_for_reviews         float64\n",
              "language                      object\n",
              "country                       object\n",
              "content_rating                object\n",
              "budget                       float64\n",
              "title_year                   float64\n",
              "actor_2_facebook_likes       float64\n",
              "imdb_score                   float64\n",
              "aspect_ratio                 float64\n",
              "movie_facebook_likes           int64\n",
              "dtype: object"
            ]
          },
          "metadata": {
            "tags": []
          },
          "execution_count": 16
        }
      ]
    },
    {
      "cell_type": "code",
      "metadata": {
        "colab": {
          "base_uri": "https://localhost:8080/",
          "height": 353
        },
        "id": "pOM7Jqdask39",
        "outputId": "f856ef34-e637-4f2a-9057-a0de03681c97"
      },
      "source": [
        "# EX 1\n",
        "df_movies.plot(\n",
        "    kind='hist'\n",
        "    ,y='imdb_score'\n",
        "    ,bins=30\n",
        "    ,title='Histograma IMDB Score'\n",
        "    ,figsize=(10,5)\n",
        ")"
      ],
      "execution_count": null,
      "outputs": [
        {
          "output_type": "execute_result",
          "data": {
            "text/plain": [
              "<matplotlib.axes._subplots.AxesSubplot at 0x7fa040397cd0>"
            ]
          },
          "metadata": {
            "tags": []
          },
          "execution_count": 20
        },
        {
          "output_type": "display_data",
          "data": {
            "image/png": "[encoded data removed]",
            "text/plain": [
              "<Figure size 720x360 with 1 Axes>"
            ]
          },
          "metadata": {
            "tags": [],
            "needs_background": "light"
          }
        }
      ]
    },
    {
      "cell_type": "markdown",
      "metadata": {
        "id": "OfDZt6FoxM4a"
      },
      "source": [
        "##### EX 2\n",
        "> Dataset https://data-wizards.s3.amazonaws.com/datasets/movies.csv\n",
        "\n",
        "¿Qué podemos decir acerca de la distribución del PIB per cápita en cada continente? Graficar un boxplot\n",
        "\n",
        "---\n"
      ]
    },
    {
      "cell_type": "code",
      "metadata": {
        "id": "vgdtSeTMaNJ1"
      },
      "source": [
        "# importamos librerías\n",
        "import pandas as pd\n",
        "import matplotlib.pyplot as plt\n",
        "import seaborn as sn\n",
        "import scipy\n",
        "from matplotlib.pyplot import figure\n",
        "from scipy import stats\n",
        "from statsmodels.distributions.empirical_distribution import ECDF\n",
        "from pandas.plotting import scatter_matrix"
      ],
      "execution_count": null,
      "outputs": []
    },
    {
      "cell_type": "code",
      "metadata": {
        "colab": {
          "base_uri": "https://localhost:8080/"
        },
        "id": "DRj_y1WwxO22",
        "outputId": "86a065cf-7905-453c-efb4-7c981a48cc1c"
      },
      "source": [
        "# importamos df\n",
        "df_who = pd.read_csv('https://data-wizards.s3.amazonaws.com/datasets/dataset_na_who.csv')\n",
        "df_who.dtypes"
      ],
      "execution_count": null,
      "outputs": [
        {
          "output_type": "execute_result",
          "data": {
            "text/plain": [
              "Country                                                    object\n",
              "CountryID                                                   int64\n",
              "ContinentID                                                 int64\n",
              "Adolescent fertility rate (%)                             float64\n",
              "Adult literacy rate (%)                                   float64\n",
              "Gross national income per capita (PPP international $)    float64\n",
              "Net primary school enrolment ratio female (%)             float64\n",
              "Net primary school enrolment ratio male (%)               float64\n",
              "Population (in thousands) total                           float64\n",
              "Population annual growth rate (%)                         float64\n",
              "Population in urban areas (%)                             float64\n",
              "Population living below the poverty line                  float64\n",
              "Continent                                                  object\n",
              "dtype: object"
            ]
          },
          "metadata": {
            "tags": []
          },
          "execution_count": 22
        }
      ]
    },
    {
      "cell_type": "code",
      "metadata": {
        "colab": {
          "base_uri": "https://localhost:8080/",
          "height": 431
        },
        "id": "H3AJxobKtbEx",
        "outputId": "9bca8f9e-2b74-48f3-ca02-d8cbe00285ab"
      },
      "source": [
        "df_who.boxplot(\n",
        "    by ='Continent'\n",
        "    ,column ='Gross national income per capita (PPP international $)'\n",
        "    ,grid = False\n",
        "    ,color = 'black'\n",
        "    ,figsize=(10,5)\n",
        ")"
      ],
      "execution_count": null,
      "outputs": [
        {
          "output_type": "stream",
          "text": [
            "/usr/local/lib/python3.7/dist-packages/numpy/core/_asarray.py:83: VisibleDeprecationWarning: Creating an ndarray from ragged nested sequences (which is a list-or-tuple of lists-or-tuples-or ndarrays with different lengths or shapes) is deprecated. If you meant to do this, you must specify 'dtype=object' when creating the ndarray\n",
            "  return array(a, dtype, copy=False, order=order)\n"
          ],
          "name": "stderr"
        },
        {
          "output_type": "execute_result",
          "data": {
            "text/plain": [
              "<matplotlib.axes._subplots.AxesSubplot at 0x7fa0401e8950>"
            ]
          },
          "metadata": {
            "tags": []
          },
          "execution_count": 24
        },
        {
          "output_type": "display_data",
          "data": {
            "image/png": "[encoded data removed]",
            "text/plain": [
              "<Figure size 720x360 with 1 Axes>"
            ]
          },
          "metadata": {
            "tags": [],
            "needs_background": "light"
          }
        }
      ]
    },
    {
      "cell_type": "markdown",
      "metadata": {
        "id": "Q89JIn5NFmVO"
      },
      "source": [
        "##### EX 3\n",
        "> Dataset https://data-wizards.s3.amazonaws.com/datasets/amzn_stocks.csv\n",
        "\n",
        "¿Cómo ha evolucionado la cotización \"High\" de las acciones desde el 2017?\n",
        "\n",
        "---"
      ]
    },
    {
      "cell_type": "code",
      "metadata": {
        "id": "spSvA6wnFl1Z"
      },
      "source": [
        "# importamos librerías\n",
        "import pandas as pd\n",
        "import matplotlib.pyplot as plt\n",
        "import seaborn as sn\n",
        "import scipy\n",
        "from matplotlib.pyplot import figure\n",
        "from scipy import stats\n",
        "from statsmodels.distributions.empirical_distribution import ECDF\n",
        "from pandas.plotting import scatter_matrix"
      ],
      "execution_count": null,
      "outputs": []
    },
    {
      "cell_type": "code",
      "metadata": {
        "id": "A60hx5z7IAol",
        "colab": {
          "base_uri": "https://localhost:8080/"
        },
        "outputId": "dd2f733d-3a13-40a1-f0c0-b7334a2c4c39"
      },
      "source": [
        "# importamos df\n",
        "df_amzn = pd.read_csv(\"https://data-wizards.s3.amazonaws.com/datasets/amzn_stocks.csv\")\n",
        "df_amzn.dtypes"
      ],
      "execution_count": null,
      "outputs": [
        {
          "output_type": "execute_result",
          "data": {
            "text/plain": [
              "Date       object\n",
              "Open      float64\n",
              "High      float64\n",
              "Low       float64\n",
              "Close     float64\n",
              "Volume      int64\n",
              "dtype: object"
            ]
          },
          "metadata": {
            "tags": []
          },
          "execution_count": 26
        }
      ]
    },
    {
      "cell_type": "code",
      "metadata": {
        "colab": {
          "base_uri": "https://localhost:8080/",
          "height": 367
        },
        "id": "_eaEH5Hcu8Q-",
        "outputId": "bcc53c37-cc49-4039-9a09-af07dff30ffc"
      },
      "source": [
        "# EX 3\n",
        "df_amzn[df_amzn[\"Date\"]>'2017-01-01'].plot(\n",
        "    kind='line'\n",
        "    ,x='Date' \n",
        "    ,y='High'\n",
        "    ,figsize=(10,5)\n",
        "    ,title='Evolución de Cotización de Acciones de AMZN'\n",
        ")\n"
      ],
      "execution_count": null,
      "outputs": [
        {
          "output_type": "execute_result",
          "data": {
            "text/plain": [
              "<matplotlib.axes._subplots.AxesSubplot at 0x7fa0400adcd0>"
            ]
          },
          "metadata": {
            "tags": []
          },
          "execution_count": 29
        },
        {
          "output_type": "display_data",
          "data": {
            "image/png": "[encoded data removed]",
            "text/plain": [
              "<Figure size 720x360 with 1 Axes>"
            ]
          },
          "metadata": {
            "tags": [],
            "needs_background": "light"
          }
        }
      ]
    },
    {
      "cell_type": "markdown",
      "metadata": {
        "id": "b5scEf5byybv"
      },
      "source": [
        "##### EX 4 \n",
        "Dataset > https://data-wizards.s3.amazonaws.com/datasets/movies.csv\n",
        "\n",
        "##### EX 4.A: ¿Cuántos directores hay incluidos en el dataset?\n",
        "##### EX 4.B: Extraer top 10 variables, según correlación con variable *IMDB score*\n",
        "---"
      ]
    },
    {
      "cell_type": "code",
      "metadata": {
        "id": "6VzF8l-DX3RR"
      },
      "source": [
        "# importamos librerías\n",
        "import pandas as pd\n",
        "import matplotlib.pyplot as plt\n",
        "import seaborn as sn\n",
        "import scipy\n",
        "from matplotlib.pyplot import figure\n",
        "from scipy import stats\n",
        "from statsmodels.distributions.empirical_distribution import ECDF\n",
        "from pandas.plotting import scatter_matrix"
      ],
      "execution_count": null,
      "outputs": []
    },
    {
      "cell_type": "code",
      "metadata": {
        "colab": {
          "base_uri": "https://localhost:8080/"
        },
        "id": "37CHateWXq5D",
        "outputId": "7ec74672-252d-4b62-d9f2-faef6842857c"
      },
      "source": [
        "# importamos df\n",
        "df_movies = pd.read_csv(\"https://data-wizards.s3.amazonaws.com/datasets/movies.csv\")\n",
        "df_movies.dtypes"
      ],
      "execution_count": null,
      "outputs": [
        {
          "output_type": "execute_result",
          "data": {
            "text/plain": [
              "color                         object\n",
              "director_name                 object\n",
              "num_critic_for_reviews       float64\n",
              "duration                     float64\n",
              "director_facebook_likes      float64\n",
              "actor_3_facebook_likes       float64\n",
              "actor_2_name                  object\n",
              "actor_1_facebook_likes       float64\n",
              "gross                        float64\n",
              "genres                        object\n",
              "actor_1_name                  object\n",
              "movie_title                   object\n",
              "num_voted_users                int64\n",
              "cast_total_facebook_likes      int64\n",
              "actor_3_name                  object\n",
              "facenumber_in_poster         float64\n",
              "plot_keywords                 object\n",
              "movie_imdb_link               object\n",
              "num_user_for_reviews         float64\n",
              "language                      object\n",
              "country                       object\n",
              "content_rating                object\n",
              "budget                       float64\n",
              "title_year                   float64\n",
              "actor_2_facebook_likes       float64\n",
              "imdb_score                   float64\n",
              "aspect_ratio                 float64\n",
              "movie_facebook_likes           int64\n",
              "dtype: object"
            ]
          },
          "metadata": {
            "tags": []
          },
          "execution_count": 31
        }
      ]
    },
    {
      "cell_type": "code",
      "metadata": {
        "id": "QXKvd385Nd4j",
        "colab": {
          "base_uri": "https://localhost:8080/"
        },
        "outputId": "9c6ed0b6-547f-4c6f-ed02-10dbb8ea6044"
      },
      "source": [
        "# EX 4.A\n",
        "df_movies[\"director_name\"].describe()"
      ],
      "execution_count": null,
      "outputs": [
        {
          "output_type": "execute_result",
          "data": {
            "text/plain": [
              "count                 4814\n",
              "unique                2397\n",
              "top       Steven Spielberg\n",
              "freq                    26\n",
              "Name: director_name, dtype: object"
            ]
          },
          "metadata": {
            "tags": []
          },
          "execution_count": 32
        }
      ]
    },
    {
      "cell_type": "code",
      "metadata": {
        "colab": {
          "base_uri": "https://localhost:8080/"
        },
        "id": "J-fHdb7MOJjD",
        "outputId": "e8e22af2-4482-41c7-cbb7-65f1426b47c5"
      },
      "source": [
        "# EX 4.B\n",
        "df_movies.corr().sort_values(\"imdb_score\",ascending=False).iloc[1:11,][\"imdb_score\"]"
      ],
      "execution_count": null,
      "outputs": [
        {
          "output_type": "execute_result",
          "data": {
            "text/plain": [
              "num_voted_users              0.412427\n",
              "num_critic_for_reviews       0.309733\n",
              "num_user_for_reviews         0.295779\n",
              "duration                     0.264440\n",
              "movie_facebook_likes         0.252496\n",
              "gross                        0.199914\n",
              "director_facebook_likes      0.173969\n",
              "cast_total_facebook_likes    0.086830\n",
              "actor_2_facebook_likes       0.083761\n",
              "actor_1_facebook_likes       0.077070\n",
              "Name: imdb_score, dtype: float64"
            ]
          },
          "metadata": {
            "tags": []
          },
          "execution_count": 8
        }
      ]
    }
  ]
}