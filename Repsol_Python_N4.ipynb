{
  "nbformat": 4,
  "nbformat_minor": 0,
  "metadata": {
    "colab": {
      "name": "Repsol_Python_N4.ipynb",
      "provenance": [],
      "collapsed_sections": [],
      "toc_visible": true,
      "authorship_tag": "ABX9TyM7st28p68tX933kGHj0eoN",
      "include_colab_link": true
    },
    "kernelspec": {
      "name": "python3",
      "display_name": "Python 3"
    }
  },
  "cells": [
    {
      "cell_type": "markdown",
      "metadata": {
        "id": "view-in-github",
        "colab_type": "text"
      },
      "source": [
        "<a href=\"https://colab.research.google.com/github/jmartinbellido/Repsol_Python/blob/main/Repsol_Python_N4.ipynb\" target=\"_parent\"><img src=\"https://colab.research.google.com/assets/colab-badge.svg\" alt=\"Open In Colab\"/></a>"
      ]
    },
    {
      "cell_type": "markdown",
      "metadata": {
        "id": "Iq0dLzFr2tux"
      },
      "source": [
        "# ÍNDICE\n",
        "# **ISDI Repsol D4D/D4B**\n",
        "# Introducción a Python para Análisis de Datos\n",
        "## *Notebook 4 (complementario): Trabajando en un Entorno Local*\n",
        "\n",
        "### ÍNDICE\n",
        "1. TRABAJANDO EN UN ENTORNO LOCAL\n",
        "\n",
        "### Profesor: Juan Martin Bellido (jmbelldo@isdi.education)\n"
      ]
    },
    {
      "cell_type": "code",
      "metadata": {
        "id": "5eqClCOoPuPC"
      },
      "source": [
        "# importamos librerías\n",
        "import pandas as pd\n",
        "import os"
      ],
      "execution_count": null,
      "outputs": []
    },
    {
      "cell_type": "markdown",
      "metadata": {
        "id": "YUPY3aWfrJVq"
      },
      "source": [
        "# TRABAJANDO EN UN ENTORNO LOCAL"
      ]
    },
    {
      "cell_type": "code",
      "metadata": {
        "id": "42JLKeZIgQv9"
      },
      "source": [
        "# importamos dataframe\n",
        "df_jamesbond = pd.read_csv(\"https://data-wizards.s3.amazonaws.com/datasets/jamesbond.csv\")"
      ],
      "execution_count": null,
      "outputs": []
    },
    {
      "cell_type": "markdown",
      "metadata": {
        "id": "GCT9M535ABjf"
      },
      "source": [
        "### Importando y exportando tablas de datos en formato .csv y .txt\n",
        "---\n",
        "\n",
        "Existen funciones en *pandas* que permiten importar/exportar dataframes desde un entorno local en distintos formatos, comenzaremos con los formatos *.csv* y *.txt*.\n",
        "\n",
        "| # | Función         | Descripción                                       | Parámetros Principales                  |\n",
        "|---|------------------|---------------------------------------------------|---------------------------------|\n",
        "| 1 | pd.read_csv()    | *Imports dataframe from URL or local drive*       | 'path/file_name', sep=',' o '\\t'  |\n",
        "| 2 | df.to_csv()      | *Exports dataframe to local drive*                | 'path/file_name', sep=',' o '\\t'  |\n",
        "\n"
      ]
    },
    {
      "cell_type": "markdown",
      "metadata": {
        "id": "UWTavQPlvABJ"
      },
      "source": [
        "Utilizaremos la función *to_csv* para exportar un dataframe a nuestro entorno local. Si no especificamos un *path* determinado, el archivo se exportará automáticamente a nuestro directorio de trabajo (nuestro *path* por defecto)."
      ]
    },
    {
      "cell_type": "code",
      "metadata": {
        "id": "AZHgPheMHoem"
      },
      "source": [
        "# Exportamos df a entorno local\n",
        "df_jamesbond.to_csv(\"dataset_jamesbond.csv\")\n",
        "## al no especificar path, se exportar a nuestro directorio de trabajo"
      ],
      "execution_count": null,
      "outputs": []
    },
    {
      "cell_type": "code",
      "metadata": {
        "id": "xjgATAntwR5-"
      },
      "source": [
        "os.getcwd() # podemos consultar nuestro directorio de trabajo"
      ],
      "execution_count": null,
      "outputs": []
    },
    {
      "cell_type": "code",
      "metadata": {
        "id": "9ByyMsaWv6Z7"
      },
      "source": [
        "# A continuación, especificamos un path y guardamos el dataframe en una carpeta específica\n",
        "df_jamesbond.to_csv(\"./my_folder/dataset_jamesbond.csv\")"
      ],
      "execution_count": null,
      "outputs": []
    },
    {
      "cell_type": "code",
      "metadata": {
        "id": "u0KMWEN9XhQ8"
      },
      "source": [
        "# Podemos exportar el dataframe en formato .txt, cambiando el parámetro \"sep\"\n",
        "df_jamesbond.to_csv(\"dataset_jamesbond.txt\",sep='\\t') # we need to edit parameter \"sep\" to force tab delimited format"
      ],
      "execution_count": null,
      "outputs": []
    },
    {
      "cell_type": "code",
      "metadata": {
        "id": "CsO3XJ1kYFSS"
      },
      "source": [
        "# También podemos importar tablas de datos desde nuestro entorno local\n",
        "pd.read_csv(\"dataset_jamesbond.csv\")\n",
        "## en caso de que el archivo no esté almacenado en nuestro directorio de trabajo, debemos especificar un path -> df_jamesbond.read_csv(\"path/dataset_jamesbond.csv\")"
      ],
      "execution_count": null,
      "outputs": []
    },
    {
      "cell_type": "code",
      "metadata": {
        "id": "8olUYtThYE9X"
      },
      "source": [
        "# Podríamos importar un archivo en formato .txt editando el parámetro \"sep\"\n",
        "pd.read_csv(\"dataset_jamesbond.txt\",sep='\\t')"
      ],
      "execution_count": null,
      "outputs": []
    },
    {
      "cell_type": "markdown",
      "metadata": {
        "id": "81-ksg0oYqQs"
      },
      "source": [
        "### Interactuando con nuestro sistema operativo\n",
        "---\n",
        "La librería *os* contiene funciones que permiten interactuar con el sistema operativa. Funciona para Windows, Mac y Linux.\n",
        "\n",
        "| # | Función    | Descripción                                  | Parámetros Principales   |\n",
        "|---|-------------|----------------------------------------------|--------------------|\n",
        "| 1 | os.getcwd() | *Shows path to current working directory*    |                    |\n",
        "| 2 | os.mkdir()  | *Creates folder on given path*               | 'path/folder_name' |\n",
        "| 3 | os.chdir()  | *Changes working directory to path provided* | 'path/folder_name' |\n",
        "| 4 | os.rmdir()  | *Removes folder*                             | 'path/folder_name' |\n"
      ]
    },
    {
      "cell_type": "code",
      "metadata": {
        "id": "sgeQztF1NP-B"
      },
      "source": [
        "# Comprobamos nuestro directorio de trabajo\n",
        "os.getcwd()"
      ],
      "execution_count": null,
      "outputs": []
    },
    {
      "cell_type": "code",
      "metadata": {
        "id": "C0SO_PefNQAg"
      },
      "source": [
        "# Creamos una carpeta dentro de nuestro entorno de trabajo\n",
        "os.mkdir('new_folder')\n",
        "## para crear una carpeta fuera de nuestro entorno de trabajo -> os.mkdir('path/new_folder')"
      ],
      "execution_count": null,
      "outputs": []
    },
    {
      "cell_type": "code",
      "metadata": {
        "id": "ZZ64OntTO8Lu"
      },
      "source": [
        "# Cambiamos nuestro entorno de trabajo\n",
        "os.chdir('new_folder') # ahora \"new folder\" es nuestro nuevo entorno de trabajo\n",
        "os.getcwd() # lo comprobamos"
      ],
      "execution_count": null,
      "outputs": []
    },
    {
      "cell_type": "code",
      "metadata": {
        "id": "F3tJq8-xNQCq"
      },
      "source": [
        "# Finalmente, eliminamos la carpeta que hemos creado\n",
        "os.rmdir('new_folder')"
      ],
      "execution_count": null,
      "outputs": []
    }
  ]
}