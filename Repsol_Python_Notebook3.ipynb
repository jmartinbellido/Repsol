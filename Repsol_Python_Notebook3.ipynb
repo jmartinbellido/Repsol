{
  "nbformat": 4,
  "nbformat_minor": 0,
  "metadata": {
    "colab": {
      "name": "Repsol_Python_Notebook3.ipynb",
      "provenance": [],
      "collapsed_sections": [],
      "toc_visible": true,
      "authorship_tag": "ABX9TyOAn2k+aIl8tnbFZ11kMC5h",
      "include_colab_link": true
    },
    "kernelspec": {
      "name": "python3",
      "display_name": "Python 3"
    }
  },
  "cells": [
    {
      "cell_type": "markdown",
      "metadata": {
        "id": "view-in-github",
        "colab_type": "text"
      },
      "source": [
        "<a href=\"https://colab.research.google.com/github/jmartinbellido/Repsol_Python/blob/main/Repsol_Python_Notebook3.ipynb\" target=\"_parent\"><img src=\"https://colab.research.google.com/assets/colab-badge.svg\" alt=\"Open In Colab\"/></a>"
      ]
    },
    {
      "cell_type": "markdown",
      "metadata": {
        "id": "Iq0dLzFr2tux"
      },
      "source": [
        "# ÍNDICE\n",
        "# **ISDI Repsol D4D/D4B**\n",
        "# Introducción a Python para Análisis de Datos\n",
        "## *Notebook 3: Data Cleaning & Exploratory Data Analysis (EDA)*\n",
        "\n",
        "### ÍNDICE\n",
        "1. DATA CLEANING\n",
        "2. EDA: FRECUENCIA\n",
        "3. EDA: CORRELACIÓN\n",
        "4. EDA: DISTRIBUCIÓN\n",
        "5. EDA: SERIES TEMPORALES\n",
        "6. EJERCICIOS\n",
        "\n",
        "### Profesor: Juan Martin Bellido (jmbelldo@isdi.education)\n",
        "\n",
        "---\n"
      ]
    },
    {
      "cell_type": "code",
      "metadata": {
        "id": "5eqClCOoPuPC"
      },
      "source": [
        "# antes de empezar, cargamos librerías (instalamos en caso de ser necesario)\n",
        "import pandas as pd\n",
        "import matplotlib.pyplot as plt\n",
        "import seaborn as sn\n",
        "from matplotlib.pyplot import figure\n",
        "from scipy import stats\n",
        "import scipy"
      ],
      "execution_count": 4,
      "outputs": []
    },
    {
      "cell_type": "code",
      "metadata": {
        "id": "nyrhg_jMyO4f"
      },
      "source": [
        "# la siguiente línea de código permite editar el tamaño de los gráficos propios de la librería seaborn (sn)\n",
        "sn.set(rc={'figure.figsize':(12,8)}) # cambiamos tamaño"
      ],
      "execution_count": null,
      "outputs": []
    },
    {
      "cell_type": "markdown",
      "metadata": {
        "id": "6EMZLXKAxgOu"
      },
      "source": [
        "# DATA CLEANING\n",
        "En este apartado, revisaremos tres ejercicios básicos de limpieza de datos: \n",
        "\n",
        "*   Operar con valores nulos\n",
        "*   Remover valores duplicados\n",
        "*   Identificar outliers\n",
        "\n"
      ]
    },
    {
      "cell_type": "code",
      "metadata": {
        "id": "IEAZPwOs_oDP"
      },
      "source": [
        "# Importamos DataFrame\n",
        "df_jamesbond = pd.read_csv(\"https://data-wizards.s3.amazonaws.com/datasets/jamesbond.csv\",index_col=\"Film\")"
      ],
      "execution_count": null,
      "outputs": []
    },
    {
      "cell_type": "markdown",
      "metadata": {
        "id": "xH5M7lBjA8_u"
      },
      "source": [
        "### Operar con valores nulos\n",
        "---"
      ]
    },
    {
      "cell_type": "markdown",
      "metadata": {
        "id": "GCT9M535ABjf"
      },
      "source": [
        "#### Identificar valores nulos en un DataFrame\n",
        "\n",
        "El primer paso es corroborar si existen valores nulos en nuestros DataFrame y, en tal caso, identificar en qué campos.\n",
        "\n",
        "En esta sección utilizaremos dos funciones/métodos:\n",
        "\n",
        "```\n",
        "isna(object)\n",
        "```\n",
        "> *El método isna() testea si los valores son NaN (True) o no (False)*\n",
        "\n",
        "```\n",
        "any(boolean object)\n",
        "```\n",
        "> *El método any() permite comprobar si al menos un elemento es True*\n",
        "\n",
        "\n",
        "\n",
        "\n",
        "\n",
        "\n"
      ]
    },
    {
      "cell_type": "code",
      "metadata": {
        "id": "AZHgPheMHoem",
        "colab": {
          "base_uri": "https://localhost:8080/",
          "height": 886
        },
        "outputId": "2487df27-76ee-47c6-ece0-9a75be84c814"
      },
      "source": [
        "# Paso 1: aplicamos isna() al DataFrame para testear si cada elemento es nulo o no\n",
        "nan_values = df_jamesbond.isna() # almacenamos el resultado en un nuevo objeto\n",
        "nan_values # visualizamos el objeto creado"
      ],
      "execution_count": null,
      "outputs": [
        {
          "output_type": "execute_result",
          "data": {
            "text/html": [
              "<div>\n",
              "<style scoped>\n",
              "    .dataframe tbody tr th:only-of-type {\n",
              "        vertical-align: middle;\n",
              "    }\n",
              "\n",
              "    .dataframe tbody tr th {\n",
              "        vertical-align: top;\n",
              "    }\n",
              "\n",
              "    .dataframe thead th {\n",
              "        text-align: right;\n",
              "    }\n",
              "</style>\n",
              "<table border=\"1\" class=\"dataframe\">\n",
              "  <thead>\n",
              "    <tr style=\"text-align: right;\">\n",
              "      <th></th>\n",
              "      <th>Year</th>\n",
              "      <th>Actor</th>\n",
              "      <th>Director</th>\n",
              "      <th>Box Office</th>\n",
              "      <th>Budget</th>\n",
              "      <th>Bond Actor Salary</th>\n",
              "    </tr>\n",
              "    <tr>\n",
              "      <th>Film</th>\n",
              "      <th></th>\n",
              "      <th></th>\n",
              "      <th></th>\n",
              "      <th></th>\n",
              "      <th></th>\n",
              "      <th></th>\n",
              "    </tr>\n",
              "  </thead>\n",
              "  <tbody>\n",
              "    <tr>\n",
              "      <th>Dr. No</th>\n",
              "      <td>False</td>\n",
              "      <td>False</td>\n",
              "      <td>False</td>\n",
              "      <td>False</td>\n",
              "      <td>False</td>\n",
              "      <td>False</td>\n",
              "    </tr>\n",
              "    <tr>\n",
              "      <th>From Russia with Love</th>\n",
              "      <td>False</td>\n",
              "      <td>False</td>\n",
              "      <td>False</td>\n",
              "      <td>False</td>\n",
              "      <td>False</td>\n",
              "      <td>False</td>\n",
              "    </tr>\n",
              "    <tr>\n",
              "      <th>Goldfinger</th>\n",
              "      <td>False</td>\n",
              "      <td>False</td>\n",
              "      <td>False</td>\n",
              "      <td>False</td>\n",
              "      <td>False</td>\n",
              "      <td>False</td>\n",
              "    </tr>\n",
              "    <tr>\n",
              "      <th>Thunderball</th>\n",
              "      <td>False</td>\n",
              "      <td>False</td>\n",
              "      <td>False</td>\n",
              "      <td>False</td>\n",
              "      <td>False</td>\n",
              "      <td>False</td>\n",
              "    </tr>\n",
              "    <tr>\n",
              "      <th>Casino Royale</th>\n",
              "      <td>False</td>\n",
              "      <td>False</td>\n",
              "      <td>False</td>\n",
              "      <td>False</td>\n",
              "      <td>False</td>\n",
              "      <td>True</td>\n",
              "    </tr>\n",
              "    <tr>\n",
              "      <th>You Only Live Twice</th>\n",
              "      <td>False</td>\n",
              "      <td>False</td>\n",
              "      <td>False</td>\n",
              "      <td>False</td>\n",
              "      <td>False</td>\n",
              "      <td>False</td>\n",
              "    </tr>\n",
              "    <tr>\n",
              "      <th>On Her Majesty's Secret Service</th>\n",
              "      <td>False</td>\n",
              "      <td>False</td>\n",
              "      <td>False</td>\n",
              "      <td>False</td>\n",
              "      <td>False</td>\n",
              "      <td>False</td>\n",
              "    </tr>\n",
              "    <tr>\n",
              "      <th>Diamonds Are Forever</th>\n",
              "      <td>False</td>\n",
              "      <td>False</td>\n",
              "      <td>False</td>\n",
              "      <td>False</td>\n",
              "      <td>False</td>\n",
              "      <td>False</td>\n",
              "    </tr>\n",
              "    <tr>\n",
              "      <th>Live and Let Die</th>\n",
              "      <td>False</td>\n",
              "      <td>False</td>\n",
              "      <td>False</td>\n",
              "      <td>False</td>\n",
              "      <td>False</td>\n",
              "      <td>True</td>\n",
              "    </tr>\n",
              "    <tr>\n",
              "      <th>The Man with the Golden Gun</th>\n",
              "      <td>False</td>\n",
              "      <td>False</td>\n",
              "      <td>False</td>\n",
              "      <td>False</td>\n",
              "      <td>False</td>\n",
              "      <td>True</td>\n",
              "    </tr>\n",
              "    <tr>\n",
              "      <th>The Spy Who Loved Me</th>\n",
              "      <td>False</td>\n",
              "      <td>False</td>\n",
              "      <td>False</td>\n",
              "      <td>False</td>\n",
              "      <td>False</td>\n",
              "      <td>True</td>\n",
              "    </tr>\n",
              "    <tr>\n",
              "      <th>Moonraker</th>\n",
              "      <td>False</td>\n",
              "      <td>False</td>\n",
              "      <td>False</td>\n",
              "      <td>False</td>\n",
              "      <td>False</td>\n",
              "      <td>True</td>\n",
              "    </tr>\n",
              "    <tr>\n",
              "      <th>For Your Eyes Only</th>\n",
              "      <td>False</td>\n",
              "      <td>False</td>\n",
              "      <td>False</td>\n",
              "      <td>False</td>\n",
              "      <td>False</td>\n",
              "      <td>True</td>\n",
              "    </tr>\n",
              "    <tr>\n",
              "      <th>Never Say Never Again</th>\n",
              "      <td>False</td>\n",
              "      <td>False</td>\n",
              "      <td>False</td>\n",
              "      <td>False</td>\n",
              "      <td>False</td>\n",
              "      <td>True</td>\n",
              "    </tr>\n",
              "    <tr>\n",
              "      <th>Octopussy</th>\n",
              "      <td>False</td>\n",
              "      <td>False</td>\n",
              "      <td>False</td>\n",
              "      <td>False</td>\n",
              "      <td>False</td>\n",
              "      <td>False</td>\n",
              "    </tr>\n",
              "    <tr>\n",
              "      <th>A View to a Kill</th>\n",
              "      <td>False</td>\n",
              "      <td>False</td>\n",
              "      <td>False</td>\n",
              "      <td>False</td>\n",
              "      <td>False</td>\n",
              "      <td>False</td>\n",
              "    </tr>\n",
              "    <tr>\n",
              "      <th>The Living Daylights</th>\n",
              "      <td>False</td>\n",
              "      <td>False</td>\n",
              "      <td>False</td>\n",
              "      <td>False</td>\n",
              "      <td>False</td>\n",
              "      <td>False</td>\n",
              "    </tr>\n",
              "    <tr>\n",
              "      <th>Licence to Kill</th>\n",
              "      <td>False</td>\n",
              "      <td>False</td>\n",
              "      <td>False</td>\n",
              "      <td>False</td>\n",
              "      <td>False</td>\n",
              "      <td>False</td>\n",
              "    </tr>\n",
              "    <tr>\n",
              "      <th>GoldenEye</th>\n",
              "      <td>False</td>\n",
              "      <td>False</td>\n",
              "      <td>False</td>\n",
              "      <td>False</td>\n",
              "      <td>False</td>\n",
              "      <td>False</td>\n",
              "    </tr>\n",
              "    <tr>\n",
              "      <th>Tomorrow Never Dies</th>\n",
              "      <td>False</td>\n",
              "      <td>False</td>\n",
              "      <td>False</td>\n",
              "      <td>False</td>\n",
              "      <td>False</td>\n",
              "      <td>False</td>\n",
              "    </tr>\n",
              "    <tr>\n",
              "      <th>The World Is Not Enough</th>\n",
              "      <td>False</td>\n",
              "      <td>False</td>\n",
              "      <td>False</td>\n",
              "      <td>False</td>\n",
              "      <td>False</td>\n",
              "      <td>False</td>\n",
              "    </tr>\n",
              "    <tr>\n",
              "      <th>Die Another Day</th>\n",
              "      <td>False</td>\n",
              "      <td>False</td>\n",
              "      <td>False</td>\n",
              "      <td>False</td>\n",
              "      <td>False</td>\n",
              "      <td>False</td>\n",
              "    </tr>\n",
              "    <tr>\n",
              "      <th>Casino Royale</th>\n",
              "      <td>False</td>\n",
              "      <td>False</td>\n",
              "      <td>False</td>\n",
              "      <td>False</td>\n",
              "      <td>False</td>\n",
              "      <td>False</td>\n",
              "    </tr>\n",
              "    <tr>\n",
              "      <th>Quantum of Solace</th>\n",
              "      <td>False</td>\n",
              "      <td>False</td>\n",
              "      <td>False</td>\n",
              "      <td>False</td>\n",
              "      <td>False</td>\n",
              "      <td>False</td>\n",
              "    </tr>\n",
              "    <tr>\n",
              "      <th>Skyfall</th>\n",
              "      <td>False</td>\n",
              "      <td>False</td>\n",
              "      <td>False</td>\n",
              "      <td>False</td>\n",
              "      <td>False</td>\n",
              "      <td>False</td>\n",
              "    </tr>\n",
              "    <tr>\n",
              "      <th>Spectre</th>\n",
              "      <td>False</td>\n",
              "      <td>False</td>\n",
              "      <td>False</td>\n",
              "      <td>False</td>\n",
              "      <td>False</td>\n",
              "      <td>True</td>\n",
              "    </tr>\n",
              "  </tbody>\n",
              "</table>\n",
              "</div>"
            ],
            "text/plain": [
              "                                  Year  Actor  ...  Budget  Bond Actor Salary\n",
              "Film                                           ...                           \n",
              "Dr. No                           False  False  ...   False              False\n",
              "From Russia with Love            False  False  ...   False              False\n",
              "Goldfinger                       False  False  ...   False              False\n",
              "Thunderball                      False  False  ...   False              False\n",
              "Casino Royale                    False  False  ...   False               True\n",
              "You Only Live Twice              False  False  ...   False              False\n",
              "On Her Majesty's Secret Service  False  False  ...   False              False\n",
              "Diamonds Are Forever             False  False  ...   False              False\n",
              "Live and Let Die                 False  False  ...   False               True\n",
              "The Man with the Golden Gun      False  False  ...   False               True\n",
              "The Spy Who Loved Me             False  False  ...   False               True\n",
              "Moonraker                        False  False  ...   False               True\n",
              "For Your Eyes Only               False  False  ...   False               True\n",
              "Never Say Never Again            False  False  ...   False               True\n",
              "Octopussy                        False  False  ...   False              False\n",
              "A View to a Kill                 False  False  ...   False              False\n",
              "The Living Daylights             False  False  ...   False              False\n",
              "Licence to Kill                  False  False  ...   False              False\n",
              "GoldenEye                        False  False  ...   False              False\n",
              "Tomorrow Never Dies              False  False  ...   False              False\n",
              "The World Is Not Enough          False  False  ...   False              False\n",
              "Die Another Day                  False  False  ...   False              False\n",
              "Casino Royale                    False  False  ...   False              False\n",
              "Quantum of Solace                False  False  ...   False              False\n",
              "Skyfall                          False  False  ...   False              False\n",
              "Spectre                          False  False  ...   False               True\n",
              "\n",
              "[26 rows x 6 columns]"
            ]
          },
          "metadata": {
            "tags": []
          },
          "execution_count": 3
        }
      ]
    },
    {
      "cell_type": "code",
      "metadata": {
        "colab": {
          "base_uri": "https://localhost:8080/"
        },
        "id": "jq9Nf1NiCm8w",
        "outputId": "34e5e2fd-fbc4-4d1c-a78b-d7e9d3ad910d"
      },
      "source": [
        "# Paso 2: testeamos si al menos un elemento de cada campo es True (nulo)\n",
        "nan_columns = nan_values.any() # aplicamos any() al objeto nan_values y lo almacenamos en un nuevo objeto\n",
        "nan_columns # ahora visualicemos el objeto que hemos creado\n",
        "# nota: al visualizar el objeto, encontramos valores nulos para la variable \"Bond Actor Salary\""
      ],
      "execution_count": null,
      "outputs": [
        {
          "output_type": "execute_result",
          "data": {
            "text/plain": [
              "Year                 False\n",
              "Actor                False\n",
              "Director             False\n",
              "Box Office           False\n",
              "Budget               False\n",
              "Bond Actor Salary     True\n",
              "dtype: bool"
            ]
          },
          "metadata": {
            "tags": []
          },
          "execution_count": 4
        }
      ]
    },
    {
      "cell_type": "markdown",
      "metadata": {
        "id": "nJF-N6xhEC7_"
      },
      "source": [
        "#### Modificar valores nulos en un DataFrame\n",
        "Una vez hemos identificado valores nulos, podemos decidir entre:\n",
        "*   remover filas con al menos un valor nulo, o\n",
        "*   reemplazar valores nulos\n",
        "\n",
        "Funciones que introduciremos en esta sección:\n",
        "\n",
        "```\n",
        "fillna(value)\n",
        "```\n",
        "> *Este método reemplaza elementos nulos asignando el valor que establezcamos como parámetro*\n",
        "\n",
        "\n",
        "\n"
      ]
    },
    {
      "cell_type": "code",
      "metadata": {
        "id": "5w2AIbjLJ__P",
        "colab": {
          "base_uri": "https://localhost:8080/",
          "height": 638
        },
        "outputId": "3dd6d6b7-d704-4758-9fca-936609a22231"
      },
      "source": [
        "# Hemos identificado valores nulos en campo \"Bond Actor Salary\", ahora procederemos a omitir filas con valores nulos en esta variable\n",
        "cond = df_jamesbond[\"Bond Actor Salary\"].isna()\n",
        "df_jamesbond[-cond] # negamos la confición para omitir filas con valores nulos para variable \"Bond Actor Salary\""
      ],
      "execution_count": null,
      "outputs": [
        {
          "output_type": "execute_result",
          "data": {
            "text/html": [
              "<div>\n",
              "<style scoped>\n",
              "    .dataframe tbody tr th:only-of-type {\n",
              "        vertical-align: middle;\n",
              "    }\n",
              "\n",
              "    .dataframe tbody tr th {\n",
              "        vertical-align: top;\n",
              "    }\n",
              "\n",
              "    .dataframe thead th {\n",
              "        text-align: right;\n",
              "    }\n",
              "</style>\n",
              "<table border=\"1\" class=\"dataframe\">\n",
              "  <thead>\n",
              "    <tr style=\"text-align: right;\">\n",
              "      <th></th>\n",
              "      <th>Year</th>\n",
              "      <th>Actor</th>\n",
              "      <th>Director</th>\n",
              "      <th>Box Office</th>\n",
              "      <th>Budget</th>\n",
              "      <th>Bond Actor Salary</th>\n",
              "    </tr>\n",
              "    <tr>\n",
              "      <th>Film</th>\n",
              "      <th></th>\n",
              "      <th></th>\n",
              "      <th></th>\n",
              "      <th></th>\n",
              "      <th></th>\n",
              "      <th></th>\n",
              "    </tr>\n",
              "  </thead>\n",
              "  <tbody>\n",
              "    <tr>\n",
              "      <th>Dr. No</th>\n",
              "      <td>1962</td>\n",
              "      <td>Sean Connery</td>\n",
              "      <td>Terence Young</td>\n",
              "      <td>448.8</td>\n",
              "      <td>7.0</td>\n",
              "      <td>0.6</td>\n",
              "    </tr>\n",
              "    <tr>\n",
              "      <th>From Russia with Love</th>\n",
              "      <td>1963</td>\n",
              "      <td>Sean Connery</td>\n",
              "      <td>Terence Young</td>\n",
              "      <td>543.8</td>\n",
              "      <td>12.6</td>\n",
              "      <td>1.6</td>\n",
              "    </tr>\n",
              "    <tr>\n",
              "      <th>Goldfinger</th>\n",
              "      <td>1964</td>\n",
              "      <td>Sean Connery</td>\n",
              "      <td>Guy Hamilton</td>\n",
              "      <td>820.4</td>\n",
              "      <td>18.6</td>\n",
              "      <td>3.2</td>\n",
              "    </tr>\n",
              "    <tr>\n",
              "      <th>Thunderball</th>\n",
              "      <td>1965</td>\n",
              "      <td>Sean Connery</td>\n",
              "      <td>Terence Young</td>\n",
              "      <td>848.1</td>\n",
              "      <td>41.9</td>\n",
              "      <td>4.7</td>\n",
              "    </tr>\n",
              "    <tr>\n",
              "      <th>You Only Live Twice</th>\n",
              "      <td>1967</td>\n",
              "      <td>Sean Connery</td>\n",
              "      <td>Lewis Gilbert</td>\n",
              "      <td>514.2</td>\n",
              "      <td>59.9</td>\n",
              "      <td>4.4</td>\n",
              "    </tr>\n",
              "    <tr>\n",
              "      <th>On Her Majesty's Secret Service</th>\n",
              "      <td>1969</td>\n",
              "      <td>George Lazenby</td>\n",
              "      <td>Peter R. Hunt</td>\n",
              "      <td>291.5</td>\n",
              "      <td>37.3</td>\n",
              "      <td>0.6</td>\n",
              "    </tr>\n",
              "    <tr>\n",
              "      <th>Diamonds Are Forever</th>\n",
              "      <td>1971</td>\n",
              "      <td>Sean Connery</td>\n",
              "      <td>Guy Hamilton</td>\n",
              "      <td>442.5</td>\n",
              "      <td>34.7</td>\n",
              "      <td>5.8</td>\n",
              "    </tr>\n",
              "    <tr>\n",
              "      <th>Octopussy</th>\n",
              "      <td>1983</td>\n",
              "      <td>Roger Moore</td>\n",
              "      <td>John Glen</td>\n",
              "      <td>373.8</td>\n",
              "      <td>53.9</td>\n",
              "      <td>7.8</td>\n",
              "    </tr>\n",
              "    <tr>\n",
              "      <th>A View to a Kill</th>\n",
              "      <td>1985</td>\n",
              "      <td>Roger Moore</td>\n",
              "      <td>John Glen</td>\n",
              "      <td>275.2</td>\n",
              "      <td>54.5</td>\n",
              "      <td>9.1</td>\n",
              "    </tr>\n",
              "    <tr>\n",
              "      <th>The Living Daylights</th>\n",
              "      <td>1987</td>\n",
              "      <td>Timothy Dalton</td>\n",
              "      <td>John Glen</td>\n",
              "      <td>313.5</td>\n",
              "      <td>68.8</td>\n",
              "      <td>5.2</td>\n",
              "    </tr>\n",
              "    <tr>\n",
              "      <th>Licence to Kill</th>\n",
              "      <td>1989</td>\n",
              "      <td>Timothy Dalton</td>\n",
              "      <td>John Glen</td>\n",
              "      <td>250.9</td>\n",
              "      <td>56.7</td>\n",
              "      <td>7.9</td>\n",
              "    </tr>\n",
              "    <tr>\n",
              "      <th>GoldenEye</th>\n",
              "      <td>1995</td>\n",
              "      <td>Pierce Brosnan</td>\n",
              "      <td>Martin Campbell</td>\n",
              "      <td>518.5</td>\n",
              "      <td>76.9</td>\n",
              "      <td>5.1</td>\n",
              "    </tr>\n",
              "    <tr>\n",
              "      <th>Tomorrow Never Dies</th>\n",
              "      <td>1997</td>\n",
              "      <td>Pierce Brosnan</td>\n",
              "      <td>Roger Spottiswoode</td>\n",
              "      <td>463.2</td>\n",
              "      <td>133.9</td>\n",
              "      <td>10.0</td>\n",
              "    </tr>\n",
              "    <tr>\n",
              "      <th>The World Is Not Enough</th>\n",
              "      <td>1999</td>\n",
              "      <td>Pierce Brosnan</td>\n",
              "      <td>Michael Apted</td>\n",
              "      <td>439.5</td>\n",
              "      <td>158.3</td>\n",
              "      <td>13.5</td>\n",
              "    </tr>\n",
              "    <tr>\n",
              "      <th>Die Another Day</th>\n",
              "      <td>2002</td>\n",
              "      <td>Pierce Brosnan</td>\n",
              "      <td>Lee Tamahori</td>\n",
              "      <td>465.4</td>\n",
              "      <td>154.2</td>\n",
              "      <td>17.9</td>\n",
              "    </tr>\n",
              "    <tr>\n",
              "      <th>Casino Royale</th>\n",
              "      <td>2006</td>\n",
              "      <td>Daniel Craig</td>\n",
              "      <td>Martin Campbell</td>\n",
              "      <td>581.5</td>\n",
              "      <td>145.3</td>\n",
              "      <td>3.3</td>\n",
              "    </tr>\n",
              "    <tr>\n",
              "      <th>Quantum of Solace</th>\n",
              "      <td>2008</td>\n",
              "      <td>Daniel Craig</td>\n",
              "      <td>Marc Forster</td>\n",
              "      <td>514.2</td>\n",
              "      <td>181.4</td>\n",
              "      <td>8.1</td>\n",
              "    </tr>\n",
              "    <tr>\n",
              "      <th>Skyfall</th>\n",
              "      <td>2012</td>\n",
              "      <td>Daniel Craig</td>\n",
              "      <td>Sam Mendes</td>\n",
              "      <td>943.5</td>\n",
              "      <td>170.2</td>\n",
              "      <td>14.5</td>\n",
              "    </tr>\n",
              "  </tbody>\n",
              "</table>\n",
              "</div>"
            ],
            "text/plain": [
              "                                 Year  ... Bond Actor Salary\n",
              "Film                                   ...                  \n",
              "Dr. No                           1962  ...               0.6\n",
              "From Russia with Love            1963  ...               1.6\n",
              "Goldfinger                       1964  ...               3.2\n",
              "Thunderball                      1965  ...               4.7\n",
              "You Only Live Twice              1967  ...               4.4\n",
              "On Her Majesty's Secret Service  1969  ...               0.6\n",
              "Diamonds Are Forever             1971  ...               5.8\n",
              "Octopussy                        1983  ...               7.8\n",
              "A View to a Kill                 1985  ...               9.1\n",
              "The Living Daylights             1987  ...               5.2\n",
              "Licence to Kill                  1989  ...               7.9\n",
              "GoldenEye                        1995  ...               5.1\n",
              "Tomorrow Never Dies              1997  ...              10.0\n",
              "The World Is Not Enough          1999  ...              13.5\n",
              "Die Another Day                  2002  ...              17.9\n",
              "Casino Royale                    2006  ...               3.3\n",
              "Quantum of Solace                2008  ...               8.1\n",
              "Skyfall                          2012  ...              14.5\n",
              "\n",
              "[18 rows x 6 columns]"
            ]
          },
          "metadata": {
            "tags": []
          },
          "execution_count": 6
        }
      ]
    },
    {
      "cell_type": "code",
      "metadata": {
        "id": "rlOzIUezCx2P"
      },
      "source": [
        "# De forma alternativa podríamos optar por reeplazar valores nulos por el valor de la media para esta variable \n",
        "median_bond_salary = df_jamesbond[\"Bond Actor Salary\"].mean() # calculamos la media\n",
        "df_jamesbond[\"Bond Actor Salary\"]=df_jamesbond[\"Bond Actor Salary\"].fillna(median_bond_salary) # reemplazamos valores nulos\n",
        "\n",
        "# Nota: en otros casos simplemente buscaremos reemplazar valores nulos por 0 --> .fillna(0)"
      ],
      "execution_count": null,
      "outputs": []
    },
    {
      "cell_type": "markdown",
      "metadata": {
        "id": "Z0CHb5QkBvP_"
      },
      "source": [
        "### Remover valores duplicados\n",
        "---"
      ]
    },
    {
      "cell_type": "code",
      "metadata": {
        "id": "EYW7X5sUJO6a"
      },
      "source": [
        "# Importamos un DataFrame que contiene valores duplicados\n",
        "df_duplicates = pd.read_csv(\"https://data-wizards.s3.amazonaws.com/datasets/renfe_estaciones_duplicates.csv\")"
      ],
      "execution_count": null,
      "outputs": []
    },
    {
      "cell_type": "markdown",
      "metadata": {
        "id": "Yxd8kJwl_ziY"
      },
      "source": [
        "#### Identificar valores duplicados\n",
        "\n",
        "Funciones nuevas que introduciremos en esta sección:\n",
        "```\n",
        "object.duplicated()\n",
        "```\n",
        "> *Este método permite testear si una fila es duplicado perfecto de otra existente*\n",
        "\n"
      ]
    },
    {
      "cell_type": "code",
      "metadata": {
        "colab": {
          "base_uri": "https://localhost:8080/"
        },
        "id": "RTjhBsgA-oXj",
        "outputId": "efd528c1-f4fc-4ebc-c275-5d425f9ea34e"
      },
      "source": [
        "len(df_duplicates) # comprobamos número de filas en DataFrame"
      ],
      "execution_count": null,
      "outputs": [
        {
          "output_type": "execute_result",
          "data": {
            "text/plain": [
              "630"
            ]
          },
          "metadata": {
            "tags": []
          },
          "execution_count": 9
        }
      ]
    },
    {
      "cell_type": "code",
      "metadata": {
        "colab": {
          "base_uri": "https://localhost:8080/",
          "height": 495
        },
        "id": "R6Cv2FdY_OQ-",
        "outputId": "713f7a09-74eb-4deb-debc-df32d17cb424"
      },
      "source": [
        "# Identificamos valores duplicados\n",
        "cond = df_duplicates.duplicated()\n",
        "df_duplicates[cond]"
      ],
      "execution_count": null,
      "outputs": [
        {
          "output_type": "execute_result",
          "data": {
            "text/html": [
              "<div>\n",
              "<style scoped>\n",
              "    .dataframe tbody tr th:only-of-type {\n",
              "        vertical-align: middle;\n",
              "    }\n",
              "\n",
              "    .dataframe tbody tr th {\n",
              "        vertical-align: top;\n",
              "    }\n",
              "\n",
              "    .dataframe thead th {\n",
              "        text-align: right;\n",
              "    }\n",
              "</style>\n",
              "<table border=\"1\" class=\"dataframe\">\n",
              "  <thead>\n",
              "    <tr style=\"text-align: right;\">\n",
              "      <th></th>\n",
              "      <th>CODIGO</th>\n",
              "      <th>DESCRIPCION</th>\n",
              "      <th>LATITUD</th>\n",
              "      <th>LONGITUD</th>\n",
              "      <th>DIRECCION</th>\n",
              "      <th>C.P.</th>\n",
              "      <th>POBLACION</th>\n",
              "      <th>PROVINCIA</th>\n",
              "      <th>PAIS</th>\n",
              "    </tr>\n",
              "  </thead>\n",
              "  <tbody>\n",
              "    <tr>\n",
              "      <th>16</th>\n",
              "      <td>5000</td>\n",
              "      <td>GRANADA</td>\n",
              "      <td>37.184036</td>\n",
              "      <td>-3.609036</td>\n",
              "      <td>AVENIDA DE LOS ANDALUCES. S/N</td>\n",
              "      <td>18014.0</td>\n",
              "      <td>Granada</td>\n",
              "      <td>Granada</td>\n",
              "      <td>España</td>\n",
              "    </tr>\n",
              "    <tr>\n",
              "      <th>24</th>\n",
              "      <td>10204</td>\n",
              "      <td>ZARZALEJO</td>\n",
              "      <td>40.538817</td>\n",
              "      <td>-4.158073</td>\n",
              "      <td>CALLE DEL FERROCARRIL. S/N</td>\n",
              "      <td>28293.0</td>\n",
              "      <td>Zarzalejo</td>\n",
              "      <td>Madrid</td>\n",
              "      <td>España</td>\n",
              "    </tr>\n",
              "    <tr>\n",
              "      <th>57</th>\n",
              "      <td>11208</td>\n",
              "      <td>VITORIA/GASTEIZ</td>\n",
              "      <td>42.841528</td>\n",
              "      <td>-2.672665</td>\n",
              "      <td>PLAZUELA DE LA ESTACION. 1</td>\n",
              "      <td>1005.0</td>\n",
              "      <td>Vitoria-Gasteiz</td>\n",
              "      <td>Araba/Álava</td>\n",
              "      <td>España</td>\n",
              "    </tr>\n",
              "    <tr>\n",
              "      <th>74</th>\n",
              "      <td>11203</td>\n",
              "      <td>MANZANOS</td>\n",
              "      <td>42.742875</td>\n",
              "      <td>-2.867530</td>\n",
              "      <td>RIO ZADORRA KALEA. S/N</td>\n",
              "      <td>1220.0</td>\n",
              "      <td>Ribera Baja/Erribera Beitia</td>\n",
              "      <td>Araba/Álava</td>\n",
              "      <td>España</td>\n",
              "    </tr>\n",
              "    <tr>\n",
              "      <th>90</th>\n",
              "      <td>15006</td>\n",
              "      <td>CISNEROS</td>\n",
              "      <td>42.191068</td>\n",
              "      <td>-4.850206</td>\n",
              "      <td>CARRETERA P-932 - ESTACION FERROCARRIL. S/N</td>\n",
              "      <td>34320.0</td>\n",
              "      <td>Cisneros</td>\n",
              "      <td>Palencia</td>\n",
              "      <td>España</td>\n",
              "    </tr>\n",
              "    <tr>\n",
              "      <th>181</th>\n",
              "      <td>23004</td>\n",
              "      <td>PONTEVEDRA</td>\n",
              "      <td>42.421640</td>\n",
              "      <td>-8.635830</td>\n",
              "      <td>AVENIDA DE LA ESTACION. S/N</td>\n",
              "      <td>36003.0</td>\n",
              "      <td>Pontevedra</td>\n",
              "      <td>Pontevedra</td>\n",
              "      <td>España</td>\n",
              "    </tr>\n",
              "    <tr>\n",
              "      <th>222</th>\n",
              "      <td>31205</td>\n",
              "      <td>A GUDIÑA</td>\n",
              "      <td>42.060690</td>\n",
              "      <td>-7.132436</td>\n",
              "      <td>CARRETERA N-525 - BEATO SEBASTIAN APARICIO. S/N</td>\n",
              "      <td>32540.0</td>\n",
              "      <td>Gudiña. A</td>\n",
              "      <td>Ourense</td>\n",
              "      <td>España</td>\n",
              "    </tr>\n",
              "    <tr>\n",
              "      <th>227</th>\n",
              "      <td>34005</td>\n",
              "      <td>SAN PEDRO DEL ARROYO</td>\n",
              "      <td>40.803838</td>\n",
              "      <td>-4.871408</td>\n",
              "      <td>CALLE ESTACION FERROCARRIL. S/N</td>\n",
              "      <td>5350.0</td>\n",
              "      <td>San Pedro del Arroyo</td>\n",
              "      <td>Ávila</td>\n",
              "      <td>España</td>\n",
              "    </tr>\n",
              "    <tr>\n",
              "      <th>242</th>\n",
              "      <td>35206</td>\n",
              "      <td>NAVALMORAL DE LA MATA</td>\n",
              "      <td>39.894854</td>\n",
              "      <td>-5.545566</td>\n",
              "      <td>PLAZA ESTACION FERROCARRIL. 1</td>\n",
              "      <td>10300.0</td>\n",
              "      <td>Navalmoral de la Mata</td>\n",
              "      <td>Cáceres</td>\n",
              "      <td>España</td>\n",
              "    </tr>\n",
              "    <tr>\n",
              "      <th>253</th>\n",
              "      <td>37300</td>\n",
              "      <td>PUERTOLLANO</td>\n",
              "      <td>38.691411</td>\n",
              "      <td>-4.111611</td>\n",
              "      <td>CALLE MUELLE. S/N</td>\n",
              "      <td>13500.0</td>\n",
              "      <td>Puertollano</td>\n",
              "      <td>Ciudad Real</td>\n",
              "      <td>España</td>\n",
              "    </tr>\n",
              "  </tbody>\n",
              "</table>\n",
              "</div>"
            ],
            "text/plain": [
              "     CODIGO            DESCRIPCION  ...    PROVINCIA    PAIS\n",
              "16     5000                GRANADA  ...      Granada  España\n",
              "24    10204              ZARZALEJO  ...       Madrid  España\n",
              "57    11208        VITORIA/GASTEIZ  ...  Araba/Álava  España\n",
              "74    11203               MANZANOS  ...  Araba/Álava  España\n",
              "90    15006               CISNEROS  ...     Palencia  España\n",
              "181   23004             PONTEVEDRA  ...   Pontevedra  España\n",
              "222   31205               A GUDIÑA  ...      Ourense  España\n",
              "227   34005   SAN PEDRO DEL ARROYO  ...        Ávila  España\n",
              "242   35206  NAVALMORAL DE LA MATA  ...      Cáceres  España\n",
              "253   37300            PUERTOLLANO  ...  Ciudad Real  España\n",
              "\n",
              "[10 rows x 9 columns]"
            ]
          },
          "metadata": {
            "tags": []
          },
          "execution_count": 8
        }
      ]
    },
    {
      "cell_type": "markdown",
      "metadata": {
        "id": "DECye02wBr-Y"
      },
      "source": [
        "#### Remover valores duplicados\n",
        "\n",
        "Funciones nuevas que introducidemos en esta sección:\n",
        "```\n",
        "object.drop_duplicates()\n",
        "```\n",
        "> *Este método elimina automáticamente filas duplicadas*"
      ]
    },
    {
      "cell_type": "code",
      "metadata": {
        "id": "sgWTvOHz_c58"
      },
      "source": [
        "df_clean = df_duplicates.drop_duplicates() # removemos filas duplicadas y almacenamos el output en un nuevo objeto"
      ],
      "execution_count": null,
      "outputs": []
    },
    {
      "cell_type": "code",
      "metadata": {
        "colab": {
          "base_uri": "https://localhost:8080/"
        },
        "id": "_nYpC4Ou_nxR",
        "outputId": "168f2d49-8cad-4760-d12f-98ec1cd1e8a1"
      },
      "source": [
        "len(df_clean) # corroboranos que el nuevo DataFrame contiene menos filas"
      ],
      "execution_count": null,
      "outputs": [
        {
          "output_type": "execute_result",
          "data": {
            "text/plain": [
              "620"
            ]
          },
          "metadata": {
            "tags": []
          },
          "execution_count": 11
        }
      ]
    },
    {
      "cell_type": "markdown",
      "metadata": {
        "id": "CuT7GRFk_E_t"
      },
      "source": [
        "### Identificar outliers\n",
        "---\n"
      ]
    },
    {
      "cell_type": "code",
      "metadata": {
        "id": "gZw0ecGzJ_5H"
      },
      "source": [
        "# Importamos DataFrame\n",
        "df_jamesbond = pd.read_csv(\"https://data-wizards.s3.amazonaws.com/datasets/jamesbond.csv\",index_col=\"Film\")"
      ],
      "execution_count": null,
      "outputs": []
    },
    {
      "cell_type": "markdown",
      "metadata": {
        "id": "Zgxb4aOmqgU9"
      },
      "source": [
        "Es importante identificar outliers en variables continuas. Dependiendo del caso, estaremos interesados únicamente en detectar posibles errores o en eliminar todo posible outliers (sea un error o no).\n",
        "\n",
        "Existen distintas formas de detectar outliers. En este curso, introduciremos un método sencillo: *normalizando la variable a z (distribución normal)*. En este método, asumiremos que la variable se distribuye normalmente y la convertiremos a z. Por convención, entendemos valores outliers a aquellos con valor absoluto mayor a 3 (z>3 y z<-3).\n",
        "\n",
        "Funciones nuevas que introducimos en esta sección:\n",
        "\n",
        "```\n",
        "stats.zscore(column, nan_policy='omit')\n",
        "```\n",
        "> *Este método normaliza una variable a z (distribución normal)*\n",
        "\n",
        "\n",
        "\n"
      ]
    },
    {
      "cell_type": "code",
      "metadata": {
        "id": "WCGTGpL7pZy2"
      },
      "source": [
        "# Normalizamos la variable \"Box Office\" a z\n",
        "df_jamesbond[\"z_Box Office\"] = stats.zscore(df_jamesbond[\"Box Office\"],nan_policy='omit').round(2)"
      ],
      "execution_count": null,
      "outputs": []
    },
    {
      "cell_type": "code",
      "metadata": {
        "colab": {
          "base_uri": "https://localhost:8080/",
          "height": 858
        },
        "id": "ToC8YXo4J-Fz",
        "outputId": "cca43e2b-bce5-46c2-c6e3-5d4e69616114"
      },
      "source": [
        "# Seleccionamos \"Box Office\" y su versión normalizada\n",
        "df_jamesbond[[\"Box Office\",\"z_Box Office\"]].sort_values(\"z_Box Office\",ascending=False)\n",
        "# Nota: no detectamos outliers"
      ],
      "execution_count": null,
      "outputs": [
        {
          "output_type": "execute_result",
          "data": {
            "text/html": [
              "<div>\n",
              "<style scoped>\n",
              "    .dataframe tbody tr th:only-of-type {\n",
              "        vertical-align: middle;\n",
              "    }\n",
              "\n",
              "    .dataframe tbody tr th {\n",
              "        vertical-align: top;\n",
              "    }\n",
              "\n",
              "    .dataframe thead th {\n",
              "        text-align: right;\n",
              "    }\n",
              "</style>\n",
              "<table border=\"1\" class=\"dataframe\">\n",
              "  <thead>\n",
              "    <tr style=\"text-align: right;\">\n",
              "      <th></th>\n",
              "      <th>Box Office</th>\n",
              "      <th>z_Box Office</th>\n",
              "    </tr>\n",
              "    <tr>\n",
              "      <th>Film</th>\n",
              "      <th></th>\n",
              "      <th></th>\n",
              "    </tr>\n",
              "  </thead>\n",
              "  <tbody>\n",
              "    <tr>\n",
              "      <th>Skyfall</th>\n",
              "      <td>943.5</td>\n",
              "      <td>2.61</td>\n",
              "    </tr>\n",
              "    <tr>\n",
              "      <th>Thunderball</th>\n",
              "      <td>848.1</td>\n",
              "      <td>2.06</td>\n",
              "    </tr>\n",
              "    <tr>\n",
              "      <th>Goldfinger</th>\n",
              "      <td>820.4</td>\n",
              "      <td>1.90</td>\n",
              "    </tr>\n",
              "    <tr>\n",
              "      <th>Spectre</th>\n",
              "      <td>726.7</td>\n",
              "      <td>1.36</td>\n",
              "    </tr>\n",
              "    <tr>\n",
              "      <th>Casino Royale</th>\n",
              "      <td>581.5</td>\n",
              "      <td>0.52</td>\n",
              "    </tr>\n",
              "    <tr>\n",
              "      <th>From Russia with Love</th>\n",
              "      <td>543.8</td>\n",
              "      <td>0.30</td>\n",
              "    </tr>\n",
              "    <tr>\n",
              "      <th>Moonraker</th>\n",
              "      <td>535.0</td>\n",
              "      <td>0.25</td>\n",
              "    </tr>\n",
              "    <tr>\n",
              "      <th>The Spy Who Loved Me</th>\n",
              "      <td>533.0</td>\n",
              "      <td>0.24</td>\n",
              "    </tr>\n",
              "    <tr>\n",
              "      <th>GoldenEye</th>\n",
              "      <td>518.5</td>\n",
              "      <td>0.16</td>\n",
              "    </tr>\n",
              "    <tr>\n",
              "      <th>You Only Live Twice</th>\n",
              "      <td>514.2</td>\n",
              "      <td>0.13</td>\n",
              "    </tr>\n",
              "    <tr>\n",
              "      <th>Quantum of Solace</th>\n",
              "      <td>514.2</td>\n",
              "      <td>0.13</td>\n",
              "    </tr>\n",
              "    <tr>\n",
              "      <th>Die Another Day</th>\n",
              "      <td>465.4</td>\n",
              "      <td>-0.15</td>\n",
              "    </tr>\n",
              "    <tr>\n",
              "      <th>Tomorrow Never Dies</th>\n",
              "      <td>463.2</td>\n",
              "      <td>-0.16</td>\n",
              "    </tr>\n",
              "    <tr>\n",
              "      <th>Live and Let Die</th>\n",
              "      <td>460.3</td>\n",
              "      <td>-0.18</td>\n",
              "    </tr>\n",
              "    <tr>\n",
              "      <th>For Your Eyes Only</th>\n",
              "      <td>449.4</td>\n",
              "      <td>-0.24</td>\n",
              "    </tr>\n",
              "    <tr>\n",
              "      <th>Dr. No</th>\n",
              "      <td>448.8</td>\n",
              "      <td>-0.25</td>\n",
              "    </tr>\n",
              "    <tr>\n",
              "      <th>Diamonds Are Forever</th>\n",
              "      <td>442.5</td>\n",
              "      <td>-0.28</td>\n",
              "    </tr>\n",
              "    <tr>\n",
              "      <th>The World Is Not Enough</th>\n",
              "      <td>439.5</td>\n",
              "      <td>-0.30</td>\n",
              "    </tr>\n",
              "    <tr>\n",
              "      <th>Never Say Never Again</th>\n",
              "      <td>380.0</td>\n",
              "      <td>-0.64</td>\n",
              "    </tr>\n",
              "    <tr>\n",
              "      <th>Octopussy</th>\n",
              "      <td>373.8</td>\n",
              "      <td>-0.68</td>\n",
              "    </tr>\n",
              "    <tr>\n",
              "      <th>The Man with the Golden Gun</th>\n",
              "      <td>334.0</td>\n",
              "      <td>-0.91</td>\n",
              "    </tr>\n",
              "    <tr>\n",
              "      <th>Casino Royale</th>\n",
              "      <td>315.0</td>\n",
              "      <td>-1.02</td>\n",
              "    </tr>\n",
              "    <tr>\n",
              "      <th>The Living Daylights</th>\n",
              "      <td>313.5</td>\n",
              "      <td>-1.03</td>\n",
              "    </tr>\n",
              "    <tr>\n",
              "      <th>On Her Majesty's Secret Service</th>\n",
              "      <td>291.5</td>\n",
              "      <td>-1.15</td>\n",
              "    </tr>\n",
              "    <tr>\n",
              "      <th>A View to a Kill</th>\n",
              "      <td>275.2</td>\n",
              "      <td>-1.25</td>\n",
              "    </tr>\n",
              "    <tr>\n",
              "      <th>Licence to Kill</th>\n",
              "      <td>250.9</td>\n",
              "      <td>-1.39</td>\n",
              "    </tr>\n",
              "  </tbody>\n",
              "</table>\n",
              "</div>"
            ],
            "text/plain": [
              "                                 Box Office  z_Box Office\n",
              "Film                                                     \n",
              "Skyfall                               943.5          2.61\n",
              "Thunderball                           848.1          2.06\n",
              "Goldfinger                            820.4          1.90\n",
              "Spectre                               726.7          1.36\n",
              "Casino Royale                         581.5          0.52\n",
              "From Russia with Love                 543.8          0.30\n",
              "Moonraker                             535.0          0.25\n",
              "The Spy Who Loved Me                  533.0          0.24\n",
              "GoldenEye                             518.5          0.16\n",
              "You Only Live Twice                   514.2          0.13\n",
              "Quantum of Solace                     514.2          0.13\n",
              "Die Another Day                       465.4         -0.15\n",
              "Tomorrow Never Dies                   463.2         -0.16\n",
              "Live and Let Die                      460.3         -0.18\n",
              "For Your Eyes Only                    449.4         -0.24\n",
              "Dr. No                                448.8         -0.25\n",
              "Diamonds Are Forever                  442.5         -0.28\n",
              "The World Is Not Enough               439.5         -0.30\n",
              "Never Say Never Again                 380.0         -0.64\n",
              "Octopussy                             373.8         -0.68\n",
              "The Man with the Golden Gun           334.0         -0.91\n",
              "Casino Royale                         315.0         -1.02\n",
              "The Living Daylights                  313.5         -1.03\n",
              "On Her Majesty's Secret Service       291.5         -1.15\n",
              "A View to a Kill                      275.2         -1.25\n",
              "Licence to Kill                       250.9         -1.39"
            ]
          },
          "metadata": {
            "tags": []
          },
          "execution_count": 23
        }
      ]
    },
    {
      "cell_type": "markdown",
      "metadata": {
        "id": "oG56cZr6Cl7r"
      },
      "source": [
        "# EDA: FRECUENCIA\n",
        "Al explorar frecuencia, buscamos entender la cantidad de veces que se repite cada valor en una variable categórica.\n",
        "\n",
        "Funciones nuevas que introducimos en esta sección:\n",
        "\n",
        "```\n",
        "describe()\n",
        "```\n",
        "> *Al aplicar describe() a una variable categórica podemos obtener información básica sobre la cantidad de observaciones, valores únicos y frecuencia mayor*\n",
        "\n",
        "```\n",
        "value_counts(normalize=False)\n",
        "```\n",
        "> *Este método permite obtener la frecuencia para cada valor único en una variable categórica. Por defecto, devuelve la frecuencia en valor absoluto; al editar el parámetro \"normalize\" permite obtener la frecuencia relativa*\n",
        "\n",
        "```\n",
        "plot(kind='bar'/'barh')\n",
        "```\n",
        "> *Este método permite realizar gráficos simples de distinto tipo. En esta sección editaremos el parámetro \"kind\" para construir gráficos de barra*\n",
        "\n",
        "\n",
        "\n"
      ]
    },
    {
      "cell_type": "code",
      "metadata": {
        "id": "xDXEQy-PnVYn"
      },
      "source": [
        "# Importamos df\n",
        "df_jamesbond = pd.read_csv(\"https://data-wizards.s3.amazonaws.com/datasets/jamesbond.csv\",index_col=\"Film\")"
      ],
      "execution_count": 5,
      "outputs": []
    },
    {
      "cell_type": "code",
      "metadata": {
        "colab": {
          "base_uri": "https://localhost:8080/"
        },
        "id": "cufsPHjmYrtO",
        "outputId": "4cdf3295-827e-48a6-d37b-add0c3827474"
      },
      "source": [
        "# Generamos información básica sobre una variable categórica\n",
        "df_jamesbond[\"Director\"].describe()"
      ],
      "execution_count": 11,
      "outputs": [
        {
          "output_type": "execute_result",
          "data": {
            "text/plain": [
              "count            26\n",
              "unique           13\n",
              "top       John Glen\n",
              "freq              5\n",
              "Name: Director, dtype: object"
            ]
          },
          "metadata": {
            "tags": []
          },
          "execution_count": 11
        }
      ]
    },
    {
      "cell_type": "code",
      "metadata": {
        "colab": {
          "base_uri": "https://localhost:8080/"
        },
        "id": "0BfUTwsmD2Oc",
        "outputId": "708b30b0-02ed-4ade-a6f0-bc5934624f63"
      },
      "source": [
        "# Obtenemos la frecuencia en valor absoluto\n",
        "df_jamesbond[\"Director\"].value_counts()"
      ],
      "execution_count": 10,
      "outputs": [
        {
          "output_type": "execute_result",
          "data": {
            "text/plain": [
              "John Glen             5\n",
              "Guy Hamilton          4\n",
              "Lewis Gilbert         3\n",
              "Terence Young         3\n",
              "Sam Mendes            2\n",
              "Martin Campbell       2\n",
              "Ken Hughes            1\n",
              "Peter R. Hunt         1\n",
              "Marc Forster          1\n",
              "Irvin Kershner        1\n",
              "Michael Apted         1\n",
              "Lee Tamahori          1\n",
              "Roger Spottiswoode    1\n",
              "Name: Director, dtype: int64"
            ]
          },
          "metadata": {
            "tags": []
          },
          "execution_count": 10
        }
      ]
    },
    {
      "cell_type": "code",
      "metadata": {
        "id": "cJcz1uovoEK0",
        "colab": {
          "base_uri": "https://localhost:8080/"
        },
        "outputId": "284c3d8e-01ef-4895-ae5e-758cc5d271e3"
      },
      "source": [
        "# El parámetro normalize nos permite crear una tabla con la frecuencia relativa\n",
        "df_jamesbond[\"Director\"].value_counts(normalize=True)"
      ],
      "execution_count": 12,
      "outputs": [
        {
          "output_type": "execute_result",
          "data": {
            "text/plain": [
              "John Glen             0.192308\n",
              "Guy Hamilton          0.153846\n",
              "Lewis Gilbert         0.115385\n",
              "Terence Young         0.115385\n",
              "Sam Mendes            0.076923\n",
              "Martin Campbell       0.076923\n",
              "Ken Hughes            0.038462\n",
              "Peter R. Hunt         0.038462\n",
              "Marc Forster          0.038462\n",
              "Irvin Kershner        0.038462\n",
              "Michael Apted         0.038462\n",
              "Lee Tamahori          0.038462\n",
              "Roger Spottiswoode    0.038462\n",
              "Name: Director, dtype: float64"
            ]
          },
          "metadata": {
            "tags": []
          },
          "execution_count": 12
        }
      ]
    },
    {
      "cell_type": "code",
      "metadata": {
        "colab": {
          "base_uri": "https://localhost:8080/"
        },
        "id": "1YIH--ZMMBfm",
        "outputId": "ff1ac5b7-c2e5-4e2c-8017-fcf95c6a7d4e"
      },
      "source": [
        "# Podemos obtener la frecuancia para combinaciones de más de una variable categórica\n",
        "df_jamesbond[[\"Director\",\"Actor\"]].value_counts()"
      ],
      "execution_count": null,
      "outputs": [
        {
          "output_type": "execute_result",
          "data": {
            "text/plain": [
              "Director            Actor         \n",
              "Terence Young       Sean Connery      3\n",
              "John Glen           Roger Moore       3\n",
              "Sam Mendes          Daniel Craig      2\n",
              "Guy Hamilton        Sean Connery      2\n",
              "John Glen           Timothy Dalton    2\n",
              "Lewis Gilbert       Roger Moore       2\n",
              "Guy Hamilton        Roger Moore       2\n",
              "Marc Forster        Daniel Craig      1\n",
              "Martin Campbell     Daniel Craig      1\n",
              "                    Pierce Brosnan    1\n",
              "Lee Tamahori        Pierce Brosnan    1\n",
              "Ken Hughes          David Niven       1\n",
              "Michael Apted       Pierce Brosnan    1\n",
              "Peter R. Hunt       George Lazenby    1\n",
              "Irvin Kershner      Sean Connery      1\n",
              "Roger Spottiswoode  Pierce Brosnan    1\n",
              "Lewis Gilbert       Sean Connery      1\n",
              "dtype: int64"
            ]
          },
          "metadata": {
            "tags": []
          },
          "execution_count": 36
        }
      ]
    },
    {
      "cell_type": "code",
      "metadata": {
        "colab": {
          "base_uri": "https://localhost:8080/",
          "height": 353
        },
        "id": "qQp6w9KHOkC3",
        "outputId": "dc1b747d-73e9-41ef-c103-680b60050c27"
      },
      "source": [
        "# A continuación, utilizaremos un gráfico de barra (vertical) para visualizar la frecuencia\n",
        "df_jamesbond[\"Actor\"].value_counts().plot(kind = 'bar')"
      ],
      "execution_count": null,
      "outputs": [
        {
          "output_type": "execute_result",
          "data": {
            "text/plain": [
              "<matplotlib.axes._subplots.AxesSubplot at 0x7fafa4783e50>"
            ]
          },
          "metadata": {
            "tags": []
          },
          "execution_count": 50
        },
        {
          "output_type": "display_data",
          "data": {
            "image/png": "[encoded data removed]",
            "text/plain": [
              "<Figure size 432x288 with 1 Axes>"
            ]
          },
          "metadata": {
            "tags": [],
            "needs_background": "light"
          }
        }
      ]
    },
    {
      "cell_type": "code",
      "metadata": {
        "colab": {
          "base_uri": "https://localhost:8080/",
          "height": 282
        },
        "id": "Gkc1I2OlNL2P",
        "outputId": "b1c5784a-1cdc-4aaf-cced-93706b3100a1"
      },
      "source": [
        "# De forma alternativa, podemos optar por un gráfico horizontal\n",
        "df_jamesbond[\"Actor\"].value_counts().sort_values().plot(kind = 'barh')"
      ],
      "execution_count": null,
      "outputs": [
        {
          "output_type": "execute_result",
          "data": {
            "text/plain": [
              "<matplotlib.axes._subplots.AxesSubplot at 0x7fafa4816cd0>"
            ]
          },
          "metadata": {
            "tags": []
          },
          "execution_count": 49
        },
        {
          "output_type": "display_data",
          "data": {
            "image/png": "[encoded data removed]",
            "text/plain": [
              "<Figure size 432x288 with 1 Axes>"
            ]
          },
          "metadata": {
            "tags": [],
            "needs_background": "light"
          }
        }
      ]
    },
    {
      "cell_type": "markdown",
      "metadata": {
        "id": "mSkeaIDvCqnN"
      },
      "source": [
        "# EDA: CORRELACIÓN\n",
        "Al explorar correlación, buscamos medir el grado de asociación y dirección entre dos variable continuas.\n",
        "\n",
        "*Funciones nuevas que introducimos en esta sección:*\n",
        "\n",
        "```\n",
        "scipy.stats.pearsonr(x,y)\n",
        "```\n",
        "> *Esta función permite obtener la correlación (Pearson) entre dos variables continuas; también proporciona el p-value para la prueba de hipótesis de que no existe correlación entre las variables (H0: r=0%)*\n",
        "\n",
        "```\n",
        "corr()\n",
        "```\n",
        "> *Este método permite construir una matrix de correlación*\n",
        "\n",
        "```\n",
        "plot(x,y,kind=\"scatter\")\n",
        "```\n",
        "> *En esta sección, utilizaremos el método plot para visualizar gráficos de dispersión*\n",
        "\n",
        "```\n",
        "sn.heatmap(object, annot=True)\n",
        "```\n",
        "> *Este método permite visualizar gráficos de tipo \"heatmap\"*; el parámetro \"annot\" permite añadir anotaciones al gráfico\n"
      ]
    },
    {
      "cell_type": "code",
      "metadata": {
        "id": "9KHshy0WqlZc"
      },
      "source": [
        "# Importamos df\n",
        "df_jamesbond = pd.read_csv(\"https://data-wizards.s3.amazonaws.com/datasets/jamesbond.csv\",index_col=\"Film\")"
      ],
      "execution_count": null,
      "outputs": []
    },
    {
      "cell_type": "code",
      "metadata": {
        "colab": {
          "base_uri": "https://localhost:8080/"
        },
        "id": "M7P1xJ2pSHdp",
        "outputId": "e368c1f6-ee5f-4f9f-eae8-6dd04e4eedd6"
      },
      "source": [
        "# Obtenemos la correlación entre dos variables continuas en nuestro DataFrame\n",
        "## el tipo de correlación utilizada es pearson's\n",
        "scipy.stats.pearsonr(df_jamesbond[\"Box Office\"],df_jamesbond[\"Budget\"])\n",
        "# Nota: el grado de correlación entre las variables seleccionadas es positivo y bajo (28%)"
      ],
      "execution_count": null,
      "outputs": [
        {
          "output_type": "execute_result",
          "data": {
            "text/plain": [
              "(0.28318466575203255, 0.1609638785608065)"
            ]
          },
          "metadata": {
            "tags": []
          },
          "execution_count": 17
        }
      ]
    },
    {
      "cell_type": "code",
      "metadata": {
        "colab": {
          "base_uri": "https://localhost:8080/",
          "height": 142
        },
        "id": "W9ZJI-asRbYc",
        "outputId": "2a9e33a3-9bbf-4ed9-ad74-68b72de8d60d"
      },
      "source": [
        "# A continuación, construiremos una matrix de correlación para evaluar la correlación entre todas las variables continuas\n",
        "df_jamesbond[[\"Box Office\",\"Budget\",\"Bond Actor Salary\"]].corr()\n",
        "## las variables con mayor grado de correlación son \"Budget\" y \"Bond Actor Salary\""
      ],
      "execution_count": null,
      "outputs": [
        {
          "output_type": "execute_result",
          "data": {
            "text/html": [
              "<div>\n",
              "<style scoped>\n",
              "    .dataframe tbody tr th:only-of-type {\n",
              "        vertical-align: middle;\n",
              "    }\n",
              "\n",
              "    .dataframe tbody tr th {\n",
              "        vertical-align: top;\n",
              "    }\n",
              "\n",
              "    .dataframe thead th {\n",
              "        text-align: right;\n",
              "    }\n",
              "</style>\n",
              "<table border=\"1\" class=\"dataframe\">\n",
              "  <thead>\n",
              "    <tr style=\"text-align: right;\">\n",
              "      <th></th>\n",
              "      <th>Box Office</th>\n",
              "      <th>Budget</th>\n",
              "      <th>Bond Actor Salary</th>\n",
              "    </tr>\n",
              "  </thead>\n",
              "  <tbody>\n",
              "    <tr>\n",
              "      <th>Box Office</th>\n",
              "      <td>1.000000</td>\n",
              "      <td>0.283185</td>\n",
              "      <td>0.069542</td>\n",
              "    </tr>\n",
              "    <tr>\n",
              "      <th>Budget</th>\n",
              "      <td>0.283185</td>\n",
              "      <td>1.000000</td>\n",
              "      <td>0.728390</td>\n",
              "    </tr>\n",
              "    <tr>\n",
              "      <th>Bond Actor Salary</th>\n",
              "      <td>0.069542</td>\n",
              "      <td>0.728390</td>\n",
              "      <td>1.000000</td>\n",
              "    </tr>\n",
              "  </tbody>\n",
              "</table>\n",
              "</div>"
            ],
            "text/plain": [
              "                   Box Office    Budget  Bond Actor Salary\n",
              "Box Office           1.000000  0.283185           0.069542\n",
              "Budget               0.283185  1.000000           0.728390\n",
              "Bond Actor Salary    0.069542  0.728390           1.000000"
            ]
          },
          "metadata": {
            "tags": []
          },
          "execution_count": 66
        }
      ]
    },
    {
      "cell_type": "code",
      "metadata": {
        "colab": {
          "base_uri": "https://localhost:8080/",
          "height": 296
        },
        "id": "_vKMN33uRCNk",
        "outputId": "ab189fdb-7647-4fe7-97f4-8748834bb2e4"
      },
      "source": [
        "# Utilizamos el método plot(), especificando dos variables numéricas para realizar un gráfico de dispersión\n",
        "df_jamesbond.plot(\"Budget\",\"Bond Actor Salary\",kind=\"scatter\")"
      ],
      "execution_count": null,
      "outputs": [
        {
          "output_type": "execute_result",
          "data": {
            "text/plain": [
              "<matplotlib.axes._subplots.AxesSubplot at 0x7fafa4519350>"
            ]
          },
          "metadata": {
            "tags": []
          },
          "execution_count": 71
        },
        {
          "output_type": "display_data",
          "data": {
            "image/png": "[encoded data removed]",
            "text/plain": [
              "<Figure size 432x288 with 1 Axes>"
            ]
          },
          "metadata": {
            "tags": [],
            "needs_background": "light"
          }
        }
      ]
    },
    {
      "cell_type": "code",
      "metadata": {
        "colab": {
          "base_uri": "https://localhost:8080/",
          "height": 405
        },
        "id": "aEsS7_QRRHWZ",
        "outputId": "09f2b98a-d80f-40c6-df6a-90df87f92e42"
      },
      "source": [
        "# En el método plot(), podemos cambiar el tamaño del gráfico editando el parámetro \"figsize\"\n",
        "df_jamesbond.plot(\"Budget\",\"Bond Actor Salary\",kind=\"scatter\",figsize=(10,6))"
      ],
      "execution_count": null,
      "outputs": [
        {
          "output_type": "execute_result",
          "data": {
            "text/plain": [
              "<matplotlib.axes._subplots.AxesSubplot at 0x7fafa44a58d0>"
            ]
          },
          "metadata": {
            "tags": []
          },
          "execution_count": 72
        },
        {
          "output_type": "display_data",
          "data": {
            "image/png": "[encoded data removed]",
            "text/plain": [
              "<Figure size 720x432 with 1 Axes>"
            ]
          },
          "metadata": {
            "tags": [],
            "needs_background": "light"
          }
        }
      ]
    },
    {
      "cell_type": "code",
      "metadata": {
        "colab": {
          "base_uri": "https://localhost:8080/",
          "height": 319
        },
        "id": "vEF45-ZBRHy4",
        "outputId": "e3755fd7-b344-4be4-ffa4-fa82d2dac80a"
      },
      "source": [
        "# Para visualizar una matriz de correlación, podemos utilizar un gráfico de tipo \"heatmap\"\n",
        "corrMatrix= df_jamesbond[[\"Box Office\",\"Budget\",\"Bond Actor Salary\"]].corr()\n",
        "sn.heatmap(corrMatrix, annot=True) # utilizamos la librearía seaborn para realizar un heatmap"
      ],
      "execution_count": null,
      "outputs": [
        {
          "output_type": "execute_result",
          "data": {
            "text/plain": [
              "<matplotlib.axes._subplots.AxesSubplot at 0x7fafa45aff10>"
            ]
          },
          "metadata": {
            "tags": []
          },
          "execution_count": 76
        },
        {
          "output_type": "display_data",
          "data": {
            "image/png": "[encoded data removed]",
            "text/plain": [
              "<Figure size 432x288 with 2 Axes>"
            ]
          },
          "metadata": {
            "tags": [],
            "needs_background": "light"
          }
        }
      ]
    },
    {
      "cell_type": "markdown",
      "metadata": {
        "id": "36Mm5XgoCqqA"
      },
      "source": [
        "# EDA: DISTRIBUCIÓN\n",
        "El estudiar distribución, buscamos entender cómo se encuentra dispersa una variable continua en el total de observaciones. \n",
        "\n",
        "*Funciones nuevas que introducimos en esta sección:*\n",
        "\n",
        "```\n",
        "describe(object,percentiles=[...])\n",
        "```\n",
        "> Este método permite obtener la distribución de todas las variables numéricas incluidas en un DataFrame. Por defecto, despliega la distribución en cuartiles, podemos editar esto utilizando el parámetro \"percentiles\"\n",
        "\n",
        "```\n",
        "hist(bins=x)\n",
        "```\n",
        "> El método hist() grafica histogramas. Podemos editar los rangos numéricos del eje x utilizando el parámetro \"bins\"\n",
        "\n",
        "```\n",
        "sn.boxplot(x, y, data=object)\n",
        "```\n",
        "> Esta función permite graficar boxplots\n",
        "\n"
      ]
    },
    {
      "cell_type": "code",
      "metadata": {
        "id": "mTZNAaopqjGd"
      },
      "source": [
        "# Importamos df\n",
        "df_jamesbond = pd.read_csv(\"https://data-wizards.s3.amazonaws.com/datasets/jamesbond.csv\",index_col=\"Film\")"
      ],
      "execution_count": null,
      "outputs": []
    },
    {
      "cell_type": "code",
      "metadata": {
        "id": "h6DE7b1moUNZ",
        "colab": {
          "base_uri": "https://localhost:8080/",
          "height": 297
        },
        "outputId": "1650a655-9287-4dd8-ee2a-9f02f3af4dc6"
      },
      "source": [
        "# Seleccionamos variables continuas y analizamos su distribución\n",
        "df_jamesbond[[\"Box Office\",\"Budget\",\"Bond Actor Salary\"]].describe()"
      ],
      "execution_count": null,
      "outputs": [
        {
          "output_type": "execute_result",
          "data": {
            "text/html": [
              "<div>\n",
              "<style scoped>\n",
              "    .dataframe tbody tr th:only-of-type {\n",
              "        vertical-align: middle;\n",
              "    }\n",
              "\n",
              "    .dataframe tbody tr th {\n",
              "        vertical-align: top;\n",
              "    }\n",
              "\n",
              "    .dataframe thead th {\n",
              "        text-align: right;\n",
              "    }\n",
              "</style>\n",
              "<table border=\"1\" class=\"dataframe\">\n",
              "  <thead>\n",
              "    <tr style=\"text-align: right;\">\n",
              "      <th></th>\n",
              "      <th>Box Office</th>\n",
              "      <th>Budget</th>\n",
              "      <th>Bond Actor Salary</th>\n",
              "    </tr>\n",
              "  </thead>\n",
              "  <tbody>\n",
              "    <tr>\n",
              "      <th>count</th>\n",
              "      <td>26.000000</td>\n",
              "      <td>26.000000</td>\n",
              "      <td>18.000000</td>\n",
              "    </tr>\n",
              "    <tr>\n",
              "      <th>mean</th>\n",
              "      <td>491.611538</td>\n",
              "      <td>80.719231</td>\n",
              "      <td>6.850000</td>\n",
              "    </tr>\n",
              "    <tr>\n",
              "      <th>std</th>\n",
              "      <td>176.740396</td>\n",
              "      <td>57.097608</td>\n",
              "      <td>4.805175</td>\n",
              "    </tr>\n",
              "    <tr>\n",
              "      <th>min</th>\n",
              "      <td>250.900000</td>\n",
              "      <td>7.000000</td>\n",
              "      <td>0.600000</td>\n",
              "    </tr>\n",
              "    <tr>\n",
              "      <th>25%</th>\n",
              "      <td>375.350000</td>\n",
              "      <td>38.450000</td>\n",
              "      <td>3.575000</td>\n",
              "    </tr>\n",
              "    <tr>\n",
              "      <th>50%</th>\n",
              "      <td>461.750000</td>\n",
              "      <td>60.050000</td>\n",
              "      <td>5.500000</td>\n",
              "    </tr>\n",
              "    <tr>\n",
              "      <th>75%</th>\n",
              "      <td>534.500000</td>\n",
              "      <td>123.300000</td>\n",
              "      <td>8.850000</td>\n",
              "    </tr>\n",
              "    <tr>\n",
              "      <th>max</th>\n",
              "      <td>943.500000</td>\n",
              "      <td>206.300000</td>\n",
              "      <td>17.900000</td>\n",
              "    </tr>\n",
              "  </tbody>\n",
              "</table>\n",
              "</div>"
            ],
            "text/plain": [
              "       Box Office      Budget  Bond Actor Salary\n",
              "count   26.000000   26.000000          18.000000\n",
              "mean   491.611538   80.719231           6.850000\n",
              "std    176.740396   57.097608           4.805175\n",
              "min    250.900000    7.000000           0.600000\n",
              "25%    375.350000   38.450000           3.575000\n",
              "50%    461.750000   60.050000           5.500000\n",
              "75%    534.500000  123.300000           8.850000\n",
              "max    943.500000  206.300000          17.900000"
            ]
          },
          "metadata": {
            "tags": []
          },
          "execution_count": 7
        }
      ]
    },
    {
      "cell_type": "code",
      "metadata": {
        "id": "_Bkyb0R1o8Xi",
        "colab": {
          "base_uri": "https://localhost:8080/",
          "height": 142
        },
        "outputId": "756297a7-c3d7-43a3-d756-082a3ccb1dcc"
      },
      "source": [
        "# A continuación, editamos la distribución para poder verla en deciles\n",
        "df_jamesbond[['Box Office','Budget','Bond Actor Salary']].describe(\n",
        "    percentiles=[0.1,0.2,0.3,0.4,0.5,0.6,0.7,0.8,0.9] # especificamos cómo queremos la distribución\n",
        "    ).T # pivotamos la tabla para pasar de una tabla larga a una ancha"
      ],
      "execution_count": null,
      "outputs": [
        {
          "output_type": "execute_result",
          "data": {
            "text/html": [
              "<div>\n",
              "<style scoped>\n",
              "    .dataframe tbody tr th:only-of-type {\n",
              "        vertical-align: middle;\n",
              "    }\n",
              "\n",
              "    .dataframe tbody tr th {\n",
              "        vertical-align: top;\n",
              "    }\n",
              "\n",
              "    .dataframe thead th {\n",
              "        text-align: right;\n",
              "    }\n",
              "</style>\n",
              "<table border=\"1\" class=\"dataframe\">\n",
              "  <thead>\n",
              "    <tr style=\"text-align: right;\">\n",
              "      <th></th>\n",
              "      <th>count</th>\n",
              "      <th>mean</th>\n",
              "      <th>std</th>\n",
              "      <th>min</th>\n",
              "      <th>10%</th>\n",
              "      <th>20%</th>\n",
              "      <th>30%</th>\n",
              "      <th>40%</th>\n",
              "      <th>50%</th>\n",
              "      <th>60%</th>\n",
              "      <th>70%</th>\n",
              "      <th>80%</th>\n",
              "      <th>90%</th>\n",
              "      <th>max</th>\n",
              "    </tr>\n",
              "  </thead>\n",
              "  <tbody>\n",
              "    <tr>\n",
              "      <th>Box Office</th>\n",
              "      <td>26.0</td>\n",
              "      <td>491.611538</td>\n",
              "      <td>176.740396</td>\n",
              "      <td>250.9</td>\n",
              "      <td>302.50</td>\n",
              "      <td>334.00</td>\n",
              "      <td>409.75</td>\n",
              "      <td>448.80</td>\n",
              "      <td>461.75</td>\n",
              "      <td>514.20</td>\n",
              "      <td>525.75</td>\n",
              "      <td>543.80</td>\n",
              "      <td>773.55</td>\n",
              "      <td>943.5</td>\n",
              "    </tr>\n",
              "    <tr>\n",
              "      <th>Budget</th>\n",
              "      <td>26.0</td>\n",
              "      <td>80.719231</td>\n",
              "      <td>57.097608</td>\n",
              "      <td>7.0</td>\n",
              "      <td>23.15</td>\n",
              "      <td>34.70</td>\n",
              "      <td>43.50</td>\n",
              "      <td>54.50</td>\n",
              "      <td>60.05</td>\n",
              "      <td>76.90</td>\n",
              "      <td>88.75</td>\n",
              "      <td>145.30</td>\n",
              "      <td>164.25</td>\n",
              "      <td>206.3</td>\n",
              "    </tr>\n",
              "    <tr>\n",
              "      <th>Bond Actor Salary</th>\n",
              "      <td>18.0</td>\n",
              "      <td>6.850000</td>\n",
              "      <td>4.805175</td>\n",
              "      <td>0.6</td>\n",
              "      <td>1.30</td>\n",
              "      <td>3.24</td>\n",
              "      <td>4.43</td>\n",
              "      <td>5.02</td>\n",
              "      <td>5.50</td>\n",
              "      <td>7.82</td>\n",
              "      <td>8.08</td>\n",
              "      <td>9.64</td>\n",
              "      <td>13.80</td>\n",
              "      <td>17.9</td>\n",
              "    </tr>\n",
              "  </tbody>\n",
              "</table>\n",
              "</div>"
            ],
            "text/plain": [
              "                   count        mean         std  ...     80%     90%    max\n",
              "Box Office          26.0  491.611538  176.740396  ...  543.80  773.55  943.5\n",
              "Budget              26.0   80.719231   57.097608  ...  145.30  164.25  206.3\n",
              "Bond Actor Salary   18.0    6.850000    4.805175  ...    9.64   13.80   17.9\n",
              "\n",
              "[3 rows x 14 columns]"
            ]
          },
          "metadata": {
            "tags": []
          },
          "execution_count": 8
        }
      ]
    },
    {
      "cell_type": "code",
      "metadata": {
        "colab": {
          "base_uri": "https://localhost:8080/",
          "height": 282
        },
        "id": "umsHOe1YwXWz",
        "outputId": "724ee60a-8a09-4df6-8fb9-4e168ac604f2"
      },
      "source": [
        "# Seleccionamos una variable continua y utilzamos método .hist() para graficar un histograma\n",
        "df_jamesbond[\"Bond Actor Salary\"].hist(bins=20) # adaptamos el número de \"bins\""
      ],
      "execution_count": null,
      "outputs": [
        {
          "output_type": "execute_result",
          "data": {
            "text/plain": [
              "<matplotlib.axes._subplots.AxesSubplot at 0x7f6455a85650>"
            ]
          },
          "metadata": {
            "tags": []
          },
          "execution_count": 10
        },
        {
          "output_type": "display_data",
          "data": {
            "image/png": "[encoded data removed]",
            "text/plain": [
              "<Figure size 432x288 with 1 Axes>"
            ]
          },
          "metadata": {
            "tags": [],
            "needs_background": "light"
          }
        }
      ]
    },
    {
      "cell_type": "code",
      "metadata": {
        "colab": {
          "base_uri": "https://localhost:8080/",
          "height": 519
        },
        "id": "ZiOUxNYQ4qJF",
        "outputId": "50ce31c1-4478-4efe-90a4-95952720e76d"
      },
      "source": [
        "# A continuación, graficamos un boxplot para visualizar la distribución por grupos de una variable categórica\n",
        "# Creamos una condición para seleccionar ciertos actores\n",
        "cond = df_jamesbond[\"Actor\"].isin(['Sean Connery','Daniel Craig','Roger Moore','Pierce Brosnan','Timothy Dalton'])\n",
        "# Graficamos un boxplot\n",
        "sn.boxplot(x=\"Actor\", y=\"Bond Actor Salary\", data=df_jamesbond[cond])"
      ],
      "execution_count": null,
      "outputs": [
        {
          "output_type": "execute_result",
          "data": {
            "text/plain": [
              "<matplotlib.axes._subplots.AxesSubplot at 0x7f6450be55d0>"
            ]
          },
          "metadata": {
            "tags": []
          },
          "execution_count": 22
        },
        {
          "output_type": "display_data",
          "data": {
            "image/png": "[encoded data removed]",
            "text/plain": [
              "<Figure size 864x576 with 1 Axes>"
            ]
          },
          "metadata": {
            "tags": []
          }
        }
      ]
    },
    {
      "cell_type": "markdown",
      "metadata": {
        "id": "B85Zw2gnCqsp"
      },
      "source": [
        "# EDA: SERIES TEMPORALES\n",
        "En una serie temporal, buscamos analizar la evolución de una variable numérica a lo largo del tiempo.\n",
        "\n",
        "*Funciones nuevas que introducimos en esta sección:*\n",
        "\n",
        "```\n",
        "plot()\n",
        "```\n",
        "> Por defecto, el método plot grafica series temporales. Para ello, necesitamos que el DataFrame se encuentre indexado por la variable de tiempo\n",
        "\n",
        "\n"
      ]
    },
    {
      "cell_type": "code",
      "metadata": {
        "id": "B5F4-SRDwaMQ",
        "colab": {
          "base_uri": "https://localhost:8080/",
          "height": 296
        },
        "outputId": "1a23aceb-248e-4935-87a3-cb73f6a44481"
      },
      "source": [
        "# A continuación, graficamos dos variables numéricas a lo largo del tiempo\n",
        "df_jamesbond.set_index(\"Year\")[[\"Box Office\",\"Budget\"]].plot()"
      ],
      "execution_count": null,
      "outputs": [
        {
          "output_type": "execute_result",
          "data": {
            "text/plain": [
              "<matplotlib.axes._subplots.AxesSubplot at 0x7f64510a8810>"
            ]
          },
          "metadata": {
            "tags": []
          },
          "execution_count": 12
        },
        {
          "output_type": "display_data",
          "data": {
            "image/png": "[encoded data removed]",
            "text/plain": [
              "<Figure size 432x288 with 1 Axes>"
            ]
          },
          "metadata": {
            "tags": [],
            "needs_background": "light"
          }
        }
      ]
    },
    {
      "cell_type": "code",
      "metadata": {
        "colab": {
          "base_uri": "https://localhost:8080/",
          "height": 516
        },
        "id": "ReP0SaRF3alF",
        "outputId": "0e197452-e182-4096-d1a8-eb9ac0d72cab"
      },
      "source": [
        "# A continuación, repetiremos el ejercicio editando (i) el tamaño del gráfico y (ii) creando un gráfico independiente para cada variable\n",
        "df_jamesbond.set_index(\"Year\")\\\n",
        "    [[\"Box Office\",\"Budget\"]]\\\n",
        "    .plot(figsize=(12,8),subplots=True) # subplots nos permite dividir cada variable en un gráfico distinto"
      ],
      "execution_count": null,
      "outputs": [
        {
          "output_type": "execute_result",
          "data": {
            "text/plain": [
              "array([<matplotlib.axes._subplots.AxesSubplot object at 0x7f6450f4ccd0>,\n",
              "       <matplotlib.axes._subplots.AxesSubplot object at 0x7f6450ec8610>],\n",
              "      dtype=object)"
            ]
          },
          "metadata": {
            "tags": []
          },
          "execution_count": 14
        },
        {
          "output_type": "display_data",
          "data": {
            "image/png": "[encoded data removed]",
            "text/plain": [
              "<Figure size 864x576 with 2 Axes>"
            ]
          },
          "metadata": {
            "tags": [],
            "needs_background": "light"
          }
        }
      ]
    },
    {
      "cell_type": "markdown",
      "metadata": {
        "id": "UJFehThgLUq1"
      },
      "source": [
        "# EJERCICIOS"
      ]
    },
    {
      "cell_type": "markdown",
      "metadata": {
        "id": "49gwgZFxFmSs"
      },
      "source": [
        "##### EX 1\n",
        "> Dataset https://data-wizards.s3.amazonaws.com/datasets/movies.csv\n",
        "\n",
        "Graficar un histograma para visualizar la distribución de la variable IMDB score\n",
        "\n",
        "---\n"
      ]
    },
    {
      "cell_type": "code",
      "metadata": {
        "id": "Ur1EP-znGUIF"
      },
      "source": [
        "# antes de empezar, cargamos librerías (instalamos en caso de ser necesario)\n",
        "import pandas as pd\n",
        "import matplotlib.pyplot as plt\n",
        "import seaborn as sn\n",
        "from matplotlib.pyplot import figure"
      ],
      "execution_count": null,
      "outputs": []
    },
    {
      "cell_type": "code",
      "metadata": {
        "id": "paaFooUrHW8I"
      },
      "source": [
        "# importamos df\n",
        "df_movies = pd.read_csv(\"https://data-wizards.s3.amazonaws.com/datasets/movies.csv\")\n",
        "df_movies.dtypes"
      ],
      "execution_count": null,
      "outputs": []
    },
    {
      "cell_type": "code",
      "metadata": {
        "id": "rPmGfdiHHW-_",
        "colab": {
          "base_uri": "https://localhost:8080/",
          "height": 282
        },
        "outputId": "52806092-ee81-439f-c182-c250c9492a6f"
      },
      "source": [
        "# EX 1\n",
        "df_movies[\"imdb_score\"].hist(bins=30)"
      ],
      "execution_count": null,
      "outputs": [
        {
          "output_type": "execute_result",
          "data": {
            "text/plain": [
              "<matplotlib.axes._subplots.AxesSubplot at 0x7f1a87ff23d0>"
            ]
          },
          "metadata": {
            "tags": []
          },
          "execution_count": 3
        },
        {
          "output_type": "display_data",
          "data": {
            "image/png": "[encoded data removed]",
            "text/plain": [
              "<Figure size 432x288 with 1 Axes>"
            ]
          },
          "metadata": {
            "tags": [],
            "needs_background": "light"
          }
        }
      ]
    },
    {
      "cell_type": "markdown",
      "metadata": {
        "id": "OfDZt6FoxM4a"
      },
      "source": [
        "##### EX 2\n",
        "> Dataset https://data-wizards.s3.amazonaws.com/datasets/movies.csv\n",
        "\n",
        "¿Qué podemos decir acerca de la distribución del PIB per cápita en cada continente? Graficar un boxplot\n",
        "\n",
        "---\n"
      ]
    },
    {
      "cell_type": "code",
      "metadata": {
        "id": "vgdtSeTMaNJ1"
      },
      "source": [
        "# antes de empezar, cargamos librerías (instalamos en caso de ser necesario)\n",
        "import pandas as pd\n",
        "import matplotlib.pyplot as plt\n",
        "import seaborn as sn\n",
        "from matplotlib.pyplot import figure"
      ],
      "execution_count": null,
      "outputs": []
    },
    {
      "cell_type": "code",
      "metadata": {
        "colab": {
          "base_uri": "https://localhost:8080/"
        },
        "id": "DRj_y1WwxO22",
        "outputId": "d14a7d25-51ac-46a2-80a9-1dbc8bd41477"
      },
      "source": [
        "# importamos df\n",
        "df_who = pd.read_csv('https://data-wizards.s3.amazonaws.com/datasets/dataset_na_who.csv')\n",
        "df_who.dtypes"
      ],
      "execution_count": null,
      "outputs": [
        {
          "output_type": "execute_result",
          "data": {
            "text/plain": [
              "Country                                                    object\n",
              "CountryID                                                   int64\n",
              "ContinentID                                                 int64\n",
              "Adolescent fertility rate (%)                             float64\n",
              "Adult literacy rate (%)                                   float64\n",
              "Gross national income per capita (PPP international $)    float64\n",
              "Net primary school enrolment ratio female (%)             float64\n",
              "Net primary school enrolment ratio male (%)               float64\n",
              "Population (in thousands) total                           float64\n",
              "Population annual growth rate (%)                         float64\n",
              "Population in urban areas (%)                             float64\n",
              "Population living below the poverty line                  float64\n",
              "Continent                                                  object\n",
              "dtype: object"
            ]
          },
          "metadata": {
            "tags": []
          },
          "execution_count": 19
        }
      ]
    },
    {
      "cell_type": "code",
      "metadata": {
        "colab": {
          "base_uri": "https://localhost:8080/",
          "height": 519
        },
        "id": "OuViO4zXxO22",
        "outputId": "832e1994-1ea3-4b45-cb2f-689277e27ece"
      },
      "source": [
        "sn.set(rc={'figure.figsize':(12,8)}) # cambiamos tamaño\n",
        "# Graficamos un boxplot\n",
        "sn.boxplot(x=\"Continent\", y=\"Gross national income per capita (PPP international $)\", data=df_who)"
      ],
      "execution_count": null,
      "outputs": [
        {
          "output_type": "execute_result",
          "data": {
            "text/plain": [
              "<matplotlib.axes._subplots.AxesSubplot at 0x7f6450ce9bd0>"
            ]
          },
          "metadata": {
            "tags": []
          },
          "execution_count": 21
        },
        {
          "output_type": "display_data",
          "data": {
            "image/png": "[encoded data removed]",
            "text/plain": [
              "<Figure size 864x576 with 1 Axes>"
            ]
          },
          "metadata": {
            "tags": []
          }
        }
      ]
    },
    {
      "cell_type": "markdown",
      "metadata": {
        "id": "Q89JIn5NFmVO"
      },
      "source": [
        "##### EX 3\n",
        "> Dataset https://data-wizards.s3.amazonaws.com/datasets/amzn_stocks.csv\n",
        "\n",
        "¿Cómo ha evolucionado la cotización \"High\" de las acciones desde el 2017?\n",
        "\n",
        "---"
      ]
    },
    {
      "cell_type": "code",
      "metadata": {
        "id": "spSvA6wnFl1Z"
      },
      "source": [
        "# antes de empezar, cargamos librerías (instalamos en caso de ser necesario)\n",
        "import pandas as pd\n",
        "import matplotlib.pyplot as plt\n",
        "import seaborn as sn\n",
        "from matplotlib.pyplot import figure"
      ],
      "execution_count": null,
      "outputs": []
    },
    {
      "cell_type": "code",
      "metadata": {
        "id": "A60hx5z7IAol"
      },
      "source": [
        "# importamos df\n",
        "df_amzn = pd.read_csv(\"https://data-wizards.s3.amazonaws.com/datasets/amzn_stocks.csv\")\n",
        "df_amzn.dtypes"
      ],
      "execution_count": null,
      "outputs": []
    },
    {
      "cell_type": "code",
      "metadata": {
        "colab": {
          "base_uri": "https://localhost:8080/",
          "height": 519
        },
        "id": "QZTB_gUfIAxy",
        "outputId": "6ff005c8-f7eb-496a-deba-6287ccf72e1c"
      },
      "source": [
        "# EX 3\n",
        "df_amzn[df_amzn[\"Date\"]>'2017-01-01'].set_index(\"Date\")[\"High\"].plot(figsize=(15,8))"
      ],
      "execution_count": null,
      "outputs": [
        {
          "output_type": "execute_result",
          "data": {
            "text/plain": [
              "<matplotlib.axes._subplots.AxesSubplot at 0x7f354a33e940>"
            ]
          },
          "metadata": {
            "tags": []
          },
          "execution_count": 106
        },
        {
          "output_type": "display_data",
          "data": {
            "image/png": "[encoded data removed]",
            "text/plain": [
              "<Figure size 1080x576 with 1 Axes>"
            ]
          },
          "metadata": {
            "tags": []
          }
        }
      ]
    },
    {
      "cell_type": "markdown",
      "metadata": {
        "id": "b5scEf5byybv"
      },
      "source": [
        "##### EX 4 \n",
        "Dataset > https://data-wizards.s3.amazonaws.com/datasets/movies.csv\n",
        "\n",
        "##### EX 4.A: ¿Cuántos directores hay incluidos en el dataset?\n",
        "##### EX 4.B: Extraer top 10 variables, según correlación con variable *IMDB score*\n",
        "##### EX 4.C: Extraer películas que sean outliers (z>3) en términos de duración. Visualizar únicamente \"movie_title\" y \"duration\"\n",
        "##### EX 4.D: Extraer películas en el decil superior en términos de \"imdb_score\", visualizar únicamente \"movie_title\", \"director_name\" y \"imdb_score\"\n",
        "---"
      ]
    },
    {
      "cell_type": "code",
      "metadata": {
        "id": "6VzF8l-DX3RR"
      },
      "source": [
        "# antes de empezar, cargamos librerías (instalamos en caso de ser necesario)\n",
        "import pandas as pd\n",
        "import matplotlib.pyplot as plt\n",
        "import seaborn as sn\n",
        "from matplotlib.pyplot import figure"
      ],
      "execution_count": null,
      "outputs": []
    },
    {
      "cell_type": "code",
      "metadata": {
        "colab": {
          "base_uri": "https://localhost:8080/"
        },
        "id": "37CHateWXq5D",
        "outputId": "d6f5bff7-e005-4d79-a7bb-5f6c3a2946b8"
      },
      "source": [
        "# importamos df\n",
        "df_movies = pd.read_csv(\"https://data-wizards.s3.amazonaws.com/datasets/movies.csv\")\n",
        "df_movies.dtypes"
      ],
      "execution_count": null,
      "outputs": [
        {
          "output_type": "execute_result",
          "data": {
            "text/plain": [
              "color                         object\n",
              "director_name                 object\n",
              "num_critic_for_reviews       float64\n",
              "duration                     float64\n",
              "director_facebook_likes      float64\n",
              "actor_3_facebook_likes       float64\n",
              "actor_2_name                  object\n",
              "actor_1_facebook_likes       float64\n",
              "gross                        float64\n",
              "genres                        object\n",
              "actor_1_name                  object\n",
              "movie_title                   object\n",
              "num_voted_users                int64\n",
              "cast_total_facebook_likes      int64\n",
              "actor_3_name                  object\n",
              "facenumber_in_poster         float64\n",
              "plot_keywords                 object\n",
              "movie_imdb_link               object\n",
              "num_user_for_reviews         float64\n",
              "language                      object\n",
              "country                       object\n",
              "content_rating                object\n",
              "budget                       float64\n",
              "title_year                   float64\n",
              "actor_2_facebook_likes       float64\n",
              "imdb_score                   float64\n",
              "aspect_ratio                 float64\n",
              "movie_facebook_likes           int64\n",
              "dtype: object"
            ]
          },
          "metadata": {
            "tags": []
          },
          "execution_count": 5
        }
      ]
    },
    {
      "cell_type": "code",
      "metadata": {
        "id": "QXKvd385Nd4j",
        "colab": {
          "base_uri": "https://localhost:8080/"
        },
        "outputId": "f7633ddc-41a8-4b31-8fdb-fb0cf5073ae5"
      },
      "source": [
        "# EX 4.A\n",
        "df_movies[\"director_name\"].describe()"
      ],
      "execution_count": null,
      "outputs": [
        {
          "output_type": "execute_result",
          "data": {
            "text/plain": [
              "count                 4814\n",
              "unique                2397\n",
              "top       Steven Spielberg\n",
              "freq                    26\n",
              "Name: director_name, dtype: object"
            ]
          },
          "metadata": {
            "tags": []
          },
          "execution_count": 7
        }
      ]
    },
    {
      "cell_type": "code",
      "metadata": {
        "colab": {
          "base_uri": "https://localhost:8080/"
        },
        "id": "J-fHdb7MOJjD",
        "outputId": "e8e22af2-4482-41c7-cbb7-65f1426b47c5"
      },
      "source": [
        "# EX 4.B\n",
        "df_movies.corr().sort_values(\"imdb_score\",ascending=False).iloc[1:11,][\"imdb_score\"]"
      ],
      "execution_count": null,
      "outputs": [
        {
          "output_type": "execute_result",
          "data": {
            "text/plain": [
              "num_voted_users              0.412427\n",
              "num_critic_for_reviews       0.309733\n",
              "num_user_for_reviews         0.295779\n",
              "duration                     0.264440\n",
              "movie_facebook_likes         0.252496\n",
              "gross                        0.199914\n",
              "director_facebook_likes      0.173969\n",
              "cast_total_facebook_likes    0.086830\n",
              "actor_2_facebook_likes       0.083761\n",
              "actor_1_facebook_likes       0.077070\n",
              "Name: imdb_score, dtype: float64"
            ]
          },
          "metadata": {
            "tags": []
          },
          "execution_count": 8
        }
      ]
    },
    {
      "cell_type": "code",
      "metadata": {
        "colab": {
          "base_uri": "https://localhost:8080/"
        },
        "id": "cOce2bfLOJtN",
        "outputId": "4c3e3e89-d2df-4de7-be6b-bb5a9ea8d11b"
      },
      "source": [
        "# EX 4.C\n",
        "df_movies[\"z_duration\"] = stats.zscore(df_movies[\"duration\"],nan_policy='omit').round(2)\n",
        "cond = df_movies[\"z_duration\"] > 3\n",
        "df_movies[cond].sort_values(\"duration\",ascending=False)[\"duration\"]"
      ],
      "execution_count": null,
      "outputs": [
        {
          "output_type": "execute_result",
          "data": {
            "text/plain": [
              "movie_title\n",
              "Trapped                                          511.0\n",
              "Carlos                                           334.0\n",
              "Blood In, Blood Out                              330.0\n",
              "Heaven's Gate                                    325.0\n",
              "The Legend of Suriyothai                         300.0\n",
              "Das Boot                                         293.0\n",
              "Apocalypse Now                                   289.0\n",
              "The Company                                      286.0\n",
              "Gods and Generals                                280.0\n",
              "Gettysburg                                       271.0\n",
              "Arn: The Knight Templar                          270.0\n",
              "Cleopatra                                        251.0\n",
              "Once Upon a Time in America                      251.0\n",
              "The Wolf of Wall Street                          240.0\n",
              "Emma                                             240.0\n",
              "Gandhi                                           240.0\n",
              "Dances with Wolves                               236.0\n",
              "Lawrence of Arabia                               227.0\n",
              "Gone with the Wind                               226.0\n",
              "The Greatest Story Ever Told                     225.0\n",
              "The Godfather: Part II                           220.0\n",
              "All the Pretty Horses                            220.0\n",
              "The Last Emperor                                 219.0\n",
              "Gangs of New York                                216.0\n",
              "The Thin Red Line                                215.0\n",
              "Watchmen                                         215.0\n",
              "Woodstock                                        215.0\n",
              "Wyatt Earp                                       212.0\n",
              "Nixon                                            212.0\n",
              "Alexander                                        206.0\n",
              "JFK                                              206.0\n",
              "Seven Samurai                                    202.0\n",
              "Malcolm X                                        202.0\n",
              "King Kong                                        201.0\n",
              "Doctor Zhivago                                   200.0\n",
              "Anne of Green Gables                             199.0\n",
              "Deadline Gallipoli                               197.0\n",
              "It's a Mad, Mad, Mad, Mad World                  197.0\n",
              "Troy                                             196.0\n",
              "Reds                                             195.0\n",
              "Iron Man 3                                       195.0\n",
              "Kingdom of Heaven                                194.0\n",
              "Titanic                                          194.0\n",
              "Kabhi Alvida Naa Kehna                           193.0\n",
              "The Right Stuff                                  193.0\n",
              "The Lord of the Rings: The Return of the King    192.0\n",
              "Veer-Zaara                                       192.0\n",
              "Traffic                                          190.0\n",
              "The Green Mile                                   189.0\n",
              "Grindhouse                                       189.0\n",
              "Superman                                         188.0\n",
              "Magnolia                                         188.0\n",
              "The Hateful Eight                                187.0\n",
              "Margaret                                         186.0\n",
              "Judgment at Nuremberg                            186.0\n",
              "The Hobbit: The Desolation of Smaug              186.0\n",
              "Schindler's List                                 185.0\n",
              "Barry Lyndon                                     184.0\n",
              "Pearl Harbor                                     184.0\n",
              "The Baader Meinhof Complex                       184.0\n",
              "Name: duration, dtype: float64"
            ]
          },
          "metadata": {
            "tags": []
          },
          "execution_count": 13
        }
      ]
    },
    {
      "cell_type": "code",
      "metadata": {
        "colab": {
          "base_uri": "https://localhost:8080/",
          "height": 450
        },
        "id": "4kt5HHZYPHrp",
        "outputId": "1a73b3fc-1321-455e-c6ad-d4b4ae867a53"
      },
      "source": [
        "# EX 4.D\n",
        "cond = df_movies[\"imdb_score\"]>= df_movies[\"imdb_score\"].quantile(.9)\n",
        "df_movies[cond].sort_values(\"imdb_score\",ascending=False)[[\"director_name\",\"imdb_score\"]]"
      ],
      "execution_count": null,
      "outputs": [
        {
          "output_type": "execute_result",
          "data": {
            "text/html": [
              "<div>\n",
              "<style scoped>\n",
              "    .dataframe tbody tr th:only-of-type {\n",
              "        vertical-align: middle;\n",
              "    }\n",
              "\n",
              "    .dataframe tbody tr th {\n",
              "        vertical-align: top;\n",
              "    }\n",
              "\n",
              "    .dataframe thead th {\n",
              "        text-align: right;\n",
              "    }\n",
              "</style>\n",
              "<table border=\"1\" class=\"dataframe\">\n",
              "  <thead>\n",
              "    <tr style=\"text-align: right;\">\n",
              "      <th></th>\n",
              "      <th>director_name</th>\n",
              "      <th>imdb_score</th>\n",
              "    </tr>\n",
              "    <tr>\n",
              "      <th>movie_title</th>\n",
              "      <th></th>\n",
              "      <th></th>\n",
              "    </tr>\n",
              "  </thead>\n",
              "  <tbody>\n",
              "    <tr>\n",
              "      <th>Towering Inferno</th>\n",
              "      <td>John Blanchard</td>\n",
              "      <td>9.5</td>\n",
              "    </tr>\n",
              "    <tr>\n",
              "      <th>The Shawshank Redemption</th>\n",
              "      <td>Frank Darabont</td>\n",
              "      <td>9.3</td>\n",
              "    </tr>\n",
              "    <tr>\n",
              "      <th>The Godfather</th>\n",
              "      <td>Francis Ford Coppola</td>\n",
              "      <td>9.2</td>\n",
              "    </tr>\n",
              "    <tr>\n",
              "      <th>Kickboxer: Vengeance</th>\n",
              "      <td>John Stockwell</td>\n",
              "      <td>9.1</td>\n",
              "    </tr>\n",
              "    <tr>\n",
              "      <th>Dekalog</th>\n",
              "      <td>NaN</td>\n",
              "      <td>9.1</td>\n",
              "    </tr>\n",
              "    <tr>\n",
              "      <th>...</th>\n",
              "      <td>...</td>\n",
              "      <td>...</td>\n",
              "    </tr>\n",
              "    <tr>\n",
              "      <th>Birdman or (The Unexpected Virtue of Ignorance)</th>\n",
              "      <td>Alejandro G. Iñárritu</td>\n",
              "      <td>7.8</td>\n",
              "    </tr>\n",
              "    <tr>\n",
              "      <th>Hamlet</th>\n",
              "      <td>Kenneth Branagh</td>\n",
              "      <td>7.8</td>\n",
              "    </tr>\n",
              "    <tr>\n",
              "      <th>The White Ribbon</th>\n",
              "      <td>Michael Haneke</td>\n",
              "      <td>7.8</td>\n",
              "    </tr>\n",
              "    <tr>\n",
              "      <th>The Verdict</th>\n",
              "      <td>Sidney Lumet</td>\n",
              "      <td>7.8</td>\n",
              "    </tr>\n",
              "    <tr>\n",
              "      <th>The Mongol King</th>\n",
              "      <td>Anthony Vallone</td>\n",
              "      <td>7.8</td>\n",
              "    </tr>\n",
              "  </tbody>\n",
              "</table>\n",
              "<p>493 rows × 2 columns</p>\n",
              "</div>"
            ],
            "text/plain": [
              "                                                         director_name  imdb_score\n",
              "movie_title                                                                       \n",
              "Towering Inferno                                        John Blanchard         9.5\n",
              "The Shawshank Redemption                                Frank Darabont         9.3\n",
              "The Godfather                                     Francis Ford Coppola         9.2\n",
              "Kickboxer: Vengeance                                    John Stockwell         9.1\n",
              "Dekalog                                                            NaN         9.1\n",
              "...                                                                ...         ...\n",
              "Birdman or (The Unexpected Virtue of Ignorance)  Alejandro G. Iñárritu         7.8\n",
              "Hamlet                                                 Kenneth Branagh         7.8\n",
              "The White Ribbon                                        Michael Haneke         7.8\n",
              "The Verdict                                               Sidney Lumet         7.8\n",
              "The Mongol King                                        Anthony Vallone         7.8\n",
              "\n",
              "[493 rows x 2 columns]"
            ]
          },
          "metadata": {
            "tags": []
          },
          "execution_count": 14
        }
      ]
    }
  ]
}