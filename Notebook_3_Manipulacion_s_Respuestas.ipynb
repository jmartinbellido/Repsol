{
  "nbformat": 4,
  "nbformat_minor": 0,
  "metadata": {
    "colab": {
      "name": "Notebook_3_Manipulacion_s/Respuestas.ipynb",
      "provenance": [],
      "collapsed_sections": [],
      "toc_visible": true
    },
    "kernelspec": {
      "name": "python3",
      "display_name": "Python 3"
    }
  },
  "cells": [
    {
      "cell_type": "markdown",
      "metadata": {
        "id": "o3Pz52vIqzOT"
      },
      "source": [
        "# ÍNDICE\n",
        "# **Repsol D4D/D4B**\n",
        "# **Introducción a Python para Análisis de Datos 🐍 📊**\n",
        "# *Notebook 3: Manipulación de Datos*\n",
        "\n",
        "---\n",
        "### ÍNDICE DE CONTENIDO\n",
        "1. CAMPOS CONDICIONALES\n",
        "2. AGREGACIONES\n",
        "3. UNIR DATAFRAMES\n",
        "4. EJERCICIOS\n",
        "\n",
        "### Juan Martin Bellido\n",
        "* [linkedin.com/in/jmartinbellido](https://www.linkedin.com/in/jmartinbellido/) \n",
        "* jmbellido@isdi.education\n"
      ]
    },
    {
      "cell_type": "code",
      "metadata": {
        "id": "5eqClCOoPuPC"
      },
      "source": [
        "# cargamos librerías\n",
        "import pandas as pd\n",
        "import numpy as np"
      ],
      "execution_count": null,
      "outputs": []
    },
    {
      "cell_type": "markdown",
      "metadata": {
        "id": "6EMZLXKAxgOu"
      },
      "source": [
        "# CAMPOS CONDICIONALES\n",
        "---\n",
        "En notebook anteriores, introducimos la sintaxis necesaria para crear un nuevo campo (columna) en un dataframe. En los ejemplos utilizados hasta el momento, el campo se creaba como resultado de la operación matemática entre una o más columnas en el dataframe.\n",
        "\n",
        "A continuación, crearemos una nueva columna a partir de una condición *if/else* utilizando la función *np.where()*. En este caso, el valor del campo dependará de una *condición lógica*, no de una operación matemática.\n",
        "\n",
        "```\n",
        "np.where(condition, value if true, value if false)\n",
        "```"
      ]
    },
    {
      "cell_type": "code",
      "metadata": {
        "id": "0e525vxDmN4E",
        "colab": {
          "base_uri": "https://localhost:8080/"
        },
        "outputId": "fe67d4d1-ae84-44b8-e9de-6bdabbb227d3"
      },
      "source": [
        "# Importamos df\n",
        "df_jamesbond = pd.read_csv(\"https://data-wizards.s3.amazonaws.com/datasets/jamesbond.csv\")\n",
        "df_jamesbond.dtypes # la función dtypes permite visualizar las variables incluídas en un dataframe"
      ],
      "execution_count": null,
      "outputs": [
        {
          "output_type": "execute_result",
          "data": {
            "text/plain": [
              "Film                  object\n",
              "Year                   int64\n",
              "Actor                 object\n",
              "Director              object\n",
              "Box Office           float64\n",
              "Budget               float64\n",
              "Bond Actor Salary    float64\n",
              "dtype: object"
            ]
          },
          "metadata": {},
          "execution_count": 10
        }
      ]
    },
    {
      "cell_type": "code",
      "metadata": {
        "colab": {
          "base_uri": "https://localhost:8080/",
          "height": 205
        },
        "id": "mNwDUZc103ex",
        "outputId": "eca69112-7c05-4997-e54b-32a565923b5f"
      },
      "source": [
        "# Creamos un nuevo campo con valor condicional\n",
        "# Asignamos 1 o 0 en función de si el actor es Sean Connery o no\n",
        "df_jamesbond[\"actor_is_Sean_Connery\"] = np.where(df_jamesbond[\"Actor\"]=='Sean Connery',1,0)\n",
        "df_jamesbond[[\"Actor\",\"actor_is_Sean_Connery\"]].head()"
      ],
      "execution_count": null,
      "outputs": [
        {
          "output_type": "execute_result",
          "data": {
            "text/html": [
              "<div>\n",
              "<style scoped>\n",
              "    .dataframe tbody tr th:only-of-type {\n",
              "        vertical-align: middle;\n",
              "    }\n",
              "\n",
              "    .dataframe tbody tr th {\n",
              "        vertical-align: top;\n",
              "    }\n",
              "\n",
              "    .dataframe thead th {\n",
              "        text-align: right;\n",
              "    }\n",
              "</style>\n",
              "<table border=\"1\" class=\"dataframe\">\n",
              "  <thead>\n",
              "    <tr style=\"text-align: right;\">\n",
              "      <th></th>\n",
              "      <th>Actor</th>\n",
              "      <th>actor_is_Sean_Connery</th>\n",
              "    </tr>\n",
              "  </thead>\n",
              "  <tbody>\n",
              "    <tr>\n",
              "      <th>0</th>\n",
              "      <td>Sean Connery</td>\n",
              "      <td>1</td>\n",
              "    </tr>\n",
              "    <tr>\n",
              "      <th>1</th>\n",
              "      <td>Sean Connery</td>\n",
              "      <td>1</td>\n",
              "    </tr>\n",
              "    <tr>\n",
              "      <th>2</th>\n",
              "      <td>Sean Connery</td>\n",
              "      <td>1</td>\n",
              "    </tr>\n",
              "    <tr>\n",
              "      <th>3</th>\n",
              "      <td>Sean Connery</td>\n",
              "      <td>1</td>\n",
              "    </tr>\n",
              "    <tr>\n",
              "      <th>4</th>\n",
              "      <td>David Niven</td>\n",
              "      <td>0</td>\n",
              "    </tr>\n",
              "  </tbody>\n",
              "</table>\n",
              "</div>"
            ],
            "text/plain": [
              "          Actor  actor_is_Sean_Connery\n",
              "0  Sean Connery                      1\n",
              "1  Sean Connery                      1\n",
              "2  Sean Connery                      1\n",
              "3  Sean Connery                      1\n",
              "4   David Niven                      0"
            ]
          },
          "metadata": {},
          "execution_count": 11
        }
      ]
    },
    {
      "cell_type": "markdown",
      "metadata": {
        "id": "HJe-_Wlmva0Y"
      },
      "source": [
        "En caso de necesitar crear una lógica con múltiples condiciones, podemos anidar funciones np.where().\n",
        "\n",
        "```\n",
        "np.where(\n",
        "  condition 1, \n",
        "  value if true,\n",
        "  np.where(\n",
        "    condition 2,\n",
        "    value if true,\n",
        "    value if false\n",
        "  )\n",
        ")\n",
        "```\n",
        "\n"
      ]
    },
    {
      "cell_type": "code",
      "metadata": {
        "id": "8LevOxLLuUuS"
      },
      "source": [
        "# A continuación, crearemos un nuevo campo utilizando dos condiciones\n",
        "# Crearemos un nuevo campo para clasificar películas en función del presupuesto\n",
        "# Clasificaremos las películas en tres clases: high budget, medium budget, y low budget\n",
        "df_jamesbond['movie_budget_segment'] = np.where(\n",
        "    df_jamesbond.Budget > 100     # condition 1\n",
        "    ,'high budget'                # value if condition 1 is true\n",
        "    ,np.where(\n",
        "        df_jamesbond.Budget > 50  # condition 2\n",
        "        ,'medium budget'          # value if condition 2 is true\n",
        "        ,'low budget'             # value if false\n",
        "    )\n",
        ")\n",
        "# Nota: las condiciones se ejecutan en orden"
      ],
      "execution_count": null,
      "outputs": []
    },
    {
      "cell_type": "code",
      "metadata": {
        "colab": {
          "base_uri": "https://localhost:8080/",
          "height": 862
        },
        "id": "1ua99odMvG9L",
        "outputId": "a085e837-a374-4ffb-91ef-2dbaa2ce2f27"
      },
      "source": [
        "df_jamesbond[['Film','Budget','movie_budget_segment']]"
      ],
      "execution_count": null,
      "outputs": [
        {
          "output_type": "execute_result",
          "data": {
            "text/html": [
              "<div>\n",
              "<style scoped>\n",
              "    .dataframe tbody tr th:only-of-type {\n",
              "        vertical-align: middle;\n",
              "    }\n",
              "\n",
              "    .dataframe tbody tr th {\n",
              "        vertical-align: top;\n",
              "    }\n",
              "\n",
              "    .dataframe thead th {\n",
              "        text-align: right;\n",
              "    }\n",
              "</style>\n",
              "<table border=\"1\" class=\"dataframe\">\n",
              "  <thead>\n",
              "    <tr style=\"text-align: right;\">\n",
              "      <th></th>\n",
              "      <th>Film</th>\n",
              "      <th>Budget</th>\n",
              "      <th>movie_budget_segment</th>\n",
              "    </tr>\n",
              "  </thead>\n",
              "  <tbody>\n",
              "    <tr>\n",
              "      <th>0</th>\n",
              "      <td>Dr. No</td>\n",
              "      <td>7.0</td>\n",
              "      <td>low budget</td>\n",
              "    </tr>\n",
              "    <tr>\n",
              "      <th>1</th>\n",
              "      <td>From Russia with Love</td>\n",
              "      <td>12.6</td>\n",
              "      <td>low budget</td>\n",
              "    </tr>\n",
              "    <tr>\n",
              "      <th>2</th>\n",
              "      <td>Goldfinger</td>\n",
              "      <td>18.6</td>\n",
              "      <td>low budget</td>\n",
              "    </tr>\n",
              "    <tr>\n",
              "      <th>3</th>\n",
              "      <td>Thunderball</td>\n",
              "      <td>41.9</td>\n",
              "      <td>low budget</td>\n",
              "    </tr>\n",
              "    <tr>\n",
              "      <th>4</th>\n",
              "      <td>Casino Royale</td>\n",
              "      <td>85.0</td>\n",
              "      <td>medium budget</td>\n",
              "    </tr>\n",
              "    <tr>\n",
              "      <th>5</th>\n",
              "      <td>You Only Live Twice</td>\n",
              "      <td>59.9</td>\n",
              "      <td>medium budget</td>\n",
              "    </tr>\n",
              "    <tr>\n",
              "      <th>6</th>\n",
              "      <td>On Her Majesty's Secret Service</td>\n",
              "      <td>37.3</td>\n",
              "      <td>low budget</td>\n",
              "    </tr>\n",
              "    <tr>\n",
              "      <th>7</th>\n",
              "      <td>Diamonds Are Forever</td>\n",
              "      <td>34.7</td>\n",
              "      <td>low budget</td>\n",
              "    </tr>\n",
              "    <tr>\n",
              "      <th>8</th>\n",
              "      <td>Live and Let Die</td>\n",
              "      <td>30.8</td>\n",
              "      <td>low budget</td>\n",
              "    </tr>\n",
              "    <tr>\n",
              "      <th>9</th>\n",
              "      <td>The Man with the Golden Gun</td>\n",
              "      <td>27.7</td>\n",
              "      <td>low budget</td>\n",
              "    </tr>\n",
              "    <tr>\n",
              "      <th>10</th>\n",
              "      <td>The Spy Who Loved Me</td>\n",
              "      <td>45.1</td>\n",
              "      <td>low budget</td>\n",
              "    </tr>\n",
              "    <tr>\n",
              "      <th>11</th>\n",
              "      <td>Moonraker</td>\n",
              "      <td>91.5</td>\n",
              "      <td>medium budget</td>\n",
              "    </tr>\n",
              "    <tr>\n",
              "      <th>12</th>\n",
              "      <td>For Your Eyes Only</td>\n",
              "      <td>60.2</td>\n",
              "      <td>medium budget</td>\n",
              "    </tr>\n",
              "    <tr>\n",
              "      <th>13</th>\n",
              "      <td>Never Say Never Again</td>\n",
              "      <td>86.0</td>\n",
              "      <td>medium budget</td>\n",
              "    </tr>\n",
              "    <tr>\n",
              "      <th>14</th>\n",
              "      <td>Octopussy</td>\n",
              "      <td>53.9</td>\n",
              "      <td>medium budget</td>\n",
              "    </tr>\n",
              "    <tr>\n",
              "      <th>15</th>\n",
              "      <td>A View to a Kill</td>\n",
              "      <td>54.5</td>\n",
              "      <td>medium budget</td>\n",
              "    </tr>\n",
              "    <tr>\n",
              "      <th>16</th>\n",
              "      <td>The Living Daylights</td>\n",
              "      <td>68.8</td>\n",
              "      <td>medium budget</td>\n",
              "    </tr>\n",
              "    <tr>\n",
              "      <th>17</th>\n",
              "      <td>Licence to Kill</td>\n",
              "      <td>56.7</td>\n",
              "      <td>medium budget</td>\n",
              "    </tr>\n",
              "    <tr>\n",
              "      <th>18</th>\n",
              "      <td>GoldenEye</td>\n",
              "      <td>76.9</td>\n",
              "      <td>medium budget</td>\n",
              "    </tr>\n",
              "    <tr>\n",
              "      <th>19</th>\n",
              "      <td>Tomorrow Never Dies</td>\n",
              "      <td>133.9</td>\n",
              "      <td>high budget</td>\n",
              "    </tr>\n",
              "    <tr>\n",
              "      <th>20</th>\n",
              "      <td>The World Is Not Enough</td>\n",
              "      <td>158.3</td>\n",
              "      <td>high budget</td>\n",
              "    </tr>\n",
              "    <tr>\n",
              "      <th>21</th>\n",
              "      <td>Die Another Day</td>\n",
              "      <td>154.2</td>\n",
              "      <td>high budget</td>\n",
              "    </tr>\n",
              "    <tr>\n",
              "      <th>22</th>\n",
              "      <td>Casino Royale</td>\n",
              "      <td>145.3</td>\n",
              "      <td>high budget</td>\n",
              "    </tr>\n",
              "    <tr>\n",
              "      <th>23</th>\n",
              "      <td>Quantum of Solace</td>\n",
              "      <td>181.4</td>\n",
              "      <td>high budget</td>\n",
              "    </tr>\n",
              "    <tr>\n",
              "      <th>24</th>\n",
              "      <td>Skyfall</td>\n",
              "      <td>170.2</td>\n",
              "      <td>high budget</td>\n",
              "    </tr>\n",
              "    <tr>\n",
              "      <th>25</th>\n",
              "      <td>Spectre</td>\n",
              "      <td>206.3</td>\n",
              "      <td>high budget</td>\n",
              "    </tr>\n",
              "  </tbody>\n",
              "</table>\n",
              "</div>"
            ],
            "text/plain": [
              "                               Film  Budget movie_budget_segment\n",
              "0                            Dr. No     7.0           low budget\n",
              "1             From Russia with Love    12.6           low budget\n",
              "2                        Goldfinger    18.6           low budget\n",
              "3                       Thunderball    41.9           low budget\n",
              "4                     Casino Royale    85.0        medium budget\n",
              "5               You Only Live Twice    59.9        medium budget\n",
              "6   On Her Majesty's Secret Service    37.3           low budget\n",
              "7              Diamonds Are Forever    34.7           low budget\n",
              "8                  Live and Let Die    30.8           low budget\n",
              "9       The Man with the Golden Gun    27.7           low budget\n",
              "10             The Spy Who Loved Me    45.1           low budget\n",
              "11                        Moonraker    91.5        medium budget\n",
              "12               For Your Eyes Only    60.2        medium budget\n",
              "13            Never Say Never Again    86.0        medium budget\n",
              "14                        Octopussy    53.9        medium budget\n",
              "15                 A View to a Kill    54.5        medium budget\n",
              "16             The Living Daylights    68.8        medium budget\n",
              "17                  Licence to Kill    56.7        medium budget\n",
              "18                        GoldenEye    76.9        medium budget\n",
              "19              Tomorrow Never Dies   133.9          high budget\n",
              "20          The World Is Not Enough   158.3          high budget\n",
              "21                  Die Another Day   154.2          high budget\n",
              "22                    Casino Royale   145.3          high budget\n",
              "23                Quantum of Solace   181.4          high budget\n",
              "24                          Skyfall   170.2          high budget\n",
              "25                          Spectre   206.3          high budget"
            ]
          },
          "metadata": {},
          "execution_count": 14
        }
      ]
    },
    {
      "cell_type": "markdown",
      "metadata": {
        "id": "NYSnJnPvSeuk"
      },
      "source": [
        "# AGREGACIONES\n",
        "---\n",
        "En el contexto del análisis de datos, *agregar* data significa realizar cálculos que permitan resumir información, abstrayendo conocimiento de data que se encuentra en estado bruto. *Nota: Se trata del ejercicio que hacemos cada vez que utilizamos una tabla dinámica (pivot table) en Excel*.\n",
        "\n",
        "Al realizar una agregación debemos establecer *el tipo de cálculo que buscamos realizar*. Para ello, utilizamos funciones específicas: *funciones de agregación*. \n",
        "\n",
        "*Funciones de agregación*\n",
        "\n",
        "| Function    | Description                     |\n",
        "|-------------|---------------------------------|\n",
        "| count       | Number of non-null observations |\n",
        "| nunique     | Number of unique values         |\n",
        "| sum         | Sum of values                   |\n",
        "| mean        | Mean of values                  |\n",
        "| median      | Arithmetic median of values     |\n",
        "| mode        | Mode                            |\n",
        "| min         | Minimum                         |\n",
        "| max         | Maximum                         |\n",
        "\n",
        "\n"
      ]
    },
    {
      "cell_type": "code",
      "metadata": {
        "colab": {
          "base_uri": "https://localhost:8080/"
        },
        "id": "bretq7DbSrrv",
        "outputId": "d1067ac0-f402-4ea9-c13c-caefadeb1b48"
      },
      "source": [
        "# Importamos df\n",
        "df_jamesbond = pd.read_csv(\"https://data-wizards.s3.amazonaws.com/datasets/jamesbond.csv\",index_col=\"Film\")\n",
        "df_jamesbond.dtypes"
      ],
      "execution_count": null,
      "outputs": [
        {
          "output_type": "execute_result",
          "data": {
            "text/plain": [
              "Year                   int64\n",
              "Actor                 object\n",
              "Director              object\n",
              "Box Office           float64\n",
              "Budget               float64\n",
              "Bond Actor Salary    float64\n",
              "dtype: object"
            ]
          },
          "metadata": {
            "tags": []
          },
          "execution_count": 2
        }
      ]
    },
    {
      "cell_type": "markdown",
      "metadata": {
        "id": "Ms9j1LacSlUr"
      },
      "source": [
        "### Agregaciones básicas\n",
        "---\n",
        "Comenzaremos realizando agregaciones simplemente utilizando funciones de aggregación sobre dataframes.\n",
        "\n",
        "```\n",
        "df.agg_func()\n",
        "```\n",
        "\n"
      ]
    },
    {
      "cell_type": "code",
      "metadata": {
        "colab": {
          "base_uri": "https://localhost:8080/"
        },
        "id": "_iePDbjpph13",
        "outputId": "1b3652b6-cc77-474b-ab23-8ab0f8ddd205"
      },
      "source": [
        "# Aplicamos una función de agregación sobre el dataframe\n",
        "df_jamesbond.max()\n",
        "# Obtenemos los valores max para cada una de las variables"
      ],
      "execution_count": null,
      "outputs": [
        {
          "output_type": "execute_result",
          "data": {
            "text/plain": [
              "Year                           2015\n",
              "Actor                Timothy Dalton\n",
              "Director              Terence Young\n",
              "Box Office                    943.5\n",
              "Budget                        206.3\n",
              "Bond Actor Salary              17.9\n",
              "dtype: object"
            ]
          },
          "metadata": {
            "tags": []
          },
          "execution_count": 17
        }
      ]
    },
    {
      "cell_type": "code",
      "metadata": {
        "colab": {
          "base_uri": "https://localhost:8080/"
        },
        "id": "DyxRwFWJ0VRW",
        "outputId": "e413b9d2-493f-41b2-be74-d185dfac7f01"
      },
      "source": [
        "# Seleccionamos una variable y aplicamos función de agregación\n",
        "df_jamesbond.Budget.sum().round()\n",
        "# Anidamos un .round() para redondear decimales"
      ],
      "execution_count": null,
      "outputs": [
        {
          "output_type": "execute_result",
          "data": {
            "text/plain": [
              "2099.0"
            ]
          },
          "metadata": {},
          "execution_count": 17
        }
      ]
    },
    {
      "cell_type": "code",
      "metadata": {
        "colab": {
          "base_uri": "https://localhost:8080/"
        },
        "id": "kuRDEEZp0sDh",
        "outputId": "39334d71-7b3c-44f3-cb89-fde1f69e498f"
      },
      "source": [
        "# Seleccionamos una variable y aplicamos función de agregación\n",
        "df_jamesbond.Actor.nunique()\n",
        "# Existen 7 actores de James Bond (únicos) en el dataframe"
      ],
      "execution_count": null,
      "outputs": [
        {
          "output_type": "execute_result",
          "data": {
            "text/plain": [
              "7"
            ]
          },
          "metadata": {},
          "execution_count": 18
        }
      ]
    },
    {
      "cell_type": "markdown",
      "metadata": {
        "id": "4NVlnlSq09uw"
      },
      "source": [
        "### El método .agg()\n",
        "---\n",
        "Pandas incluye un método dedicado a agregar data.\n",
        "\n",
        "```\n",
        "df.agg({'column':'agg_func'})\n",
        "```\n",
        "* Utilizamos un *dictionary* para establacer sobre qué variable realizar qué operación\n",
        "\n"
      ]
    },
    {
      "cell_type": "code",
      "metadata": {
        "colab": {
          "base_uri": "https://localhost:8080/"
        },
        "id": "hzHZmATb1oT5",
        "outputId": "b50f592f-d7c5-44f4-cd97-2bef8ab86ac3"
      },
      "source": [
        "# Agregamos data utilizando .agg()\n",
        "df_jamesbond.agg({'Actor':\"nunique\"})"
      ],
      "execution_count": null,
      "outputs": [
        {
          "output_type": "execute_result",
          "data": {
            "text/plain": [
              "Actor    7\n",
              "dtype: int64"
            ]
          },
          "metadata": {},
          "execution_count": 19
        }
      ]
    },
    {
      "cell_type": "code",
      "metadata": {
        "colab": {
          "base_uri": "https://localhost:8080/",
          "height": 142
        },
        "id": "OOWFtJXDyH1S",
        "outputId": "fe1c18d0-9302-4198-fe20-e9c9192a4250"
      },
      "source": [
        "# Agregamos la columna \"box office\", aplicando funciones min(), max() y mean()\n",
        "df_jamesbond.agg({'Box Office':[\"min\",\"max\",\"mean\"]})\n",
        "# En este caso, hemos utilizado más de una función de agregación sobre la misma variable"
      ],
      "execution_count": null,
      "outputs": [
        {
          "output_type": "execute_result",
          "data": {
            "text/html": [
              "<div>\n",
              "<style scoped>\n",
              "    .dataframe tbody tr th:only-of-type {\n",
              "        vertical-align: middle;\n",
              "    }\n",
              "\n",
              "    .dataframe tbody tr th {\n",
              "        vertical-align: top;\n",
              "    }\n",
              "\n",
              "    .dataframe thead th {\n",
              "        text-align: right;\n",
              "    }\n",
              "</style>\n",
              "<table border=\"1\" class=\"dataframe\">\n",
              "  <thead>\n",
              "    <tr style=\"text-align: right;\">\n",
              "      <th></th>\n",
              "      <th>Box Office</th>\n",
              "    </tr>\n",
              "  </thead>\n",
              "  <tbody>\n",
              "    <tr>\n",
              "      <th>min</th>\n",
              "      <td>250.900000</td>\n",
              "    </tr>\n",
              "    <tr>\n",
              "      <th>max</th>\n",
              "      <td>943.500000</td>\n",
              "    </tr>\n",
              "    <tr>\n",
              "      <th>mean</th>\n",
              "      <td>491.611538</td>\n",
              "    </tr>\n",
              "  </tbody>\n",
              "</table>\n",
              "</div>"
            ],
            "text/plain": [
              "      Box Office\n",
              "min   250.900000\n",
              "max   943.500000\n",
              "mean  491.611538"
            ]
          },
          "metadata": {
            "tags": []
          },
          "execution_count": 42
        }
      ]
    },
    {
      "cell_type": "code",
      "metadata": {
        "colab": {
          "base_uri": "https://localhost:8080/",
          "height": 143
        },
        "id": "7Rq0uHZP19im",
        "outputId": "5b911ec2-484e-4e7c-ae31-2ae322158dac"
      },
      "source": [
        "# Agregamos más de una columna añadiendo múltiples elementos en nuestro dictionary\n",
        "df_jamesbond.agg({\n",
        "    'Budget':[\"min\",\"max\",\"median\"],           \n",
        "    'Bond Actor Salary':[\"min\",\"max\",\"median\"]   \n",
        "    })"
      ],
      "execution_count": null,
      "outputs": [
        {
          "output_type": "execute_result",
          "data": {
            "text/html": [
              "<div>\n",
              "<style scoped>\n",
              "    .dataframe tbody tr th:only-of-type {\n",
              "        vertical-align: middle;\n",
              "    }\n",
              "\n",
              "    .dataframe tbody tr th {\n",
              "        vertical-align: top;\n",
              "    }\n",
              "\n",
              "    .dataframe thead th {\n",
              "        text-align: right;\n",
              "    }\n",
              "</style>\n",
              "<table border=\"1\" class=\"dataframe\">\n",
              "  <thead>\n",
              "    <tr style=\"text-align: right;\">\n",
              "      <th></th>\n",
              "      <th>Budget</th>\n",
              "      <th>Bond Actor Salary</th>\n",
              "    </tr>\n",
              "  </thead>\n",
              "  <tbody>\n",
              "    <tr>\n",
              "      <th>min</th>\n",
              "      <td>7.00</td>\n",
              "      <td>0.6</td>\n",
              "    </tr>\n",
              "    <tr>\n",
              "      <th>max</th>\n",
              "      <td>206.30</td>\n",
              "      <td>17.9</td>\n",
              "    </tr>\n",
              "    <tr>\n",
              "      <th>median</th>\n",
              "      <td>60.05</td>\n",
              "      <td>5.5</td>\n",
              "    </tr>\n",
              "  </tbody>\n",
              "</table>\n",
              "</div>"
            ],
            "text/plain": [
              "        Budget  Bond Actor Salary\n",
              "min       7.00                0.6\n",
              "max     206.30               17.9\n",
              "median   60.05                5.5"
            ]
          },
          "metadata": {},
          "execution_count": 22
        }
      ]
    },
    {
      "cell_type": "markdown",
      "metadata": {
        "id": "gFNnhuLiSz9-"
      },
      "source": [
        "### Agregaciones agrupadas\n",
        "---"
      ]
    },
    {
      "cell_type": "markdown",
      "metadata": {
        "id": "UI4vrksWT3p_"
      },
      "source": [
        "Al realizar agregaciones, frecuentemente agrupamos observaciones en una o más variables categóricas. \n",
        "\n",
        "El método *groupby()* permite agrupar observaciones para posteriormente agregar según grupos.\n",
        "\n",
        "```\n",
        "object.groupby(\"column\")\n",
        "```\n"
      ]
    },
    {
      "cell_type": "code",
      "metadata": {
        "colab": {
          "base_uri": "https://localhost:8080/",
          "height": 295
        },
        "id": "pnvwSfaXsFEp",
        "outputId": "850e65a8-be3c-4a59-c666-40e9996b5882"
      },
      "source": [
        "# Agregamos dos métricas, según una variable agrupada\n",
        "df_jamesbond.groupby(\"Actor\")[[\"Bond Actor Salary\",\"Box Office\"]].max()"
      ],
      "execution_count": null,
      "outputs": [
        {
          "output_type": "execute_result",
          "data": {
            "text/html": [
              "<div>\n",
              "<style scoped>\n",
              "    .dataframe tbody tr th:only-of-type {\n",
              "        vertical-align: middle;\n",
              "    }\n",
              "\n",
              "    .dataframe tbody tr th {\n",
              "        vertical-align: top;\n",
              "    }\n",
              "\n",
              "    .dataframe thead th {\n",
              "        text-align: right;\n",
              "    }\n",
              "</style>\n",
              "<table border=\"1\" class=\"dataframe\">\n",
              "  <thead>\n",
              "    <tr style=\"text-align: right;\">\n",
              "      <th></th>\n",
              "      <th>Bond Actor Salary</th>\n",
              "      <th>Box Office</th>\n",
              "    </tr>\n",
              "    <tr>\n",
              "      <th>Actor</th>\n",
              "      <th></th>\n",
              "      <th></th>\n",
              "    </tr>\n",
              "  </thead>\n",
              "  <tbody>\n",
              "    <tr>\n",
              "      <th>Daniel Craig</th>\n",
              "      <td>14.5</td>\n",
              "      <td>943.5</td>\n",
              "    </tr>\n",
              "    <tr>\n",
              "      <th>David Niven</th>\n",
              "      <td>NaN</td>\n",
              "      <td>315.0</td>\n",
              "    </tr>\n",
              "    <tr>\n",
              "      <th>George Lazenby</th>\n",
              "      <td>0.6</td>\n",
              "      <td>291.5</td>\n",
              "    </tr>\n",
              "    <tr>\n",
              "      <th>Pierce Brosnan</th>\n",
              "      <td>17.9</td>\n",
              "      <td>518.5</td>\n",
              "    </tr>\n",
              "    <tr>\n",
              "      <th>Roger Moore</th>\n",
              "      <td>9.1</td>\n",
              "      <td>535.0</td>\n",
              "    </tr>\n",
              "    <tr>\n",
              "      <th>Sean Connery</th>\n",
              "      <td>5.8</td>\n",
              "      <td>848.1</td>\n",
              "    </tr>\n",
              "    <tr>\n",
              "      <th>Timothy Dalton</th>\n",
              "      <td>7.9</td>\n",
              "      <td>313.5</td>\n",
              "    </tr>\n",
              "  </tbody>\n",
              "</table>\n",
              "</div>"
            ],
            "text/plain": [
              "                Bond Actor Salary  Box Office\n",
              "Actor                                        \n",
              "Daniel Craig                 14.5       943.5\n",
              "David Niven                   NaN       315.0\n",
              "George Lazenby                0.6       291.5\n",
              "Pierce Brosnan               17.9       518.5\n",
              "Roger Moore                   9.1       535.0\n",
              "Sean Connery                  5.8       848.1\n",
              "Timothy Dalton                7.9       313.5"
            ]
          },
          "metadata": {
            "tags": []
          },
          "execution_count": 38
        }
      ]
    },
    {
      "cell_type": "code",
      "metadata": {
        "colab": {
          "base_uri": "https://localhost:8080/",
          "height": 295
        },
        "id": "thhhL8TTS3V6",
        "outputId": "89d883e7-d08a-4692-93b3-08667f614452"
      },
      "source": [
        "# Repetimos ejercicio utilizando la función .agg()\n",
        "df_jamesbond.groupby(\"Actor\").agg(\n",
        "    {\"Bond Actor Salary\":\"max\",\"Box Office\":\"max\"}\n",
        ")"
      ],
      "execution_count": null,
      "outputs": [
        {
          "output_type": "execute_result",
          "data": {
            "text/html": [
              "<div>\n",
              "<style scoped>\n",
              "    .dataframe tbody tr th:only-of-type {\n",
              "        vertical-align: middle;\n",
              "    }\n",
              "\n",
              "    .dataframe tbody tr th {\n",
              "        vertical-align: top;\n",
              "    }\n",
              "\n",
              "    .dataframe thead th {\n",
              "        text-align: right;\n",
              "    }\n",
              "</style>\n",
              "<table border=\"1\" class=\"dataframe\">\n",
              "  <thead>\n",
              "    <tr style=\"text-align: right;\">\n",
              "      <th></th>\n",
              "      <th>Bond Actor Salary</th>\n",
              "      <th>Box Office</th>\n",
              "    </tr>\n",
              "    <tr>\n",
              "      <th>Actor</th>\n",
              "      <th></th>\n",
              "      <th></th>\n",
              "    </tr>\n",
              "  </thead>\n",
              "  <tbody>\n",
              "    <tr>\n",
              "      <th>Daniel Craig</th>\n",
              "      <td>14.5</td>\n",
              "      <td>943.5</td>\n",
              "    </tr>\n",
              "    <tr>\n",
              "      <th>David Niven</th>\n",
              "      <td>NaN</td>\n",
              "      <td>315.0</td>\n",
              "    </tr>\n",
              "    <tr>\n",
              "      <th>George Lazenby</th>\n",
              "      <td>0.6</td>\n",
              "      <td>291.5</td>\n",
              "    </tr>\n",
              "    <tr>\n",
              "      <th>Pierce Brosnan</th>\n",
              "      <td>17.9</td>\n",
              "      <td>518.5</td>\n",
              "    </tr>\n",
              "    <tr>\n",
              "      <th>Roger Moore</th>\n",
              "      <td>9.1</td>\n",
              "      <td>535.0</td>\n",
              "    </tr>\n",
              "    <tr>\n",
              "      <th>Sean Connery</th>\n",
              "      <td>5.8</td>\n",
              "      <td>848.1</td>\n",
              "    </tr>\n",
              "    <tr>\n",
              "      <th>Timothy Dalton</th>\n",
              "      <td>7.9</td>\n",
              "      <td>313.5</td>\n",
              "    </tr>\n",
              "  </tbody>\n",
              "</table>\n",
              "</div>"
            ],
            "text/plain": [
              "                Bond Actor Salary  Box Office\n",
              "Actor                                        \n",
              "Daniel Craig                 14.5       943.5\n",
              "David Niven                   NaN       315.0\n",
              "George Lazenby                0.6       291.5\n",
              "Pierce Brosnan               17.9       518.5\n",
              "Roger Moore                   9.1       535.0\n",
              "Sean Connery                  5.8       848.1\n",
              "Timothy Dalton                7.9       313.5"
            ]
          },
          "metadata": {
            "tags": []
          },
          "execution_count": 40
        }
      ]
    },
    {
      "cell_type": "code",
      "metadata": {
        "colab": {
          "base_uri": "https://localhost:8080/",
          "height": 295
        },
        "id": "_RtQoiEGWjRG",
        "outputId": "eecdcae9-ae85-4ff8-fa46-1145b16a21cd"
      },
      "source": [
        "# Agregamos salario máximo y media de box office, según actor\n",
        "## cambiamos los nombres de las variables agregadas\n",
        "df = df_jamesbond.groupby(\"Actor\").agg(\n",
        "    {\"Bond Actor Salary\":\"max\",\"Box Office\":\"mean\"}\n",
        ").sort_values(\"Bond Actor Salary\", ascending=False)\n",
        "\n",
        "## muchas veces, los nombres que obtenemos por defecto no son representativos de la información que almacenan\n",
        "df = df.rename(columns={'Bond Actor Salary':'total_bond_salary','Box Office':'total_box_office'})\n",
        "\n",
        "df # invocamos el objeto"
      ],
      "execution_count": null,
      "outputs": [
        {
          "output_type": "execute_result",
          "data": {
            "text/html": [
              "<div>\n",
              "<style scoped>\n",
              "    .dataframe tbody tr th:only-of-type {\n",
              "        vertical-align: middle;\n",
              "    }\n",
              "\n",
              "    .dataframe tbody tr th {\n",
              "        vertical-align: top;\n",
              "    }\n",
              "\n",
              "    .dataframe thead th {\n",
              "        text-align: right;\n",
              "    }\n",
              "</style>\n",
              "<table border=\"1\" class=\"dataframe\">\n",
              "  <thead>\n",
              "    <tr style=\"text-align: right;\">\n",
              "      <th></th>\n",
              "      <th>total_bond_salary</th>\n",
              "      <th>total_box_office</th>\n",
              "    </tr>\n",
              "    <tr>\n",
              "      <th>Actor</th>\n",
              "      <th></th>\n",
              "      <th></th>\n",
              "    </tr>\n",
              "  </thead>\n",
              "  <tbody>\n",
              "    <tr>\n",
              "      <th>Pierce Brosnan</th>\n",
              "      <td>17.9</td>\n",
              "      <td>471.650000</td>\n",
              "    </tr>\n",
              "    <tr>\n",
              "      <th>Daniel Craig</th>\n",
              "      <td>14.5</td>\n",
              "      <td>691.475000</td>\n",
              "    </tr>\n",
              "    <tr>\n",
              "      <th>Roger Moore</th>\n",
              "      <td>9.1</td>\n",
              "      <td>422.957143</td>\n",
              "    </tr>\n",
              "    <tr>\n",
              "      <th>Timothy Dalton</th>\n",
              "      <td>7.9</td>\n",
              "      <td>282.200000</td>\n",
              "    </tr>\n",
              "    <tr>\n",
              "      <th>Sean Connery</th>\n",
              "      <td>5.8</td>\n",
              "      <td>571.114286</td>\n",
              "    </tr>\n",
              "    <tr>\n",
              "      <th>George Lazenby</th>\n",
              "      <td>0.6</td>\n",
              "      <td>291.500000</td>\n",
              "    </tr>\n",
              "    <tr>\n",
              "      <th>David Niven</th>\n",
              "      <td>NaN</td>\n",
              "      <td>315.000000</td>\n",
              "    </tr>\n",
              "  </tbody>\n",
              "</table>\n",
              "</div>"
            ],
            "text/plain": [
              "                total_bond_salary  total_box_office\n",
              "Actor                                              \n",
              "Pierce Brosnan               17.9        471.650000\n",
              "Daniel Craig                 14.5        691.475000\n",
              "Roger Moore                   9.1        422.957143\n",
              "Timothy Dalton                7.9        282.200000\n",
              "Sean Connery                  5.8        571.114286\n",
              "George Lazenby                0.6        291.500000\n",
              "David Niven                   NaN        315.000000"
            ]
          },
          "metadata": {
            "tags": []
          },
          "execution_count": 41
        }
      ]
    },
    {
      "cell_type": "code",
      "metadata": {
        "colab": {
          "base_uri": "https://localhost:8080/",
          "height": 328
        },
        "id": "BdEFBtnpUBEx",
        "outputId": "d761fbfd-b866-471a-8c74-cde992c60473"
      },
      "source": [
        "# Agregamos múltiples métricas utilizando distintas funciones\n",
        "## al momento de ordenar, debemos utilizar un tuple para poder especificar (i) variable y (ii) función\n",
        "df_jamesbond.groupby(\"Actor\").agg(\n",
        "    {\"Bond Actor Salary\":[\"max\",\"sum\",\"mean\",\"size\"]\n",
        "    ,\"Budget\":[\"max\",\"min\"]}\n",
        ").sort_values((\"Bond Actor Salary\",\"max\"),ascending=False) # al ordenar el df, debemos utilizar un \"tuple\" para definir criterio\n"
      ],
      "execution_count": null,
      "outputs": [
        {
          "output_type": "execute_result",
          "data": {
            "text/html": [
              "<div>\n",
              "<style scoped>\n",
              "    .dataframe tbody tr th:only-of-type {\n",
              "        vertical-align: middle;\n",
              "    }\n",
              "\n",
              "    .dataframe tbody tr th {\n",
              "        vertical-align: top;\n",
              "    }\n",
              "\n",
              "    .dataframe thead tr th {\n",
              "        text-align: left;\n",
              "    }\n",
              "\n",
              "    .dataframe thead tr:last-of-type th {\n",
              "        text-align: right;\n",
              "    }\n",
              "</style>\n",
              "<table border=\"1\" class=\"dataframe\">\n",
              "  <thead>\n",
              "    <tr>\n",
              "      <th></th>\n",
              "      <th colspan=\"4\" halign=\"left\">Bond Actor Salary</th>\n",
              "      <th colspan=\"2\" halign=\"left\">Budget</th>\n",
              "    </tr>\n",
              "    <tr>\n",
              "      <th></th>\n",
              "      <th>max</th>\n",
              "      <th>sum</th>\n",
              "      <th>mean</th>\n",
              "      <th>size</th>\n",
              "      <th>max</th>\n",
              "      <th>min</th>\n",
              "    </tr>\n",
              "    <tr>\n",
              "      <th>Actor</th>\n",
              "      <th></th>\n",
              "      <th></th>\n",
              "      <th></th>\n",
              "      <th></th>\n",
              "      <th></th>\n",
              "      <th></th>\n",
              "    </tr>\n",
              "  </thead>\n",
              "  <tbody>\n",
              "    <tr>\n",
              "      <th>Pierce Brosnan</th>\n",
              "      <td>17.9</td>\n",
              "      <td>46.5</td>\n",
              "      <td>11.625000</td>\n",
              "      <td>4</td>\n",
              "      <td>158.3</td>\n",
              "      <td>76.9</td>\n",
              "    </tr>\n",
              "    <tr>\n",
              "      <th>Daniel Craig</th>\n",
              "      <td>14.5</td>\n",
              "      <td>25.9</td>\n",
              "      <td>8.633333</td>\n",
              "      <td>4</td>\n",
              "      <td>206.3</td>\n",
              "      <td>145.3</td>\n",
              "    </tr>\n",
              "    <tr>\n",
              "      <th>Roger Moore</th>\n",
              "      <td>9.1</td>\n",
              "      <td>16.9</td>\n",
              "      <td>8.450000</td>\n",
              "      <td>7</td>\n",
              "      <td>91.5</td>\n",
              "      <td>27.7</td>\n",
              "    </tr>\n",
              "    <tr>\n",
              "      <th>Timothy Dalton</th>\n",
              "      <td>7.9</td>\n",
              "      <td>13.1</td>\n",
              "      <td>6.550000</td>\n",
              "      <td>2</td>\n",
              "      <td>68.8</td>\n",
              "      <td>56.7</td>\n",
              "    </tr>\n",
              "    <tr>\n",
              "      <th>Sean Connery</th>\n",
              "      <td>5.8</td>\n",
              "      <td>20.3</td>\n",
              "      <td>3.383333</td>\n",
              "      <td>7</td>\n",
              "      <td>86.0</td>\n",
              "      <td>7.0</td>\n",
              "    </tr>\n",
              "    <tr>\n",
              "      <th>George Lazenby</th>\n",
              "      <td>0.6</td>\n",
              "      <td>0.6</td>\n",
              "      <td>0.600000</td>\n",
              "      <td>1</td>\n",
              "      <td>37.3</td>\n",
              "      <td>37.3</td>\n",
              "    </tr>\n",
              "    <tr>\n",
              "      <th>David Niven</th>\n",
              "      <td>NaN</td>\n",
              "      <td>0.0</td>\n",
              "      <td>NaN</td>\n",
              "      <td>1</td>\n",
              "      <td>85.0</td>\n",
              "      <td>85.0</td>\n",
              "    </tr>\n",
              "  </tbody>\n",
              "</table>\n",
              "</div>"
            ],
            "text/plain": [
              "               Bond Actor Salary                       Budget       \n",
              "                             max   sum       mean size    max    min\n",
              "Actor                                                               \n",
              "Pierce Brosnan              17.9  46.5  11.625000    4  158.3   76.9\n",
              "Daniel Craig                14.5  25.9   8.633333    4  206.3  145.3\n",
              "Roger Moore                  9.1  16.9   8.450000    7   91.5   27.7\n",
              "Timothy Dalton               7.9  13.1   6.550000    2   68.8   56.7\n",
              "Sean Connery                 5.8  20.3   3.383333    7   86.0    7.0\n",
              "George Lazenby               0.6   0.6   0.600000    1   37.3   37.3\n",
              "David Niven                  NaN   0.0        NaN    1   85.0   85.0"
            ]
          },
          "metadata": {
            "tags": []
          },
          "execution_count": 18
        }
      ]
    },
    {
      "cell_type": "code",
      "metadata": {
        "colab": {
          "base_uri": "https://localhost:8080/",
          "height": 607
        },
        "id": "b5QBWE0rg_hz",
        "outputId": "307aa68e-2a90-48b6-95e0-dc7f6157e879"
      },
      "source": [
        "# Podemos utilizar más de una variable al agregar\n",
        "## en tal caso, las observaciones se agruparán según estos dos campo combinados\n",
        "df_jamesbond.groupby([\"Director\",\"Actor\"]).agg(\n",
        "    {\"Box Office\":\"median\"}\n",
        ")"
      ],
      "execution_count": null,
      "outputs": [
        {
          "output_type": "execute_result",
          "data": {
            "text/html": [
              "<div>\n",
              "<style scoped>\n",
              "    .dataframe tbody tr th:only-of-type {\n",
              "        vertical-align: middle;\n",
              "    }\n",
              "\n",
              "    .dataframe tbody tr th {\n",
              "        vertical-align: top;\n",
              "    }\n",
              "\n",
              "    .dataframe thead th {\n",
              "        text-align: right;\n",
              "    }\n",
              "</style>\n",
              "<table border=\"1\" class=\"dataframe\">\n",
              "  <thead>\n",
              "    <tr style=\"text-align: right;\">\n",
              "      <th></th>\n",
              "      <th></th>\n",
              "      <th>Box Office</th>\n",
              "    </tr>\n",
              "    <tr>\n",
              "      <th>Director</th>\n",
              "      <th>Actor</th>\n",
              "      <th></th>\n",
              "    </tr>\n",
              "  </thead>\n",
              "  <tbody>\n",
              "    <tr>\n",
              "      <th rowspan=\"2\" valign=\"top\">Guy Hamilton</th>\n",
              "      <th>Roger Moore</th>\n",
              "      <td>397.15</td>\n",
              "    </tr>\n",
              "    <tr>\n",
              "      <th>Sean Connery</th>\n",
              "      <td>631.45</td>\n",
              "    </tr>\n",
              "    <tr>\n",
              "      <th>Irvin Kershner</th>\n",
              "      <th>Sean Connery</th>\n",
              "      <td>380.00</td>\n",
              "    </tr>\n",
              "    <tr>\n",
              "      <th rowspan=\"2\" valign=\"top\">John Glen</th>\n",
              "      <th>Roger Moore</th>\n",
              "      <td>373.80</td>\n",
              "    </tr>\n",
              "    <tr>\n",
              "      <th>Timothy Dalton</th>\n",
              "      <td>282.20</td>\n",
              "    </tr>\n",
              "    <tr>\n",
              "      <th>Ken Hughes</th>\n",
              "      <th>David Niven</th>\n",
              "      <td>315.00</td>\n",
              "    </tr>\n",
              "    <tr>\n",
              "      <th>Lee Tamahori</th>\n",
              "      <th>Pierce Brosnan</th>\n",
              "      <td>465.40</td>\n",
              "    </tr>\n",
              "    <tr>\n",
              "      <th rowspan=\"2\" valign=\"top\">Lewis Gilbert</th>\n",
              "      <th>Roger Moore</th>\n",
              "      <td>534.00</td>\n",
              "    </tr>\n",
              "    <tr>\n",
              "      <th>Sean Connery</th>\n",
              "      <td>514.20</td>\n",
              "    </tr>\n",
              "    <tr>\n",
              "      <th>Marc Forster</th>\n",
              "      <th>Daniel Craig</th>\n",
              "      <td>514.20</td>\n",
              "    </tr>\n",
              "    <tr>\n",
              "      <th rowspan=\"2\" valign=\"top\">Martin Campbell</th>\n",
              "      <th>Daniel Craig</th>\n",
              "      <td>581.50</td>\n",
              "    </tr>\n",
              "    <tr>\n",
              "      <th>Pierce Brosnan</th>\n",
              "      <td>518.50</td>\n",
              "    </tr>\n",
              "    <tr>\n",
              "      <th>Michael Apted</th>\n",
              "      <th>Pierce Brosnan</th>\n",
              "      <td>439.50</td>\n",
              "    </tr>\n",
              "    <tr>\n",
              "      <th>Peter R. Hunt</th>\n",
              "      <th>George Lazenby</th>\n",
              "      <td>291.50</td>\n",
              "    </tr>\n",
              "    <tr>\n",
              "      <th>Roger Spottiswoode</th>\n",
              "      <th>Pierce Brosnan</th>\n",
              "      <td>463.20</td>\n",
              "    </tr>\n",
              "    <tr>\n",
              "      <th>Sam Mendes</th>\n",
              "      <th>Daniel Craig</th>\n",
              "      <td>835.10</td>\n",
              "    </tr>\n",
              "    <tr>\n",
              "      <th>Terence Young</th>\n",
              "      <th>Sean Connery</th>\n",
              "      <td>543.80</td>\n",
              "    </tr>\n",
              "  </tbody>\n",
              "</table>\n",
              "</div>"
            ],
            "text/plain": [
              "                                   Box Office\n",
              "Director           Actor                     \n",
              "Guy Hamilton       Roger Moore         397.15\n",
              "                   Sean Connery        631.45\n",
              "Irvin Kershner     Sean Connery        380.00\n",
              "John Glen          Roger Moore         373.80\n",
              "                   Timothy Dalton      282.20\n",
              "Ken Hughes         David Niven         315.00\n",
              "Lee Tamahori       Pierce Brosnan      465.40\n",
              "Lewis Gilbert      Roger Moore         534.00\n",
              "                   Sean Connery        514.20\n",
              "Marc Forster       Daniel Craig        514.20\n",
              "Martin Campbell    Daniel Craig        581.50\n",
              "                   Pierce Brosnan      518.50\n",
              "Michael Apted      Pierce Brosnan      439.50\n",
              "Peter R. Hunt      George Lazenby      291.50\n",
              "Roger Spottiswoode Pierce Brosnan      463.20\n",
              "Sam Mendes         Daniel Craig        835.10\n",
              "Terence Young      Sean Connery        543.80"
            ]
          },
          "metadata": {
            "tags": []
          },
          "execution_count": 45
        }
      ]
    },
    {
      "cell_type": "markdown",
      "metadata": {
        "id": "-dWa5h7EHf4i"
      },
      "source": [
        "# UNIR DATAFRAMES\n",
        "---\n",
        "Con frecuencia nos vemos obligados a unir dos o más dataframes. Al unir dos dataframes, podemos estar realizando dos operaciones distintas:\n",
        "*   Concatenación (unir por filas, también denominado *unions*);\n",
        "*   Joins (unir columnas según algún campo en común)\n",
        "\n"
      ]
    },
    {
      "cell_type": "code",
      "metadata": {
        "colab": {
          "base_uri": "https://localhost:8080/"
        },
        "id": "BePU27LQ5f8I",
        "outputId": "819bf75d-0395-4596-e440-7bc4ba8b796d"
      },
      "source": [
        "# Importamos df\n",
        "df_jamesbond = pd.read_csv(\"https://data-wizards.s3.amazonaws.com/datasets/jamesbond.csv\",index_col=\"Film\")\n",
        "df_jamesbond.dtypes"
      ],
      "execution_count": null,
      "outputs": [
        {
          "output_type": "execute_result",
          "data": {
            "text/plain": [
              "Year                   int64\n",
              "Actor                 object\n",
              "Director              object\n",
              "Box Office           float64\n",
              "Budget               float64\n",
              "Bond Actor Salary    float64\n",
              "dtype: object"
            ]
          },
          "metadata": {
            "tags": []
          },
          "execution_count": 61
        }
      ]
    },
    {
      "cell_type": "markdown",
      "metadata": {
        "id": "oTS0ZFN9zIfH"
      },
      "source": [
        "### Unir por filas (unions)\n",
        "---"
      ]
    },
    {
      "cell_type": "markdown",
      "metadata": {
        "id": "MVZoW2-6-tu-"
      },
      "source": [
        "Uniremos dos dataframes utilizando la función *concat()*. Nota: los datasets deben contener las mismas columnas."
      ]
    },
    {
      "cell_type": "code",
      "metadata": {
        "colab": {
          "base_uri": "https://localhost:8080/",
          "height": 254
        },
        "id": "ul8KXhxCGpCV",
        "outputId": "da8f39ef-ca7e-4658-c590-d310d1347629"
      },
      "source": [
        "pd.concat([df_jamesbond.head(2),df_jamesbond.tail(2)])"
      ],
      "execution_count": null,
      "outputs": [
        {
          "output_type": "execute_result",
          "data": {
            "text/html": [
              "<div>\n",
              "<style scoped>\n",
              "    .dataframe tbody tr th:only-of-type {\n",
              "        vertical-align: middle;\n",
              "    }\n",
              "\n",
              "    .dataframe tbody tr th {\n",
              "        vertical-align: top;\n",
              "    }\n",
              "\n",
              "    .dataframe thead th {\n",
              "        text-align: right;\n",
              "    }\n",
              "</style>\n",
              "<table border=\"1\" class=\"dataframe\">\n",
              "  <thead>\n",
              "    <tr style=\"text-align: right;\">\n",
              "      <th></th>\n",
              "      <th>Year</th>\n",
              "      <th>Actor</th>\n",
              "      <th>Director</th>\n",
              "      <th>Box Office</th>\n",
              "      <th>Budget</th>\n",
              "      <th>Bond Actor Salary</th>\n",
              "    </tr>\n",
              "    <tr>\n",
              "      <th>Film</th>\n",
              "      <th></th>\n",
              "      <th></th>\n",
              "      <th></th>\n",
              "      <th></th>\n",
              "      <th></th>\n",
              "      <th></th>\n",
              "    </tr>\n",
              "  </thead>\n",
              "  <tbody>\n",
              "    <tr>\n",
              "      <th>Dr. No</th>\n",
              "      <td>1962</td>\n",
              "      <td>Sean Connery</td>\n",
              "      <td>Terence Young</td>\n",
              "      <td>448.8</td>\n",
              "      <td>7.0</td>\n",
              "      <td>0.6</td>\n",
              "    </tr>\n",
              "    <tr>\n",
              "      <th>From Russia with Love</th>\n",
              "      <td>1963</td>\n",
              "      <td>Sean Connery</td>\n",
              "      <td>Terence Young</td>\n",
              "      <td>543.8</td>\n",
              "      <td>12.6</td>\n",
              "      <td>1.6</td>\n",
              "    </tr>\n",
              "    <tr>\n",
              "      <th>Skyfall</th>\n",
              "      <td>2012</td>\n",
              "      <td>Daniel Craig</td>\n",
              "      <td>Sam Mendes</td>\n",
              "      <td>943.5</td>\n",
              "      <td>170.2</td>\n",
              "      <td>14.5</td>\n",
              "    </tr>\n",
              "    <tr>\n",
              "      <th>Spectre</th>\n",
              "      <td>2015</td>\n",
              "      <td>Daniel Craig</td>\n",
              "      <td>Sam Mendes</td>\n",
              "      <td>726.7</td>\n",
              "      <td>206.3</td>\n",
              "      <td>NaN</td>\n",
              "    </tr>\n",
              "  </tbody>\n",
              "</table>\n",
              "</div>"
            ],
            "text/plain": [
              "                       Year         Actor  ... Budget  Bond Actor Salary\n",
              "Film                                       ...                          \n",
              "Dr. No                 1962  Sean Connery  ...    7.0                0.6\n",
              "From Russia with Love  1963  Sean Connery  ...   12.6                1.6\n",
              "Skyfall                2012  Daniel Craig  ...  170.2               14.5\n",
              "Spectre                2015  Daniel Craig  ...  206.3                NaN\n",
              "\n",
              "[4 rows x 6 columns]"
            ]
          },
          "metadata": {
            "tags": []
          },
          "execution_count": 64
        }
      ]
    },
    {
      "cell_type": "markdown",
      "metadata": {
        "id": "vZQuZwruzIfN"
      },
      "source": [
        "### Unir por columnas (joins)\n",
        "---"
      ]
    },
    {
      "cell_type": "markdown",
      "metadata": {
        "id": "ORpFsj3l-jWY"
      },
      "source": [
        "La función *merge()* permite unir (\"join\") dos dataframes según columnas. Imitando la lógica en SQL, permite elegir entre distintos criterios para el join (*left, right, inner*).\n",
        "\n",
        "```\n",
        "df_1.merge(df_2,how='inner',on=None, ...)\n",
        "```\n",
        "\n",
        "En caso de que los *keys* (columnas que usamos para unir) tengan nombres distintos en cada tabla, \n",
        "\n",
        "```\n",
        "df_1.merge(df_2,how='inner',left_on='key',right_on='key', ...)\n",
        "```\n"
      ]
    },
    {
      "cell_type": "code",
      "metadata": {
        "colab": {
          "base_uri": "https://localhost:8080/"
        },
        "id": "gfUtquqPBn9j",
        "outputId": "9a93d9c4-b416-4036-bf64-a3c80a9f9c20"
      },
      "source": [
        "# importamos dataframe con data de albumes\n",
        "df_albums = pd.read_csv('https://data-wizards.s3.amazonaws.com/datasets/rolling_stones_top_metal_albums.csv')\n",
        "df_albums.dtypes"
      ],
      "execution_count": null,
      "outputs": [
        {
          "output_type": "execute_result",
          "data": {
            "text/plain": [
              "AlbumID_Rank              int64\n",
              "Artist                   object\n",
              "Album                    object\n",
              "Release_Year              int64\n",
              "Spotify_Album            object\n",
              "Description              object\n",
              "wiki                     object\n",
              "Duration                 object\n",
              "Minutes                   int64\n",
              "Seconds                   int64\n",
              "Total_Seconds             int64\n",
              "Label                    object\n",
              "Sub_Metal_Genre          object\n",
              "Rating                  float64\n",
              "Rolling_Stone_Rating     object\n",
              "dtype: object"
            ]
          },
          "metadata": {
            "tags": []
          },
          "execution_count": 58
        }
      ]
    },
    {
      "cell_type": "code",
      "metadata": {
        "colab": {
          "base_uri": "https://localhost:8080/"
        },
        "id": "EutptrQCBoGj",
        "outputId": "7c171e42-b03c-4790-e93d-08898f310326"
      },
      "source": [
        "# importamos dataframe con data de canciones\n",
        "df_songs = pd.read_csv('https://data-wizards.s3.amazonaws.com/datasets/rolling_stones_top_metal_songs.csv')\n",
        "df_songs.dtypes"
      ],
      "execution_count": null,
      "outputs": [
        {
          "output_type": "execute_result",
          "data": {
            "text/plain": [
              "Song Index       int64\n",
              "Song            object\n",
              "Artist          object\n",
              "Track No.        int64\n",
              "AlbumID_Rank     int64\n",
              "BPM              int64\n",
              "Energy           int64\n",
              "Dance            int64\n",
              "Loud             int64\n",
              "Valence          int64\n",
              "Duration        object\n",
              "Acoustic         int64\n",
              "Popularity       int64\n",
              "Spotify_Song    object\n",
              "dtype: object"
            ]
          },
          "metadata": {
            "tags": []
          },
          "execution_count": 57
        }
      ]
    },
    {
      "cell_type": "code",
      "metadata": {
        "colab": {
          "base_uri": "https://localhost:8080/",
          "height": 551
        },
        "id": "KkWufj77COT3",
        "outputId": "b3cac948-3fdf-4d2d-c595-b8a16131aba1"
      },
      "source": [
        "df_songs[['Song','Artist','AlbumID_Rank']].merge(\n",
        "    df_albums[['AlbumID_Rank','Album','Release_Year']]  # df secundario\n",
        "    ,how='left'                                         # definimos el criterio en el join, en este caso elegimos \"left\"\n",
        "    ,left_on='AlbumID_Rank'                             # definimos la key (columna) en la tabla principal \n",
        "    ,right_on='AlbumID_Rank'                            # key en nuestra tabla secundaria\n",
        ")"
      ],
      "execution_count": null,
      "outputs": [
        {
          "output_type": "execute_result",
          "data": {
            "text/html": [
              "<div>\n",
              "<style scoped>\n",
              "    .dataframe tbody tr th:only-of-type {\n",
              "        vertical-align: middle;\n",
              "    }\n",
              "\n",
              "    .dataframe tbody tr th {\n",
              "        vertical-align: top;\n",
              "    }\n",
              "\n",
              "    .dataframe thead th {\n",
              "        text-align: right;\n",
              "    }\n",
              "</style>\n",
              "<table border=\"1\" class=\"dataframe\">\n",
              "  <thead>\n",
              "    <tr style=\"text-align: right;\">\n",
              "      <th></th>\n",
              "      <th>Song</th>\n",
              "      <th>Artist</th>\n",
              "      <th>AlbumID_Rank</th>\n",
              "      <th>Album</th>\n",
              "      <th>Release_Year</th>\n",
              "    </tr>\n",
              "  </thead>\n",
              "  <tbody>\n",
              "    <tr>\n",
              "      <th>0</th>\n",
              "      <td>War Pigs / Luke's Wall - 2014 Remaster</td>\n",
              "      <td>Black Sabbath</td>\n",
              "      <td>1</td>\n",
              "      <td>Paranoid</td>\n",
              "      <td>1970</td>\n",
              "    </tr>\n",
              "    <tr>\n",
              "      <th>1</th>\n",
              "      <td>Paranoid - 2016 Remaster</td>\n",
              "      <td>Black Sabbath</td>\n",
              "      <td>1</td>\n",
              "      <td>Paranoid</td>\n",
              "      <td>1970</td>\n",
              "    </tr>\n",
              "    <tr>\n",
              "      <th>2</th>\n",
              "      <td>Planet Caravan - 2013 Remaster</td>\n",
              "      <td>Black Sabbath</td>\n",
              "      <td>1</td>\n",
              "      <td>Paranoid</td>\n",
              "      <td>1970</td>\n",
              "    </tr>\n",
              "    <tr>\n",
              "      <th>3</th>\n",
              "      <td>Iron Man - 2014 Remaster</td>\n",
              "      <td>Black Sabbath</td>\n",
              "      <td>1</td>\n",
              "      <td>Paranoid</td>\n",
              "      <td>1970</td>\n",
              "    </tr>\n",
              "    <tr>\n",
              "      <th>4</th>\n",
              "      <td>Electric Funeral - 2013 Remaster</td>\n",
              "      <td>Black Sabbath</td>\n",
              "      <td>1</td>\n",
              "      <td>Paranoid</td>\n",
              "      <td>1970</td>\n",
              "    </tr>\n",
              "    <tr>\n",
              "      <th>...</th>\n",
              "      <td>...</td>\n",
              "      <td>...</td>\n",
              "      <td>...</td>\n",
              "      <td>...</td>\n",
              "      <td>...</td>\n",
              "    </tr>\n",
              "    <tr>\n",
              "      <th>1045</th>\n",
              "      <td>Sidewinder</td>\n",
              "      <td>Avenged Sevenfold</td>\n",
              "      <td>100</td>\n",
              "      <td>City of Evil</td>\n",
              "      <td>2005</td>\n",
              "    </tr>\n",
              "    <tr>\n",
              "      <th>1046</th>\n",
              "      <td>The Wicked End</td>\n",
              "      <td>Avenged Sevenfold</td>\n",
              "      <td>100</td>\n",
              "      <td>City of Evil</td>\n",
              "      <td>2005</td>\n",
              "    </tr>\n",
              "    <tr>\n",
              "      <th>1047</th>\n",
              "      <td>Strength of the World</td>\n",
              "      <td>Avenged Sevenfold</td>\n",
              "      <td>100</td>\n",
              "      <td>City of Evil</td>\n",
              "      <td>2005</td>\n",
              "    </tr>\n",
              "    <tr>\n",
              "      <th>1048</th>\n",
              "      <td>Betrayed</td>\n",
              "      <td>Avenged Sevenfold</td>\n",
              "      <td>100</td>\n",
              "      <td>City of Evil</td>\n",
              "      <td>2005</td>\n",
              "    </tr>\n",
              "    <tr>\n",
              "      <th>1049</th>\n",
              "      <td>M.I.A.</td>\n",
              "      <td>Avenged Sevenfold</td>\n",
              "      <td>100</td>\n",
              "      <td>City of Evil</td>\n",
              "      <td>2005</td>\n",
              "    </tr>\n",
              "  </tbody>\n",
              "</table>\n",
              "<p>1050 rows × 5 columns</p>\n",
              "</div>"
            ],
            "text/plain": [
              "                                        Song  ... Release_Year\n",
              "0     War Pigs / Luke's Wall - 2014 Remaster  ...         1970\n",
              "1                   Paranoid - 2016 Remaster  ...         1970\n",
              "2             Planet Caravan - 2013 Remaster  ...         1970\n",
              "3                   Iron Man - 2014 Remaster  ...         1970\n",
              "4           Electric Funeral - 2013 Remaster  ...         1970\n",
              "...                                      ...  ...          ...\n",
              "1045                              Sidewinder  ...         2005\n",
              "1046                          The Wicked End  ...         2005\n",
              "1047                   Strength of the World  ...         2005\n",
              "1048                                Betrayed  ...         2005\n",
              "1049                                  M.I.A.  ...         2005\n",
              "\n",
              "[1050 rows x 5 columns]"
            ]
          },
          "metadata": {
            "tags": []
          },
          "execution_count": 60
        }
      ]
    },
    {
      "cell_type": "markdown",
      "metadata": {
        "id": "UJFehThgLUq1"
      },
      "source": [
        "# EJERCICIOS\n",
        "---"
      ]
    },
    {
      "cell_type": "markdown",
      "metadata": {
        "id": "im_V3Ak3hO2q"
      },
      "source": [
        "##### EX 1: Campos condicionales\n",
        "---\n",
        "\n",
        "El dataset incluye datos de videojuegos. Las ventas figuran en USD millones y están divididas por regiones. \n",
        "\n",
        "Ejercicio:\n",
        "* Crear un campo (*total_sales*) en el dataframe que englobe las ventas totales en todas las regiones \n",
        "* Crear otro campo (*video_game_segment*) que identifique videojuegos que hayan vendido en total más de 30MM (\"top sales\") vs. el resto (\"not top sales\")\n",
        "* Filtrar por videojuegos para la plataforma 'N64' y desplegar columnas; *name*, *platform_code*, *total_sales*, *video_game_segment*\n",
        "\n",
        "> Dataset https://data-wizards.s3.amazonaws.com/datasets/dataset_videogames_games.csv\n",
        "\n",
        "\n",
        "\n"
      ]
    },
    {
      "cell_type": "code",
      "metadata": {
        "colab": {
          "base_uri": "https://localhost:8080/"
        },
        "id": "86sxYe9Yho0s",
        "outputId": "a14fc164-7313-4f50-ab35-e3ebcbdf8063"
      },
      "source": [
        "import pandas as pd\n",
        "import numpy as np\n",
        "df_videogames = pd.read_csv(\"https://data-wizards.s3.amazonaws.com/datasets/dataset_videogames_games.csv\")\n",
        "df_videogames.dtypes"
      ],
      "execution_count": null,
      "outputs": [
        {
          "output_type": "execute_result",
          "data": {
            "text/plain": [
              "rank               int64\n",
              "name              object\n",
              "platform_code     object\n",
              "year               int64\n",
              "genre             object\n",
              "publisher         object\n",
              "NA_sales         float64\n",
              "EU_sales         float64\n",
              "JP_sales         float64\n",
              "Other_sales      float64\n",
              "dtype: object"
            ]
          },
          "metadata": {
            "tags": []
          },
          "execution_count": 112
        }
      ]
    },
    {
      "cell_type": "markdown",
      "metadata": {
        "id": "yLuNuKvEYwnI"
      },
      "source": [
        "##### EX 2: Agregaciones\n",
        "---\n",
        "\n",
        "##### EX 2.1 Calcular suma total de facturación (revenue), según sector\n",
        "##### EX 2.2 Repetir el ejercicio anterior, pero filtrando únicamente por sectores Technology, Energy y Retailing\n",
        "\n",
        "> Dataset https://data-wizards.s3.amazonaws.com/datasets/fortune1000.csv\n"
      ]
    },
    {
      "cell_type": "code",
      "metadata": {
        "colab": {
          "base_uri": "https://localhost:8080/"
        },
        "id": "sGy1d7VfY1yW",
        "outputId": "cf65fabe-1215-4fdd-dfc2-ce9566a69061"
      },
      "source": [
        "import pandas as pd\n",
        "df_fortune = pd.read_csv(\"https://data-wizards.s3.amazonaws.com/datasets/fortune1000.csv\")\n",
        "df_fortune.dtypes"
      ],
      "execution_count": null,
      "outputs": [
        {
          "output_type": "execute_result",
          "data": {
            "text/plain": [
              "Rank          int64\n",
              "Company      object\n",
              "Sector       object\n",
              "Industry     object\n",
              "Location     object\n",
              "Revenue       int64\n",
              "Profits       int64\n",
              "Employees     int64\n",
              "dtype: object"
            ]
          },
          "metadata": {
            "tags": []
          },
          "execution_count": 19
        }
      ]
    },
    {
      "cell_type": "markdown",
      "metadata": {
        "id": "Xi12GHEZnavR"
      },
      "source": [
        "##### EX 3: Agregaciones\n",
        "--- \n",
        "\n",
        "##### Extrear el top 5 planetas (homeworlds) con mayor número de personajes incluídos en el dataset.\n",
        "\n",
        "> Dataset https://data-wizards.s3.amazonaws.com/datasets/starwarsdb_people.csv\n"
      ]
    },
    {
      "cell_type": "code",
      "metadata": {
        "colab": {
          "base_uri": "https://localhost:8080/"
        },
        "id": "2JD1itf3ndHV",
        "outputId": "3101019f-f520-4915-f193-0a18083dde9a"
      },
      "source": [
        "import pandas as pd\n",
        "df_starwars_people = pd.read_csv(\"https://data-wizards.s3.amazonaws.com/datasets/starwarsdb_people.csv\")\n",
        "df_starwars_people.dtypes"
      ],
      "execution_count": null,
      "outputs": [
        {
          "output_type": "execute_result",
          "data": {
            "text/plain": [
              "name           object\n",
              "height        float64\n",
              "mass          float64\n",
              "hair_color     object\n",
              "skin_color     object\n",
              "eye_color      object\n",
              "birth_year    float64\n",
              "gender         object\n",
              "homeworld      object\n",
              "species        object\n",
              "sex            object\n",
              "dtype: object"
            ]
          },
          "metadata": {
            "tags": []
          },
          "execution_count": 23
        }
      ]
    },
    {
      "cell_type": "markdown",
      "metadata": {
        "id": "FqieYsTOVYDi"
      },
      "source": [
        "##### EX 4: Agregaciones \n",
        "---\n",
        "\n",
        "##### Agregar las siguiente métricas según continente,\n",
        "\n",
        "*   *Población total*\n",
        "*   *PIB per cápita medio*\n",
        "*   *media de % población viviendo por debajo de la línea de la pobreza*\n",
        "\n",
        "> Dataset https://data-wizards.s3.amazonaws.com/datasets/dataset_na_who.csv\n"
      ]
    },
    {
      "cell_type": "code",
      "metadata": {
        "colab": {
          "base_uri": "https://localhost:8080/"
        },
        "id": "80UVfouEsf4D",
        "outputId": "3483a8d1-6720-4422-acb7-a7041479019e"
      },
      "source": [
        "import pandas as pd\n",
        "df_who = pd.read_csv('https://data-wizards.s3.amazonaws.com/datasets/dataset_na_who.csv')\n",
        "df_who.dtypes"
      ],
      "execution_count": null,
      "outputs": [
        {
          "output_type": "execute_result",
          "data": {
            "text/plain": [
              "Country                                                    object\n",
              "CountryID                                                   int64\n",
              "ContinentID                                                 int64\n",
              "Adolescent fertility rate (%)                             float64\n",
              "Adult literacy rate (%)                                   float64\n",
              "Gross national income per capita (PPP international $)    float64\n",
              "Net primary school enrolment ratio female (%)             float64\n",
              "Net primary school enrolment ratio male (%)               float64\n",
              "Population (in thousands) total                           float64\n",
              "Population annual growth rate (%)                         float64\n",
              "Population in urban areas (%)                             float64\n",
              "Population living below the poverty line                  float64\n",
              "Continent                                                  object\n",
              "dtype: object"
            ]
          },
          "metadata": {
            "tags": []
          },
          "execution_count": 134
        }
      ]
    },
    {
      "cell_type": "markdown",
      "metadata": {
        "id": "3P0IpVyELsJm"
      },
      "source": [
        "##### EX 5: Agregaciones\n",
        "--- \n",
        "##### Extrear el top 10 directores con mayor media de IMDB score. Incluir únicamente directores con más de 5 películas dirigidas.\n",
        "\n",
        "> Dataset https://data-wizards.s3.amazonaws.com/datasets/movies.csv\n"
      ]
    },
    {
      "cell_type": "code",
      "metadata": {
        "colab": {
          "base_uri": "https://localhost:8080/"
        },
        "id": "VKtAiVMuMeDj",
        "outputId": "3cb30fe2-caa9-4b35-bada-87c404e80783"
      },
      "source": [
        "import pandas as pd\n",
        "df_movies = pd.read_csv(\"https://data-wizards.s3.amazonaws.com/datasets/movies.csv\",index_col=\"movie_title\")\n",
        "df_movies.dtypes"
      ],
      "execution_count": null,
      "outputs": [
        {
          "output_type": "execute_result",
          "data": {
            "text/plain": [
              "color                         object\n",
              "director_name                 object\n",
              "num_critic_for_reviews       float64\n",
              "duration                     float64\n",
              "director_facebook_likes      float64\n",
              "actor_3_facebook_likes       float64\n",
              "actor_2_name                  object\n",
              "actor_1_facebook_likes       float64\n",
              "gross                        float64\n",
              "genres                        object\n",
              "actor_1_name                  object\n",
              "num_voted_users                int64\n",
              "cast_total_facebook_likes      int64\n",
              "actor_3_name                  object\n",
              "facenumber_in_poster         float64\n",
              "plot_keywords                 object\n",
              "movie_imdb_link               object\n",
              "num_user_for_reviews         float64\n",
              "language                      object\n",
              "country                       object\n",
              "content_rating                object\n",
              "budget                       float64\n",
              "title_year                   float64\n",
              "actor_2_facebook_likes       float64\n",
              "imdb_score                   float64\n",
              "aspect_ratio                 float64\n",
              "movie_facebook_likes           int64\n",
              "dtype: object"
            ]
          },
          "metadata": {
            "tags": []
          },
          "execution_count": 81
        }
      ]
    },
    {
      "cell_type": "markdown",
      "metadata": {
        "id": "zRXntWrWc887"
      },
      "source": [
        "##### EX 6: Agregaciones\n",
        "---\n",
        "##### 6.1. Crear un nuevo campo (\"company_size\") que clasifique a las empresas según cantidad de empleados. Utilizar el siguiente criterio:\n",
        "\n",
        "*   *large*, cuando la cantidad de empleados sea mayor o igual a 100.000\n",
        "*   *mid-size*, cuando la cantidad de empleados sea mayor o igual a 10.000 y menor a 100.000\n",
        "*   *small*, cuando la cantidad de empleados sea menor a 10.000\n",
        "\n",
        "##### 6.2. Calcular mediana de ganancias (*profits*), según (i) sector y (ii) tamaño de empresa (\"company_size\")\n",
        "\n",
        "> Dataset https://data-wizards.s3.amazonaws.com/datasets/fortune1000.csv\n"
      ]
    },
    {
      "cell_type": "code",
      "metadata": {
        "colab": {
          "base_uri": "https://localhost:8080/"
        },
        "id": "b-wVRy88ckUk",
        "outputId": "89c080a9-6997-4f33-cd4e-88ed5411a7ce"
      },
      "source": [
        "import pandas as pd\n",
        "import numpy as np\n",
        "df_fortune = pd.read_csv(\"https://data-wizards.s3.amazonaws.com/datasets/fortune1000.csv\")\n",
        "df_fortune.dtypes"
      ],
      "execution_count": null,
      "outputs": [
        {
          "output_type": "execute_result",
          "data": {
            "text/plain": [
              "Rank          int64\n",
              "Company      object\n",
              "Sector       object\n",
              "Industry     object\n",
              "Location     object\n",
              "Revenue       int64\n",
              "Profits       int64\n",
              "Employees     int64\n",
              "dtype: object"
            ]
          },
          "metadata": {
            "tags": []
          },
          "execution_count": 29
        }
      ]
    }
  ]
}