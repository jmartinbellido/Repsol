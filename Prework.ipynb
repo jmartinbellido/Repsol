{
  "nbformat": 4,
  "nbformat_minor": 0,
  "metadata": {
    "colab": {
      "name": "S0_Python_Self-phase_Study_Material.ipynb",
      "provenance": [],
      "toc_visible": true
    },
    "kernelspec": {
      "name": "python3",
      "display_name": "Python 3"
    }
  },
  "cells": [
    {
      "cell_type": "markdown",
      "metadata": {
        "id": "9faiCG3sdsfd"
      },
      "source": [
        "# ÍNDICE\n",
        "# **ISDI Repsol D4D/D4B**\n",
        "# [Guía] Introducción a Python para Análisis de Datos - Preparación Individual\n",
        "---\n",
        "Este *notebook* ha sido elaborado como material práctico de preparación individual a los asistentes a las sesiones introductorias en Python del Programa Repsol D4D/D4B.\n",
        "\n",
        "### ÍNDICE DE CONTENIDO\n",
        "1. IMPORTAR LIBRERÍAS\n",
        "2. DEFINIR UN OBJETO\n",
        "3. TIPOS DE OBJETO\n",
        "4. ESTRUCTURAS DE DATOS\n",
        "5. OPERADORES\n",
        "6. (OPCIONAL) BÁSICOS DE PROGRAMACIÓN\n",
        "\n",
        "### Profesor: Juan Martin Bellido (jmbelldo@isdi.education)"
      ]
    },
    {
      "cell_type": "markdown",
      "metadata": {
        "id": "e4e3hsAeeqhu"
      },
      "source": [
        "# IMPORTAR LIBRERÍAS\n",
        "---\n",
        "Python es un lenguaje de programación *open-source* y *colaborativo*. Por tanto, está abierto a que cualquier persona cree y comparta nuevas funcionalidades. Las funcionalidades están agrupadas en *paquetes* o *librerías* que debemos instalar (una única vez) e importar cada vez que querramos utilizarlas.\n",
        "\n",
        "Muchas librerías populares suelen estar pre-instaladas en nuestros entornos, por tanto únicamente necesitamos importarlas. Para importar una librería, utilizamos la siguiente sintaxis,\n",
        "\n",
        "```\n",
        "import (library) as (tag)\n",
        "```"
      ]
    },
    {
      "cell_type": "code",
      "metadata": {
        "id": "dVrJ7J1tezCR"
      },
      "source": [
        "import pandas as pd"
      ],
      "execution_count": null,
      "outputs": []
    },
    {
      "cell_type": "markdown",
      "metadata": {
        "id": "UZJjUkXGf9B7"
      },
      "source": [
        "En caso de necesitar instalar una librería, lo recomendable es que lo hagamos directamente desde el navegador de Anaconda; esto aplica únicamente en caso de estar trabajando desde en un entorno local (ej. ordenador personal). En caso de estar trabajando desde un entorno cloud, probablemente debamos instalar la librería desde el *commmand line* (avanzado)."
      ]
    },
    {
      "cell_type": "markdown",
      "metadata": {
        "id": "p8ZkrjeNgzhP"
      },
      "source": [
        "# DEFINIR UN OBJETO\n",
        "---\n",
        "Python es un *lenguaje orientado a objetos*, al igual que la mayoría de lenguajes de programación modernos. Esto significa que podemos definir objetos (o *variables*) que se almacenarán en nuestro entorno de forma temporal y podremos invocar según lo necesitemos. \n",
        "\n",
        "*Nota: los objetos que definamos se perderán únicamente al explícitamente eliminarlos o al reiniciar nuestro entorno.*\n",
        "\n",
        "Para definir un objeto utilizamos la siguiente sintaxis,\n",
        "\n",
        "```\n",
        "new_object = X (data to be stored)\n",
        "```\n"
      ]
    },
    {
      "cell_type": "code",
      "metadata": {
        "colab": {
          "base_uri": "https://localhost:8080/"
        },
        "id": "hSHLCPP2hPpv",
        "outputId": "57cc5933-ed85-405b-a04a-3b799c3fb440"
      },
      "source": [
        "# A continuación, un ejemplo sencillo de cómo podemos definir un objeto y luego invocarlo\n",
        "nombre = \"Martin\" # definimos un objeto y almacenamos texto\n",
        "print(\"Hola \" + nombre) # utilizamos la función print() y utilizamos el objeto previamente definido"
      ],
      "execution_count": null,
      "outputs": [
        {
          "output_type": "stream",
          "text": [
            "Hola Martin\n"
          ],
          "name": "stdout"
        }
      ]
    },
    {
      "cell_type": "markdown",
      "metadata": {
        "id": "feOc-TlCiotM"
      },
      "source": [
        "# TIPOS DE OBJETO\n",
        "---\n",
        "Python reconoce varios tipos de objetos (variables),\n",
        "*  *Numéricos (números)*\n",
        "*  *Alfanuméricos (texto)*\n",
        "*  *Lógicos (verdadero/ falso)*\n"
      ]
    },
    {
      "cell_type": "code",
      "metadata": {
        "colab": {
          "base_uri": "https://localhost:8080/"
        },
        "id": "YIE3RoXujasd",
        "outputId": "a7a72ca8-2b02-4430-c751-24784487e0bc"
      },
      "source": [
        "# Los objetos de tipo numéricos pueden ser (i) \"int\" (enteros) o (ii) \"float\" (con decimales)\n",
        "numeric_obj = 2\n",
        "type(numeric_obj)"
      ],
      "execution_count": null,
      "outputs": [
        {
          "output_type": "execute_result",
          "data": {
            "text/plain": [
              "int"
            ]
          },
          "metadata": {
            "tags": []
          },
          "execution_count": 9
        }
      ]
    },
    {
      "cell_type": "code",
      "metadata": {
        "colab": {
          "base_uri": "https://localhost:8080/"
        },
        "id": "zN5qjkXhjSGS",
        "outputId": "1f38b3ef-2128-4b8f-f7bb-89ba3610f607"
      },
      "source": [
        "numeric_obj = 1.2\n",
        "type(numeric_obj)"
      ],
      "execution_count": null,
      "outputs": [
        {
          "output_type": "execute_result",
          "data": {
            "text/plain": [
              "float"
            ]
          },
          "metadata": {
            "tags": []
          },
          "execution_count": 8
        }
      ]
    },
    {
      "cell_type": "code",
      "metadata": {
        "colab": {
          "base_uri": "https://localhost:8080/"
        },
        "id": "l9vvIj1QjSI8",
        "outputId": "1a25ef64-36cc-4959-8ac9-4e4c12fcc9db"
      },
      "source": [
        "# Los objetos alfanuméricos son definidos como \"str\"\n",
        "string_obj = \"Repsol D4D\"\n",
        "type(text_obj)"
      ],
      "execution_count": null,
      "outputs": [
        {
          "output_type": "execute_result",
          "data": {
            "text/plain": [
              "str"
            ]
          },
          "metadata": {
            "tags": []
          },
          "execution_count": 10
        }
      ]
    },
    {
      "cell_type": "code",
      "metadata": {
        "colab": {
          "base_uri": "https://localhost:8080/"
        },
        "id": "aTuLJvMuio9V",
        "outputId": "f94d4875-1252-43e5-f12f-66277ec4ddde"
      },
      "source": [
        "# Por último, Python reconoce también el tipo de variable booleana (\"bool\")\n",
        "bool_obj = True\n",
        "type(bool_obj)"
      ],
      "execution_count": null,
      "outputs": [
        {
          "output_type": "execute_result",
          "data": {
            "text/plain": [
              "bool"
            ]
          },
          "metadata": {
            "tags": []
          },
          "execution_count": 11
        }
      ]
    },
    {
      "cell_type": "markdown",
      "metadata": {
        "id": "7M3iNzlpiVwN"
      },
      "source": [
        "# ESTRUCTURAS DE DATOS BÁSICAS\n",
        "---\n",
        "Python contempla distintos formatos de almacenamiento de datos, cada uno de ellos con características y tratamiento propio. \n",
        "\n",
        "Las estructuras de datos básicos son cuatro (en orden de prioridad según su uso para análisis de datos),\n",
        "*   *Lists*\n",
        "*   *Dictionaries*\n",
        "*   *Tuples*\n",
        "*   *Sets*\n",
        "\n",
        "Existen estructuras adicionales que han sido incorporadas por medio de librerías, es decir, funcionalidades que no son parte del código base de Python. En concreto, en análisis de datos utilizamos DataFrames (tablas de datos) que han sido incorporadas por la libraría *Pandas*. Aprenderamos a trabajar con DataFrames en clase a lo largo del curso.\n",
        "\n",
        "\n",
        "\n",
        "\n",
        "\n",
        "\n",
        "\n"
      ]
    },
    {
      "cell_type": "markdown",
      "metadata": {
        "id": "QN1OZN-_kemL"
      },
      "source": [
        "### Lists\n",
        "---\n",
        "Los *lists* son estructuras unidimensionales que permiten almacenar varios tipos de variables (objetos). Cada elemento almacenado en un list se encuentra indexado.\n",
        "\n",
        "Para definir un vector utilizamos la siguiente sintaxis,\n",
        "\n",
        "```\n",
        "my_list = [1,2,3]\n",
        "```\n",
        "\n"
      ]
    },
    {
      "cell_type": "code",
      "metadata": {
        "colab": {
          "base_uri": "https://localhost:8080/"
        },
        "id": "o_DcdJVwkxd3",
        "outputId": "46c0c025-72e1-415b-e6da-ebeaa94d71d9"
      },
      "source": [
        "# Definimos una lista\n",
        "my_list = [1,\"a\",3,False,5]\n",
        "my_list"
      ],
      "execution_count": null,
      "outputs": [
        {
          "output_type": "execute_result",
          "data": {
            "text/plain": [
              "[1, 'a', 3, False, 5]"
            ]
          },
          "metadata": {
            "tags": []
          },
          "execution_count": 31
        }
      ]
    },
    {
      "cell_type": "code",
      "metadata": {
        "colab": {
          "base_uri": "https://localhost:8080/"
        },
        "id": "QGg6qFAnkxkL",
        "outputId": "20377c7d-5430-4660-851f-14d0fb1c61dd"
      },
      "source": [
        "# Las listas pueden contener a su vez otras listas como elementos\n",
        "my_list_v2 = [100,\"cien\",my_list]\n",
        "my_list_v2"
      ],
      "execution_count": null,
      "outputs": [
        {
          "output_type": "execute_result",
          "data": {
            "text/plain": [
              "[100, 'cien', [1, 'a', 3, False, 5]]"
            ]
          },
          "metadata": {
            "tags": []
          },
          "execution_count": 32
        }
      ]
    },
    {
      "cell_type": "code",
      "metadata": {
        "colab": {
          "base_uri": "https://localhost:8080/"
        },
        "id": "esmP4G3Rl_tP",
        "outputId": "b1ca7a71-6645-4e2c-885e-8e97939b56e8"
      },
      "source": [
        "# La característica principal de un list es que los elementos almacenados se encuentran indexados\n",
        "## esto significa que cada elemento en un list contiene un número único que nos permite invocarlo\n",
        "## nota importante: Python indexa al 0 (el 0 es el primer valor)\n",
        "my_list_v2[0]"
      ],
      "execution_count": null,
      "outputs": [
        {
          "output_type": "execute_result",
          "data": {
            "text/plain": [
              "100"
            ]
          },
          "metadata": {
            "tags": []
          },
          "execution_count": 33
        }
      ]
    },
    {
      "cell_type": "code",
      "metadata": {
        "colab": {
          "base_uri": "https://localhost:8080/"
        },
        "id": "LmarGLiwwbyl",
        "outputId": "c3998138-dd33-4969-edbb-c2efcbc35f29"
      },
      "source": [
        "# Modificamos un elemento dentro del list\n",
        "my_list_v2[0] = 101\n",
        "my_list_v2"
      ],
      "execution_count": null,
      "outputs": [
        {
          "output_type": "execute_result",
          "data": {
            "text/plain": [
              "[101, 'cien', [1, 'a', 3, False, 5]]"
            ]
          },
          "metadata": {
            "tags": []
          },
          "execution_count": 53
        }
      ]
    },
    {
      "cell_type": "markdown",
      "metadata": {
        "id": "XXzKcPfLl0qA"
      },
      "source": [
        "### Dictionaries\n",
        "---\n",
        "Los *dictionaries* son estructuras unidimensionales que permiten almacenar objetos bajo una lógica *key-pair*. Los *dictionaries* no admiten valores *key* duplicados y los elementos almacenados no mantienen un orden ni se encuentran indexados; los valores (*pair*) se invocan utilizando el *key*.\n",
        "\n",
        "Para definir un vector utilizamos la siguiente sintaxis,\n",
        "\n",
        "```\n",
        "my_dic = {\n",
        "  key_1:value_1,\n",
        "  key_2:value_2,\n",
        "  key_3:value_3\n",
        "  }\n",
        "```\n"
      ]
    },
    {
      "cell_type": "code",
      "metadata": {
        "colab": {
          "base_uri": "https://localhost:8080/"
        },
        "id": "fpK0x8LEnKlQ",
        "outputId": "48602663-ca3f-4826-b307-8152f3604755"
      },
      "source": [
        "# Definimos un diccionario\n",
        "my_dic = {\n",
        "  \"escuela\": \"ISDI\",\n",
        "  \"programa\": \"Repsol D4D\",\n",
        "  \"año\": 2021,\n",
        "  \"es curso de Python\": True,\n",
        "  \"asistentes\":[\"Maria\",\"Juan\",\"Jose\"]\n",
        "}\n",
        "\n",
        "# Invocamos el diccionario y verificamos que no mantiene el orden establecido al ser definido\n",
        "my_dic"
      ],
      "execution_count": null,
      "outputs": [
        {
          "output_type": "execute_result",
          "data": {
            "text/plain": [
              "{'asistentes': ['Maria', 'Juan', 'Jose'],\n",
              " 'año': 2021,\n",
              " 'es curso de Python': True,\n",
              " 'escuela': 'ISDI',\n",
              " 'programa': 'Repsol D4D'}"
            ]
          },
          "metadata": {
            "tags": []
          },
          "execution_count": 47
        }
      ]
    },
    {
      "cell_type": "code",
      "metadata": {
        "colab": {
          "base_uri": "https://localhost:8080/",
          "height": 35
        },
        "id": "2n5VmyxCnX-k",
        "outputId": "c936fdc2-977a-4d47-a53a-5b3bfc3c38cf"
      },
      "source": [
        "# Consultamos el valor para un elemento del diccionario, invocándolo con su valor \"key\"\n",
        "my_dic['programa']"
      ],
      "execution_count": null,
      "outputs": [
        {
          "output_type": "execute_result",
          "data": {
            "application/vnd.google.colaboratory.intrinsic+json": {
              "type": "string"
            },
            "text/plain": [
              "'Repsol D4D'"
            ]
          },
          "metadata": {
            "tags": []
          },
          "execution_count": 40
        }
      ]
    },
    {
      "cell_type": "code",
      "metadata": {
        "colab": {
          "base_uri": "https://localhost:8080/"
        },
        "id": "iS3Eet22wB2K",
        "outputId": "111a78a3-1c92-4277-e394-342a3ae042b2"
      },
      "source": [
        "# Reemplazamos el valor para un elemento del diccionario\n",
        "my_dic['asistentes'] = [\"Maria\",\"Juan\",\"Jose\",\"Pepe\"]\n",
        "my_dic"
      ],
      "execution_count": null,
      "outputs": [
        {
          "output_type": "execute_result",
          "data": {
            "text/plain": [
              "{'asistentes': ['Maria', 'Juan', 'Jose', 'Pepe'],\n",
              " 'año': 2021,\n",
              " 'es curso de Python': True,\n",
              " 'escuela': 'ISDI',\n",
              " 'programa': 'Repsol D4D'}"
            ]
          },
          "metadata": {
            "tags": []
          },
          "execution_count": 52
        }
      ]
    },
    {
      "cell_type": "markdown",
      "metadata": {
        "id": "XgGtPkeQpucC"
      },
      "source": [
        "### Tuples\n",
        "---\n",
        "Los *tuples* son estructuras unidimensionales similares a las *list*, con la diferencia de que son inmutables; esto significa que no pueden ser modificadas tras haberse definido.\n",
        "\n",
        "```\n",
        "my_tupple = (1,2,\"c\")\n",
        "```\n"
      ]
    },
    {
      "cell_type": "code",
      "metadata": {
        "colab": {
          "base_uri": "https://localhost:8080/"
        },
        "id": "ytD0T5_Apv4t",
        "outputId": "32d8dabe-322d-4f95-f4a6-17c4dc3c36d3"
      },
      "source": [
        "# Definimos un tupple y lo invocamos\n",
        "my_tupple = (2,1,\"c\",\"a\")\n",
        "my_tupple"
      ],
      "execution_count": null,
      "outputs": [
        {
          "output_type": "execute_result",
          "data": {
            "text/plain": [
              "(2, 1, 'c', 'a')"
            ]
          },
          "metadata": {
            "tags": []
          },
          "execution_count": 12
        }
      ]
    },
    {
      "cell_type": "code",
      "metadata": {
        "colab": {
          "base_uri": "https://localhost:8080/"
        },
        "id": "72Vah0kxvvt6",
        "outputId": "a11d8b81-5329-421d-fe78-ecb5d052b577"
      },
      "source": [
        "# Seleccionamos un elemento en nuestra tupple\n",
        "my_tupple[1]"
      ],
      "execution_count": null,
      "outputs": [
        {
          "output_type": "execute_result",
          "data": {
            "text/plain": [
              "2"
            ]
          },
          "metadata": {
            "tags": []
          },
          "execution_count": 50
        }
      ]
    },
    {
      "cell_type": "code",
      "metadata": {
        "colab": {
          "base_uri": "https://localhost:8080/",
          "height": 164
        },
        "id": "MFuY8Dp7wlFG",
        "outputId": "432a3bc8-fc07-4906-e03b-1635a31fcd8e"
      },
      "source": [
        "# Intentamos modificar un elemento en el tupple, pero esto nos dará error\n",
        "## como hemos anticipado, los tupples son inmutables\n",
        "my_tupple[1] = 3 # esto generará error"
      ],
      "execution_count": null,
      "outputs": [
        {
          "output_type": "error",
          "ename": "TypeError",
          "evalue": "ignored",
          "traceback": [
            "\u001b[0;31m---------------------------------------------------------------------------\u001b[0m",
            "\u001b[0;31mTypeError\u001b[0m                                 Traceback (most recent call last)",
            "\u001b[0;32m<ipython-input-54-258fd01bb191>\u001b[0m in \u001b[0;36m<module>\u001b[0;34m()\u001b[0m\n\u001b[0;32m----> 1\u001b[0;31m \u001b[0mmy_tupple\u001b[0m\u001b[0;34m[\u001b[0m\u001b[0;36m1\u001b[0m\u001b[0;34m]\u001b[0m \u001b[0;34m=\u001b[0m \u001b[0;36m3\u001b[0m\u001b[0;34m\u001b[0m\u001b[0;34m\u001b[0m\u001b[0m\n\u001b[0m",
            "\u001b[0;31mTypeError\u001b[0m: 'tuple' object does not support item assignment"
          ]
        }
      ]
    },
    {
      "cell_type": "markdown",
      "metadata": {
        "id": "fV6a4APBw0qI"
      },
      "source": [
        "### Sets\n",
        "---\n",
        "Los *sets* son estructuras unidimensionales similares a las *list* y *tuples*, pero con las siguientes diferencias,\n",
        "*   no permiten almacenar elementos duplicados;\n",
        "*   los elementos no están indexados; y\n",
        "*   no se puede manipular el orden de los elementos.\n",
        "\n",
        "Para definir un set utilizamos la siguiente sintaxis,\n",
        "\n",
        "```\n",
        "my_set = {1,2,\"c\"}\n",
        "```"
      ]
    },
    {
      "cell_type": "code",
      "metadata": {
        "colab": {
          "base_uri": "https://localhost:8080/"
        },
        "id": "n0WpYMDlw1ZU",
        "outputId": "4cade1a7-0a63-44a1-834f-492453cf792d"
      },
      "source": [
        "my_set = {1,10,0,5,'b','c','a'} # definimos un set\n",
        "my_set  # lo invocamos, verificamos que el orden de los elementos es distinto al que hemos establecido"
      ],
      "execution_count": null,
      "outputs": [
        {
          "output_type": "execute_result",
          "data": {
            "text/plain": [
              "{0, 1, 10, 5, 'a', 'b', 'c'}"
            ]
          },
          "metadata": {
            "tags": []
          },
          "execution_count": 10
        }
      ]
    },
    {
      "cell_type": "code",
      "metadata": {
        "colab": {
          "base_uri": "https://localhost:8080/",
          "height": 164
        },
        "id": "J7LpqXEHxhHU",
        "outputId": "07af1b7e-8752-4d91-8f45-6a0245e8c932"
      },
      "source": [
        "# A continuación, verificamos que efectivamente un set no permite la indexación\n",
        "my_set[2] # esto dará error"
      ],
      "execution_count": null,
      "outputs": [
        {
          "output_type": "error",
          "ename": "TypeError",
          "evalue": "ignored",
          "traceback": [
            "\u001b[0;31m---------------------------------------------------------------------------\u001b[0m",
            "\u001b[0;31mTypeError\u001b[0m                                 Traceback (most recent call last)",
            "\u001b[0;32m<ipython-input-8-0d2f9e28ef76>\u001b[0m in \u001b[0;36m<module>\u001b[0;34m()\u001b[0m\n\u001b[0;32m----> 1\u001b[0;31m \u001b[0mmy_set\u001b[0m\u001b[0;34m[\u001b[0m\u001b[0;36m2\u001b[0m\u001b[0;34m]\u001b[0m\u001b[0;34m\u001b[0m\u001b[0;34m\u001b[0m\u001b[0m\n\u001b[0m",
            "\u001b[0;31mTypeError\u001b[0m: 'set' object does not support indexing"
          ]
        }
      ]
    },
    {
      "cell_type": "markdown",
      "metadata": {
        "id": "DWN9PifdxeHs"
      },
      "source": [
        "# OPERADORES\n",
        "---\n",
        "En programación, los operadores son símbolos específicos que permiten hacer comparaciones y realizar manipulaciones.\n",
        "\n",
        "*   *Operadores aritméticos*: permiten realizar operaciones matemáticas\n",
        "*   *Operadores de comparación*: contrastan objetos y comparan valores, arrojando un resultado true/false\n",
        "*   *Operadores lógicos*: se utilizan para realizar pruebas lógicas sobre condiciones, arrojando un resultado true/false\n",
        "\n",
        "\n"
      ]
    },
    {
      "cell_type": "markdown",
      "metadata": {
        "id": "DHrISNSoxkNR"
      },
      "source": [
        "### Operadores aritméticos\n",
        "---\n",
        "\n",
        "\n",
        "| Operator \t|   Description  \t|\n",
        "|----------\t|:--------------:\t|\n",
        "| +        \t| addition       \t|\n",
        "| -        \t| subtraction    \t|\n",
        "| *        \t| multiplication \t|\n",
        "| /        \t| division       \t|\n",
        "| **  \t| exponentiation \t|"
      ]
    },
    {
      "cell_type": "code",
      "metadata": {
        "id": "PnBL6777yEzr"
      },
      "source": [
        "# Operadores aritméticos\n",
        "## definimos dos objetos numéricos\n",
        "obj_1 = 10\n",
        "obj_2 = 5"
      ],
      "execution_count": null,
      "outputs": []
    },
    {
      "cell_type": "code",
      "metadata": {
        "colab": {
          "base_uri": "https://localhost:8080/"
        },
        "id": "A-n2tQVryE46",
        "outputId": "22de7905-f87a-4d7f-914c-af6d81d4f57b"
      },
      "source": [
        "# Test 1\n",
        "obj_1/obj_2"
      ],
      "execution_count": null,
      "outputs": [
        {
          "output_type": "execute_result",
          "data": {
            "text/plain": [
              "2.0"
            ]
          },
          "metadata": {
            "tags": []
          },
          "execution_count": 56
        }
      ]
    },
    {
      "cell_type": "code",
      "metadata": {
        "colab": {
          "base_uri": "https://localhost:8080/"
        },
        "id": "4ph8qWcYyKAJ",
        "outputId": "4977c6dc-1516-4d88-e042-0ef0e8df19fb"
      },
      "source": [
        "# Test 2\n",
        "obj_1-obj_2"
      ],
      "execution_count": null,
      "outputs": [
        {
          "output_type": "execute_result",
          "data": {
            "text/plain": [
              "5"
            ]
          },
          "metadata": {
            "tags": []
          },
          "execution_count": 57
        }
      ]
    },
    {
      "cell_type": "markdown",
      "metadata": {
        "id": "dYR-fXcrzNZv"
      },
      "source": [
        "### Operadores de comparación\n",
        "---\n",
        "\n",
        "| Operator  \t|        Description       \t|\n",
        "|-----------\t|:------------------------:\t|\n",
        "| <         \t| less than                \t|\n",
        "| <=        \t| less than or equal to    \t|\n",
        "| >         \t| greater than             \t|\n",
        "| >=        \t| greater than or equal to \t|\n",
        "| ==        \t| exactly equal to         \t|\n",
        "| !=        \t| not equal to             \t|\n"
      ]
    },
    {
      "cell_type": "code",
      "metadata": {
        "id": "8xkpEPI8yQJe"
      },
      "source": [
        "# Operadores aritméticos\n",
        "## definimos dos objetos numéricos\n",
        "obj_1 = 10\n",
        "obj_2 = 5"
      ],
      "execution_count": null,
      "outputs": []
    },
    {
      "cell_type": "code",
      "metadata": {
        "colab": {
          "base_uri": "https://localhost:8080/"
        },
        "id": "XAYMAGrbyRKA",
        "outputId": "fda27b3d-1b24-4523-cd98-e734ea76b257"
      },
      "source": [
        "# Test 1\n",
        "## comprobar si objeto 1 es mayor a 8\n",
        "obj_1 > 8"
      ],
      "execution_count": null,
      "outputs": [
        {
          "output_type": "execute_result",
          "data": {
            "text/plain": [
              "True"
            ]
          },
          "metadata": {
            "tags": []
          },
          "execution_count": 59
        }
      ]
    },
    {
      "cell_type": "code",
      "metadata": {
        "colab": {
          "base_uri": "https://localhost:8080/"
        },
        "id": "RPuSGW7syVoV",
        "outputId": "2a7f7521-80b9-4c90-a072-ed570ebc3d08"
      },
      "source": [
        "# Test 2\n",
        "## comprobar si objeto 1 es igual a objeto 2\n",
        "obj_1 == obj_2"
      ],
      "execution_count": null,
      "outputs": [
        {
          "output_type": "execute_result",
          "data": {
            "text/plain": [
              "False"
            ]
          },
          "metadata": {
            "tags": []
          },
          "execution_count": 60
        }
      ]
    },
    {
      "cell_type": "markdown",
      "metadata": {
        "id": "3QVwgwuIxnQl"
      },
      "source": [
        "### Operadores Lógicos\n",
        "---\n",
        "\n",
        "| Operator  \t|        Description       \t|\n",
        "|-----------\t|:------------------------:\t|\n",
        "| x and y    \t| se cumplen condiciones X e Y                    \t|\n",
        "| x or y    \t| se cumple  condiciones X o Y                   \t|\n",
        "| not x     \t| negamos la condición X   \t|\n"
      ]
    },
    {
      "cell_type": "code",
      "metadata": {
        "id": "7Ec848t62Cpl"
      },
      "source": [
        "# Operadores aritméticos\n",
        "## definimos dos objetos numéricos\n",
        "obj_1 = 10\n",
        "obj_2 = 5"
      ],
      "execution_count": null,
      "outputs": []
    },
    {
      "cell_type": "code",
      "metadata": {
        "colab": {
          "base_uri": "https://localhost:8080/"
        },
        "id": "aKXxM74fyVq6",
        "outputId": "4a2e10b6-5356-4212-b605-f5aa4683e551"
      },
      "source": [
        "# Test 1\n",
        "## comprobar si se cumple alguna de las dos condiciones\n",
        "obj_1 > 8 or obj_2 > 8 # \"objeto 1 es mayor a 8 u objeto 2 es mayor a 8\""
      ],
      "execution_count": null,
      "outputs": [
        {
          "output_type": "execute_result",
          "data": {
            "text/plain": [
              "True"
            ]
          },
          "metadata": {
            "tags": []
          },
          "execution_count": 63
        }
      ]
    },
    {
      "cell_type": "code",
      "metadata": {
        "colab": {
          "base_uri": "https://localhost:8080/"
        },
        "id": "taDNi_c6yZGC",
        "outputId": "8b6e1a25-08f9-42da-80a4-8d891551dd6f"
      },
      "source": [
        "# Test 2\n",
        "## comprobar si se cumplen ambas condiciones\n",
        "obj_1 > 8 and obj_2 > 8 # \"objeto 1 es mayor a 8 y objeto 2 es mayor a 8\""
      ],
      "execution_count": null,
      "outputs": [
        {
          "output_type": "execute_result",
          "data": {
            "text/plain": [
              "False"
            ]
          },
          "metadata": {
            "tags": []
          },
          "execution_count": 64
        }
      ]
    },
    {
      "cell_type": "code",
      "metadata": {
        "colab": {
          "base_uri": "https://localhost:8080/"
        },
        "id": "dk_jLz7A2D5A",
        "outputId": "b4ec6df5-d05a-44a5-c009-f6580e4b6a55"
      },
      "source": [
        "# Test 3\n",
        "## negando una condición\n",
        "not obj_1 > 8"
      ],
      "execution_count": null,
      "outputs": [
        {
          "output_type": "execute_result",
          "data": {
            "text/plain": [
              "False"
            ]
          },
          "metadata": {
            "tags": []
          },
          "execution_count": 66
        }
      ]
    },
    {
      "cell_type": "markdown",
      "metadata": {
        "id": "qdL_ZrwwxnYG"
      },
      "source": [
        "# (OPCIONAL) BÁSICOS DE PROGRAMACIÓN\n",
        "---\n",
        "Existen ciertas funcionalidades básicas presentes en todo lenguaje de programación. Su uso no es estrictamente necesario para el análisis de datos, pero resulta útil para la automatización de procesos,\n",
        "*   *Expresiones condicionales*\n",
        "*   *Loops (bucles)*"
      ]
    },
    {
      "cell_type": "markdown",
      "metadata": {
        "id": "qTRTsODkxyW6"
      },
      "source": [
        "### Expresiones condicionales\n",
        "---\n",
        "Una expresión condicional es una serie de pruebas lógicas con respuestas predefinidas. Se componen siempre de al menos una condición lógica, pero pueden tener tantas como se desee.\n",
        "\n",
        "Sintaxis básica,\n",
        "```\n",
        "if (condición lógica):\n",
        "  respuesta si se cumple\n",
        "```\n",
        "\n",
        "Sintaxis completa,\n",
        "```\n",
        "if (condición lógica):\n",
        "  respuesta si se cumple\n",
        "elif (condición lógica adicional):\n",
        "  respuesta si se cumple\n",
        "else: \n",
        "  respuesta si ninguna otra condición se cumple\n",
        "```"
      ]
    },
    {
      "cell_type": "code",
      "metadata": {
        "colab": {
          "base_uri": "https://localhost:8080/"
        },
        "id": "VQ0ycmMP2hM8",
        "outputId": "a1576696-49df-43ee-a082-261927432992"
      },
      "source": [
        "# Creamos una condición IF que nos permite comprobar si un número (depositado en un objeto) es positivo\n",
        "obj = 10 # definimos un objeto\n",
        "\n",
        "if obj > 0:                         # condición 1: si el objeto es positivo\n",
        "  print(\"El número es positivo\")    # la función print() permite desplegar texto\n",
        "\n",
        "## no hemos establecido respuesta en caso de que la condición no se cumpla"
      ],
      "execution_count": null,
      "outputs": [
        {
          "output_type": "stream",
          "text": [
            "El número es positivo\n"
          ],
          "name": "stdout"
        }
      ]
    },
    {
      "cell_type": "code",
      "metadata": {
        "colab": {
          "base_uri": "https://localhost:8080/"
        },
        "id": "zVXXc-M72hRm",
        "outputId": "24c71ffb-71de-4d76-b3d9-86480bc2f03b"
      },
      "source": [
        "# Creamos una condición IF que nos permite comprobar si un número (depositado en un objeto) es positivo, negativo o cero\n",
        "obj = -10 # definimos un objeto\n",
        "\n",
        "if obj > 0:                         # condición 1: si el objeto es positivo\n",
        "  print(\"El número es positivo\")    # la función print() permite desplegar texto\n",
        "elif obj == 0:                      # condición 2: si el objeto es cero\n",
        "  print(\"El número es cero\")\n",
        "else:                             # condición 3: si el resto no se cumple\n",
        "  print(\"El número es negativo\")\n"
      ],
      "execution_count": null,
      "outputs": [
        {
          "output_type": "stream",
          "text": [
            "El número es negativo\n"
          ],
          "name": "stdout"
        }
      ]
    },
    {
      "cell_type": "markdown",
      "metadata": {
        "id": "GoBUT6IFx1hF"
      },
      "source": [
        "### Loops (bucles)\n",
        "---\n",
        "\n",
        "*   *For loop*: el bucle se repetirá tantas veces como la cantidad de elementos en un vector predefinido\n",
        "*   *Do while*: el bucle se repetirá siempre y cuando se cumpla una condición\n",
        "\n",
        "En un *for loop*, establecemos una respuesta que se repetirá tantas veces como elementos en un vector (list) determinado. La variable que definamos en el loop adoptará el valor de cada elemento en el vector.\n",
        "\n",
        "Sintaxis básica,\n",
        "```\n",
        "vector = [1,2,3]\n",
        "for i in vector:\n",
        "  print(i)\n",
        "```"
      ]
    },
    {
      "cell_type": "code",
      "metadata": {
        "colab": {
          "base_uri": "https://localhost:8080/"
        },
        "id": "lovI_K2P3y9o",
        "outputId": "9a7e876f-e3d8-4c82-fd38-decdebebe8eb"
      },
      "source": [
        "my_vector = [\"a\",\"b\",\"c\",\"d\",\"e\"] # definimos un vector\n",
        "for x in my_vector: # creamos una variable \"letra\" (X, en este caso) que tomará el valor de cada elemento en el vector\n",
        "  print(x)"
      ],
      "execution_count": null,
      "outputs": [
        {
          "output_type": "stream",
          "text": [
            "a\n",
            "b\n",
            "c\n",
            "d\n",
            "e\n"
          ],
          "name": "stdout"
        }
      ]
    },
    {
      "cell_type": "markdown",
      "metadata": {
        "id": "-WziRggv31NC"
      },
      "source": [
        "En un *while loop*, establecemos una condición y una respuesta que se repetirá siempre y cuando la condición se mantega se mantenga verdadera. \n",
        "\n",
        "```\n",
        "while (condición):\n",
        "  respuesta\n",
        "```\n",
        "Nota: debemos tener cuidado no crear while loops infinitos, en tal caso tendremos que reiniciar el entorno.\n"
      ]
    },
    {
      "cell_type": "code",
      "metadata": {
        "colab": {
          "base_uri": "https://localhost:8080/"
        },
        "id": "mzaFicUbsqs5",
        "outputId": "0c324ff4-1e06-4e38-c5e8-35414fcdde34"
      },
      "source": [
        "my_object = 10 # definimos un objeto\n",
        "while my_object <= 25:      # la condición es que el valor del objeto se mantenga menor o igual a 25\n",
        "  print(my_object)            # desplegamos el valor del objeto en cada repetición\n",
        "  my_object = my_object + 1   # sumamos 1 al valor del objeto\n"
      ],
      "execution_count": null,
      "outputs": [
        {
          "output_type": "stream",
          "text": [
            "10\n",
            "11\n",
            "12\n",
            "13\n",
            "14\n",
            "15\n",
            "16\n",
            "17\n",
            "18\n",
            "19\n",
            "20\n",
            "21\n",
            "22\n",
            "23\n",
            "24\n",
            "25\n"
          ],
          "name": "stdout"
        }
      ]
    }
  ]
}
